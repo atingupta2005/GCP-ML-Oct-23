{
 "cells": [
  {
   "cell_type": "markdown",
   "id": "f23d0136-bbdd-4d43-b658-88f27e57a34e",
   "metadata": {},
   "source": [
    "# Vertex AI Custom Model - scikit-learn - in Notebook\n",
    "\n",
    "Where a model gets trained is where it consumes computing resources.  With Vertex AI, you have choices for configuring the computing resources available at training.  This notebook is an example of an execution environment.  When it was set up there were choices for machine type and accelerators (GPUs).  \n",
    "\n",
    "This notebook shows training a model directly within the runtime of the notebook environment.  Then the model is saved and moved to GCS for deployment to a Vertex AI > Endpoint for online predictions.  The model training is done with [scikit-learn](https://scikit-learn.org/stable/), and is designed to show a standard approach to logistic regression.  The training data batches are read from BigQuery using the [Python Client For Google BigQuery](https://googleapis.dev/python/bigquery/latest/index.html).\n",
    "\n",
    "**Prerequisites:**\n",
    "- [01 - BigQuery - Table Data Source](../01%20-%20Data%20Sources/01%20-%20BigQuery%20-%20Table%20Data%20Source.ipynb)\n",
    "\n"
   ]
  },
  {
   "cell_type": "markdown",
   "id": "c8bcf1b2",
   "metadata": {},
   "source": [
    "---\n",
    "## Setup"
   ]
  },
  {
   "cell_type": "markdown",
   "id": "10e366e2",
   "metadata": {},
   "source": [
    "inputs:"
   ]
  },
  {
   "cell_type": "code",
   "execution_count": 8,
   "id": "918de403-af6d-44ff-9f05-a963b392ba7f",
   "metadata": {},
   "outputs": [
    {
     "data": {
      "text/plain": [
       "'fifth-sprite-402605'"
      ]
     },
     "execution_count": 8,
     "metadata": {},
     "output_type": "execute_result"
    }
   ],
   "source": [
    "project = !gcloud config get-value project\n",
    "PROJECT_ID = project[0]\n",
    "PROJECT_ID"
   ]
  },
  {
   "cell_type": "code",
   "execution_count": 9,
   "id": "614de332",
   "metadata": {},
   "outputs": [],
   "source": [
    "REGION = 'us-central1'\n",
    "EXPERIMENT = '04'\n",
    "SERIES = '04'\n",
    "\n",
    "# source data\n",
    "BQ_PROJECT = PROJECT_ID\n",
    "BQ_DATASET = 'fraud'\n",
    "BQ_TABLE = 'fraud_prepped'\n",
    "\n",
    "# Resources\n",
    "DEPLOY_COMPUTE = 'n1-standard-4'\n",
    "DEPLOY_IMAGE = 'us-docker.pkg.dev/vertex-ai/prediction/sklearn-cpu.0-23:latest'\n",
    "TRAINING_IMAGE = 'us-docker.pkg.dev/vertex-ai/training/sklearn-cpu.0-23:latest'\n",
    "\n",
    "# Model Training\n",
    "VAR_TARGET = 'Class'\n",
    "VAR_OMIT = 'transaction_id-splits' #add more variables to the string with '-' delimiters\n"
   ]
  },
  {
   "cell_type": "markdown",
   "id": "a92f2936",
   "metadata": {},
   "source": [
    "packages:"
   ]
  },
  {
   "cell_type": "code",
   "execution_count": 10,
   "id": "986e7804",
   "metadata": {},
   "outputs": [],
   "source": [
    "from google.cloud import bigquery\n",
    "from google.cloud import aiplatform\n",
    "from google.cloud import storage\n",
    "\n",
    "import sklearn\n",
    "from sklearn.preprocessing import StandardScaler\n",
    "from sklearn.linear_model import LogisticRegression\n",
    "from sklearn.pipeline import Pipeline\n",
    "from sklearn import metrics\n",
    "\n",
    "import pickle\n",
    "import pandas as pd \n",
    "import numpy as np \n",
    "import matplotlib.pyplot as plt \n",
    "import seaborn as sns \n",
    "import json\n",
    "\n",
    "from datetime import datetime\n",
    "import os\n",
    "\n",
    "from google.protobuf import json_format\n",
    "from google.protobuf.struct_pb2 import Value\n"
   ]
  },
  {
   "cell_type": "markdown",
   "id": "139d3707",
   "metadata": {},
   "source": [
    "clients:"
   ]
  },
  {
   "cell_type": "code",
   "execution_count": 11,
   "id": "fdbc3411",
   "metadata": {},
   "outputs": [],
   "source": [
    "aiplatform.init(project=PROJECT_ID, location=REGION)\n",
    "bq = bigquery.Client(project=PROJECT_ID)"
   ]
  },
  {
   "cell_type": "markdown",
   "id": "6f4052df",
   "metadata": {},
   "source": [
    "parameters:"
   ]
  },
  {
   "cell_type": "code",
   "execution_count": 12,
   "id": "ddd94e3a",
   "metadata": {},
   "outputs": [],
   "source": [
    "TIMESTAMP = datetime.now().strftime(\"%Y%m%d%H%M%S\")\n",
    "BUCKET = PROJECT_ID\n",
    "URI = f\"gs://{BUCKET}/{SERIES}/{EXPERIMENT}\"\n",
    "DIR = f\"temp/{EXPERIMENT}\"\n",
    "BLOB = f\"{SERIES}/{EXPERIMENT}/models/{TIMESTAMP}/model/model.pkl\""
   ]
  },
  {
   "cell_type": "markdown",
   "id": "1ad564f6-d206-4f72-ac7b-3e23a65c6324",
   "metadata": {},
   "source": [
    "experiment tracking:"
   ]
  },
  {
   "cell_type": "code",
   "execution_count": 13,
   "id": "a6f80dfc-7237-4a9f-a891-7093e3a3af58",
   "metadata": {},
   "outputs": [],
   "source": [
    "FRAMEWORK = 'sklearn'\n",
    "TASK = 'classification'\n",
    "MODEL_TYPE = 'logistic-regression'\n",
    "EXPERIMENT_NAME = f'experiment-{SERIES}-{EXPERIMENT}-{FRAMEWORK}-{TASK}-{MODEL_TYPE}'\n",
    "RUN_NAME = f'run-{TIMESTAMP}'"
   ]
  },
  {
   "cell_type": "markdown",
   "id": "de43acbc",
   "metadata": {},
   "source": [
    "environment:"
   ]
  },
  {
   "cell_type": "code",
   "execution_count": 14,
   "id": "a92f3b28",
   "metadata": {},
   "outputs": [],
   "source": [
    "!rm -rf {DIR}\n",
    "!mkdir -p {DIR}"
   ]
  },
  {
   "cell_type": "markdown",
   "id": "def56928-203b-4123-af3d-d9c86064cb64",
   "metadata": {},
   "source": [
    "---\n",
    "## Setup Vertex AI Experiments\n",
    "\n",
    "The code in this section initializes the experiment and starts a run that represents this notebook.  Throughout the notebook sections for model training and evaluation information will be logged to the experiment using:\n",
    "- [.log_params](https://cloud.google.com/python/docs/reference/aiplatform/latest/google.cloud.aiplatform#google_cloud_aiplatform_log_params)\n",
    "- [.log_metrics](https://cloud.google.com/python/docs/reference/aiplatform/latest/google.cloud.aiplatform#google_cloud_aiplatform_log_metrics)\n",
    "- [.log_time_series_metrics](https://cloud.google.com/python/docs/reference/aiplatform/latest/google.cloud.aiplatform#google_cloud_aiplatform_log_time_series_metrics)"
   ]
  },
  {
   "cell_type": "markdown",
   "id": "b4e27bcc-5312-44bf-9464-22ad3d4cc874",
   "metadata": {},
   "source": [
    "Initialize the Experiment:"
   ]
  },
  {
   "cell_type": "code",
   "execution_count": 15,
   "id": "e08ff415-c016-4429-a23e-7f78f1281896",
   "metadata": {},
   "outputs": [
    {
     "name": "stdout",
     "output_type": "stream",
     "text": [
      "Creating Tensorboard\n",
      "Create Tensorboard backing LRO: projects/117917517031/locations/us-central1/tensorboards/8036677933089161216/operations/8537105738344955904\n",
      "Tensorboard created. Resource name: projects/117917517031/locations/us-central1/tensorboards/8036677933089161216\n",
      "To use this Tensorboard in another session:\n",
      "tb = aiplatform.Tensorboard('projects/117917517031/locations/us-central1/tensorboards/8036677933089161216')\n"
     ]
    }
   ],
   "source": [
    "aiplatform.init(experiment = EXPERIMENT_NAME)"
   ]
  },
  {
   "cell_type": "markdown",
   "id": "00bf97f8-02d2-4b68-9a95-8590a4ea8255",
   "metadata": {},
   "source": [
    "Create an experiment run:"
   ]
  },
  {
   "cell_type": "code",
   "execution_count": 16,
   "id": "a5e59251-3f8a-4939-8a32-45da5d49b82b",
   "metadata": {},
   "outputs": [
    {
     "name": "stdout",
     "output_type": "stream",
     "text": [
      "Associating projects/117917517031/locations/us-central1/metadataStores/default/contexts/experiment-04-04-sklearn-classification-logistic-regression-run-20231023050012 to Experiment: experiment-04-04-sklearn-classification-logistic-regression\n"
     ]
    }
   ],
   "source": [
    "expRun = aiplatform.ExperimentRun.create(run_name = RUN_NAME, experiment = EXPERIMENT_NAME)"
   ]
  },
  {
   "cell_type": "markdown",
   "id": "e0f9737e-9cf1-4aa0-b31f-a95ebc6a53a7",
   "metadata": {},
   "source": [
    "Log parameters to the experiment run:"
   ]
  },
  {
   "cell_type": "code",
   "execution_count": 17,
   "id": "842318a5-ab19-4d4e-86ee-9098f41b4c37",
   "metadata": {},
   "outputs": [],
   "source": [
    "expRun.log_params({'experiment': EXPERIMENT, 'series': SERIES, 'project_id': PROJECT_ID})"
   ]
  },
  {
   "cell_type": "markdown",
   "id": "eaf48dc3-cdbd-4e34-be4d-33c7563dbd33",
   "metadata": {},
   "source": [
    "---\n",
    "## Training Data\n",
    "In this exercise the data source is a table in Google BigQuery.  While it is possible to bring the entire table into the local notebook as a Pandas dataframe, it is not a scalable solution for very large training tables."
   ]
  },
  {
   "cell_type": "markdown",
   "id": "5f93fde9",
   "metadata": {},
   "source": [
    "### Data Schema\n",
    "Using BigQueries Information_Schema is an easy way to quickly retrieve the column information about our training data.  In this case we need the column names and data types to setup the data reading and the model inputs.  This section retrieves the column information for the training table source."
   ]
  },
  {
   "cell_type": "code",
   "execution_count": 18,
   "id": "6edde19f",
   "metadata": {},
   "outputs": [
    {
     "data": {
      "text/html": [
       "<div>\n",
       "<style scoped>\n",
       "    .dataframe tbody tr th:only-of-type {\n",
       "        vertical-align: middle;\n",
       "    }\n",
       "\n",
       "    .dataframe tbody tr th {\n",
       "        vertical-align: top;\n",
       "    }\n",
       "\n",
       "    .dataframe thead th {\n",
       "        text-align: right;\n",
       "    }\n",
       "</style>\n",
       "<table border=\"1\" class=\"dataframe\">\n",
       "  <thead>\n",
       "    <tr style=\"text-align: right;\">\n",
       "      <th></th>\n",
       "      <th>table_catalog</th>\n",
       "      <th>table_schema</th>\n",
       "      <th>table_name</th>\n",
       "      <th>column_name</th>\n",
       "      <th>ordinal_position</th>\n",
       "      <th>is_nullable</th>\n",
       "      <th>data_type</th>\n",
       "      <th>is_generated</th>\n",
       "      <th>generation_expression</th>\n",
       "      <th>is_stored</th>\n",
       "      <th>is_hidden</th>\n",
       "      <th>is_updatable</th>\n",
       "      <th>is_system_defined</th>\n",
       "      <th>is_partitioning_column</th>\n",
       "      <th>clustering_ordinal_position</th>\n",
       "      <th>collation_name</th>\n",
       "      <th>column_default</th>\n",
       "      <th>rounding_mode</th>\n",
       "    </tr>\n",
       "  </thead>\n",
       "  <tbody>\n",
       "    <tr>\n",
       "      <th>0</th>\n",
       "      <td>fifth-sprite-402605</td>\n",
       "      <td>fraud</td>\n",
       "      <td>fraud_prepped</td>\n",
       "      <td>Time</td>\n",
       "      <td>1</td>\n",
       "      <td>YES</td>\n",
       "      <td>INT64</td>\n",
       "      <td>NEVER</td>\n",
       "      <td>None</td>\n",
       "      <td>None</td>\n",
       "      <td>NO</td>\n",
       "      <td>None</td>\n",
       "      <td>NO</td>\n",
       "      <td>NO</td>\n",
       "      <td>&lt;NA&gt;</td>\n",
       "      <td>NULL</td>\n",
       "      <td>NULL</td>\n",
       "      <td>None</td>\n",
       "    </tr>\n",
       "    <tr>\n",
       "      <th>1</th>\n",
       "      <td>fifth-sprite-402605</td>\n",
       "      <td>fraud</td>\n",
       "      <td>fraud_prepped</td>\n",
       "      <td>V1</td>\n",
       "      <td>2</td>\n",
       "      <td>YES</td>\n",
       "      <td>FLOAT64</td>\n",
       "      <td>NEVER</td>\n",
       "      <td>None</td>\n",
       "      <td>None</td>\n",
       "      <td>NO</td>\n",
       "      <td>None</td>\n",
       "      <td>NO</td>\n",
       "      <td>NO</td>\n",
       "      <td>&lt;NA&gt;</td>\n",
       "      <td>NULL</td>\n",
       "      <td>NULL</td>\n",
       "      <td>None</td>\n",
       "    </tr>\n",
       "    <tr>\n",
       "      <th>2</th>\n",
       "      <td>fifth-sprite-402605</td>\n",
       "      <td>fraud</td>\n",
       "      <td>fraud_prepped</td>\n",
       "      <td>V2</td>\n",
       "      <td>3</td>\n",
       "      <td>YES</td>\n",
       "      <td>FLOAT64</td>\n",
       "      <td>NEVER</td>\n",
       "      <td>None</td>\n",
       "      <td>None</td>\n",
       "      <td>NO</td>\n",
       "      <td>None</td>\n",
       "      <td>NO</td>\n",
       "      <td>NO</td>\n",
       "      <td>&lt;NA&gt;</td>\n",
       "      <td>NULL</td>\n",
       "      <td>NULL</td>\n",
       "      <td>None</td>\n",
       "    </tr>\n",
       "    <tr>\n",
       "      <th>3</th>\n",
       "      <td>fifth-sprite-402605</td>\n",
       "      <td>fraud</td>\n",
       "      <td>fraud_prepped</td>\n",
       "      <td>V3</td>\n",
       "      <td>4</td>\n",
       "      <td>YES</td>\n",
       "      <td>FLOAT64</td>\n",
       "      <td>NEVER</td>\n",
       "      <td>None</td>\n",
       "      <td>None</td>\n",
       "      <td>NO</td>\n",
       "      <td>None</td>\n",
       "      <td>NO</td>\n",
       "      <td>NO</td>\n",
       "      <td>&lt;NA&gt;</td>\n",
       "      <td>NULL</td>\n",
       "      <td>NULL</td>\n",
       "      <td>None</td>\n",
       "    </tr>\n",
       "    <tr>\n",
       "      <th>4</th>\n",
       "      <td>fifth-sprite-402605</td>\n",
       "      <td>fraud</td>\n",
       "      <td>fraud_prepped</td>\n",
       "      <td>V4</td>\n",
       "      <td>5</td>\n",
       "      <td>YES</td>\n",
       "      <td>FLOAT64</td>\n",
       "      <td>NEVER</td>\n",
       "      <td>None</td>\n",
       "      <td>None</td>\n",
       "      <td>NO</td>\n",
       "      <td>None</td>\n",
       "      <td>NO</td>\n",
       "      <td>NO</td>\n",
       "      <td>&lt;NA&gt;</td>\n",
       "      <td>NULL</td>\n",
       "      <td>NULL</td>\n",
       "      <td>None</td>\n",
       "    </tr>\n",
       "    <tr>\n",
       "      <th>5</th>\n",
       "      <td>fifth-sprite-402605</td>\n",
       "      <td>fraud</td>\n",
       "      <td>fraud_prepped</td>\n",
       "      <td>V5</td>\n",
       "      <td>6</td>\n",
       "      <td>YES</td>\n",
       "      <td>FLOAT64</td>\n",
       "      <td>NEVER</td>\n",
       "      <td>None</td>\n",
       "      <td>None</td>\n",
       "      <td>NO</td>\n",
       "      <td>None</td>\n",
       "      <td>NO</td>\n",
       "      <td>NO</td>\n",
       "      <td>&lt;NA&gt;</td>\n",
       "      <td>NULL</td>\n",
       "      <td>NULL</td>\n",
       "      <td>None</td>\n",
       "    </tr>\n",
       "    <tr>\n",
       "      <th>6</th>\n",
       "      <td>fifth-sprite-402605</td>\n",
       "      <td>fraud</td>\n",
       "      <td>fraud_prepped</td>\n",
       "      <td>V6</td>\n",
       "      <td>7</td>\n",
       "      <td>YES</td>\n",
       "      <td>FLOAT64</td>\n",
       "      <td>NEVER</td>\n",
       "      <td>None</td>\n",
       "      <td>None</td>\n",
       "      <td>NO</td>\n",
       "      <td>None</td>\n",
       "      <td>NO</td>\n",
       "      <td>NO</td>\n",
       "      <td>&lt;NA&gt;</td>\n",
       "      <td>NULL</td>\n",
       "      <td>NULL</td>\n",
       "      <td>None</td>\n",
       "    </tr>\n",
       "    <tr>\n",
       "      <th>7</th>\n",
       "      <td>fifth-sprite-402605</td>\n",
       "      <td>fraud</td>\n",
       "      <td>fraud_prepped</td>\n",
       "      <td>V7</td>\n",
       "      <td>8</td>\n",
       "      <td>YES</td>\n",
       "      <td>FLOAT64</td>\n",
       "      <td>NEVER</td>\n",
       "      <td>None</td>\n",
       "      <td>None</td>\n",
       "      <td>NO</td>\n",
       "      <td>None</td>\n",
       "      <td>NO</td>\n",
       "      <td>NO</td>\n",
       "      <td>&lt;NA&gt;</td>\n",
       "      <td>NULL</td>\n",
       "      <td>NULL</td>\n",
       "      <td>None</td>\n",
       "    </tr>\n",
       "    <tr>\n",
       "      <th>8</th>\n",
       "      <td>fifth-sprite-402605</td>\n",
       "      <td>fraud</td>\n",
       "      <td>fraud_prepped</td>\n",
       "      <td>V8</td>\n",
       "      <td>9</td>\n",
       "      <td>YES</td>\n",
       "      <td>FLOAT64</td>\n",
       "      <td>NEVER</td>\n",
       "      <td>None</td>\n",
       "      <td>None</td>\n",
       "      <td>NO</td>\n",
       "      <td>None</td>\n",
       "      <td>NO</td>\n",
       "      <td>NO</td>\n",
       "      <td>&lt;NA&gt;</td>\n",
       "      <td>NULL</td>\n",
       "      <td>NULL</td>\n",
       "      <td>None</td>\n",
       "    </tr>\n",
       "    <tr>\n",
       "      <th>9</th>\n",
       "      <td>fifth-sprite-402605</td>\n",
       "      <td>fraud</td>\n",
       "      <td>fraud_prepped</td>\n",
       "      <td>V9</td>\n",
       "      <td>10</td>\n",
       "      <td>YES</td>\n",
       "      <td>FLOAT64</td>\n",
       "      <td>NEVER</td>\n",
       "      <td>None</td>\n",
       "      <td>None</td>\n",
       "      <td>NO</td>\n",
       "      <td>None</td>\n",
       "      <td>NO</td>\n",
       "      <td>NO</td>\n",
       "      <td>&lt;NA&gt;</td>\n",
       "      <td>NULL</td>\n",
       "      <td>NULL</td>\n",
       "      <td>None</td>\n",
       "    </tr>\n",
       "    <tr>\n",
       "      <th>10</th>\n",
       "      <td>fifth-sprite-402605</td>\n",
       "      <td>fraud</td>\n",
       "      <td>fraud_prepped</td>\n",
       "      <td>V10</td>\n",
       "      <td>11</td>\n",
       "      <td>YES</td>\n",
       "      <td>FLOAT64</td>\n",
       "      <td>NEVER</td>\n",
       "      <td>None</td>\n",
       "      <td>None</td>\n",
       "      <td>NO</td>\n",
       "      <td>None</td>\n",
       "      <td>NO</td>\n",
       "      <td>NO</td>\n",
       "      <td>&lt;NA&gt;</td>\n",
       "      <td>NULL</td>\n",
       "      <td>NULL</td>\n",
       "      <td>None</td>\n",
       "    </tr>\n",
       "    <tr>\n",
       "      <th>11</th>\n",
       "      <td>fifth-sprite-402605</td>\n",
       "      <td>fraud</td>\n",
       "      <td>fraud_prepped</td>\n",
       "      <td>V11</td>\n",
       "      <td>12</td>\n",
       "      <td>YES</td>\n",
       "      <td>FLOAT64</td>\n",
       "      <td>NEVER</td>\n",
       "      <td>None</td>\n",
       "      <td>None</td>\n",
       "      <td>NO</td>\n",
       "      <td>None</td>\n",
       "      <td>NO</td>\n",
       "      <td>NO</td>\n",
       "      <td>&lt;NA&gt;</td>\n",
       "      <td>NULL</td>\n",
       "      <td>NULL</td>\n",
       "      <td>None</td>\n",
       "    </tr>\n",
       "    <tr>\n",
       "      <th>12</th>\n",
       "      <td>fifth-sprite-402605</td>\n",
       "      <td>fraud</td>\n",
       "      <td>fraud_prepped</td>\n",
       "      <td>V12</td>\n",
       "      <td>13</td>\n",
       "      <td>YES</td>\n",
       "      <td>FLOAT64</td>\n",
       "      <td>NEVER</td>\n",
       "      <td>None</td>\n",
       "      <td>None</td>\n",
       "      <td>NO</td>\n",
       "      <td>None</td>\n",
       "      <td>NO</td>\n",
       "      <td>NO</td>\n",
       "      <td>&lt;NA&gt;</td>\n",
       "      <td>NULL</td>\n",
       "      <td>NULL</td>\n",
       "      <td>None</td>\n",
       "    </tr>\n",
       "    <tr>\n",
       "      <th>13</th>\n",
       "      <td>fifth-sprite-402605</td>\n",
       "      <td>fraud</td>\n",
       "      <td>fraud_prepped</td>\n",
       "      <td>V13</td>\n",
       "      <td>14</td>\n",
       "      <td>YES</td>\n",
       "      <td>FLOAT64</td>\n",
       "      <td>NEVER</td>\n",
       "      <td>None</td>\n",
       "      <td>None</td>\n",
       "      <td>NO</td>\n",
       "      <td>None</td>\n",
       "      <td>NO</td>\n",
       "      <td>NO</td>\n",
       "      <td>&lt;NA&gt;</td>\n",
       "      <td>NULL</td>\n",
       "      <td>NULL</td>\n",
       "      <td>None</td>\n",
       "    </tr>\n",
       "    <tr>\n",
       "      <th>14</th>\n",
       "      <td>fifth-sprite-402605</td>\n",
       "      <td>fraud</td>\n",
       "      <td>fraud_prepped</td>\n",
       "      <td>V14</td>\n",
       "      <td>15</td>\n",
       "      <td>YES</td>\n",
       "      <td>FLOAT64</td>\n",
       "      <td>NEVER</td>\n",
       "      <td>None</td>\n",
       "      <td>None</td>\n",
       "      <td>NO</td>\n",
       "      <td>None</td>\n",
       "      <td>NO</td>\n",
       "      <td>NO</td>\n",
       "      <td>&lt;NA&gt;</td>\n",
       "      <td>NULL</td>\n",
       "      <td>NULL</td>\n",
       "      <td>None</td>\n",
       "    </tr>\n",
       "    <tr>\n",
       "      <th>15</th>\n",
       "      <td>fifth-sprite-402605</td>\n",
       "      <td>fraud</td>\n",
       "      <td>fraud_prepped</td>\n",
       "      <td>V15</td>\n",
       "      <td>16</td>\n",
       "      <td>YES</td>\n",
       "      <td>FLOAT64</td>\n",
       "      <td>NEVER</td>\n",
       "      <td>None</td>\n",
       "      <td>None</td>\n",
       "      <td>NO</td>\n",
       "      <td>None</td>\n",
       "      <td>NO</td>\n",
       "      <td>NO</td>\n",
       "      <td>&lt;NA&gt;</td>\n",
       "      <td>NULL</td>\n",
       "      <td>NULL</td>\n",
       "      <td>None</td>\n",
       "    </tr>\n",
       "    <tr>\n",
       "      <th>16</th>\n",
       "      <td>fifth-sprite-402605</td>\n",
       "      <td>fraud</td>\n",
       "      <td>fraud_prepped</td>\n",
       "      <td>V16</td>\n",
       "      <td>17</td>\n",
       "      <td>YES</td>\n",
       "      <td>FLOAT64</td>\n",
       "      <td>NEVER</td>\n",
       "      <td>None</td>\n",
       "      <td>None</td>\n",
       "      <td>NO</td>\n",
       "      <td>None</td>\n",
       "      <td>NO</td>\n",
       "      <td>NO</td>\n",
       "      <td>&lt;NA&gt;</td>\n",
       "      <td>NULL</td>\n",
       "      <td>NULL</td>\n",
       "      <td>None</td>\n",
       "    </tr>\n",
       "    <tr>\n",
       "      <th>17</th>\n",
       "      <td>fifth-sprite-402605</td>\n",
       "      <td>fraud</td>\n",
       "      <td>fraud_prepped</td>\n",
       "      <td>V17</td>\n",
       "      <td>18</td>\n",
       "      <td>YES</td>\n",
       "      <td>FLOAT64</td>\n",
       "      <td>NEVER</td>\n",
       "      <td>None</td>\n",
       "      <td>None</td>\n",
       "      <td>NO</td>\n",
       "      <td>None</td>\n",
       "      <td>NO</td>\n",
       "      <td>NO</td>\n",
       "      <td>&lt;NA&gt;</td>\n",
       "      <td>NULL</td>\n",
       "      <td>NULL</td>\n",
       "      <td>None</td>\n",
       "    </tr>\n",
       "    <tr>\n",
       "      <th>18</th>\n",
       "      <td>fifth-sprite-402605</td>\n",
       "      <td>fraud</td>\n",
       "      <td>fraud_prepped</td>\n",
       "      <td>V18</td>\n",
       "      <td>19</td>\n",
       "      <td>YES</td>\n",
       "      <td>FLOAT64</td>\n",
       "      <td>NEVER</td>\n",
       "      <td>None</td>\n",
       "      <td>None</td>\n",
       "      <td>NO</td>\n",
       "      <td>None</td>\n",
       "      <td>NO</td>\n",
       "      <td>NO</td>\n",
       "      <td>&lt;NA&gt;</td>\n",
       "      <td>NULL</td>\n",
       "      <td>NULL</td>\n",
       "      <td>None</td>\n",
       "    </tr>\n",
       "    <tr>\n",
       "      <th>19</th>\n",
       "      <td>fifth-sprite-402605</td>\n",
       "      <td>fraud</td>\n",
       "      <td>fraud_prepped</td>\n",
       "      <td>V19</td>\n",
       "      <td>20</td>\n",
       "      <td>YES</td>\n",
       "      <td>FLOAT64</td>\n",
       "      <td>NEVER</td>\n",
       "      <td>None</td>\n",
       "      <td>None</td>\n",
       "      <td>NO</td>\n",
       "      <td>None</td>\n",
       "      <td>NO</td>\n",
       "      <td>NO</td>\n",
       "      <td>&lt;NA&gt;</td>\n",
       "      <td>NULL</td>\n",
       "      <td>NULL</td>\n",
       "      <td>None</td>\n",
       "    </tr>\n",
       "    <tr>\n",
       "      <th>20</th>\n",
       "      <td>fifth-sprite-402605</td>\n",
       "      <td>fraud</td>\n",
       "      <td>fraud_prepped</td>\n",
       "      <td>V20</td>\n",
       "      <td>21</td>\n",
       "      <td>YES</td>\n",
       "      <td>FLOAT64</td>\n",
       "      <td>NEVER</td>\n",
       "      <td>None</td>\n",
       "      <td>None</td>\n",
       "      <td>NO</td>\n",
       "      <td>None</td>\n",
       "      <td>NO</td>\n",
       "      <td>NO</td>\n",
       "      <td>&lt;NA&gt;</td>\n",
       "      <td>NULL</td>\n",
       "      <td>NULL</td>\n",
       "      <td>None</td>\n",
       "    </tr>\n",
       "    <tr>\n",
       "      <th>21</th>\n",
       "      <td>fifth-sprite-402605</td>\n",
       "      <td>fraud</td>\n",
       "      <td>fraud_prepped</td>\n",
       "      <td>V21</td>\n",
       "      <td>22</td>\n",
       "      <td>YES</td>\n",
       "      <td>FLOAT64</td>\n",
       "      <td>NEVER</td>\n",
       "      <td>None</td>\n",
       "      <td>None</td>\n",
       "      <td>NO</td>\n",
       "      <td>None</td>\n",
       "      <td>NO</td>\n",
       "      <td>NO</td>\n",
       "      <td>&lt;NA&gt;</td>\n",
       "      <td>NULL</td>\n",
       "      <td>NULL</td>\n",
       "      <td>None</td>\n",
       "    </tr>\n",
       "    <tr>\n",
       "      <th>22</th>\n",
       "      <td>fifth-sprite-402605</td>\n",
       "      <td>fraud</td>\n",
       "      <td>fraud_prepped</td>\n",
       "      <td>V22</td>\n",
       "      <td>23</td>\n",
       "      <td>YES</td>\n",
       "      <td>FLOAT64</td>\n",
       "      <td>NEVER</td>\n",
       "      <td>None</td>\n",
       "      <td>None</td>\n",
       "      <td>NO</td>\n",
       "      <td>None</td>\n",
       "      <td>NO</td>\n",
       "      <td>NO</td>\n",
       "      <td>&lt;NA&gt;</td>\n",
       "      <td>NULL</td>\n",
       "      <td>NULL</td>\n",
       "      <td>None</td>\n",
       "    </tr>\n",
       "    <tr>\n",
       "      <th>23</th>\n",
       "      <td>fifth-sprite-402605</td>\n",
       "      <td>fraud</td>\n",
       "      <td>fraud_prepped</td>\n",
       "      <td>V23</td>\n",
       "      <td>24</td>\n",
       "      <td>YES</td>\n",
       "      <td>FLOAT64</td>\n",
       "      <td>NEVER</td>\n",
       "      <td>None</td>\n",
       "      <td>None</td>\n",
       "      <td>NO</td>\n",
       "      <td>None</td>\n",
       "      <td>NO</td>\n",
       "      <td>NO</td>\n",
       "      <td>&lt;NA&gt;</td>\n",
       "      <td>NULL</td>\n",
       "      <td>NULL</td>\n",
       "      <td>None</td>\n",
       "    </tr>\n",
       "    <tr>\n",
       "      <th>24</th>\n",
       "      <td>fifth-sprite-402605</td>\n",
       "      <td>fraud</td>\n",
       "      <td>fraud_prepped</td>\n",
       "      <td>V24</td>\n",
       "      <td>25</td>\n",
       "      <td>YES</td>\n",
       "      <td>FLOAT64</td>\n",
       "      <td>NEVER</td>\n",
       "      <td>None</td>\n",
       "      <td>None</td>\n",
       "      <td>NO</td>\n",
       "      <td>None</td>\n",
       "      <td>NO</td>\n",
       "      <td>NO</td>\n",
       "      <td>&lt;NA&gt;</td>\n",
       "      <td>NULL</td>\n",
       "      <td>NULL</td>\n",
       "      <td>None</td>\n",
       "    </tr>\n",
       "    <tr>\n",
       "      <th>25</th>\n",
       "      <td>fifth-sprite-402605</td>\n",
       "      <td>fraud</td>\n",
       "      <td>fraud_prepped</td>\n",
       "      <td>V25</td>\n",
       "      <td>26</td>\n",
       "      <td>YES</td>\n",
       "      <td>FLOAT64</td>\n",
       "      <td>NEVER</td>\n",
       "      <td>None</td>\n",
       "      <td>None</td>\n",
       "      <td>NO</td>\n",
       "      <td>None</td>\n",
       "      <td>NO</td>\n",
       "      <td>NO</td>\n",
       "      <td>&lt;NA&gt;</td>\n",
       "      <td>NULL</td>\n",
       "      <td>NULL</td>\n",
       "      <td>None</td>\n",
       "    </tr>\n",
       "    <tr>\n",
       "      <th>26</th>\n",
       "      <td>fifth-sprite-402605</td>\n",
       "      <td>fraud</td>\n",
       "      <td>fraud_prepped</td>\n",
       "      <td>V26</td>\n",
       "      <td>27</td>\n",
       "      <td>YES</td>\n",
       "      <td>FLOAT64</td>\n",
       "      <td>NEVER</td>\n",
       "      <td>None</td>\n",
       "      <td>None</td>\n",
       "      <td>NO</td>\n",
       "      <td>None</td>\n",
       "      <td>NO</td>\n",
       "      <td>NO</td>\n",
       "      <td>&lt;NA&gt;</td>\n",
       "      <td>NULL</td>\n",
       "      <td>NULL</td>\n",
       "      <td>None</td>\n",
       "    </tr>\n",
       "    <tr>\n",
       "      <th>27</th>\n",
       "      <td>fifth-sprite-402605</td>\n",
       "      <td>fraud</td>\n",
       "      <td>fraud_prepped</td>\n",
       "      <td>V27</td>\n",
       "      <td>28</td>\n",
       "      <td>YES</td>\n",
       "      <td>FLOAT64</td>\n",
       "      <td>NEVER</td>\n",
       "      <td>None</td>\n",
       "      <td>None</td>\n",
       "      <td>NO</td>\n",
       "      <td>None</td>\n",
       "      <td>NO</td>\n",
       "      <td>NO</td>\n",
       "      <td>&lt;NA&gt;</td>\n",
       "      <td>NULL</td>\n",
       "      <td>NULL</td>\n",
       "      <td>None</td>\n",
       "    </tr>\n",
       "    <tr>\n",
       "      <th>28</th>\n",
       "      <td>fifth-sprite-402605</td>\n",
       "      <td>fraud</td>\n",
       "      <td>fraud_prepped</td>\n",
       "      <td>V28</td>\n",
       "      <td>29</td>\n",
       "      <td>YES</td>\n",
       "      <td>FLOAT64</td>\n",
       "      <td>NEVER</td>\n",
       "      <td>None</td>\n",
       "      <td>None</td>\n",
       "      <td>NO</td>\n",
       "      <td>None</td>\n",
       "      <td>NO</td>\n",
       "      <td>NO</td>\n",
       "      <td>&lt;NA&gt;</td>\n",
       "      <td>NULL</td>\n",
       "      <td>NULL</td>\n",
       "      <td>None</td>\n",
       "    </tr>\n",
       "    <tr>\n",
       "      <th>29</th>\n",
       "      <td>fifth-sprite-402605</td>\n",
       "      <td>fraud</td>\n",
       "      <td>fraud_prepped</td>\n",
       "      <td>Amount</td>\n",
       "      <td>30</td>\n",
       "      <td>YES</td>\n",
       "      <td>FLOAT64</td>\n",
       "      <td>NEVER</td>\n",
       "      <td>None</td>\n",
       "      <td>None</td>\n",
       "      <td>NO</td>\n",
       "      <td>None</td>\n",
       "      <td>NO</td>\n",
       "      <td>NO</td>\n",
       "      <td>&lt;NA&gt;</td>\n",
       "      <td>NULL</td>\n",
       "      <td>NULL</td>\n",
       "      <td>None</td>\n",
       "    </tr>\n",
       "    <tr>\n",
       "      <th>30</th>\n",
       "      <td>fifth-sprite-402605</td>\n",
       "      <td>fraud</td>\n",
       "      <td>fraud_prepped</td>\n",
       "      <td>Class</td>\n",
       "      <td>31</td>\n",
       "      <td>YES</td>\n",
       "      <td>INT64</td>\n",
       "      <td>NEVER</td>\n",
       "      <td>None</td>\n",
       "      <td>None</td>\n",
       "      <td>NO</td>\n",
       "      <td>None</td>\n",
       "      <td>NO</td>\n",
       "      <td>NO</td>\n",
       "      <td>&lt;NA&gt;</td>\n",
       "      <td>NULL</td>\n",
       "      <td>NULL</td>\n",
       "      <td>None</td>\n",
       "    </tr>\n",
       "    <tr>\n",
       "      <th>31</th>\n",
       "      <td>fifth-sprite-402605</td>\n",
       "      <td>fraud</td>\n",
       "      <td>fraud_prepped</td>\n",
       "      <td>transaction_id</td>\n",
       "      <td>32</td>\n",
       "      <td>YES</td>\n",
       "      <td>STRING</td>\n",
       "      <td>NEVER</td>\n",
       "      <td>None</td>\n",
       "      <td>None</td>\n",
       "      <td>NO</td>\n",
       "      <td>None</td>\n",
       "      <td>NO</td>\n",
       "      <td>NO</td>\n",
       "      <td>&lt;NA&gt;</td>\n",
       "      <td>NULL</td>\n",
       "      <td>NULL</td>\n",
       "      <td>None</td>\n",
       "    </tr>\n",
       "    <tr>\n",
       "      <th>32</th>\n",
       "      <td>fifth-sprite-402605</td>\n",
       "      <td>fraud</td>\n",
       "      <td>fraud_prepped</td>\n",
       "      <td>splits</td>\n",
       "      <td>33</td>\n",
       "      <td>YES</td>\n",
       "      <td>STRING</td>\n",
       "      <td>NEVER</td>\n",
       "      <td>None</td>\n",
       "      <td>None</td>\n",
       "      <td>NO</td>\n",
       "      <td>None</td>\n",
       "      <td>NO</td>\n",
       "      <td>NO</td>\n",
       "      <td>&lt;NA&gt;</td>\n",
       "      <td>NULL</td>\n",
       "      <td>NULL</td>\n",
       "      <td>None</td>\n",
       "    </tr>\n",
       "  </tbody>\n",
       "</table>\n",
       "</div>"
      ],
      "text/plain": [
       "          table_catalog table_schema     table_name     column_name  \\\n",
       "0   fifth-sprite-402605        fraud  fraud_prepped            Time   \n",
       "1   fifth-sprite-402605        fraud  fraud_prepped              V1   \n",
       "2   fifth-sprite-402605        fraud  fraud_prepped              V2   \n",
       "3   fifth-sprite-402605        fraud  fraud_prepped              V3   \n",
       "4   fifth-sprite-402605        fraud  fraud_prepped              V4   \n",
       "5   fifth-sprite-402605        fraud  fraud_prepped              V5   \n",
       "6   fifth-sprite-402605        fraud  fraud_prepped              V6   \n",
       "7   fifth-sprite-402605        fraud  fraud_prepped              V7   \n",
       "8   fifth-sprite-402605        fraud  fraud_prepped              V8   \n",
       "9   fifth-sprite-402605        fraud  fraud_prepped              V9   \n",
       "10  fifth-sprite-402605        fraud  fraud_prepped             V10   \n",
       "11  fifth-sprite-402605        fraud  fraud_prepped             V11   \n",
       "12  fifth-sprite-402605        fraud  fraud_prepped             V12   \n",
       "13  fifth-sprite-402605        fraud  fraud_prepped             V13   \n",
       "14  fifth-sprite-402605        fraud  fraud_prepped             V14   \n",
       "15  fifth-sprite-402605        fraud  fraud_prepped             V15   \n",
       "16  fifth-sprite-402605        fraud  fraud_prepped             V16   \n",
       "17  fifth-sprite-402605        fraud  fraud_prepped             V17   \n",
       "18  fifth-sprite-402605        fraud  fraud_prepped             V18   \n",
       "19  fifth-sprite-402605        fraud  fraud_prepped             V19   \n",
       "20  fifth-sprite-402605        fraud  fraud_prepped             V20   \n",
       "21  fifth-sprite-402605        fraud  fraud_prepped             V21   \n",
       "22  fifth-sprite-402605        fraud  fraud_prepped             V22   \n",
       "23  fifth-sprite-402605        fraud  fraud_prepped             V23   \n",
       "24  fifth-sprite-402605        fraud  fraud_prepped             V24   \n",
       "25  fifth-sprite-402605        fraud  fraud_prepped             V25   \n",
       "26  fifth-sprite-402605        fraud  fraud_prepped             V26   \n",
       "27  fifth-sprite-402605        fraud  fraud_prepped             V27   \n",
       "28  fifth-sprite-402605        fraud  fraud_prepped             V28   \n",
       "29  fifth-sprite-402605        fraud  fraud_prepped          Amount   \n",
       "30  fifth-sprite-402605        fraud  fraud_prepped           Class   \n",
       "31  fifth-sprite-402605        fraud  fraud_prepped  transaction_id   \n",
       "32  fifth-sprite-402605        fraud  fraud_prepped          splits   \n",
       "\n",
       "    ordinal_position is_nullable data_type is_generated generation_expression  \\\n",
       "0                  1         YES     INT64        NEVER                  None   \n",
       "1                  2         YES   FLOAT64        NEVER                  None   \n",
       "2                  3         YES   FLOAT64        NEVER                  None   \n",
       "3                  4         YES   FLOAT64        NEVER                  None   \n",
       "4                  5         YES   FLOAT64        NEVER                  None   \n",
       "5                  6         YES   FLOAT64        NEVER                  None   \n",
       "6                  7         YES   FLOAT64        NEVER                  None   \n",
       "7                  8         YES   FLOAT64        NEVER                  None   \n",
       "8                  9         YES   FLOAT64        NEVER                  None   \n",
       "9                 10         YES   FLOAT64        NEVER                  None   \n",
       "10                11         YES   FLOAT64        NEVER                  None   \n",
       "11                12         YES   FLOAT64        NEVER                  None   \n",
       "12                13         YES   FLOAT64        NEVER                  None   \n",
       "13                14         YES   FLOAT64        NEVER                  None   \n",
       "14                15         YES   FLOAT64        NEVER                  None   \n",
       "15                16         YES   FLOAT64        NEVER                  None   \n",
       "16                17         YES   FLOAT64        NEVER                  None   \n",
       "17                18         YES   FLOAT64        NEVER                  None   \n",
       "18                19         YES   FLOAT64        NEVER                  None   \n",
       "19                20         YES   FLOAT64        NEVER                  None   \n",
       "20                21         YES   FLOAT64        NEVER                  None   \n",
       "21                22         YES   FLOAT64        NEVER                  None   \n",
       "22                23         YES   FLOAT64        NEVER                  None   \n",
       "23                24         YES   FLOAT64        NEVER                  None   \n",
       "24                25         YES   FLOAT64        NEVER                  None   \n",
       "25                26         YES   FLOAT64        NEVER                  None   \n",
       "26                27         YES   FLOAT64        NEVER                  None   \n",
       "27                28         YES   FLOAT64        NEVER                  None   \n",
       "28                29         YES   FLOAT64        NEVER                  None   \n",
       "29                30         YES   FLOAT64        NEVER                  None   \n",
       "30                31         YES     INT64        NEVER                  None   \n",
       "31                32         YES    STRING        NEVER                  None   \n",
       "32                33         YES    STRING        NEVER                  None   \n",
       "\n",
       "   is_stored is_hidden is_updatable is_system_defined is_partitioning_column  \\\n",
       "0       None        NO         None                NO                     NO   \n",
       "1       None        NO         None                NO                     NO   \n",
       "2       None        NO         None                NO                     NO   \n",
       "3       None        NO         None                NO                     NO   \n",
       "4       None        NO         None                NO                     NO   \n",
       "5       None        NO         None                NO                     NO   \n",
       "6       None        NO         None                NO                     NO   \n",
       "7       None        NO         None                NO                     NO   \n",
       "8       None        NO         None                NO                     NO   \n",
       "9       None        NO         None                NO                     NO   \n",
       "10      None        NO         None                NO                     NO   \n",
       "11      None        NO         None                NO                     NO   \n",
       "12      None        NO         None                NO                     NO   \n",
       "13      None        NO         None                NO                     NO   \n",
       "14      None        NO         None                NO                     NO   \n",
       "15      None        NO         None                NO                     NO   \n",
       "16      None        NO         None                NO                     NO   \n",
       "17      None        NO         None                NO                     NO   \n",
       "18      None        NO         None                NO                     NO   \n",
       "19      None        NO         None                NO                     NO   \n",
       "20      None        NO         None                NO                     NO   \n",
       "21      None        NO         None                NO                     NO   \n",
       "22      None        NO         None                NO                     NO   \n",
       "23      None        NO         None                NO                     NO   \n",
       "24      None        NO         None                NO                     NO   \n",
       "25      None        NO         None                NO                     NO   \n",
       "26      None        NO         None                NO                     NO   \n",
       "27      None        NO         None                NO                     NO   \n",
       "28      None        NO         None                NO                     NO   \n",
       "29      None        NO         None                NO                     NO   \n",
       "30      None        NO         None                NO                     NO   \n",
       "31      None        NO         None                NO                     NO   \n",
       "32      None        NO         None                NO                     NO   \n",
       "\n",
       "    clustering_ordinal_position collation_name column_default rounding_mode  \n",
       "0                          <NA>           NULL           NULL          None  \n",
       "1                          <NA>           NULL           NULL          None  \n",
       "2                          <NA>           NULL           NULL          None  \n",
       "3                          <NA>           NULL           NULL          None  \n",
       "4                          <NA>           NULL           NULL          None  \n",
       "5                          <NA>           NULL           NULL          None  \n",
       "6                          <NA>           NULL           NULL          None  \n",
       "7                          <NA>           NULL           NULL          None  \n",
       "8                          <NA>           NULL           NULL          None  \n",
       "9                          <NA>           NULL           NULL          None  \n",
       "10                         <NA>           NULL           NULL          None  \n",
       "11                         <NA>           NULL           NULL          None  \n",
       "12                         <NA>           NULL           NULL          None  \n",
       "13                         <NA>           NULL           NULL          None  \n",
       "14                         <NA>           NULL           NULL          None  \n",
       "15                         <NA>           NULL           NULL          None  \n",
       "16                         <NA>           NULL           NULL          None  \n",
       "17                         <NA>           NULL           NULL          None  \n",
       "18                         <NA>           NULL           NULL          None  \n",
       "19                         <NA>           NULL           NULL          None  \n",
       "20                         <NA>           NULL           NULL          None  \n",
       "21                         <NA>           NULL           NULL          None  \n",
       "22                         <NA>           NULL           NULL          None  \n",
       "23                         <NA>           NULL           NULL          None  \n",
       "24                         <NA>           NULL           NULL          None  \n",
       "25                         <NA>           NULL           NULL          None  \n",
       "26                         <NA>           NULL           NULL          None  \n",
       "27                         <NA>           NULL           NULL          None  \n",
       "28                         <NA>           NULL           NULL          None  \n",
       "29                         <NA>           NULL           NULL          None  \n",
       "30                         <NA>           NULL           NULL          None  \n",
       "31                         <NA>           NULL           NULL          None  \n",
       "32                         <NA>           NULL           NULL          None  "
      ]
     },
     "execution_count": 18,
     "metadata": {},
     "output_type": "execute_result"
    }
   ],
   "source": [
    "query = f\"SELECT * FROM `{BQ_PROJECT}.{BQ_DATASET}.INFORMATION_SCHEMA.COLUMNS` WHERE TABLE_NAME = '{BQ_TABLE}'\"\n",
    "schema = bq.query(query).to_dataframe()\n",
    "schema"
   ]
  },
  {
   "cell_type": "markdown",
   "id": "a968eba8",
   "metadata": {},
   "source": [
    "### Number of Classes for the Label Column: VAR_TARGET\n",
    "This is a supervised learning example that classifies examples into the classes found in the label column stored in the variable `VAR_TARGET`."
   ]
  },
  {
   "cell_type": "code",
   "execution_count": 19,
   "id": "45fcc860",
   "metadata": {},
   "outputs": [
    {
     "data": {
      "text/html": [
       "<div>\n",
       "<style scoped>\n",
       "    .dataframe tbody tr th:only-of-type {\n",
       "        vertical-align: middle;\n",
       "    }\n",
       "\n",
       "    .dataframe tbody tr th {\n",
       "        vertical-align: top;\n",
       "    }\n",
       "\n",
       "    .dataframe thead th {\n",
       "        text-align: right;\n",
       "    }\n",
       "</style>\n",
       "<table border=\"1\" class=\"dataframe\">\n",
       "  <thead>\n",
       "    <tr style=\"text-align: right;\">\n",
       "      <th></th>\n",
       "      <th>Class</th>\n",
       "    </tr>\n",
       "  </thead>\n",
       "  <tbody>\n",
       "    <tr>\n",
       "      <th>0</th>\n",
       "      <td>0</td>\n",
       "    </tr>\n",
       "    <tr>\n",
       "      <th>1</th>\n",
       "      <td>1</td>\n",
       "    </tr>\n",
       "  </tbody>\n",
       "</table>\n",
       "</div>"
      ],
      "text/plain": [
       "   Class\n",
       "0      0\n",
       "1      1"
      ]
     },
     "execution_count": 19,
     "metadata": {},
     "output_type": "execute_result"
    }
   ],
   "source": [
    "nclasses = bq.query(query = f'SELECT DISTINCT {VAR_TARGET} FROM `{BQ_PROJECT}.{BQ_DATASET}.{BQ_TABLE}` WHERE {VAR_TARGET} is not null').to_dataframe()\n",
    "nclasses"
   ]
  },
  {
   "cell_type": "code",
   "execution_count": 20,
   "id": "88143160",
   "metadata": {},
   "outputs": [
    {
     "data": {
      "text/plain": [
       "2"
      ]
     },
     "execution_count": 20,
     "metadata": {},
     "output_type": "execute_result"
    }
   ],
   "source": [
    "nclasses = nclasses.shape[0]\n",
    "nclasses"
   ]
  },
  {
   "cell_type": "code",
   "execution_count": 21,
   "id": "012a3e13-b4e3-47a8-827b-bfacf0a697df",
   "metadata": {},
   "outputs": [],
   "source": [
    "expRun.log_params({'data_source': f'bq://{BQ_PROJECT}.{BQ_DATASET}.{BQ_TABLE}', 'nclasses': nclasses, 'var_split': 'splits', 'var_target': VAR_TARGET})"
   ]
  },
  {
   "cell_type": "markdown",
   "id": "8169327f",
   "metadata": {},
   "source": [
    "---\n",
    "## Read From BigQuery"
   ]
  },
  {
   "cell_type": "code",
   "execution_count": 22,
   "id": "ac490cd0-8d9b-4eba-878f-32306bdf2d43",
   "metadata": {},
   "outputs": [],
   "source": [
    "VAR_OMIT = (VAR_OMIT  + '-' + VAR_TARGET).split('-')"
   ]
  },
  {
   "cell_type": "code",
   "execution_count": 23,
   "id": "18d5c48d-da01-4129-aed6-0bf78bedb346",
   "metadata": {},
   "outputs": [],
   "source": [
    "train_query = f\"SELECT * FROM `{BQ_PROJECT}.{BQ_DATASET}.{BQ_TABLE}` WHERE splits = 'TRAIN'\"\n",
    "train = bq.query(train_query).to_dataframe()\n",
    "X_train = train.loc[:, ~train.columns.isin(VAR_OMIT)]\n",
    "y_train = train[VAR_TARGET].astype('int')"
   ]
  },
  {
   "cell_type": "code",
   "execution_count": 24,
   "id": "62518589-dec9-4f69-a60f-144b87b69499",
   "metadata": {},
   "outputs": [],
   "source": [
    "val_query = f\"SELECT * FROM `{BQ_PROJECT}.{BQ_DATASET}.{BQ_TABLE}` WHERE splits = 'VALIDATE'\"\n",
    "val = bq.query(val_query).to_dataframe()\n",
    "X_val = val.loc[:, ~val.columns.isin(VAR_OMIT)]\n",
    "y_val = val[VAR_TARGET].astype('int')"
   ]
  },
  {
   "cell_type": "code",
   "execution_count": 25,
   "id": "da74d56e-696e-4954-a879-d3abc8549b86",
   "metadata": {},
   "outputs": [],
   "source": [
    "test_query = f\"SELECT * FROM `{BQ_PROJECT}.{BQ_DATASET}.{BQ_TABLE}` WHERE splits = 'TEST'\"\n",
    "test = bq.query(test_query).to_dataframe()\n",
    "X_test = test.loc[:, ~test.columns.isin(VAR_OMIT)]\n",
    "y_test = test[VAR_TARGET].astype('int')"
   ]
  },
  {
   "cell_type": "markdown",
   "id": "f359ac9a",
   "metadata": {},
   "source": [
    "---\n",
    "## Train the Model In The Notebook (local runtime)\n",
    "\n",
    "This example uses a grid search cross validation ([GridSearchCV](https://scikit-learn.org/stable/modules/generated/sklearn.model_selection.GridSearchCV.html?highlight=gridsearch#sklearn.model_selection.GridSearchCV)) to test multiple combinations of solvers, penalties, and C values to determine the best Logistic Regression model, scoring for accuracy ([sklearn logistic regression](https://scikit-learn.org/stable/modules/generated/sklearn.linear_model.LogisticRegression.html)).  "
   ]
  },
  {
   "cell_type": "code",
   "execution_count": 26,
   "id": "bde03bab-4ec8-4f75-be31-046a45b5bf93",
   "metadata": {
    "scrolled": true,
    "tags": []
   },
   "outputs": [],
   "source": [
    "# define parameters\n",
    "solver = 'newton-cg'\n",
    "penalty = 'l2'\n",
    "\n",
    "# instantiate the model \n",
    "logistic = LogisticRegression(solver=solver, penalty=penalty)\n",
    "\n",
    "# Define a Standard Scaler to normalize inputs\n",
    "scaler = StandardScaler()\n"
   ]
  },
  {
   "cell_type": "code",
   "execution_count": 27,
   "id": "a248830e-34c7-485c-8221-da92d66adb69",
   "metadata": {},
   "outputs": [],
   "source": [
    "expRun.log_params({'solver': solver, 'penalty': penalty})"
   ]
  },
  {
   "cell_type": "code",
   "execution_count": 28,
   "id": "5908e5c6-f9bf-481a-8817-d93ca3f1eba9",
   "metadata": {
    "scrolled": true,
    "tags": []
   },
   "outputs": [],
   "source": [
    "# define pipeline\n",
    "pipe = Pipeline(steps=[(\"scaler\", scaler), (\"logistic\", logistic)])\n",
    "\n",
    "# define grid search model\n",
    "model = pipe.fit(X_train, y_train)\n"
   ]
  },
  {
   "cell_type": "code",
   "execution_count": 29,
   "id": "0d24a13d-c65b-42b2-9f21-43e83b881f19",
   "metadata": {},
   "outputs": [
    {
     "data": {
      "text/plain": [
       "<bound method Pipeline.get_params of Pipeline(steps=[('scaler', StandardScaler()),\n",
       "                ('logistic', LogisticRegression(solver='newton-cg'))])>"
      ]
     },
     "execution_count": 29,
     "metadata": {},
     "output_type": "execute_result"
    }
   ],
   "source": [
    "model.get_params"
   ]
  },
  {
   "cell_type": "markdown",
   "id": "42fc016d",
   "metadata": {},
   "source": [
    "Evaluate the models:"
   ]
  },
  {
   "cell_type": "code",
   "execution_count": 30,
   "id": "225ff0a5-ba8f-4c30-b49a-795f312fd984",
   "metadata": {},
   "outputs": [
    {
     "name": "stdout",
     "output_type": "stream",
     "text": [
      "accuracy: 0.9992442716228388, precision: 0.8848920863309353, recall: 0.6373056994818653, ROC AUC: 0.818582429995236\n"
     ]
    }
   ],
   "source": [
    "y_pred_training = model.predict(X_train)\n",
    "training_acc = metrics.accuracy_score(y_train, y_pred_training) \n",
    "training_prec = metrics.precision_score(y_train, y_pred_training)\n",
    "training_rec = metrics.recall_score(y_train, y_pred_training)\n",
    "training_rocauc = metrics.roc_auc_score(y_train, y_pred_training)\n",
    "print('accuracy: ' + str(training_acc) + ', precision: ' + str(training_prec) + ', recall: ' + str(training_rec) + ', ROC AUC: ' + str(training_rocauc))"
   ]
  },
  {
   "cell_type": "code",
   "execution_count": 31,
   "id": "419eb6e0-2495-4da1-9a36-8300adc90f03",
   "metadata": {},
   "outputs": [],
   "source": [
    "expRun.log_metrics({'training_accuracy': training_acc, 'training_precision':training_prec, 'training_recall': training_rec, 'training_roc_auc': training_rocauc})"
   ]
  },
  {
   "cell_type": "code",
   "execution_count": 32,
   "id": "61787273",
   "metadata": {},
   "outputs": [
    {
     "name": "stdout",
     "output_type": "stream",
     "text": [
      "accuracy: 0.9991623036649214, precision: 0.8, recall: 0.6666666666666666, ROC AUC: 0.8331934829732186\n"
     ]
    }
   ],
   "source": [
    "y_pred_val = model.predict(X_val)\n",
    "val_acc = metrics.accuracy_score(y_val, y_pred_val) \n",
    "val_prec = metrics.precision_score(y_val, y_pred_val)\n",
    "val_rec = metrics.recall_score(y_val, y_pred_val)\n",
    "val_rocauc = metrics.roc_auc_score(y_val, y_pred_val)\n",
    "print('accuracy: ' + str(val_acc) + ', precision: ' + str(val_prec) + ', recall: ' + str(val_rec) + ', ROC AUC: ' + str(val_rocauc))"
   ]
  },
  {
   "cell_type": "code",
   "execution_count": 33,
   "id": "d3396634-5278-4c95-a4da-559c86340008",
   "metadata": {},
   "outputs": [],
   "source": [
    "expRun.log_metrics({'validation_accuracy': val_acc, 'validation_precision': val_prec, 'validation_recall': val_rec, 'validation_roc_auc': val_rocauc})"
   ]
  },
  {
   "cell_type": "code",
   "execution_count": 34,
   "id": "190d870d",
   "metadata": {},
   "outputs": [
    {
     "name": "stdout",
     "output_type": "stream",
     "text": [
      "accuracy: 0.9990896996008682, precision: 0.9210526315789473, recall: 0.603448275862069, ROC AUC: 0.8016715137379388\n"
     ]
    }
   ],
   "source": [
    "y_pred = model.predict(X_test)\n",
    "test_acc = metrics.accuracy_score(y_test, y_pred) \n",
    "test_prec = metrics.precision_score(y_test, y_pred)\n",
    "test_rec = metrics.recall_score(y_test, y_pred)\n",
    "test_rocauc = metrics.roc_auc_score(y_test, y_pred)\n",
    "print('accuracy: ' + str(test_acc) + ', precision: ' + str(test_prec) + ', recall: ' + str(test_rec) + ', ROC AUC: ' + str(test_rocauc))"
   ]
  },
  {
   "cell_type": "code",
   "execution_count": 35,
   "id": "eac7e804-e391-4a4e-b743-887ffcec50c0",
   "metadata": {},
   "outputs": [],
   "source": [
    "expRun.log_metrics({'test_accuracy': test_acc, 'test_precision': test_prec, 'test_recall': test_rec, 'test_roc_auc': test_rocauc})"
   ]
  },
  {
   "cell_type": "markdown",
   "id": "b3e70c32",
   "metadata": {},
   "source": [
    "Create Prediction from a batch of the test data and review confusion matrix:"
   ]
  },
  {
   "cell_type": "code",
   "execution_count": 36,
   "id": "c66b7de2-111a-4270-b3d3-f30e04d69096",
   "metadata": {},
   "outputs": [
    {
     "data": {
      "text/plain": [
       "Text(0.5, 427.9555555555555, 'Predicted label')"
      ]
     },
     "execution_count": 36,
     "metadata": {},
     "output_type": "execute_result"
    },
    {
     "data": {
      "image/png": "[encoded data removed]",
      "text/plain": [
       "<Figure size 640x480 with 2 Axes>"
      ]
     },
     "metadata": {},
     "output_type": "display_data"
    }
   ],
   "source": [
    "cnf_matrix = metrics.confusion_matrix(y_test, y_pred) \n",
    "\n",
    "class_names = [0,1] # name  of classes \n",
    "fig, ax = plt.subplots() \n",
    "tick_marks = np.arange(len(class_names)) \n",
    "plt.xticks(tick_marks, class_names) \n",
    "plt.yticks(tick_marks, class_names) \n",
    "\n",
    "# create heatmap \n",
    "sns.heatmap(pd.DataFrame(cnf_matrix), annot=True, cmap=\"YlGnBu\", fmt='g') \n",
    "ax.xaxis.set_label_position(\"top\") \n",
    "plt.tight_layout() \n",
    "plt.title('Confusion matrix', y=1.1) \n",
    "plt.ylabel('Actual label') \n",
    "plt.xlabel('Predicted label')"
   ]
  },
  {
   "cell_type": "markdown",
   "id": "2913711d",
   "metadata": {},
   "source": [
    "---\n",
    "## Serving"
   ]
  },
  {
   "cell_type": "markdown",
   "id": "060db155",
   "metadata": {},
   "source": [
    "### Save The Model"
   ]
  },
  {
   "cell_type": "code",
   "execution_count": 37,
   "id": "08d415f2-61d5-4f95-85f0-5b107039ce44",
   "metadata": {},
   "outputs": [],
   "source": [
    "#trying pickle\n",
    "!mkdir model_artifacts\n",
    "\n",
    "with open('model_artifacts/model.pkl','wb') as f:\n",
    "    pickle.dump(model,f)"
   ]
  },
  {
   "cell_type": "code",
   "execution_count": 38,
   "id": "7531c26c-05b0-4035-a6f6-999901d12c97",
   "metadata": {},
   "outputs": [],
   "source": [
    "# Upload the model to GCS\n",
    "bucket = storage.Client().bucket(BUCKET)\n",
    "blob = bucket.blob(BLOB)\n",
    "blob.upload_from_filename('model_artifacts/model.pkl')"
   ]
  },
  {
   "cell_type": "code",
   "execution_count": 39,
   "id": "4b5901c8-13ab-437b-85a7-54c905d4d41c",
   "metadata": {},
   "outputs": [
    {
     "name": "stdout",
     "output_type": "stream",
     "text": [
      "gs://fifth-sprite-402605/04/04/models/20231023050012/model/model.pkl\n"
     ]
    }
   ],
   "source": [
    "# confirm model is in the right bucket\n",
    "!gsutil ls {URI}/models/{TIMESTAMP}/model/"
   ]
  },
  {
   "cell_type": "code",
   "execution_count": 40,
   "id": "9de60343-942b-44c6-8b30-6b859e23733a",
   "metadata": {},
   "outputs": [],
   "source": [
    "expRun.log_params({'model.save': f'{URI}/models/{TIMESTAMP}/model'})"
   ]
  },
  {
   "cell_type": "markdown",
   "id": "10036d46",
   "metadata": {},
   "source": [
    "### Upload The Model"
   ]
  },
  {
   "cell_type": "code",
   "execution_count": 41,
   "id": "83a92832-1217-4a96-a7ce-b4e6a39f617c",
   "metadata": {},
   "outputs": [
    {
     "name": "stdout",
     "output_type": "stream",
     "text": [
      "This is a new model, creating in model registry\n",
      "Creating Model\n",
      "Create Model backing LRO: projects/117917517031/locations/us-central1/models/model_04_04/operations/183491379526107136\n",
      "Model created. Resource name: projects/117917517031/locations/us-central1/models/model_04_04@1\n",
      "To use this Model in another session:\n",
      "model = aiplatform.Model('projects/117917517031/locations/us-central1/models/model_04_04@1')\n"
     ]
    }
   ],
   "source": [
    "modelmatch = aiplatform.Model.list(filter = f'display_name={SERIES}_{EXPERIMENT} AND labels.series={SERIES} AND labels.experiment={EXPERIMENT}')\n",
    "\n",
    "upload_model = True\n",
    "if modelmatch:\n",
    "    print(\"Model Already in Registry:\")\n",
    "    if RUN_NAME in modelmatch[0].version_aliases:\n",
    "        print(\"This version already loaded, no action taken.\")\n",
    "        upload_model = False\n",
    "        model = aiplatform.Model(model_name = modelmatch[0].resource_name)\n",
    "    else:\n",
    "        print('Loading model as new default version.')\n",
    "        parent_model = modelmatch[0].resource_name\n",
    "\n",
    "else:\n",
    "    print('This is a new model, creating in model registry')\n",
    "    parent_model = ''\n",
    "\n",
    "if upload_model:\n",
    "    model = aiplatform.Model.upload(\n",
    "        display_name = f'{SERIES}_{EXPERIMENT}',\n",
    "        model_id = f'model_{SERIES}_{EXPERIMENT}',\n",
    "        parent_model =  parent_model,\n",
    "        serving_container_image_uri = DEPLOY_IMAGE,\n",
    "        artifact_uri = f\"{URI}/models/{TIMESTAMP}/model\",\n",
    "        is_default_version = True,\n",
    "        version_aliases = [RUN_NAME],\n",
    "        version_description = RUN_NAME,\n",
    "        labels = {'series' : f'{SERIES}', 'experiment' : f'{EXPERIMENT}', 'experiment_name' : f'{EXPERIMENT_NAME}', 'run_name' : f'{RUN_NAME}'}        \n",
    "    )"
   ]
  },
  {
   "cell_type": "code",
   "execution_count": 42,
   "id": "f6403f1d-c1a7-44a4-89ab-4ce322ac6ebf",
   "metadata": {},
   "outputs": [
    {
     "name": "stdout",
     "output_type": "stream",
     "text": [
      "Review the model in the Vertex AI Model Registry:\n",
      "https://console.cloud.google.com/vertex-ai/locations/us-central1/models/model_04_04?project=fifth-sprite-402605\n"
     ]
    }
   ],
   "source": [
    "print(f'Review the model in the Vertex AI Model Registry:\\nhttps://console.cloud.google.com/vertex-ai/locations/{REGION}/models/{model.name}?project={PROJECT_ID}')"
   ]
  },
  {
   "cell_type": "markdown",
   "id": "75b4736b-95af-4b12-8aa2-a9faecfb7ee1",
   "metadata": {},
   "source": [
    "### Vertex AI Experiment Update and Review"
   ]
  },
  {
   "cell_type": "code",
   "execution_count": 43,
   "id": "2b0c14d4-6296-46c8-b6e6-6e7c96d657a6",
   "metadata": {},
   "outputs": [],
   "source": [
    "expRun.log_params({\n",
    "    'model.uri': model.uri,\n",
    "    'model.display_name': model.display_name,\n",
    "    'model.name': model.name,\n",
    "    'model.resource_name': model.resource_name,\n",
    "    'model.version_id': model.version_id,\n",
    "    'model.versioned_resource_name': model.versioned_resource_name\n",
    "})"
   ]
  },
  {
   "cell_type": "markdown",
   "id": "e4a88b8c-167b-4949-b466-1fa74ca8688e",
   "metadata": {},
   "source": [
    "Complete the experiment run:"
   ]
  },
  {
   "cell_type": "code",
   "execution_count": 44,
   "id": "2743ec88-6167-43eb-a85b-d7d9e276d27f",
   "metadata": {},
   "outputs": [],
   "source": [
    "expRun.update_state(state = aiplatform.gapic.Execution.State.COMPLETE)"
   ]
  },
  {
   "cell_type": "markdown",
   "id": "9e2ca309-1192-4fba-89ce-ea9a9357da03",
   "metadata": {},
   "source": [
    "Retrieve the experiment:"
   ]
  },
  {
   "cell_type": "code",
   "execution_count": 45,
   "id": "407f5500-ff68-4fd1-8d45-43676ea1ed1e",
   "metadata": {},
   "outputs": [],
   "source": [
    "exp = aiplatform.Experiment(experiment_name = EXPERIMENT_NAME)"
   ]
  },
  {
   "cell_type": "code",
   "execution_count": 46,
   "id": "9526f9ed-152b-425c-922e-48be4fd571bb",
   "metadata": {},
   "outputs": [
    {
     "data": {
      "text/html": [
       "<div>\n",
       "<style scoped>\n",
       "    .dataframe tbody tr th:only-of-type {\n",
       "        vertical-align: middle;\n",
       "    }\n",
       "\n",
       "    .dataframe tbody tr th {\n",
       "        vertical-align: top;\n",
       "    }\n",
       "\n",
       "    .dataframe thead th {\n",
       "        text-align: right;\n",
       "    }\n",
       "</style>\n",
       "<table border=\"1\" class=\"dataframe\">\n",
       "  <thead>\n",
       "    <tr style=\"text-align: right;\">\n",
       "      <th></th>\n",
       "      <th>experiment_name</th>\n",
       "      <th>run_name</th>\n",
       "      <th>run_type</th>\n",
       "      <th>state</th>\n",
       "      <th>param.var_split</th>\n",
       "      <th>param.series</th>\n",
       "      <th>param.model.resource_name</th>\n",
       "      <th>param.model.version_id</th>\n",
       "      <th>param.model.display_name</th>\n",
       "      <th>param.var_target</th>\n",
       "      <th>...</th>\n",
       "      <th>metric.test_roc_auc</th>\n",
       "      <th>metric.training_accuracy</th>\n",
       "      <th>metric.test_recall</th>\n",
       "      <th>metric.validation_recall</th>\n",
       "      <th>metric.training_precision</th>\n",
       "      <th>metric.validation_roc_auc</th>\n",
       "      <th>metric.test_accuracy</th>\n",
       "      <th>metric.training_recall</th>\n",
       "      <th>metric.validation_accuracy</th>\n",
       "      <th>metric.test_precision</th>\n",
       "    </tr>\n",
       "  </thead>\n",
       "  <tbody>\n",
       "    <tr>\n",
       "      <th>0</th>\n",
       "      <td>experiment-04-04-sklearn-classification-logist...</td>\n",
       "      <td>run-20231023050012</td>\n",
       "      <td>system.ExperimentRun</td>\n",
       "      <td>COMPLETE</td>\n",
       "      <td>splits</td>\n",
       "      <td>04</td>\n",
       "      <td>projects/117917517031/locations/us-central1/mo...</td>\n",
       "      <td>1</td>\n",
       "      <td>04_04</td>\n",
       "      <td>Class</td>\n",
       "      <td>...</td>\n",
       "      <td>0.801672</td>\n",
       "      <td>0.999244</td>\n",
       "      <td>0.603448</td>\n",
       "      <td>0.666667</td>\n",
       "      <td>0.884892</td>\n",
       "      <td>0.833193</td>\n",
       "      <td>0.99909</td>\n",
       "      <td>0.637306</td>\n",
       "      <td>0.999162</td>\n",
       "      <td>0.921053</td>\n",
       "    </tr>\n",
       "  </tbody>\n",
       "</table>\n",
       "<p>1 rows × 32 columns</p>\n",
       "</div>"
      ],
      "text/plain": [
       "                                     experiment_name            run_name  \\\n",
       "0  experiment-04-04-sklearn-classification-logist...  run-20231023050012   \n",
       "\n",
       "               run_type     state param.var_split param.series  \\\n",
       "0  system.ExperimentRun  COMPLETE          splits           04   \n",
       "\n",
       "                           param.model.resource_name param.model.version_id  \\\n",
       "0  projects/117917517031/locations/us-central1/mo...                      1   \n",
       "\n",
       "  param.model.display_name param.var_target  ... metric.test_roc_auc  \\\n",
       "0                    04_04            Class  ...            0.801672   \n",
       "\n",
       "  metric.training_accuracy metric.test_recall metric.validation_recall  \\\n",
       "0                 0.999244           0.603448                 0.666667   \n",
       "\n",
       "  metric.training_precision metric.validation_roc_auc metric.test_accuracy  \\\n",
       "0                  0.884892                  0.833193              0.99909   \n",
       "\n",
       "   metric.training_recall metric.validation_accuracy metric.test_precision  \n",
       "0                0.637306                   0.999162              0.921053  \n",
       "\n",
       "[1 rows x 32 columns]"
      ]
     },
     "execution_count": 46,
     "metadata": {},
     "output_type": "execute_result"
    }
   ],
   "source": [
    "exp.get_data_frame()"
   ]
  },
  {
   "cell_type": "markdown",
   "id": "ecde5460-a1fe-447d-a680-565202578a5b",
   "metadata": {},
   "source": [
    "### Review Experiment and Run in Console"
   ]
  },
  {
   "cell_type": "code",
   "execution_count": 47,
   "id": "dd7d12f5-cc68-4503-83a4-feeb3883bd46",
   "metadata": {},
   "outputs": [
    {
     "name": "stdout",
     "output_type": "stream",
     "text": [
      "Review The Experiment in the Console:\n",
      "https://console.cloud.google.com/vertex-ai/locations/us-central1/experiments/experiment-04-04-sklearn-classification-logistic-regression?project=fifth-sprite-402605\n"
     ]
    }
   ],
   "source": [
    "print(f'Review The Experiment in the Console:\\nhttps://console.cloud.google.com/vertex-ai/locations/{REGION}/experiments/{EXPERIMENT_NAME}?project={PROJECT_ID}')"
   ]
  },
  {
   "cell_type": "code",
   "execution_count": 48,
   "id": "69e912f4-e2ef-496b-8e8e-e3c1dc25a289",
   "metadata": {},
   "outputs": [
    {
     "name": "stdout",
     "output_type": "stream",
     "text": [
      "Review The Experiment Run in the Console:\n",
      "https://console.cloud.google.com/vertex-ai/locations/us-central1/experiments/experiment-04-04-sklearn-classification-logistic-regression/runs/experiment-04-04-sklearn-classification-logistic-regression-run-20231023050012?project=fifth-sprite-402605\n"
     ]
    }
   ],
   "source": [
    "print(f'Review The Experiment Run in the Console:\\nhttps://console.cloud.google.com/vertex-ai/locations/{REGION}/experiments/{EXPERIMENT_NAME}/runs/{EXPERIMENT_NAME}-{RUN_NAME}?project={PROJECT_ID}')"
   ]
  },
  {
   "cell_type": "markdown",
   "id": "28db8ac4-ab76-4efc-88ba-cba8238dd74b",
   "metadata": {},
   "source": [
    "### Compare This Run Using Experiments"
   ]
  },
  {
   "cell_type": "markdown",
   "id": "aba14c20-b8bc-4635-8e78-0b9c4fdac7ae",
   "metadata": {},
   "source": [
    "Get a list of all experiments in this project:"
   ]
  },
  {
   "cell_type": "code",
   "execution_count": 49,
   "id": "bca52834-edfd-489d-b1de-d0b31a90989b",
   "metadata": {},
   "outputs": [],
   "source": [
    "experiments = aiplatform.Experiment.list()"
   ]
  },
  {
   "cell_type": "markdown",
   "id": "2872ad66-f69d-4b2d-a244-d3bd9e7dcf55",
   "metadata": {},
   "source": [
    "Remove experiments not in the SERIES:"
   ]
  },
  {
   "cell_type": "code",
   "execution_count": 50,
   "id": "7d904530-ec47-431d-83a7-fe0b4571ef12",
   "metadata": {},
   "outputs": [],
   "source": [
    "experiments = [e for e in experiments if e.name.split('-')[0:2] == ['experiment', SERIES]]"
   ]
  },
  {
   "cell_type": "markdown",
   "id": "b22a8a36-b40a-4e2a-88fa-e5200c548e20",
   "metadata": {},
   "source": [
    "Combine the runs from all experiments in SERIES into a single dataframe:"
   ]
  },
  {
   "cell_type": "code",
   "execution_count": 51,
   "id": "1337a369-efeb-4d25-9c77-f5945ae0e247",
   "metadata": {},
   "outputs": [
    {
     "name": "stdout",
     "output_type": "stream",
     "text": [
      "experiment-04-04-sklearn-classification-logistic-regression\n"
     ]
    }
   ],
   "source": [
    "results = []\n",
    "for experiment in experiments:\n",
    "        results.append(experiment.get_data_frame())\n",
    "        print(experiment.name)\n",
    "results = pd.concat(results)"
   ]
  },
  {
   "cell_type": "markdown",
   "id": "4a9b6ca4-14a5-4577-8406-e35b38dfa50d",
   "metadata": {},
   "source": [
    "Create ranks for models within experiment and across the entire SERIES:"
   ]
  },
  {
   "cell_type": "code",
   "execution_count": 52,
   "id": "e2a81e10-7e4d-490e-bb16-15a2067775ab",
   "metadata": {},
   "outputs": [
    {
     "data": {
      "text/html": [
       "<div>\n",
       "<style scoped>\n",
       "    .dataframe tbody tr th:only-of-type {\n",
       "        vertical-align: middle;\n",
       "    }\n",
       "\n",
       "    .dataframe tbody tr th {\n",
       "        vertical-align: top;\n",
       "    }\n",
       "\n",
       "    .dataframe thead th {\n",
       "        text-align: right;\n",
       "    }\n",
       "</style>\n",
       "<table border=\"1\" class=\"dataframe\">\n",
       "  <thead>\n",
       "    <tr style=\"text-align: right;\">\n",
       "      <th></th>\n",
       "      <th>experiment_name</th>\n",
       "      <th>run_name</th>\n",
       "      <th>param.model.display_name</th>\n",
       "      <th>param.model.version_id</th>\n",
       "      <th>metric.test_roc_auc</th>\n",
       "      <th>series_rank</th>\n",
       "      <th>experiment_rank</th>\n",
       "    </tr>\n",
       "  </thead>\n",
       "  <tbody>\n",
       "    <tr>\n",
       "      <th>0</th>\n",
       "      <td>experiment-04-04-sklearn-classification-logist...</td>\n",
       "      <td>run-20231023050012</td>\n",
       "      <td>04_04</td>\n",
       "      <td>1</td>\n",
       "      <td>0.801672</td>\n",
       "      <td>1.0</td>\n",
       "      <td>1.0</td>\n",
       "    </tr>\n",
       "  </tbody>\n",
       "</table>\n",
       "</div>"
      ],
      "text/plain": [
       "                                     experiment_name            run_name  \\\n",
       "0  experiment-04-04-sklearn-classification-logist...  run-20231023050012   \n",
       "\n",
       "  param.model.display_name param.model.version_id  metric.test_roc_auc  \\\n",
       "0                    04_04                      1             0.801672   \n",
       "\n",
       "   series_rank  experiment_rank  \n",
       "0          1.0              1.0  "
      ]
     },
     "execution_count": 52,
     "metadata": {},
     "output_type": "execute_result"
    }
   ],
   "source": [
    "def ranker(metric = 'metric.test_roc_auc'):\n",
    "    ranks = results[['experiment_name', 'run_name', 'param.model.display_name', 'param.model.version_id', metric]].copy().reset_index(drop = True)\n",
    "    ranks['series_rank'] = ranks[metric].rank(method = 'dense', ascending = False)\n",
    "    ranks['experiment_rank'] = ranks.groupby('experiment_name')[metric].rank(method = 'dense', ascending = False)\n",
    "    return ranks.sort_values(by = ['experiment_name', 'run_name'])\n",
    "    \n",
    "ranks = ranker('metric.test_roc_auc')\n",
    "ranks"
   ]
  },
  {
   "cell_type": "code",
   "execution_count": 53,
   "id": "e352c555-ab9a-458a-be53-75e6e609346c",
   "metadata": {},
   "outputs": [
    {
     "data": {
      "text/html": [
       "<div>\n",
       "<style scoped>\n",
       "    .dataframe tbody tr th:only-of-type {\n",
       "        vertical-align: middle;\n",
       "    }\n",
       "\n",
       "    .dataframe tbody tr th {\n",
       "        vertical-align: top;\n",
       "    }\n",
       "\n",
       "    .dataframe thead th {\n",
       "        text-align: right;\n",
       "    }\n",
       "</style>\n",
       "<table border=\"1\" class=\"dataframe\">\n",
       "  <thead>\n",
       "    <tr style=\"text-align: right;\">\n",
       "      <th></th>\n",
       "      <th>experiment_name</th>\n",
       "      <th>run_name</th>\n",
       "      <th>param.model.display_name</th>\n",
       "      <th>param.model.version_id</th>\n",
       "      <th>metric.test_roc_auc</th>\n",
       "      <th>series_rank</th>\n",
       "      <th>experiment_rank</th>\n",
       "    </tr>\n",
       "  </thead>\n",
       "  <tbody>\n",
       "    <tr>\n",
       "      <th>0</th>\n",
       "      <td>experiment-04-04-sklearn-classification-logist...</td>\n",
       "      <td>run-20231023050012</td>\n",
       "      <td>04_04</td>\n",
       "      <td>1</td>\n",
       "      <td>0.801672</td>\n",
       "      <td>1.0</td>\n",
       "      <td>1.0</td>\n",
       "    </tr>\n",
       "  </tbody>\n",
       "</table>\n",
       "</div>"
      ],
      "text/plain": [
       "                                     experiment_name            run_name  \\\n",
       "0  experiment-04-04-sklearn-classification-logist...  run-20231023050012   \n",
       "\n",
       "  param.model.display_name param.model.version_id  metric.test_roc_auc  \\\n",
       "0                    04_04                      1             0.801672   \n",
       "\n",
       "   series_rank  experiment_rank  \n",
       "0          1.0              1.0  "
      ]
     },
     "execution_count": 53,
     "metadata": {},
     "output_type": "execute_result"
    }
   ],
   "source": [
    "current_rank = ranks.loc[(ranks['param.model.display_name'] == model.display_name) & (ranks['param.model.version_id'] == model.version_id)]\n",
    "current_rank"
   ]
  },
  {
   "cell_type": "code",
   "execution_count": 54,
   "id": "298967cb-9a26-44cc-9ddc-4485a91cb599",
   "metadata": {},
   "outputs": [
    {
     "name": "stdout",
     "output_type": "stream",
     "text": [
      "The current model is ranked 1.0 within this experiment and 1.0 across this series.\n"
     ]
    }
   ],
   "source": [
    "print(f\"The current model is ranked {current_rank['experiment_rank'].iloc[0]} within this experiment and {current_rank['series_rank'].iloc[0]} across this series.\")"
   ]
  },
  {
   "cell_type": "markdown",
   "id": "dfd12b79",
   "metadata": {},
   "source": [
    "### Create An Endpoint"
   ]
  },
  {
   "cell_type": "code",
   "execution_count": 55,
   "id": "2cc28d98-b525-4385-9b95-489bf574f967",
   "metadata": {},
   "outputs": [
    {
     "name": "stdout",
     "output_type": "stream",
     "text": [
      "Creating Endpoint\n",
      "Create Endpoint backing LRO: projects/117917517031/locations/us-central1/endpoints/6615033587630604288/operations/7373488184623104000\n",
      "Endpoint created. Resource name: projects/117917517031/locations/us-central1/endpoints/6615033587630604288\n",
      "To use this Endpoint in another session:\n",
      "endpoint = aiplatform.Endpoint('projects/117917517031/locations/us-central1/endpoints/6615033587630604288')\n",
      "Endpoint Created: projects/117917517031/locations/us-central1/endpoints/6615033587630604288\n",
      "Review the Endpoint in the Console:\n",
      "https://console.cloud.google.com/vertex-ai/locations/us-central1/endpoints/6615033587630604288?project=fifth-sprite-402605\n"
     ]
    }
   ],
   "source": [
    "endpoints = aiplatform.Endpoint.list(filter = f\"labels.series={SERIES}\")\n",
    "if endpoints:\n",
    "    endpoint = endpoints[0]\n",
    "    print(f\"Endpoint Exists: {endpoints[0].resource_name}\")\n",
    "else:\n",
    "    endpoint = aiplatform.Endpoint.create(\n",
    "        display_name = f\"{SERIES}\",\n",
    "        labels = {'series' : f\"{SERIES}\"}    \n",
    "    )\n",
    "    print(f\"Endpoint Created: {endpoint.resource_name}\")\n",
    "    \n",
    "print(f'Review the Endpoint in the Console:\\nhttps://console.cloud.google.com/vertex-ai/locations/{REGION}/endpoints/{endpoint.name}?project={PROJECT_ID}')"
   ]
  },
  {
   "cell_type": "code",
   "execution_count": 64,
   "id": "0a538bf0",
   "metadata": {},
   "outputs": [
    {
     "data": {
      "text/plain": [
       "'04'"
      ]
     },
     "execution_count": 64,
     "metadata": {},
     "output_type": "execute_result"
    }
   ],
   "source": [
    "endpoint.display_name"
   ]
  },
  {
   "cell_type": "code",
   "execution_count": 65,
   "id": "235f1c20-4ccc-40c5-8492-1670f8a6367a",
   "metadata": {},
   "outputs": [
    {
     "data": {
      "text/plain": [
       "{'1097816180845969408': 100}"
      ]
     },
     "execution_count": 65,
     "metadata": {},
     "output_type": "execute_result"
    }
   ],
   "source": [
    "endpoint.traffic_split"
   ]
  },
  {
   "cell_type": "code",
   "execution_count": 66,
   "id": "d3615134-0dec-45b1-9797-8293b08a74cf",
   "metadata": {},
   "outputs": [
    {
     "data": {
      "text/plain": [
       "[id: \"1097816180845969408\"\n",
       " model: \"projects/117917517031/locations/us-central1/models/model_04_04\"\n",
       " display_name: \"04_04\"\n",
       " create_time {\n",
       "   seconds: 1698037800\n",
       "   nanos: 274533000\n",
       " }\n",
       " dedicated_resources {\n",
       "   machine_spec {\n",
       "     machine_type: \"n1-standard-4\"\n",
       "   }\n",
       "   min_replica_count: 1\n",
       "   max_replica_count: 1\n",
       " }\n",
       " model_version_id: \"1\"]"
      ]
     },
     "execution_count": 66,
     "metadata": {},
     "output_type": "execute_result"
    }
   ],
   "source": [
    "deployed_models = endpoint.list_models()\n",
    "deployed_models"
   ]
  },
  {
   "cell_type": "markdown",
   "id": "d580b308-d598-4b4d-9200-46b0b53444ab",
   "metadata": {},
   "source": [
    "### Should This Model Be Deployed?\n",
    "Is it better than the model already deployed on the endpoint?"
   ]
  },
  {
   "cell_type": "code",
   "execution_count": 67,
   "id": "f0830224-8326-4d52-97e4-89bdef0fad82",
   "metadata": {},
   "outputs": [
    {
     "name": "stdout",
     "output_type": "stream",
     "text": [
      "The current model/version is already deployed.\n",
      "The current model is ranked worse (1.0) than a currently deployed model (1.0)\n"
     ]
    }
   ],
   "source": [
    "deploy = False\n",
    "if deployed_models:\n",
    "    for deployed_model in deployed_models:\n",
    "        deployed_rank = ranks.loc[(ranks['param.model.display_name'] == deployed_model.display_name) & (ranks['param.model.version_id'] == deployed_model.model_version_id)]['series_rank'].iloc[0]\n",
    "        model_rank = current_rank['series_rank'].iloc[0]\n",
    "        if deployed_model.display_name == model.display_name and deployed_model.model_version_id == model.version_id:\n",
    "            print(f'The current model/version is already deployed.')\n",
    "            break\n",
    "        elif model_rank <= deployed_rank:\n",
    "            deploy = True\n",
    "            print(f'The current model is ranked better ({model_rank}) than a currently deployed model ({deployed_rank}).')\n",
    "            break\n",
    "    if deploy == False: print(f'The current model is ranked worse ({model_rank}) than a currently deployed model ({deployed_rank})')\n",
    "else: \n",
    "    deploy = True\n",
    "    print('No models currently deployed.')"
   ]
  },
  {
   "cell_type": "markdown",
   "id": "25e49dd0",
   "metadata": {},
   "source": [
    "### Deploy Model To Endpoint"
   ]
  },
  {
   "cell_type": "code",
   "execution_count": 68,
   "id": "e739bc1c",
   "metadata": {},
   "outputs": [
    {
     "name": "stdout",
     "output_type": "stream",
     "text": [
      "Not deploying - current model is worse (1.0) than the currently deployed model (1.0)\n"
     ]
    }
   ],
   "source": [
    "if deploy:\n",
    "    print(f'Deploying model with 100% of traffic...')\n",
    "    endpoint.deploy(\n",
    "        model = model,\n",
    "        deployed_model_display_name = model.display_name,\n",
    "        traffic_percentage = 100,\n",
    "        machine_type = DEPLOY_COMPUTE,\n",
    "        min_replica_count = 1,\n",
    "        max_replica_count = 1\n",
    "    )\n",
    "else: print(f'Not deploying - current model is worse ({model_rank}) than the currently deployed model ({deployed_rank})')"
   ]
  },
  {
   "cell_type": "markdown",
   "id": "e758bde2-e521-4570-a5c7-44a1bda0eac0",
   "metadata": {},
   "source": [
    "### Remove Deployed Models without Traffic"
   ]
  },
  {
   "cell_type": "code",
   "execution_count": 69,
   "id": "00aa9466-6d9a-41cf-9bfa-7e8997572583",
   "metadata": {},
   "outputs": [
    {
     "name": "stdout",
     "output_type": "stream",
     "text": [
      "Model 04_04 with version 1 has traffic = 100\n"
     ]
    }
   ],
   "source": [
    "for deployed_model in endpoint.list_models():\n",
    "    if deployed_model.id in endpoint.traffic_split:\n",
    "        print(f\"Model {deployed_model.display_name} with version {deployed_model.model_version_id} has traffic = {endpoint.traffic_split[deployed_model.id]}\")\n",
    "    else:\n",
    "        endpoint.undeploy(deployed_model_id = deployed_model.id)\n",
    "        print(f\"Undeploying {deployed_model.display_name} with version {deployed_model.model_version_id} because it has no traffic.\")"
   ]
  },
  {
   "cell_type": "code",
   "execution_count": 70,
   "id": "bacf24f6-c02e-409a-82b4-13c6e4a17dd1",
   "metadata": {},
   "outputs": [
    {
     "data": {
      "text/plain": [
       "{'1097816180845969408': 100}"
      ]
     },
     "execution_count": 70,
     "metadata": {},
     "output_type": "execute_result"
    }
   ],
   "source": [
    "endpoint.traffic_split"
   ]
  },
  {
   "cell_type": "code",
   "execution_count": 71,
   "id": "7e416491-c909-45d3-8c79-a74dcafaa4f9",
   "metadata": {},
   "outputs": [
    {
     "data": {
      "text/plain": [
       "[id: \"1097816180845969408\"\n",
       " model: \"projects/117917517031/locations/us-central1/models/model_04_04\"\n",
       " display_name: \"04_04\"\n",
       " create_time {\n",
       "   seconds: 1698037800\n",
       "   nanos: 274533000\n",
       " }\n",
       " dedicated_resources {\n",
       "   machine_spec {\n",
       "     machine_type: \"n1-standard-4\"\n",
       "   }\n",
       "   min_replica_count: 1\n",
       "   max_replica_count: 1\n",
       " }\n",
       " model_version_id: \"1\"]"
      ]
     },
     "execution_count": 71,
     "metadata": {},
     "output_type": "execute_result"
    }
   ],
   "source": [
    "endpoint.list_models()"
   ]
  },
  {
   "cell_type": "markdown",
   "id": "a58790ad",
   "metadata": {},
   "source": [
    "---\n",
    "## Prediction"
   ]
  },
  {
   "cell_type": "markdown",
   "id": "342a01eb",
   "metadata": {},
   "source": [
    "### Prepare a record for prediction: instance list"
   ]
  },
  {
   "cell_type": "code",
   "execution_count": 72,
   "id": "617e1e9f",
   "metadata": {},
   "outputs": [],
   "source": [
    "instances = [X_test.to_dict(orient='split')['data'][0]]"
   ]
  },
  {
   "cell_type": "code",
   "execution_count": 73,
   "id": "3275175c-bf5f-4f03-b3cd-f5c2b4b840a3",
   "metadata": {},
   "outputs": [
    {
     "data": {
      "text/plain": [
       "[129834,\n",
       " -0.340232044768614,\n",
       " 2.50289309622058,\n",
       " -2.12333626200597,\n",
       " 3.2742903170319404,\n",
       " 2.7812380029133497,\n",
       " 0.749163902015366,\n",
       " 0.999458966494039,\n",
       " 0.7349268096797199,\n",
       " -2.16920796632578,\n",
       " -1.3960327481938501,\n",
       " 0.30931402685906395,\n",
       " -0.9895730577869419,\n",
       " -0.423981971785906,\n",
       " -3.90067839426633,\n",
       " -0.536574827339307,\n",
       " 1.0393406110485301,\n",
       " 3.87122368852666,\n",
       " -0.0464031154773409,\n",
       " -3.28702948675253,\n",
       " -0.34227725879396403,\n",
       " -0.0871335919587312,\n",
       " -0.228321803031733,\n",
       " -0.0674131563149037,\n",
       " -0.7622463272802878,\n",
       " -0.17099567610229902,\n",
       " 0.0191567844693617,\n",
       " -0.0406701348285203,\n",
       " 0.023008467461218998,\n",
       " 0.0]"
      ]
     },
     "execution_count": 73,
     "metadata": {},
     "output_type": "execute_result"
    }
   ],
   "source": [
    "instances[0]"
   ]
  },
  {
   "cell_type": "markdown",
   "id": "81d5eff9",
   "metadata": {},
   "source": [
    "### Get Predictions: Python Client"
   ]
  },
  {
   "cell_type": "code",
   "execution_count": 74,
   "id": "06cb59fe",
   "metadata": {},
   "outputs": [
    {
     "data": {
      "text/plain": [
       "Prediction(predictions=[0.0], deployed_model_id='1097816180845969408', model_version_id='1', model_resource_name='projects/117917517031/locations/us-central1/models/model_04_04', explanations=None)"
      ]
     },
     "execution_count": 74,
     "metadata": {},
     "output_type": "execute_result"
    }
   ],
   "source": [
    "prediction = endpoint.predict(instances=instances)\n",
    "prediction"
   ]
  },
  {
   "cell_type": "code",
   "execution_count": 75,
   "id": "3b22b4cb",
   "metadata": {},
   "outputs": [
    {
     "data": {
      "text/plain": [
       "0.0"
      ]
     },
     "execution_count": 75,
     "metadata": {},
     "output_type": "execute_result"
    }
   ],
   "source": [
    "prediction.predictions[0]"
   ]
  },
  {
   "cell_type": "code",
   "execution_count": 76,
   "id": "b64e3283",
   "metadata": {},
   "outputs": [
    {
     "data": {
      "text/plain": [
       "0"
      ]
     },
     "execution_count": 76,
     "metadata": {},
     "output_type": "execute_result"
    }
   ],
   "source": [
    "np.argmax(prediction.predictions[0])"
   ]
  },
  {
   "cell_type": "markdown",
   "id": "8c2a8676",
   "metadata": {},
   "source": [
    "### Get Predictions: REST"
   ]
  },
  {
   "cell_type": "code",
   "execution_count": 81,
   "id": "5f97f30c",
   "metadata": {},
   "outputs": [],
   "source": [
    "with open(f'{DIR}/request.json','w') as file:\n",
    "    file.write(json.dumps({\"instances\": instances}))"
   ]
  },
  {
   "cell_type": "code",
   "execution_count": 82,
   "id": "362dd5c2",
   "metadata": {},
   "outputs": [
    {
     "name": "stdout",
     "output_type": "stream",
     "text": [
      "{\n",
      "  \"predictions\": [\n",
      "    0\n",
      "  ],\n",
      "  \"deployedModelId\": \"1097816180845969408\",\n",
      "  \"model\": \"projects/117917517031/locations/us-central1/models/model_04_04\",\n",
      "  \"modelDisplayName\": \"04_04\",\n",
      "  \"modelVersionId\": \"1\"\n",
      "}\n"
     ]
    }
   ],
   "source": [
    "!curl -X POST \\\n",
    "-H \"Authorization: Bearer \"$(gcloud auth application-default print-access-token) \\\n",
    "-H \"Content-Type: application/json; charset=utf-8\" \\\n",
    "-d @{DIR}/request.json \\\n",
    "https://{REGION}-aiplatform.googleapis.com/v1/{endpoint.resource_name}:predict"
   ]
  },
  {
   "cell_type": "markdown",
   "id": "74bd7c47",
   "metadata": {},
   "source": [
    "### Get Predictions: gcloud (CLI)"
   ]
  },
  {
   "cell_type": "code",
   "execution_count": 83,
   "id": "d1e56e39",
   "metadata": {},
   "outputs": [
    {
     "name": "stdout",
     "output_type": "stream",
     "text": [
      "Using endpoint [https://us-central1-prediction-aiplatform.googleapis.com/]\n",
      "[0]\n"
     ]
    }
   ],
   "source": [
    "!gcloud beta ai endpoints predict {endpoint.name.rsplit('/',1)[-1]} --region={REGION} --json-request={DIR}/request.json"
   ]
  }
 ],
 "metadata": {
  "environment": {
   "kernel": "python3",
   "name": "tf2-gpu.2-11.m104",
   "type": "gcloud",
   "uri": "gcr.io/deeplearning-platform-release/tf2-gpu.2-11:m104"
  },
  "kernelspec": {
   "display_name": "Python 3 (ipykernel)",
   "language": "python",
   "name": "python3"
  },
  "language_info": {
   "codemirror_mode": {
    "name": "ipython",
    "version": 3
   },
   "file_extension": ".py",
   "mimetype": "text/x-python",
   "name": "python",
   "nbconvert_exporter": "python",
   "pygments_lexer": "ipython3",
   "version": "3.10.12"
  }
 },
 "nbformat": 4,
 "nbformat_minor": 5
}
