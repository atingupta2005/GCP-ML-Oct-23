{
 "cells": [
  {
   "cell_type": "markdown",
   "id": "b3ccbadc",
   "metadata": {},
   "source": [
    "# 03a - BigQuery ML (BQML) - Logistic Regression For Classification\n",
    "\n",
    "In this notebook, BigQuery ML (BQML) is used to create a logistic regression model.\n",
    "\n",
    "**Logistic Regression**\n",
    "\n",
    "Logistic Regression is a statistical model for the probability, `p`, of a class.  This is accomplished by fitting a linear combination of the features to the log-odds of the class.  The log-odds is called the logit and is the logarithm ($ln$) of the odds ($\\frac{p}{1-p}$).  This is a supervised learning approach where the labels, classes, are learned as function of the features.  While the model is estimating the probability of a class `p` which might be considered regression, the probabilities are used to assign a class which is classification.\n",
    "\n",
    "Reference:\n",
    "- [Logistic Regression](https://en.wikipedia.org/wiki/Logistic_regression)\n",
    "- [Supervised Learning](https://en.wikipedia.org/wiki/Supervised_learning)\n",
    "\n",
    "**BigQuery ML (BQML)**\n",
    "\n",
    "BigQuery has a number of machine learning algorithms callable directly from SQL.  This gives the convenience of using the common language of `SQL` with statments like `CREATE MODEL …`.  The library of available models is constantly growing and covers supervised, unsupervised, and time series methods as well as functions for evaluation - even anomaly detection from results, explainability and hyperparameter tuning.  A great starting point for seeing the scope of available methods is the [user journey for models](https://cloud.google.com/bigquery-ml/docs/reference/standard-sql/bigqueryml-syntax-e2e-journey).\n",
    "\n",
    "**Prerequisites:**\n",
    "- [01 - BigQuery - Table Data Source](../01%20-%20Data%20Sources/01%20-%20BigQuery%20-%20Table%20Data%20Source.ipynb)\n",
    "\n",
    "**Resources:**\n",
    "- [BigQuery ML (BQML) Overview](https://cloud.google.com/bigquery-ml/docs/introduction)\n",
    "- [Overview of BQML methods and workflows](https://cloud.google.com/bigquery-ml/docs/reference/standard-sql/bigqueryml-syntax-e2e-journey)\n",
    "- [BigQuery](https://cloud.google.com/bigquery)\n",
    "    - [Documentation:](https://cloud.google.com/bigquery/docs/query-overview)\n",
    "    - [API:](https://cloud.google.com/bigquery/docs/reference/libraries-overview)\n",
    "        - [Clients](https://cloud.google.com/bigquery/docs/reference/libraries)\n",
    "            - [Python SDK:](https://github.com/googleapis/python-bigquery)\n",
    "            - [Python Library Reference:](https://cloud.google.com/python/docs/reference/bigquery/latest)\n",
    "- [Vertex AI](https://cloud.google.com/vertex-ai)\n",
    "    - [Documentation:](https://cloud.google.com/vertex-ai/docs/start/introduction-unified-platform)\n",
    "    - [API:](https://cloud.google.com/vertex-ai/docs/reference)\n",
    "        - [Clients:](https://cloud.google.com/vertex-ai/docs/start/client-libraries)\n",
    "            - [Python SDK:](https://github.com/googleapis/python-aiplatform)\n",
    "            - [Python Library Reference:](https://cloud.google.com/python/docs/reference/aiplatform/latest)\n",
    "\n",
    "**Conceptual Flow & Workflow**\n",
    "<p align=\"center\">\n",
    "  <img alt=\"Conceptual Flow\" src=\"../architectures/slides/03a_arch.png\" width=\"45%\">\n",
    "&nbsp; &nbsp; &nbsp; &nbsp;\n",
    "  <img alt=\"Workflow\" src=\"../architectures/slides/03a_console.png\" width=\"45%\">\n",
    "</p>"
   ]
  },
  {
   "cell_type": "markdown",
   "id": "d1013b27-79f6-4603-8bb6-5633b3e48eb6",
   "metadata": {
    "id": "od_UkDpvRmgD"
   },
   "source": [
    "---\n",
    "## Colab Setup\n",
    "\n",
    "To run this notebook in Colab click [![Open In Colab](https://colab.research.google.com/assets/colab-badge.svg)](https://colab.research.google.com/github/statmike/vertex-ai-mlops/blob/main/03%20-%20BigQuery%20ML%20(BQML)/03a%20-%20BQML%20Logistic%20Regression.ipynb) and run the cells in this section.  Otherwise, skip this section.\n",
    "\n",
    "This cell will authenticate to GCP (follow prompts in the popup)."
   ]
  },
  {
   "cell_type": "code",
   "execution_count": 1,
   "id": "0b9a9b53-6bbd-4b3b-a66b-1c6392a0c491",
   "metadata": {
    "executionInfo": {
     "elapsed": 195,
     "status": "ok",
     "timestamp": 1683726184843,
     "user": {
      "displayName": "Mike Henderson",
      "userId": "07691629187611687318"
     },
     "user_tz": 240
    },
    "id": "8UO9FnqyKBlF"
   },
   "outputs": [],
   "source": [
    "PROJECT_ID = 'learned-pottery-399802' # replace with project ID"
   ]
  },
  {
   "cell_type": "code",
   "execution_count": 2,
   "id": "36ea34cc-1047-42b5-91af-d44928754721",
   "metadata": {
    "colab": {
     "base_uri": "https://localhost:8080/"
    },
    "executionInfo": {
     "elapsed": 68869,
     "status": "ok",
     "timestamp": 1683726253709,
     "user": {
      "displayName": "Mike Henderson",
      "userId": "07691629187611687318"
     },
     "user_tz": 240
    },
    "id": "N98-KK7LRkjm",
    "outputId": "09ec5008-0def-4e1a-c349-c598ee752f78"
   },
   "outputs": [],
   "source": [
    "try:\n",
    "    import google.colab\n",
    "    from google.colab import auth\n",
    "    auth.authenticate_user()\n",
    "    !gcloud config set project {PROJECT_ID}\n",
    "    \n",
    "    #installs\n",
    "    # Vertex AI GenAI Studio SDK - Update the aiplatform SDK\n",
    "    !pip install google.cloud.aiplatform -U -q --user\n",
    "    !pip install --upgrade gcsfs -U -q --user\n",
    "    !pip install --upgrade google-cloud-bigquery -U -q --user\n",
    "    !pip install --upgrade google-cloud-bigquery-storage -U -q --user\n",
    "    \n",
    "    # Enable Vertex AI For This Project\n",
    "    !gcloud services enable aiplatform.googleapis.com\n",
    "\n",
    "    # restart runtime\n",
    "    import IPython\n",
    "    app = IPython.Application.instance()\n",
    "    app.kernel.do_shutdown(True)    \n",
    "except Exception:\n",
    "    pass"
   ]
  },
  {
   "cell_type": "markdown",
   "id": "9efb7249",
   "metadata": {},
   "source": [
    "---\n",
    "## Setup"
   ]
  },
  {
   "cell_type": "markdown",
   "id": "5120acf8",
   "metadata": {},
   "source": [
    "inputs:"
   ]
  },
  {
   "cell_type": "code",
   "execution_count": 3,
   "id": "e835bf74-e1c7-4802-9744-c7c41936d3f8",
   "metadata": {},
   "outputs": [
    {
     "data": {
      "text/plain": [
       "'learned-pottery-399802'"
      ]
     },
     "execution_count": 3,
     "metadata": {},
     "output_type": "execute_result"
    }
   ],
   "source": [
    "project = !gcloud config get-value project\n",
    "PROJECT_ID = project[0]\n",
    "PROJECT_ID"
   ]
  },
  {
   "cell_type": "code",
   "execution_count": 4,
   "id": "d7e73d29",
   "metadata": {},
   "outputs": [],
   "source": [
    "REGION = 'us-central1'\n",
    "EXPERIMENT = 'logistic-regression'\n",
    "SERIES = 'bqml'\n",
    "\n",
    "# source data\n",
    "BQ_PROJECT = PROJECT_ID\n",
    "BQ_DATASET = 'fraud'\n",
    "BQ_TABLE = 'fraud_prepped'\n",
    "\n",
    "# Resources for serving BigQuery Model Exports\n",
    "TF_DEPLOY_IMAGE = 'us-docker.pkg.dev/vertex-ai/prediction/tf2-cpu.2-3:latest'\n",
    "XGB_DEPLOY_IMAGE = 'us-docker.pkg.dev/vertex-ai/prediction/xgboost-cpu.0-82:latest'\n",
    "\n",
    "# Resources for serving BigQuery Model Exports\n",
    "DEPLOY_COMPUTE = 'n1-standard-4'\n",
    "\n",
    "# Model Training\n",
    "VAR_TARGET = 'Class'\n",
    "VAR_OMIT = 'transaction_id' # add more variables to the string with space delimiters"
   ]
  },
  {
   "cell_type": "markdown",
   "id": "4aa71004",
   "metadata": {},
   "source": [
    "packages:"
   ]
  },
  {
   "cell_type": "code",
   "execution_count": 5,
   "id": "4aa7cd23",
   "metadata": {},
   "outputs": [],
   "source": [
    "from google.cloud import bigquery\n",
    "from google.cloud import aiplatform\n",
    "from datetime import datetime\n",
    "import matplotlib.pyplot as plt\n",
    "from sklearn import metrics\n",
    "import numpy as np\n",
    "\n",
    "from google.api import httpbody_pb2\n",
    "import json"
   ]
  },
  {
   "cell_type": "markdown",
   "id": "dbe01073",
   "metadata": {},
   "source": [
    "clients:"
   ]
  },
  {
   "cell_type": "code",
   "execution_count": 6,
   "id": "3baa671e",
   "metadata": {},
   "outputs": [],
   "source": [
    "bq = bigquery.Client(project = PROJECT_ID)\n",
    "aiplatform.init(project = PROJECT_ID, location = REGION)"
   ]
  },
  {
   "cell_type": "markdown",
   "id": "bb3081f4-addd-4ea5-b192-e0649eadd511",
   "metadata": {},
   "source": [
    "parameters:"
   ]
  },
  {
   "cell_type": "code",
   "execution_count": 7,
   "id": "8b9b5149-0f20-4a44-8d5b-debba31c2d17",
   "metadata": {},
   "outputs": [],
   "source": [
    "TIMESTAMP = datetime.now().strftime(\"%Y%m%d%H%M%S\")\n",
    "BUCKET = PROJECT_ID\n",
    "URI = f\"gs://{BUCKET}/{SERIES}/{EXPERIMENT}\"\n",
    "RUN_NAME = f'run-{TIMESTAMP}'\n",
    "\n",
    "BQ_MODEL = f'{SERIES}_{EXPERIMENT}_{TIMESTAMP}'"
   ]
  },
  {
   "cell_type": "markdown",
   "id": "ef28426e-6ee5-4a97-8de2-83a13d2bd6c9",
   "metadata": {},
   "source": [
    "environment:"
   ]
  },
  {
   "cell_type": "code",
   "execution_count": 8,
   "id": "cc2f1b43",
   "metadata": {},
   "outputs": [],
   "source": [
    "DIR = f\"temp/{EXPERIMENT}\"\n",
    "\n",
    "!rm -rf {DIR}\n",
    "!mkdir -p {DIR}"
   ]
  },
  {
   "cell_type": "markdown",
   "id": "df8c0e3d-ae3b-4a4d-bbbe-bb03011b23df",
   "metadata": {},
   "source": [
    "---\n",
    "## Review Data\n",
    "\n",
    "The data source here was prepared in [01 - BigQuery - Table Data Source](../01%20-%20Data%20Sources/01%20-%20BigQuery%20-%20Table%20Data%20Source.ipynb).  In this notebook we will use prepared BigQuery table to build a model with BigQuery ML (BQML).\n",
    "\n",
    "This is a table of 284,807 credit card transactions classified as fradulant or normal in the column `Class`.  In order protect confidentiality, the original features have been transformed using [principle component analysis (PCA)](https://en.wikipedia.org/wiki/Principal_component_analysis) into 28 features named `V1, V2, ... V28` (float).  Two descriptive features are provided without transformation by PCA:\n",
    "- `Time` (integer) is the seconds elapsed between the transaction and the earliest transaction in the table\n",
    "- `Amount` (float) is the value of the transaction\n",
    "\n",
    "The data preparation included added splits for machine learning with a column named `splits` with 80% for training (`TRAIN`), 10% for validation (`VALIDATE`) and 10% for testing (`TEST`).  Additionally, a unique identifier was added to each transaction, `transaction_id`.  "
   ]
  },
  {
   "cell_type": "markdown",
   "id": "3e24d41f-35b9-4f66-b287-3608f02f842d",
   "metadata": {},
   "source": [
    "Review the number of records for each level of Class (VAR_TARGET) for each of the data splits:"
   ]
  },
  {
   "cell_type": "code",
   "execution_count": 9,
   "id": "ff09e056-b0f5-414e-8e82-d4d3c12159c7",
   "metadata": {},
   "outputs": [
    {
     "name": "stdout",
     "output_type": "stream",
     "text": [
      "\n",
      "    SELECT splits, Class, count(*) as n\n",
      "    FROM `learned-pottery-399802.fraud.fraud_prepped`\n",
      "    GROUP BY splits, Class\n",
      "\n"
     ]
    }
   ],
   "source": [
    "query = f\"\"\"\n",
    "    SELECT splits, {VAR_TARGET}, count(*) as n\n",
    "    FROM `{BQ_PROJECT}.{BQ_DATASET}.{BQ_TABLE}`\n",
    "    GROUP BY splits, {VAR_TARGET}\n",
    "\"\"\"\n",
    "print(query)"
   ]
  },
  {
   "cell_type": "code",
   "execution_count": 10,
   "id": "77201e7c-6b76-46fa-be3e-758f0b59641e",
   "metadata": {},
   "outputs": [
    {
     "data": {
      "text/html": [
       "<div>\n",
       "<style scoped>\n",
       "    .dataframe tbody tr th:only-of-type {\n",
       "        vertical-align: middle;\n",
       "    }\n",
       "\n",
       "    .dataframe tbody tr th {\n",
       "        vertical-align: top;\n",
       "    }\n",
       "\n",
       "    .dataframe thead th {\n",
       "        text-align: right;\n",
       "    }\n",
       "</style>\n",
       "<table border=\"1\" class=\"dataframe\">\n",
       "  <thead>\n",
       "    <tr style=\"text-align: right;\">\n",
       "      <th></th>\n",
       "      <th>splits</th>\n",
       "      <th>Class</th>\n",
       "      <th>n</th>\n",
       "    </tr>\n",
       "  </thead>\n",
       "  <tbody>\n",
       "    <tr>\n",
       "      <th>0</th>\n",
       "      <td>TEST</td>\n",
       "      <td>0</td>\n",
       "      <td>28423</td>\n",
       "    </tr>\n",
       "    <tr>\n",
       "      <th>1</th>\n",
       "      <td>TEST</td>\n",
       "      <td>1</td>\n",
       "      <td>45</td>\n",
       "    </tr>\n",
       "    <tr>\n",
       "      <th>2</th>\n",
       "      <td>TRAIN</td>\n",
       "      <td>1</td>\n",
       "      <td>390</td>\n",
       "    </tr>\n",
       "    <tr>\n",
       "      <th>3</th>\n",
       "      <td>TRAIN</td>\n",
       "      <td>0</td>\n",
       "      <td>227657</td>\n",
       "    </tr>\n",
       "    <tr>\n",
       "      <th>4</th>\n",
       "      <td>VALIDATE</td>\n",
       "      <td>0</td>\n",
       "      <td>28235</td>\n",
       "    </tr>\n",
       "    <tr>\n",
       "      <th>5</th>\n",
       "      <td>VALIDATE</td>\n",
       "      <td>1</td>\n",
       "      <td>57</td>\n",
       "    </tr>\n",
       "  </tbody>\n",
       "</table>\n",
       "</div>"
      ],
      "text/plain": [
       "     splits  Class       n\n",
       "0      TEST      0   28423\n",
       "1      TEST      1      45\n",
       "2     TRAIN      1     390\n",
       "3     TRAIN      0  227657\n",
       "4  VALIDATE      0   28235\n",
       "5  VALIDATE      1      57"
      ]
     },
     "execution_count": 10,
     "metadata": {},
     "output_type": "execute_result"
    }
   ],
   "source": [
    "bq.query(query = query).to_dataframe()"
   ]
  },
  {
   "cell_type": "markdown",
   "id": "aed9c61c-3c3c-46a4-b533-4010993b9d41",
   "metadata": {},
   "source": [
    "Further review the balance of the target variable (VAR_TARGET) for each split as a percentage of the split:"
   ]
  },
  {
   "cell_type": "code",
   "execution_count": 11,
   "id": "09b42087-032c-4775-97da-5e074bb4baa7",
   "metadata": {},
   "outputs": [
    {
     "name": "stdout",
     "output_type": "stream",
     "text": [
      "\n",
      "    WITH\n",
      "        COUNTS as (SELECT splits, Class, count(*) as n FROM `learned-pottery-399802.fraud.fraud_prepped` GROUP BY splits, Class)\n",
      "\n",
      "    SELECT *,\n",
      "        SUM(n) OVER() as total,\n",
      "        SAFE_DIVIDE(n, SUM(n) OVER(PARTITION BY Class)) as n_pct_class,\n",
      "        SAFE_DIVIDE(n, SUM(n) OVER(PARTITION BY splits)) as n_pct_split,\n",
      "        SAFE_DIVIDE(SUM(n) OVER(PARTITION BY Class), SUM(n) OVER()) as class_pct_total\n",
      "    FROM COUNTS\n",
      "\n"
     ]
    }
   ],
   "source": [
    "query = f\"\"\"\n",
    "    WITH\n",
    "        COUNTS as (SELECT splits, {VAR_TARGET}, count(*) as n FROM `{BQ_PROJECT}.{BQ_DATASET}.{BQ_TABLE}` GROUP BY splits, {VAR_TARGET})\n",
    "\n",
    "    SELECT *,\n",
    "        SUM(n) OVER() as total,\n",
    "        SAFE_DIVIDE(n, SUM(n) OVER(PARTITION BY {VAR_TARGET})) as n_pct_class,\n",
    "        SAFE_DIVIDE(n, SUM(n) OVER(PARTITION BY splits)) as n_pct_split,\n",
    "        SAFE_DIVIDE(SUM(n) OVER(PARTITION BY {VAR_TARGET}), SUM(n) OVER()) as class_pct_total\n",
    "    FROM COUNTS\n",
    "\"\"\"\n",
    "print(query)"
   ]
  },
  {
   "cell_type": "code",
   "execution_count": 12,
   "id": "28a82539-813d-4e27-a7a7-ad80566a835f",
   "metadata": {},
   "outputs": [
    {
     "data": {
      "text/html": [
       "<div>\n",
       "<style scoped>\n",
       "    .dataframe tbody tr th:only-of-type {\n",
       "        vertical-align: middle;\n",
       "    }\n",
       "\n",
       "    .dataframe tbody tr th {\n",
       "        vertical-align: top;\n",
       "    }\n",
       "\n",
       "    .dataframe thead th {\n",
       "        text-align: right;\n",
       "    }\n",
       "</style>\n",
       "<table border=\"1\" class=\"dataframe\">\n",
       "  <thead>\n",
       "    <tr style=\"text-align: right;\">\n",
       "      <th></th>\n",
       "      <th>splits</th>\n",
       "      <th>Class</th>\n",
       "      <th>n</th>\n",
       "      <th>total</th>\n",
       "      <th>n_pct_class</th>\n",
       "      <th>n_pct_split</th>\n",
       "      <th>class_pct_total</th>\n",
       "    </tr>\n",
       "  </thead>\n",
       "  <tbody>\n",
       "    <tr>\n",
       "      <th>0</th>\n",
       "      <td>VALIDATE</td>\n",
       "      <td>1</td>\n",
       "      <td>57</td>\n",
       "      <td>284807</td>\n",
       "      <td>0.115854</td>\n",
       "      <td>0.002015</td>\n",
       "      <td>0.001727</td>\n",
       "    </tr>\n",
       "    <tr>\n",
       "      <th>1</th>\n",
       "      <td>VALIDATE</td>\n",
       "      <td>0</td>\n",
       "      <td>28235</td>\n",
       "      <td>284807</td>\n",
       "      <td>0.099309</td>\n",
       "      <td>0.997985</td>\n",
       "      <td>0.998273</td>\n",
       "    </tr>\n",
       "    <tr>\n",
       "      <th>2</th>\n",
       "      <td>TEST</td>\n",
       "      <td>1</td>\n",
       "      <td>45</td>\n",
       "      <td>284807</td>\n",
       "      <td>0.091463</td>\n",
       "      <td>0.001581</td>\n",
       "      <td>0.001727</td>\n",
       "    </tr>\n",
       "    <tr>\n",
       "      <th>3</th>\n",
       "      <td>TEST</td>\n",
       "      <td>0</td>\n",
       "      <td>28423</td>\n",
       "      <td>284807</td>\n",
       "      <td>0.099970</td>\n",
       "      <td>0.998419</td>\n",
       "      <td>0.998273</td>\n",
       "    </tr>\n",
       "    <tr>\n",
       "      <th>4</th>\n",
       "      <td>TRAIN</td>\n",
       "      <td>1</td>\n",
       "      <td>390</td>\n",
       "      <td>284807</td>\n",
       "      <td>0.792683</td>\n",
       "      <td>0.001710</td>\n",
       "      <td>0.001727</td>\n",
       "    </tr>\n",
       "    <tr>\n",
       "      <th>5</th>\n",
       "      <td>TRAIN</td>\n",
       "      <td>0</td>\n",
       "      <td>227657</td>\n",
       "      <td>284807</td>\n",
       "      <td>0.800721</td>\n",
       "      <td>0.998290</td>\n",
       "      <td>0.998273</td>\n",
       "    </tr>\n",
       "  </tbody>\n",
       "</table>\n",
       "</div>"
      ],
      "text/plain": [
       "     splits  Class       n   total  n_pct_class  n_pct_split  class_pct_total\n",
       "0  VALIDATE      1      57  284807     0.115854     0.002015         0.001727\n",
       "1  VALIDATE      0   28235  284807     0.099309     0.997985         0.998273\n",
       "2      TEST      1      45  284807     0.091463     0.001581         0.001727\n",
       "3      TEST      0   28423  284807     0.099970     0.998419         0.998273\n",
       "4     TRAIN      1     390  284807     0.792683     0.001710         0.001727\n",
       "5     TRAIN      0  227657  284807     0.800721     0.998290         0.998273"
      ]
     },
     "execution_count": 12,
     "metadata": {},
     "output_type": "execute_result"
    }
   ],
   "source": [
    "review = bq.query(query = query).to_dataframe()\n",
    "review"
   ]
  },
  {
   "cell_type": "markdown",
   "id": "1a532dad-3eb4-4fd7-b1f6-eb60278e15eb",
   "metadata": {},
   "source": [
    "---\n",
    "## This Run"
   ]
  },
  {
   "cell_type": "code",
   "execution_count": 13,
   "id": "4bc58c52-2d51-4298-a0f6-74be71f5e1f7",
   "metadata": {},
   "outputs": [
    {
     "name": "stdout",
     "output_type": "stream",
     "text": [
      "This run will create BQML model: learned-pottery-399802.fraud.bqml_logistic-regression_20231019060415\n",
      "This run will create Vertex AI model: learned-pottery-399802.fraud.bqml_bqml_logistic-regression\n",
      "The runs timestamp Is: 20231019060415\n"
     ]
    }
   ],
   "source": [
    "print(f'This run will create BQML model: {BQ_PROJECT}.{BQ_DATASET}.{BQ_MODEL}')\n",
    "print(f'This run will create Vertex AI model: {BQ_PROJECT}.{BQ_DATASET}.bqml_{SERIES}_{EXPERIMENT}')\n",
    "print(f'The runs timestamp Is: {TIMESTAMP}')"
   ]
  },
  {
   "cell_type": "markdown",
   "id": "5686a4bb",
   "metadata": {},
   "source": [
    "---\n",
    "## Train Model\n",
    "\n",
    "Use BigQuery ML to train multiclass logistic regression model:\n",
    "- [Logistic Regression](https://cloud.google.com/bigquery-ml/docs/reference/standard-sql/bigqueryml-syntax-create-glm) with BigQuery ML (BQML)\n",
    "- This uses the `splits` column that notebook `01` created\n",
    "- `data_split_method = CUSTOM` uses the column in `data_split_col` to assign training data for `FALSE` values and evaluation data for `TRUE` values.\n",
    "    - in this example the `WHERE splits != 'TEST'` statement filters out the test data and\n",
    "    - the `CASE` statement maps training data to FALSE and validation data to TRUE\n",
    "    \n",
    "This example includes the [training options](https://cloud.google.com/bigquery-ml/docs/create_vertex) to register the resulting model in the [Vertex AI Model Registry](https://cloud.google.com/vertex-ai/docs/model-registry/introduction)."
   ]
  },
  {
   "cell_type": "code",
   "execution_count": 14,
   "id": "8ec35834",
   "metadata": {},
   "outputs": [
    {
     "name": "stdout",
     "output_type": "stream",
     "text": [
      "\n",
      "CREATE OR REPLACE MODEL `learned-pottery-399802.fraud.bqml_logistic-regression_20231019060415`\n",
      "OPTIONS (\n",
      "        model_type = 'LOGISTIC_REG',\n",
      "        auto_class_weights = TRUE,\n",
      "        calculate_p_values = TRUE,\n",
      "        CATEGORY_ENCODING_METHOD = 'DUMMY_ENCODING',\n",
      "        input_label_cols = ['Class'],\n",
      "        enable_global_explain = TRUE,\n",
      "        data_split_col = 'custom_splits',\n",
      "        data_split_method = 'CUSTOM',\n",
      "        MODEL_REGISTRY = 'VERTEX_AI',\n",
      "        VERTEX_AI_MODEL_ID = 'bqml_bqml_logistic-regression',\n",
      "        VERTEX_AI_MODEL_VERSION_ALIASES = ['run-20231019060415']\n",
      "    ) AS\n",
      "SELECT * EXCEPT(transaction_id, splits),\n",
      "    CASE\n",
      "        WHEN splits = 'TRAIN' THEN FALSE\n",
      "        ELSE TRUE\n",
      "    END AS custom_splits\n",
      "FROM `learned-pottery-399802.fraud.fraud_prepped`\n",
      "WHERE splits != 'TEST'\n",
      "\n"
     ]
    }
   ],
   "source": [
    "query = f\"\"\"\n",
    "CREATE OR REPLACE MODEL `{BQ_PROJECT}.{BQ_DATASET}.{BQ_MODEL}`\n",
    "OPTIONS (\n",
    "        model_type = 'LOGISTIC_REG',\n",
    "        auto_class_weights = TRUE,\n",
    "        calculate_p_values = TRUE,\n",
    "        CATEGORY_ENCODING_METHOD = 'DUMMY_ENCODING',\n",
    "        input_label_cols = ['{VAR_TARGET}'],\n",
    "        enable_global_explain = TRUE,\n",
    "        data_split_col = 'custom_splits',\n",
    "        data_split_method = 'CUSTOM',\n",
    "        MODEL_REGISTRY = 'VERTEX_AI',\n",
    "        VERTEX_AI_MODEL_ID = 'bqml_{SERIES}_{EXPERIMENT}',\n",
    "        VERTEX_AI_MODEL_VERSION_ALIASES = ['{RUN_NAME}']\n",
    "    ) AS\n",
    "SELECT * EXCEPT({','.join(VAR_OMIT.split())}, splits),\n",
    "    CASE\n",
    "        WHEN splits = 'TRAIN' THEN FALSE\n",
    "        ELSE TRUE\n",
    "    END AS custom_splits\n",
    "FROM `{BQ_PROJECT}.{BQ_DATASET}.{BQ_TABLE}`\n",
    "WHERE splits != 'TEST'\n",
    "\"\"\"\n",
    "print(query)"
   ]
  },
  {
   "cell_type": "code",
   "execution_count": 15,
   "id": "118cf076-90f1-403c-9d8e-1ae6b1907426",
   "metadata": {},
   "outputs": [
    {
     "data": {
      "text/plain": [
       "<google.cloud.bigquery.table._EmptyRowIterator at 0x7f58da4d5ab0>"
      ]
     },
     "execution_count": 15,
     "metadata": {},
     "output_type": "execute_result"
    }
   ],
   "source": [
    "job = bq.query(query = query)\n",
    "job.result()"
   ]
  },
  {
   "cell_type": "code",
   "execution_count": 16,
   "id": "e3a6b5f1",
   "metadata": {},
   "outputs": [
    {
     "data": {
      "text/plain": [
       "159.605"
      ]
     },
     "execution_count": 16,
     "metadata": {},
     "output_type": "execute_result"
    }
   ],
   "source": [
    "(job.ended-job.started).total_seconds()"
   ]
  },
  {
   "cell_type": "code",
   "execution_count": 85,
   "id": "de17d955-6c31-46e6-8fb5-f9fc44be2257",
   "metadata": {},
   "outputs": [
    {
     "data": {
      "text/plain": [
       "69.31514072418213"
      ]
     },
     "execution_count": 85,
     "metadata": {},
     "output_type": "execute_result"
    }
   ],
   "source": [
    "job.total_bytes_processed/1024/1024"
   ]
  },
  {
   "cell_type": "markdown",
   "id": "d0c79c71-963c-4aa0-a95c-f773c4dc5d82",
   "metadata": {},
   "source": [
    "Add labels to the model in BigQuery:"
   ]
  },
  {
   "cell_type": "code",
   "execution_count": 19,
   "id": "13d696f2-a277-422c-9cb0-f2ea8b5b242f",
   "metadata": {},
   "outputs": [],
   "source": [
    "model = bq.get_model(f'{BQ_PROJECT}.{BQ_DATASET}.{BQ_MODEL}')"
   ]
  },
  {
   "cell_type": "code",
   "execution_count": 20,
   "id": "fa42ddb8-d1e3-40f4-8f93-400b3a5625c8",
   "metadata": {},
   "outputs": [],
   "source": [
    "model.labels = {'series' : f'{SERIES}', 'experiment' : f'{EXPERIMENT}'}"
   ]
  },
  {
   "cell_type": "code",
   "execution_count": 21,
   "id": "987feb6e-72de-4f2a-88da-c2c35bcc719e",
   "metadata": {},
   "outputs": [],
   "source": [
    "model = bq.update_model(model, ['labels'])"
   ]
  },
  {
   "cell_type": "markdown",
   "id": "e993eee1-1a45-4fee-9c32-5b9412b4c88f",
   "metadata": {},
   "source": [
    "### Check out this model in BigQuery Console:\n",
    "- Make sure project selected is the one from this notebook\n",
    "- Under Explore, expand this project and dataset\n",
    "- Expand Models and select the model create here"
   ]
  },
  {
   "cell_type": "code",
   "execution_count": 22,
   "id": "2e612ea8-ff94-4100-8293-5e2d691cfc69",
   "metadata": {},
   "outputs": [
    {
     "name": "stdout",
     "output_type": "stream",
     "text": [
      "BigQuery Console for Project:\n",
      "https://console.cloud.google.com/bigquery?project=learned-pottery-399802\n"
     ]
    }
   ],
   "source": [
    "print(f'BigQuery Console for Project:\\nhttps://console.cloud.google.com/bigquery?project={PROJECT_ID}')"
   ]
  },
  {
   "cell_type": "code",
   "execution_count": 23,
   "id": "a70136c5-da05-4083-b45e-1c19d4a32c3c",
   "metadata": {},
   "outputs": [
    {
     "name": "stdout",
     "output_type": "stream",
     "text": [
      "Direct link to the model in BigQuery:\n",
      "https://console.cloud.google.com/bigquery?project=learned-pottery-399802&ws=!1m5!1m4!5m3!1slearned-pottery-399802!2sfraud!3sbqml_logistic-regression_20231019060415\n"
     ]
    }
   ],
   "source": [
    "print(f'Direct link to the model in BigQuery:\\nhttps://console.cloud.google.com/bigquery?project={PROJECT_ID}&ws=!1m5!1m4!5m3!1s{PROJECT_ID}!2s{BQ_DATASET}!3s{BQ_MODEL}')"
   ]
  },
  {
   "cell_type": "markdown",
   "id": "b4b7ad17-4ced-407a-a262-833c298b4ff2",
   "metadata": {},
   "source": [
    "### Check out this model in the Vertex AI Model Registry"
   ]
  },
  {
   "cell_type": "code",
   "execution_count": 24,
   "id": "c3a7c3c4-b473-4dcb-8e00-b399982a0673",
   "metadata": {},
   "outputs": [
    {
     "name": "stdout",
     "output_type": "stream",
     "text": [
      "Review the model in the Vertex AI Model Registry:\n",
      "https://console.cloud.google.com/vertex-ai/locations/us-central1/models/bqml_bqml_logistic-regression_20231019060415?project=learned-pottery-399802\n"
     ]
    }
   ],
   "source": [
    "print(f'Review the model in the Vertex AI Model Registry:\\nhttps://console.cloud.google.com/vertex-ai/locations/{REGION}/models/bqml_{BQ_MODEL}?project={PROJECT_ID}')"
   ]
  },
  {
   "cell_type": "markdown",
   "id": "6d68fbdd-fb42-4446-a480-978db75db396",
   "metadata": {},
   "source": [
    "### Feature and Training Review"
   ]
  },
  {
   "cell_type": "markdown",
   "id": "f22f31dc-0704-48a3-9820-db6b4b480029",
   "metadata": {},
   "source": [
    "Review the Model Inputs, the feature information, with [ML.FEATURE_INFO](https://cloud.google.com/bigquery-ml/docs/reference/standard-sql/bigqueryml-syntax-feature):"
   ]
  },
  {
   "cell_type": "code",
   "execution_count": 25,
   "id": "1100435a-f279-4ebe-9fd0-85d6eb88b225",
   "metadata": {},
   "outputs": [
    {
     "data": {
      "text/html": [
       "<div>\n",
       "<style scoped>\n",
       "    .dataframe tbody tr th:only-of-type {\n",
       "        vertical-align: middle;\n",
       "    }\n",
       "\n",
       "    .dataframe tbody tr th {\n",
       "        vertical-align: top;\n",
       "    }\n",
       "\n",
       "    .dataframe thead th {\n",
       "        text-align: right;\n",
       "    }\n",
       "</style>\n",
       "<table border=\"1\" class=\"dataframe\">\n",
       "  <thead>\n",
       "    <tr style=\"text-align: right;\">\n",
       "      <th></th>\n",
       "      <th>input</th>\n",
       "      <th>min</th>\n",
       "      <th>max</th>\n",
       "      <th>mean</th>\n",
       "      <th>median</th>\n",
       "      <th>stddev</th>\n",
       "      <th>category_count</th>\n",
       "      <th>null_count</th>\n",
       "      <th>dimension</th>\n",
       "    </tr>\n",
       "  </thead>\n",
       "  <tbody>\n",
       "    <tr>\n",
       "      <th>0</th>\n",
       "      <td>Time</td>\n",
       "      <td>0.000000</td>\n",
       "      <td>172792.000000</td>\n",
       "      <td>94810.805580</td>\n",
       "      <td>85057.000000</td>\n",
       "      <td>47505.063571</td>\n",
       "      <td>&lt;NA&gt;</td>\n",
       "      <td>0</td>\n",
       "      <td>&lt;NA&gt;</td>\n",
       "    </tr>\n",
       "    <tr>\n",
       "      <th>1</th>\n",
       "      <td>V1</td>\n",
       "      <td>-56.407510</td>\n",
       "      <td>2.454930</td>\n",
       "      <td>0.001216</td>\n",
       "      <td>0.043414</td>\n",
       "      <td>1.957933</td>\n",
       "      <td>&lt;NA&gt;</td>\n",
       "      <td>0</td>\n",
       "      <td>&lt;NA&gt;</td>\n",
       "    </tr>\n",
       "    <tr>\n",
       "      <th>2</th>\n",
       "      <td>V2</td>\n",
       "      <td>-72.715728</td>\n",
       "      <td>21.467203</td>\n",
       "      <td>0.001496</td>\n",
       "      <td>0.063003</td>\n",
       "      <td>1.649632</td>\n",
       "      <td>&lt;NA&gt;</td>\n",
       "      <td>0</td>\n",
       "      <td>&lt;NA&gt;</td>\n",
       "    </tr>\n",
       "    <tr>\n",
       "      <th>3</th>\n",
       "      <td>V3</td>\n",
       "      <td>-48.325589</td>\n",
       "      <td>9.382558</td>\n",
       "      <td>0.000135</td>\n",
       "      <td>0.176533</td>\n",
       "      <td>1.518067</td>\n",
       "      <td>&lt;NA&gt;</td>\n",
       "      <td>0</td>\n",
       "      <td>&lt;NA&gt;</td>\n",
       "    </tr>\n",
       "    <tr>\n",
       "      <th>4</th>\n",
       "      <td>V4</td>\n",
       "      <td>-5.683171</td>\n",
       "      <td>16.715537</td>\n",
       "      <td>0.001529</td>\n",
       "      <td>-0.045332</td>\n",
       "      <td>1.417221</td>\n",
       "      <td>&lt;NA&gt;</td>\n",
       "      <td>0</td>\n",
       "      <td>&lt;NA&gt;</td>\n",
       "    </tr>\n",
       "    <tr>\n",
       "      <th>5</th>\n",
       "      <td>V5</td>\n",
       "      <td>-113.743307</td>\n",
       "      <td>34.801666</td>\n",
       "      <td>0.000295</td>\n",
       "      <td>-0.058665</td>\n",
       "      <td>1.383838</td>\n",
       "      <td>&lt;NA&gt;</td>\n",
       "      <td>0</td>\n",
       "      <td>&lt;NA&gt;</td>\n",
       "    </tr>\n",
       "    <tr>\n",
       "      <th>6</th>\n",
       "      <td>V6</td>\n",
       "      <td>-26.160506</td>\n",
       "      <td>73.301626</td>\n",
       "      <td>-0.000991</td>\n",
       "      <td>-0.272396</td>\n",
       "      <td>1.332934</td>\n",
       "      <td>&lt;NA&gt;</td>\n",
       "      <td>0</td>\n",
       "      <td>&lt;NA&gt;</td>\n",
       "    </tr>\n",
       "    <tr>\n",
       "      <th>7</th>\n",
       "      <td>V7</td>\n",
       "      <td>-41.506796</td>\n",
       "      <td>120.589494</td>\n",
       "      <td>-0.001558</td>\n",
       "      <td>0.037138</td>\n",
       "      <td>1.239617</td>\n",
       "      <td>&lt;NA&gt;</td>\n",
       "      <td>0</td>\n",
       "      <td>&lt;NA&gt;</td>\n",
       "    </tr>\n",
       "    <tr>\n",
       "      <th>8</th>\n",
       "      <td>V8</td>\n",
       "      <td>-73.216718</td>\n",
       "      <td>20.007208</td>\n",
       "      <td>0.001086</td>\n",
       "      <td>0.024173</td>\n",
       "      <td>1.191368</td>\n",
       "      <td>&lt;NA&gt;</td>\n",
       "      <td>0</td>\n",
       "      <td>&lt;NA&gt;</td>\n",
       "    </tr>\n",
       "    <tr>\n",
       "      <th>9</th>\n",
       "      <td>V9</td>\n",
       "      <td>-13.434066</td>\n",
       "      <td>15.594995</td>\n",
       "      <td>-0.001462</td>\n",
       "      <td>-0.049482</td>\n",
       "      <td>1.098136</td>\n",
       "      <td>&lt;NA&gt;</td>\n",
       "      <td>0</td>\n",
       "      <td>&lt;NA&gt;</td>\n",
       "    </tr>\n",
       "    <tr>\n",
       "      <th>10</th>\n",
       "      <td>V10</td>\n",
       "      <td>-24.403185</td>\n",
       "      <td>23.745136</td>\n",
       "      <td>0.001002</td>\n",
       "      <td>-0.098311</td>\n",
       "      <td>1.086418</td>\n",
       "      <td>&lt;NA&gt;</td>\n",
       "      <td>0</td>\n",
       "      <td>&lt;NA&gt;</td>\n",
       "    </tr>\n",
       "    <tr>\n",
       "      <th>11</th>\n",
       "      <td>V11</td>\n",
       "      <td>-4.682931</td>\n",
       "      <td>11.669205</td>\n",
       "      <td>-0.000810</td>\n",
       "      <td>-0.036267</td>\n",
       "      <td>1.021113</td>\n",
       "      <td>&lt;NA&gt;</td>\n",
       "      <td>0</td>\n",
       "      <td>&lt;NA&gt;</td>\n",
       "    </tr>\n",
       "    <tr>\n",
       "      <th>12</th>\n",
       "      <td>V12</td>\n",
       "      <td>-18.683715</td>\n",
       "      <td>7.848392</td>\n",
       "      <td>-0.000365</td>\n",
       "      <td>0.139610</td>\n",
       "      <td>1.000515</td>\n",
       "      <td>&lt;NA&gt;</td>\n",
       "      <td>0</td>\n",
       "      <td>&lt;NA&gt;</td>\n",
       "    </tr>\n",
       "    <tr>\n",
       "      <th>13</th>\n",
       "      <td>V13</td>\n",
       "      <td>-5.791881</td>\n",
       "      <td>7.126883</td>\n",
       "      <td>0.000349</td>\n",
       "      <td>-0.012682</td>\n",
       "      <td>0.994866</td>\n",
       "      <td>&lt;NA&gt;</td>\n",
       "      <td>0</td>\n",
       "      <td>&lt;NA&gt;</td>\n",
       "    </tr>\n",
       "    <tr>\n",
       "      <th>14</th>\n",
       "      <td>V14</td>\n",
       "      <td>-18.822087</td>\n",
       "      <td>10.526766</td>\n",
       "      <td>0.000587</td>\n",
       "      <td>0.043088</td>\n",
       "      <td>0.958386</td>\n",
       "      <td>&lt;NA&gt;</td>\n",
       "      <td>0</td>\n",
       "      <td>&lt;NA&gt;</td>\n",
       "    </tr>\n",
       "    <tr>\n",
       "      <th>15</th>\n",
       "      <td>V15</td>\n",
       "      <td>-4.498945</td>\n",
       "      <td>8.877742</td>\n",
       "      <td>-0.000719</td>\n",
       "      <td>0.032110</td>\n",
       "      <td>0.914884</td>\n",
       "      <td>&lt;NA&gt;</td>\n",
       "      <td>0</td>\n",
       "      <td>&lt;NA&gt;</td>\n",
       "    </tr>\n",
       "    <tr>\n",
       "      <th>16</th>\n",
       "      <td>V16</td>\n",
       "      <td>-14.129855</td>\n",
       "      <td>17.315112</td>\n",
       "      <td>0.000207</td>\n",
       "      <td>0.064365</td>\n",
       "      <td>0.877154</td>\n",
       "      <td>&lt;NA&gt;</td>\n",
       "      <td>0</td>\n",
       "      <td>&lt;NA&gt;</td>\n",
       "    </tr>\n",
       "    <tr>\n",
       "      <th>17</th>\n",
       "      <td>V17</td>\n",
       "      <td>-25.162799</td>\n",
       "      <td>9.253526</td>\n",
       "      <td>0.000256</td>\n",
       "      <td>-0.067726</td>\n",
       "      <td>0.850807</td>\n",
       "      <td>&lt;NA&gt;</td>\n",
       "      <td>0</td>\n",
       "      <td>&lt;NA&gt;</td>\n",
       "    </tr>\n",
       "    <tr>\n",
       "      <th>18</th>\n",
       "      <td>V18</td>\n",
       "      <td>-9.498746</td>\n",
       "      <td>5.041069</td>\n",
       "      <td>0.000323</td>\n",
       "      <td>-0.011013</td>\n",
       "      <td>0.837522</td>\n",
       "      <td>&lt;NA&gt;</td>\n",
       "      <td>0</td>\n",
       "      <td>&lt;NA&gt;</td>\n",
       "    </tr>\n",
       "    <tr>\n",
       "      <th>19</th>\n",
       "      <td>V19</td>\n",
       "      <td>-7.213527</td>\n",
       "      <td>5.591971</td>\n",
       "      <td>0.001062</td>\n",
       "      <td>0.000010</td>\n",
       "      <td>0.813737</td>\n",
       "      <td>&lt;NA&gt;</td>\n",
       "      <td>0</td>\n",
       "      <td>&lt;NA&gt;</td>\n",
       "    </tr>\n",
       "    <tr>\n",
       "      <th>20</th>\n",
       "      <td>V20</td>\n",
       "      <td>-54.497720</td>\n",
       "      <td>39.420904</td>\n",
       "      <td>-0.000640</td>\n",
       "      <td>-0.061531</td>\n",
       "      <td>0.762493</td>\n",
       "      <td>&lt;NA&gt;</td>\n",
       "      <td>0</td>\n",
       "      <td>&lt;NA&gt;</td>\n",
       "    </tr>\n",
       "    <tr>\n",
       "      <th>21</th>\n",
       "      <td>V21</td>\n",
       "      <td>-34.830382</td>\n",
       "      <td>27.202839</td>\n",
       "      <td>0.000760</td>\n",
       "      <td>-0.028819</td>\n",
       "      <td>0.736380</td>\n",
       "      <td>&lt;NA&gt;</td>\n",
       "      <td>0</td>\n",
       "      <td>&lt;NA&gt;</td>\n",
       "    </tr>\n",
       "    <tr>\n",
       "      <th>22</th>\n",
       "      <td>V22</td>\n",
       "      <td>-10.933144</td>\n",
       "      <td>10.503090</td>\n",
       "      <td>0.000277</td>\n",
       "      <td>0.009784</td>\n",
       "      <td>0.725899</td>\n",
       "      <td>&lt;NA&gt;</td>\n",
       "      <td>0</td>\n",
       "      <td>&lt;NA&gt;</td>\n",
       "    </tr>\n",
       "    <tr>\n",
       "      <th>23</th>\n",
       "      <td>V23</td>\n",
       "      <td>-44.807735</td>\n",
       "      <td>22.528412</td>\n",
       "      <td>-0.000198</td>\n",
       "      <td>-0.013846</td>\n",
       "      <td>0.625298</td>\n",
       "      <td>&lt;NA&gt;</td>\n",
       "      <td>0</td>\n",
       "      <td>&lt;NA&gt;</td>\n",
       "    </tr>\n",
       "    <tr>\n",
       "      <th>24</th>\n",
       "      <td>V24</td>\n",
       "      <td>-2.836627</td>\n",
       "      <td>4.584549</td>\n",
       "      <td>0.000624</td>\n",
       "      <td>0.043224</td>\n",
       "      <td>0.605680</td>\n",
       "      <td>&lt;NA&gt;</td>\n",
       "      <td>0</td>\n",
       "      <td>&lt;NA&gt;</td>\n",
       "    </tr>\n",
       "    <tr>\n",
       "      <th>25</th>\n",
       "      <td>V25</td>\n",
       "      <td>-10.295397</td>\n",
       "      <td>5.525093</td>\n",
       "      <td>-0.000148</td>\n",
       "      <td>0.006980</td>\n",
       "      <td>0.520432</td>\n",
       "      <td>&lt;NA&gt;</td>\n",
       "      <td>0</td>\n",
       "      <td>&lt;NA&gt;</td>\n",
       "    </tr>\n",
       "    <tr>\n",
       "      <th>26</th>\n",
       "      <td>V26</td>\n",
       "      <td>-2.534330</td>\n",
       "      <td>3.517346</td>\n",
       "      <td>0.000471</td>\n",
       "      <td>-0.053596</td>\n",
       "      <td>0.482298</td>\n",
       "      <td>&lt;NA&gt;</td>\n",
       "      <td>0</td>\n",
       "      <td>&lt;NA&gt;</td>\n",
       "    </tr>\n",
       "    <tr>\n",
       "      <th>27</th>\n",
       "      <td>V27</td>\n",
       "      <td>-22.565679</td>\n",
       "      <td>31.612198</td>\n",
       "      <td>-0.000335</td>\n",
       "      <td>0.000399</td>\n",
       "      <td>0.404565</td>\n",
       "      <td>&lt;NA&gt;</td>\n",
       "      <td>0</td>\n",
       "      <td>&lt;NA&gt;</td>\n",
       "    </tr>\n",
       "    <tr>\n",
       "      <th>28</th>\n",
       "      <td>V28</td>\n",
       "      <td>-15.430084</td>\n",
       "      <td>33.847808</td>\n",
       "      <td>-0.000384</td>\n",
       "      <td>0.010654</td>\n",
       "      <td>0.328619</td>\n",
       "      <td>&lt;NA&gt;</td>\n",
       "      <td>0</td>\n",
       "      <td>&lt;NA&gt;</td>\n",
       "    </tr>\n",
       "    <tr>\n",
       "      <th>29</th>\n",
       "      <td>Amount</td>\n",
       "      <td>0.000000</td>\n",
       "      <td>25691.160000</td>\n",
       "      <td>87.935006</td>\n",
       "      <td>21.140000</td>\n",
       "      <td>246.603005</td>\n",
       "      <td>&lt;NA&gt;</td>\n",
       "      <td>0</td>\n",
       "      <td>&lt;NA&gt;</td>\n",
       "    </tr>\n",
       "  </tbody>\n",
       "</table>\n",
       "</div>"
      ],
      "text/plain": [
       "     input         min            max          mean        median  \\\n",
       "0     Time    0.000000  172792.000000  94810.805580  85057.000000   \n",
       "1       V1  -56.407510       2.454930      0.001216      0.043414   \n",
       "2       V2  -72.715728      21.467203      0.001496      0.063003   \n",
       "3       V3  -48.325589       9.382558      0.000135      0.176533   \n",
       "4       V4   -5.683171      16.715537      0.001529     -0.045332   \n",
       "5       V5 -113.743307      34.801666      0.000295     -0.058665   \n",
       "6       V6  -26.160506      73.301626     -0.000991     -0.272396   \n",
       "7       V7  -41.506796     120.589494     -0.001558      0.037138   \n",
       "8       V8  -73.216718      20.007208      0.001086      0.024173   \n",
       "9       V9  -13.434066      15.594995     -0.001462     -0.049482   \n",
       "10     V10  -24.403185      23.745136      0.001002     -0.098311   \n",
       "11     V11   -4.682931      11.669205     -0.000810     -0.036267   \n",
       "12     V12  -18.683715       7.848392     -0.000365      0.139610   \n",
       "13     V13   -5.791881       7.126883      0.000349     -0.012682   \n",
       "14     V14  -18.822087      10.526766      0.000587      0.043088   \n",
       "15     V15   -4.498945       8.877742     -0.000719      0.032110   \n",
       "16     V16  -14.129855      17.315112      0.000207      0.064365   \n",
       "17     V17  -25.162799       9.253526      0.000256     -0.067726   \n",
       "18     V18   -9.498746       5.041069      0.000323     -0.011013   \n",
       "19     V19   -7.213527       5.591971      0.001062      0.000010   \n",
       "20     V20  -54.497720      39.420904     -0.000640     -0.061531   \n",
       "21     V21  -34.830382      27.202839      0.000760     -0.028819   \n",
       "22     V22  -10.933144      10.503090      0.000277      0.009784   \n",
       "23     V23  -44.807735      22.528412     -0.000198     -0.013846   \n",
       "24     V24   -2.836627       4.584549      0.000624      0.043224   \n",
       "25     V25  -10.295397       5.525093     -0.000148      0.006980   \n",
       "26     V26   -2.534330       3.517346      0.000471     -0.053596   \n",
       "27     V27  -22.565679      31.612198     -0.000335      0.000399   \n",
       "28     V28  -15.430084      33.847808     -0.000384      0.010654   \n",
       "29  Amount    0.000000   25691.160000     87.935006     21.140000   \n",
       "\n",
       "          stddev  category_count  null_count  dimension  \n",
       "0   47505.063571            <NA>           0       <NA>  \n",
       "1       1.957933            <NA>           0       <NA>  \n",
       "2       1.649632            <NA>           0       <NA>  \n",
       "3       1.518067            <NA>           0       <NA>  \n",
       "4       1.417221            <NA>           0       <NA>  \n",
       "5       1.383838            <NA>           0       <NA>  \n",
       "6       1.332934            <NA>           0       <NA>  \n",
       "7       1.239617            <NA>           0       <NA>  \n",
       "8       1.191368            <NA>           0       <NA>  \n",
       "9       1.098136            <NA>           0       <NA>  \n",
       "10      1.086418            <NA>           0       <NA>  \n",
       "11      1.021113            <NA>           0       <NA>  \n",
       "12      1.000515            <NA>           0       <NA>  \n",
       "13      0.994866            <NA>           0       <NA>  \n",
       "14      0.958386            <NA>           0       <NA>  \n",
       "15      0.914884            <NA>           0       <NA>  \n",
       "16      0.877154            <NA>           0       <NA>  \n",
       "17      0.850807            <NA>           0       <NA>  \n",
       "18      0.837522            <NA>           0       <NA>  \n",
       "19      0.813737            <NA>           0       <NA>  \n",
       "20      0.762493            <NA>           0       <NA>  \n",
       "21      0.736380            <NA>           0       <NA>  \n",
       "22      0.725899            <NA>           0       <NA>  \n",
       "23      0.625298            <NA>           0       <NA>  \n",
       "24      0.605680            <NA>           0       <NA>  \n",
       "25      0.520432            <NA>           0       <NA>  \n",
       "26      0.482298            <NA>           0       <NA>  \n",
       "27      0.404565            <NA>           0       <NA>  \n",
       "28      0.328619            <NA>           0       <NA>  \n",
       "29    246.603005            <NA>           0       <NA>  "
      ]
     },
     "execution_count": 25,
     "metadata": {},
     "output_type": "execute_result"
    }
   ],
   "source": [
    "feature_info = bq.query(\n",
    "    query = f\"\"\"\n",
    "        SELECT *\n",
    "        FROM ML.FEATURE_INFO(MODEL `{BQ_PROJECT}.{BQ_DATASET}.{BQ_MODEL}`)\n",
    "        \"\"\"\n",
    ").to_dataframe()\n",
    "feature_info"
   ]
  },
  {
   "cell_type": "markdown",
   "id": "c30f3d34",
   "metadata": {},
   "source": [
    "Review the iterations from training with [ML.TRAINING_INFO](https://cloud.google.com/bigquery-ml/docs/reference/standard-sql/bigqueryml-syntax-train):"
   ]
  },
  {
   "cell_type": "code",
   "execution_count": 26,
   "id": "14d2757d",
   "metadata": {},
   "outputs": [
    {
     "data": {
      "text/html": [
       "<div>\n",
       "<style scoped>\n",
       "    .dataframe tbody tr th:only-of-type {\n",
       "        vertical-align: middle;\n",
       "    }\n",
       "\n",
       "    .dataframe tbody tr th {\n",
       "        vertical-align: top;\n",
       "    }\n",
       "\n",
       "    .dataframe thead th {\n",
       "        text-align: right;\n",
       "    }\n",
       "</style>\n",
       "<table border=\"1\" class=\"dataframe\">\n",
       "  <thead>\n",
       "    <tr style=\"text-align: right;\">\n",
       "      <th></th>\n",
       "      <th>training_run</th>\n",
       "      <th>iteration</th>\n",
       "      <th>loss</th>\n",
       "      <th>eval_loss</th>\n",
       "      <th>learning_rate</th>\n",
       "      <th>duration_ms</th>\n",
       "    </tr>\n",
       "  </thead>\n",
       "  <tbody>\n",
       "    <tr>\n",
       "      <th>0</th>\n",
       "      <td>0</td>\n",
       "      <td>0</td>\n",
       "      <td>0.682972</td>\n",
       "      <td>0.680146</td>\n",
       "      <td>0.2</td>\n",
       "      <td>8429</td>\n",
       "    </tr>\n",
       "    <tr>\n",
       "      <th>1</th>\n",
       "      <td>0</td>\n",
       "      <td>1</td>\n",
       "      <td>0.645592</td>\n",
       "      <td>0.642636</td>\n",
       "      <td>0.4</td>\n",
       "      <td>9246</td>\n",
       "    </tr>\n",
       "    <tr>\n",
       "      <th>2</th>\n",
       "      <td>0</td>\n",
       "      <td>2</td>\n",
       "      <td>0.578909</td>\n",
       "      <td>0.575770</td>\n",
       "      <td>0.8</td>\n",
       "      <td>10513</td>\n",
       "    </tr>\n",
       "    <tr>\n",
       "      <th>3</th>\n",
       "      <td>0</td>\n",
       "      <td>3</td>\n",
       "      <td>0.472722</td>\n",
       "      <td>0.469428</td>\n",
       "      <td>1.6</td>\n",
       "      <td>11608</td>\n",
       "    </tr>\n",
       "    <tr>\n",
       "      <th>4</th>\n",
       "      <td>0</td>\n",
       "      <td>4</td>\n",
       "      <td>0.337548</td>\n",
       "      <td>0.334297</td>\n",
       "      <td>3.2</td>\n",
       "      <td>9355</td>\n",
       "    </tr>\n",
       "    <tr>\n",
       "      <th>5</th>\n",
       "      <td>0</td>\n",
       "      <td>5</td>\n",
       "      <td>0.220417</td>\n",
       "      <td>0.217481</td>\n",
       "      <td>6.4</td>\n",
       "      <td>11449</td>\n",
       "    </tr>\n",
       "    <tr>\n",
       "      <th>6</th>\n",
       "      <td>0</td>\n",
       "      <td>6</td>\n",
       "      <td>0.162614</td>\n",
       "      <td>0.160004</td>\n",
       "      <td>12.8</td>\n",
       "      <td>10345</td>\n",
       "    </tr>\n",
       "    <tr>\n",
       "      <th>7</th>\n",
       "      <td>0</td>\n",
       "      <td>7</td>\n",
       "      <td>0.121768</td>\n",
       "      <td>0.120090</td>\n",
       "      <td>25.6</td>\n",
       "      <td>10506</td>\n",
       "    </tr>\n",
       "  </tbody>\n",
       "</table>\n",
       "</div>"
      ],
      "text/plain": [
       "   training_run  iteration      loss  eval_loss  learning_rate  duration_ms\n",
       "0             0          0  0.682972   0.680146            0.2         8429\n",
       "1             0          1  0.645592   0.642636            0.4         9246\n",
       "2             0          2  0.578909   0.575770            0.8        10513\n",
       "3             0          3  0.472722   0.469428            1.6        11608\n",
       "4             0          4  0.337548   0.334297            3.2         9355\n",
       "5             0          5  0.220417   0.217481            6.4        11449\n",
       "6             0          6  0.162614   0.160004           12.8        10345\n",
       "7             0          7  0.121768   0.120090           25.6        10506"
      ]
     },
     "execution_count": 26,
     "metadata": {},
     "output_type": "execute_result"
    }
   ],
   "source": [
    "history = bq.query(\n",
    "    query = f\"\"\"\n",
    "        SELECT *\n",
    "        FROM ML.TRAINING_INFO(MODEL `{BQ_PROJECT}.{BQ_DATASET}.{BQ_MODEL}`)\n",
    "        ORDER BY iteration\"\"\"\n",
    ").to_dataframe()\n",
    "history"
   ]
  },
  {
   "cell_type": "markdown",
   "id": "e95fa43e-076c-4c59-a848-1107930c81f9",
   "metadata": {},
   "source": [
    "Plot the loss history:"
   ]
  },
  {
   "cell_type": "code",
   "execution_count": 27,
   "id": "7b20cc72-f5c1-4ed0-95d2-89d7a6ff4a6a",
   "metadata": {},
   "outputs": [
    {
     "data": {
      "text/plain": [
       "<Axes: xlabel='iteration'>"
      ]
     },
     "execution_count": 27,
     "metadata": {},
     "output_type": "execute_result"
    },
    {
     "data": {
      "image/png": "[encoded data removed]",
      "text/plain": [
       "<Figure size 1000x500 with 1 Axes>"
      ]
     },
     "metadata": {},
     "output_type": "display_data"
    }
   ],
   "source": [
    "history.plot(x = 'iteration', y = ['loss','eval_loss'], figsize = (10, 5), grid = True)"
   ]
  },
  {
   "cell_type": "markdown",
   "id": "944d5ab3-d9d4-4e36-b46f-d55f0eab91f6",
   "metadata": {},
   "source": [
    "### Model Weights Review"
   ]
  },
  {
   "cell_type": "markdown",
   "id": "77f549fe-0b18-4ed4-86e2-217b472fd758",
   "metadata": {},
   "source": [
    "Retrieve the model parameters with [ML.WEIGHTS](https://cloud.google.com/bigquery-ml/docs/reference/standard-sql/bigqueryml-syntax-weights)."
   ]
  },
  {
   "cell_type": "code",
   "execution_count": 28,
   "id": "940c2cc6-91c7-4d53-9fa3-e3fbf0262133",
   "metadata": {},
   "outputs": [
    {
     "data": {
      "text/html": [
       "<div>\n",
       "<style scoped>\n",
       "    .dataframe tbody tr th:only-of-type {\n",
       "        vertical-align: middle;\n",
       "    }\n",
       "\n",
       "    .dataframe tbody tr th {\n",
       "        vertical-align: top;\n",
       "    }\n",
       "\n",
       "    .dataframe thead th {\n",
       "        text-align: right;\n",
       "    }\n",
       "</style>\n",
       "<table border=\"1\" class=\"dataframe\">\n",
       "  <thead>\n",
       "    <tr style=\"text-align: right;\">\n",
       "      <th></th>\n",
       "      <th>processed_input</th>\n",
       "      <th>weight</th>\n",
       "      <th>category_weights</th>\n",
       "    </tr>\n",
       "  </thead>\n",
       "  <tbody>\n",
       "    <tr>\n",
       "      <th>0</th>\n",
       "      <td>Time</td>\n",
       "      <td>-0.000005</td>\n",
       "      <td>[]</td>\n",
       "    </tr>\n",
       "    <tr>\n",
       "      <th>1</th>\n",
       "      <td>V1</td>\n",
       "      <td>0.005717</td>\n",
       "      <td>[]</td>\n",
       "    </tr>\n",
       "    <tr>\n",
       "      <th>2</th>\n",
       "      <td>V2</td>\n",
       "      <td>0.048682</td>\n",
       "      <td>[]</td>\n",
       "    </tr>\n",
       "    <tr>\n",
       "      <th>3</th>\n",
       "      <td>V3</td>\n",
       "      <td>-0.114183</td>\n",
       "      <td>[]</td>\n",
       "    </tr>\n",
       "    <tr>\n",
       "      <th>4</th>\n",
       "      <td>V4</td>\n",
       "      <td>0.603413</td>\n",
       "      <td>[]</td>\n",
       "    </tr>\n",
       "    <tr>\n",
       "      <th>5</th>\n",
       "      <td>V5</td>\n",
       "      <td>0.122359</td>\n",
       "      <td>[]</td>\n",
       "    </tr>\n",
       "    <tr>\n",
       "      <th>6</th>\n",
       "      <td>V6</td>\n",
       "      <td>-0.146667</td>\n",
       "      <td>[]</td>\n",
       "    </tr>\n",
       "    <tr>\n",
       "      <th>7</th>\n",
       "      <td>V7</td>\n",
       "      <td>0.021550</td>\n",
       "      <td>[]</td>\n",
       "    </tr>\n",
       "    <tr>\n",
       "      <th>8</th>\n",
       "      <td>V8</td>\n",
       "      <td>-0.256492</td>\n",
       "      <td>[]</td>\n",
       "    </tr>\n",
       "    <tr>\n",
       "      <th>9</th>\n",
       "      <td>V9</td>\n",
       "      <td>-0.206444</td>\n",
       "      <td>[]</td>\n",
       "    </tr>\n",
       "    <tr>\n",
       "      <th>10</th>\n",
       "      <td>V10</td>\n",
       "      <td>-0.277417</td>\n",
       "      <td>[]</td>\n",
       "    </tr>\n",
       "    <tr>\n",
       "      <th>11</th>\n",
       "      <td>V11</td>\n",
       "      <td>0.203631</td>\n",
       "      <td>[]</td>\n",
       "    </tr>\n",
       "    <tr>\n",
       "      <th>12</th>\n",
       "      <td>V12</td>\n",
       "      <td>-0.535729</td>\n",
       "      <td>[]</td>\n",
       "    </tr>\n",
       "    <tr>\n",
       "      <th>13</th>\n",
       "      <td>V13</td>\n",
       "      <td>-0.202285</td>\n",
       "      <td>[]</td>\n",
       "    </tr>\n",
       "    <tr>\n",
       "      <th>14</th>\n",
       "      <td>V14</td>\n",
       "      <td>-0.721657</td>\n",
       "      <td>[]</td>\n",
       "    </tr>\n",
       "    <tr>\n",
       "      <th>15</th>\n",
       "      <td>V15</td>\n",
       "      <td>-0.066393</td>\n",
       "      <td>[]</td>\n",
       "    </tr>\n",
       "    <tr>\n",
       "      <th>16</th>\n",
       "      <td>V16</td>\n",
       "      <td>-0.284348</td>\n",
       "      <td>[]</td>\n",
       "    </tr>\n",
       "    <tr>\n",
       "      <th>17</th>\n",
       "      <td>V17</td>\n",
       "      <td>-0.157124</td>\n",
       "      <td>[]</td>\n",
       "    </tr>\n",
       "    <tr>\n",
       "      <th>18</th>\n",
       "      <td>V18</td>\n",
       "      <td>-0.010872</td>\n",
       "      <td>[]</td>\n",
       "    </tr>\n",
       "    <tr>\n",
       "      <th>19</th>\n",
       "      <td>V19</td>\n",
       "      <td>0.046917</td>\n",
       "      <td>[]</td>\n",
       "    </tr>\n",
       "    <tr>\n",
       "      <th>20</th>\n",
       "      <td>V20</td>\n",
       "      <td>-0.061258</td>\n",
       "      <td>[]</td>\n",
       "    </tr>\n",
       "    <tr>\n",
       "      <th>21</th>\n",
       "      <td>V21</td>\n",
       "      <td>0.031777</td>\n",
       "      <td>[]</td>\n",
       "    </tr>\n",
       "    <tr>\n",
       "      <th>22</th>\n",
       "      <td>V22</td>\n",
       "      <td>0.322079</td>\n",
       "      <td>[]</td>\n",
       "    </tr>\n",
       "    <tr>\n",
       "      <th>23</th>\n",
       "      <td>V23</td>\n",
       "      <td>-0.094803</td>\n",
       "      <td>[]</td>\n",
       "    </tr>\n",
       "    <tr>\n",
       "      <th>24</th>\n",
       "      <td>V24</td>\n",
       "      <td>-0.070765</td>\n",
       "      <td>[]</td>\n",
       "    </tr>\n",
       "    <tr>\n",
       "      <th>25</th>\n",
       "      <td>V25</td>\n",
       "      <td>0.100838</td>\n",
       "      <td>[]</td>\n",
       "    </tr>\n",
       "    <tr>\n",
       "      <th>26</th>\n",
       "      <td>V26</td>\n",
       "      <td>-0.253135</td>\n",
       "      <td>[]</td>\n",
       "    </tr>\n",
       "    <tr>\n",
       "      <th>27</th>\n",
       "      <td>V27</td>\n",
       "      <td>0.353265</td>\n",
       "      <td>[]</td>\n",
       "    </tr>\n",
       "    <tr>\n",
       "      <th>28</th>\n",
       "      <td>V28</td>\n",
       "      <td>0.226636</td>\n",
       "      <td>[]</td>\n",
       "    </tr>\n",
       "    <tr>\n",
       "      <th>29</th>\n",
       "      <td>Amount</td>\n",
       "      <td>0.000971</td>\n",
       "      <td>[]</td>\n",
       "    </tr>\n",
       "    <tr>\n",
       "      <th>30</th>\n",
       "      <td>__INTERCEPT__</td>\n",
       "      <td>-2.332157</td>\n",
       "      <td>[]</td>\n",
       "    </tr>\n",
       "  </tbody>\n",
       "</table>\n",
       "</div>"
      ],
      "text/plain": [
       "   processed_input    weight category_weights\n",
       "0             Time -0.000005               []\n",
       "1               V1  0.005717               []\n",
       "2               V2  0.048682               []\n",
       "3               V3 -0.114183               []\n",
       "4               V4  0.603413               []\n",
       "5               V5  0.122359               []\n",
       "6               V6 -0.146667               []\n",
       "7               V7  0.021550               []\n",
       "8               V8 -0.256492               []\n",
       "9               V9 -0.206444               []\n",
       "10             V10 -0.277417               []\n",
       "11             V11  0.203631               []\n",
       "12             V12 -0.535729               []\n",
       "13             V13 -0.202285               []\n",
       "14             V14 -0.721657               []\n",
       "15             V15 -0.066393               []\n",
       "16             V16 -0.284348               []\n",
       "17             V17 -0.157124               []\n",
       "18             V18 -0.010872               []\n",
       "19             V19  0.046917               []\n",
       "20             V20 -0.061258               []\n",
       "21             V21  0.031777               []\n",
       "22             V22  0.322079               []\n",
       "23             V23 -0.094803               []\n",
       "24             V24 -0.070765               []\n",
       "25             V25  0.100838               []\n",
       "26             V26 -0.253135               []\n",
       "27             V27  0.353265               []\n",
       "28             V28  0.226636               []\n",
       "29          Amount  0.000971               []\n",
       "30   __INTERCEPT__ -2.332157               []"
      ]
     },
     "execution_count": 28,
     "metadata": {},
     "output_type": "execute_result"
    }
   ],
   "source": [
    "weights = bq.query(\n",
    "    query = f\"\"\"\n",
    "        SELECT processed_input, weight\n",
    "        FROM ML.WEIGHTS(MODEL `{BQ_PROJECT}.{BQ_DATASET}.{BQ_MODEL}`)\n",
    "    \"\"\"\n",
    ").to_dataframe()\n",
    "weights"
   ]
  },
  {
   "cell_type": "markdown",
   "id": "405ef2e8-9af3-4b55-afc6-6c9ada7f6f76",
   "metadata": {},
   "source": [
    "This logistic regression model was trained with the option`calculate_p_values = TRUE` so the [ML.ADVANCED_WEIGHTS](https://cloud.google.com/bigquery-ml/docs/reference/standard-sql/bigqueryml-syntax-advanced-weights) function can be used to retireve weights with associated p-values:"
   ]
  },
  {
   "cell_type": "code",
   "execution_count": 29,
   "id": "9eb41a54-992c-4c7b-bfa7-f6620824809e",
   "metadata": {},
   "outputs": [
    {
     "data": {
      "text/html": [
       "<div>\n",
       "<style scoped>\n",
       "    .dataframe tbody tr th:only-of-type {\n",
       "        vertical-align: middle;\n",
       "    }\n",
       "\n",
       "    .dataframe tbody tr th {\n",
       "        vertical-align: top;\n",
       "    }\n",
       "\n",
       "    .dataframe thead th {\n",
       "        text-align: right;\n",
       "    }\n",
       "</style>\n",
       "<table border=\"1\" class=\"dataframe\">\n",
       "  <thead>\n",
       "    <tr style=\"text-align: right;\">\n",
       "      <th></th>\n",
       "      <th>processed_input</th>\n",
       "      <th>category</th>\n",
       "      <th>weight</th>\n",
       "      <th>standard_error</th>\n",
       "      <th>p_value</th>\n",
       "    </tr>\n",
       "  </thead>\n",
       "  <tbody>\n",
       "    <tr>\n",
       "      <th>0</th>\n",
       "      <td>Time</td>\n",
       "      <td>None</td>\n",
       "      <td>-0.000005</td>\n",
       "      <td>2.271379e-07</td>\n",
       "      <td>7.771561e-15</td>\n",
       "    </tr>\n",
       "    <tr>\n",
       "      <th>1</th>\n",
       "      <td>V1</td>\n",
       "      <td>None</td>\n",
       "      <td>0.005717</td>\n",
       "      <td>1.149486e-02</td>\n",
       "      <td>6.184622e-01</td>\n",
       "    </tr>\n",
       "    <tr>\n",
       "      <th>2</th>\n",
       "      <td>V2</td>\n",
       "      <td>None</td>\n",
       "      <td>0.048682</td>\n",
       "      <td>1.430870e-02</td>\n",
       "      <td>9.931026e-04</td>\n",
       "    </tr>\n",
       "    <tr>\n",
       "      <th>3</th>\n",
       "      <td>V3</td>\n",
       "      <td>None</td>\n",
       "      <td>-0.114183</td>\n",
       "      <td>2.339322e-02</td>\n",
       "      <td>1.592963e-05</td>\n",
       "    </tr>\n",
       "    <tr>\n",
       "      <th>4</th>\n",
       "      <td>V4</td>\n",
       "      <td>None</td>\n",
       "      <td>0.603413</td>\n",
       "      <td>1.440621e-02</td>\n",
       "      <td>0.000000e+00</td>\n",
       "    </tr>\n",
       "    <tr>\n",
       "      <th>5</th>\n",
       "      <td>V5</td>\n",
       "      <td>None</td>\n",
       "      <td>0.122359</td>\n",
       "      <td>1.774023e-02</td>\n",
       "      <td>1.352802e-07</td>\n",
       "    </tr>\n",
       "    <tr>\n",
       "      <th>6</th>\n",
       "      <td>V6</td>\n",
       "      <td>None</td>\n",
       "      <td>-0.146667</td>\n",
       "      <td>9.437534e-03</td>\n",
       "      <td>5.295764e-13</td>\n",
       "    </tr>\n",
       "    <tr>\n",
       "      <th>7</th>\n",
       "      <td>V7</td>\n",
       "      <td>None</td>\n",
       "      <td>0.021550</td>\n",
       "      <td>3.092484e-02</td>\n",
       "      <td>4.857434e-01</td>\n",
       "    </tr>\n",
       "    <tr>\n",
       "      <th>8</th>\n",
       "      <td>V8</td>\n",
       "      <td>None</td>\n",
       "      <td>-0.256492</td>\n",
       "      <td>1.022334e-02</td>\n",
       "      <td>2.220446e-16</td>\n",
       "    </tr>\n",
       "    <tr>\n",
       "      <th>9</th>\n",
       "      <td>V9</td>\n",
       "      <td>None</td>\n",
       "      <td>-0.206444</td>\n",
       "      <td>1.643139e-02</td>\n",
       "      <td>1.490830e-11</td>\n",
       "    </tr>\n",
       "    <tr>\n",
       "      <th>10</th>\n",
       "      <td>V10</td>\n",
       "      <td>None</td>\n",
       "      <td>-0.277417</td>\n",
       "      <td>3.423001e-02</td>\n",
       "      <td>1.249219e-08</td>\n",
       "    </tr>\n",
       "    <tr>\n",
       "      <th>11</th>\n",
       "      <td>V11</td>\n",
       "      <td>None</td>\n",
       "      <td>0.203631</td>\n",
       "      <td>2.453611e-02</td>\n",
       "      <td>8.747291e-09</td>\n",
       "    </tr>\n",
       "    <tr>\n",
       "      <th>12</th>\n",
       "      <td>V12</td>\n",
       "      <td>None</td>\n",
       "      <td>-0.535729</td>\n",
       "      <td>4.262159e-02</td>\n",
       "      <td>1.480793e-11</td>\n",
       "    </tr>\n",
       "    <tr>\n",
       "      <th>13</th>\n",
       "      <td>V13</td>\n",
       "      <td>None</td>\n",
       "      <td>-0.202285</td>\n",
       "      <td>7.642101e-03</td>\n",
       "      <td>2.220446e-16</td>\n",
       "    </tr>\n",
       "    <tr>\n",
       "      <th>14</th>\n",
       "      <td>V14</td>\n",
       "      <td>None</td>\n",
       "      <td>-0.721657</td>\n",
       "      <td>4.414459e-02</td>\n",
       "      <td>2.384759e-13</td>\n",
       "    </tr>\n",
       "    <tr>\n",
       "      <th>15</th>\n",
       "      <td>V15</td>\n",
       "      <td>None</td>\n",
       "      <td>-0.066393</td>\n",
       "      <td>8.412598e-03</td>\n",
       "      <td>1.858135e-08</td>\n",
       "    </tr>\n",
       "    <tr>\n",
       "      <th>16</th>\n",
       "      <td>V16</td>\n",
       "      <td>None</td>\n",
       "      <td>-0.284348</td>\n",
       "      <td>4.042293e-02</td>\n",
       "      <td>1.015723e-07</td>\n",
       "    </tr>\n",
       "    <tr>\n",
       "      <th>17</th>\n",
       "      <td>V17</td>\n",
       "      <td>None</td>\n",
       "      <td>-0.157124</td>\n",
       "      <td>7.187087e-02</td>\n",
       "      <td>2.865180e-02</td>\n",
       "    </tr>\n",
       "    <tr>\n",
       "      <th>18</th>\n",
       "      <td>V18</td>\n",
       "      <td>None</td>\n",
       "      <td>-0.010872</td>\n",
       "      <td>2.833571e-02</td>\n",
       "      <td>7.008592e-01</td>\n",
       "    </tr>\n",
       "    <tr>\n",
       "      <th>19</th>\n",
       "      <td>V19</td>\n",
       "      <td>None</td>\n",
       "      <td>0.046917</td>\n",
       "      <td>1.266755e-02</td>\n",
       "      <td>4.162209e-04</td>\n",
       "    </tr>\n",
       "    <tr>\n",
       "      <th>20</th>\n",
       "      <td>V20</td>\n",
       "      <td>None</td>\n",
       "      <td>-0.061258</td>\n",
       "      <td>1.504970e-02</td>\n",
       "      <td>1.462586e-04</td>\n",
       "    </tr>\n",
       "    <tr>\n",
       "      <th>21</th>\n",
       "      <td>V21</td>\n",
       "      <td>None</td>\n",
       "      <td>0.031777</td>\n",
       "      <td>1.177721e-02</td>\n",
       "      <td>7.383009e-03</td>\n",
       "    </tr>\n",
       "    <tr>\n",
       "      <th>22</th>\n",
       "      <td>V22</td>\n",
       "      <td>None</td>\n",
       "      <td>0.322079</td>\n",
       "      <td>1.170979e-02</td>\n",
       "      <td>0.000000e+00</td>\n",
       "    </tr>\n",
       "    <tr>\n",
       "      <th>23</th>\n",
       "      <td>V23</td>\n",
       "      <td>None</td>\n",
       "      <td>-0.094803</td>\n",
       "      <td>1.157284e-02</td>\n",
       "      <td>1.063781e-08</td>\n",
       "    </tr>\n",
       "    <tr>\n",
       "      <th>24</th>\n",
       "      <td>V24</td>\n",
       "      <td>None</td>\n",
       "      <td>-0.070765</td>\n",
       "      <td>1.376942e-02</td>\n",
       "      <td>8.138092e-06</td>\n",
       "    </tr>\n",
       "    <tr>\n",
       "      <th>25</th>\n",
       "      <td>V25</td>\n",
       "      <td>None</td>\n",
       "      <td>0.100838</td>\n",
       "      <td>1.552957e-02</td>\n",
       "      <td>3.231127e-07</td>\n",
       "    </tr>\n",
       "    <tr>\n",
       "      <th>26</th>\n",
       "      <td>V26</td>\n",
       "      <td>None</td>\n",
       "      <td>-0.253135</td>\n",
       "      <td>1.791145e-02</td>\n",
       "      <td>2.360778e-12</td>\n",
       "    </tr>\n",
       "    <tr>\n",
       "      <th>27</th>\n",
       "      <td>V27</td>\n",
       "      <td>None</td>\n",
       "      <td>0.353265</td>\n",
       "      <td>2.245177e-02</td>\n",
       "      <td>4.358736e-13</td>\n",
       "    </tr>\n",
       "    <tr>\n",
       "      <th>28</th>\n",
       "      <td>V28</td>\n",
       "      <td>None</td>\n",
       "      <td>0.226636</td>\n",
       "      <td>2.274564e-02</td>\n",
       "      <td>5.424921e-10</td>\n",
       "    </tr>\n",
       "    <tr>\n",
       "      <th>29</th>\n",
       "      <td>Amount</td>\n",
       "      <td>None</td>\n",
       "      <td>0.000971</td>\n",
       "      <td>9.985433e-05</td>\n",
       "      <td>7.887555e-10</td>\n",
       "    </tr>\n",
       "    <tr>\n",
       "      <th>30</th>\n",
       "      <td>__INTERCEPT__</td>\n",
       "      <td>None</td>\n",
       "      <td>-2.332157</td>\n",
       "      <td>2.476536e-02</td>\n",
       "      <td>0.000000e+00</td>\n",
       "    </tr>\n",
       "  </tbody>\n",
       "</table>\n",
       "</div>"
      ],
      "text/plain": [
       "   processed_input category    weight  standard_error       p_value\n",
       "0             Time     None -0.000005    2.271379e-07  7.771561e-15\n",
       "1               V1     None  0.005717    1.149486e-02  6.184622e-01\n",
       "2               V2     None  0.048682    1.430870e-02  9.931026e-04\n",
       "3               V3     None -0.114183    2.339322e-02  1.592963e-05\n",
       "4               V4     None  0.603413    1.440621e-02  0.000000e+00\n",
       "5               V5     None  0.122359    1.774023e-02  1.352802e-07\n",
       "6               V6     None -0.146667    9.437534e-03  5.295764e-13\n",
       "7               V7     None  0.021550    3.092484e-02  4.857434e-01\n",
       "8               V8     None -0.256492    1.022334e-02  2.220446e-16\n",
       "9               V9     None -0.206444    1.643139e-02  1.490830e-11\n",
       "10             V10     None -0.277417    3.423001e-02  1.249219e-08\n",
       "11             V11     None  0.203631    2.453611e-02  8.747291e-09\n",
       "12             V12     None -0.535729    4.262159e-02  1.480793e-11\n",
       "13             V13     None -0.202285    7.642101e-03  2.220446e-16\n",
       "14             V14     None -0.721657    4.414459e-02  2.384759e-13\n",
       "15             V15     None -0.066393    8.412598e-03  1.858135e-08\n",
       "16             V16     None -0.284348    4.042293e-02  1.015723e-07\n",
       "17             V17     None -0.157124    7.187087e-02  2.865180e-02\n",
       "18             V18     None -0.010872    2.833571e-02  7.008592e-01\n",
       "19             V19     None  0.046917    1.266755e-02  4.162209e-04\n",
       "20             V20     None -0.061258    1.504970e-02  1.462586e-04\n",
       "21             V21     None  0.031777    1.177721e-02  7.383009e-03\n",
       "22             V22     None  0.322079    1.170979e-02  0.000000e+00\n",
       "23             V23     None -0.094803    1.157284e-02  1.063781e-08\n",
       "24             V24     None -0.070765    1.376942e-02  8.138092e-06\n",
       "25             V25     None  0.100838    1.552957e-02  3.231127e-07\n",
       "26             V26     None -0.253135    1.791145e-02  2.360778e-12\n",
       "27             V27     None  0.353265    2.245177e-02  4.358736e-13\n",
       "28             V28     None  0.226636    2.274564e-02  5.424921e-10\n",
       "29          Amount     None  0.000971    9.985433e-05  7.887555e-10\n",
       "30   __INTERCEPT__     None -2.332157    2.476536e-02  0.000000e+00"
      ]
     },
     "execution_count": 29,
     "metadata": {},
     "output_type": "execute_result"
    }
   ],
   "source": [
    "weights = bq.query(\n",
    "    query = f\"\"\"\n",
    "        SELECT *\n",
    "        FROM ML.ADVANCED_WEIGHTS(MODEL `{BQ_PROJECT}.{BQ_DATASET}.{BQ_MODEL}`)\n",
    "    \"\"\"\n",
    ").to_dataframe()\n",
    "weights"
   ]
  },
  {
   "cell_type": "markdown",
   "id": "3801418e",
   "metadata": {},
   "source": [
    "---\n",
    "## Evaluate Model"
   ]
  },
  {
   "cell_type": "markdown",
   "id": "ad2510dd-e9b3-460d-ae57-e7b32b8455cb",
   "metadata": {},
   "source": [
    "### Metrics"
   ]
  },
  {
   "cell_type": "markdown",
   "id": "e7820b93",
   "metadata": {},
   "source": [
    "Review the model evaluation statistics on the splits with [ML.EVALUATE](https://cloud.google.com/bigquery-ml/docs/reference/standard-sql/bigqueryml-syntax-evaluate):"
   ]
  },
  {
   "cell_type": "code",
   "execution_count": 30,
   "id": "cc215352",
   "metadata": {},
   "outputs": [
    {
     "data": {
      "text/html": [
       "<div>\n",
       "<style scoped>\n",
       "    .dataframe tbody tr th:only-of-type {\n",
       "        vertical-align: middle;\n",
       "    }\n",
       "\n",
       "    .dataframe tbody tr th {\n",
       "        vertical-align: top;\n",
       "    }\n",
       "\n",
       "    .dataframe thead th {\n",
       "        text-align: right;\n",
       "    }\n",
       "</style>\n",
       "<table border=\"1\" class=\"dataframe\">\n",
       "  <thead>\n",
       "    <tr style=\"text-align: right;\">\n",
       "      <th></th>\n",
       "      <th>SPLIT</th>\n",
       "      <th>precision</th>\n",
       "      <th>recall</th>\n",
       "      <th>accuracy</th>\n",
       "      <th>f1_score</th>\n",
       "      <th>log_loss</th>\n",
       "      <th>roc_auc</th>\n",
       "    </tr>\n",
       "  </thead>\n",
       "  <tbody>\n",
       "    <tr>\n",
       "      <th>0</th>\n",
       "      <td>TEST</td>\n",
       "      <td>0.071556</td>\n",
       "      <td>0.888889</td>\n",
       "      <td>0.981593</td>\n",
       "      <td>0.132450</td>\n",
       "      <td>0.123577</td>\n",
       "      <td>0.991659</td>\n",
       "    </tr>\n",
       "    <tr>\n",
       "      <th>1</th>\n",
       "      <td>VALIDATE</td>\n",
       "      <td>0.095819</td>\n",
       "      <td>0.964912</td>\n",
       "      <td>0.981585</td>\n",
       "      <td>0.174326</td>\n",
       "      <td>0.120090</td>\n",
       "      <td>0.995416</td>\n",
       "    </tr>\n",
       "    <tr>\n",
       "      <th>2</th>\n",
       "      <td>TRAIN</td>\n",
       "      <td>0.078156</td>\n",
       "      <td>0.900000</td>\n",
       "      <td>0.981675</td>\n",
       "      <td>0.143823</td>\n",
       "      <td>0.123780</td>\n",
       "      <td>0.984269</td>\n",
       "    </tr>\n",
       "  </tbody>\n",
       "</table>\n",
       "</div>"
      ],
      "text/plain": [
       "      SPLIT  precision    recall  accuracy  f1_score  log_loss   roc_auc\n",
       "0      TEST   0.071556  0.888889  0.981593  0.132450  0.123577  0.991659\n",
       "1  VALIDATE   0.095819  0.964912  0.981585  0.174326  0.120090  0.995416\n",
       "2     TRAIN   0.078156  0.900000  0.981675  0.143823  0.123780  0.984269"
      ]
     },
     "execution_count": 30,
     "metadata": {},
     "output_type": "execute_result"
    }
   ],
   "source": [
    "query = f\"\"\"\n",
    "SELECT 'TEST' as SPLIT, * FROM ML.EVALUATE (MODEL `{BQ_PROJECT}.{BQ_DATASET}.{BQ_MODEL}`,\n",
    "    (SELECT * FROM `{BQ_PROJECT}.{BQ_DATASET}.{BQ_TABLE}` WHERE SPLITS='TEST'))\n",
    "UNION ALL\n",
    "SELECT 'VALIDATE' as SPLIT, * FROM ML.EVALUATE (MODEL `{BQ_PROJECT}.{BQ_DATASET}.{BQ_MODEL}`,\n",
    "    (SELECT * FROM `{BQ_PROJECT}.{BQ_DATASET}.{BQ_TABLE}` WHERE SPLITS='VALIDATE'))\n",
    "UNION ALL\n",
    "SELECT 'TRAIN' as SPLIT, * FROM ML.EVALUATE (MODEL `{BQ_PROJECT}.{BQ_DATASET}.{BQ_MODEL}`,\n",
    "    (SELECT * FROM `{BQ_PROJECT}.{BQ_DATASET}.{BQ_TABLE}` WHERE SPLITS='TRAIN'))\n",
    "\"\"\"\n",
    "bq.query(query = query).to_dataframe()"
   ]
  },
  {
   "cell_type": "markdown",
   "id": "49d81406-68ac-467d-a470-54f7d80a5129",
   "metadata": {},
   "source": [
    "### Confusion Matrix"
   ]
  },
  {
   "cell_type": "markdown",
   "id": "51559961",
   "metadata": {},
   "source": [
    "Review the confusion matrix for each split with [ML.CONFUSION_MATRIX](https://cloud.google.com/bigquery-ml/docs/reference/standard-sql/bigqueryml-syntax-confusion):"
   ]
  },
  {
   "cell_type": "code",
   "execution_count": 31,
   "id": "0feb32e9",
   "metadata": {},
   "outputs": [
    {
     "data": {
      "text/html": [
       "<div>\n",
       "<style scoped>\n",
       "    .dataframe tbody tr th:only-of-type {\n",
       "        vertical-align: middle;\n",
       "    }\n",
       "\n",
       "    .dataframe tbody tr th {\n",
       "        vertical-align: top;\n",
       "    }\n",
       "\n",
       "    .dataframe thead th {\n",
       "        text-align: right;\n",
       "    }\n",
       "</style>\n",
       "<table border=\"1\" class=\"dataframe\">\n",
       "  <thead>\n",
       "    <tr style=\"text-align: right;\">\n",
       "      <th></th>\n",
       "      <th>expected_label</th>\n",
       "      <th>_0</th>\n",
       "      <th>_1</th>\n",
       "    </tr>\n",
       "  </thead>\n",
       "  <tbody>\n",
       "    <tr>\n",
       "      <th>0</th>\n",
       "      <td>0</td>\n",
       "      <td>223517</td>\n",
       "      <td>4140</td>\n",
       "    </tr>\n",
       "    <tr>\n",
       "      <th>1</th>\n",
       "      <td>1</td>\n",
       "      <td>39</td>\n",
       "      <td>351</td>\n",
       "    </tr>\n",
       "  </tbody>\n",
       "</table>\n",
       "</div>"
      ],
      "text/plain": [
       "   expected_label      _0    _1\n",
       "0               0  223517  4140\n",
       "1               1      39   351"
      ]
     },
     "execution_count": 31,
     "metadata": {},
     "output_type": "execute_result"
    }
   ],
   "source": [
    "query = f\"\"\"\n",
    "SELECT *\n",
    "FROM ML.CONFUSION_MATRIX (MODEL `{BQ_PROJECT}.{BQ_DATASET}.{BQ_MODEL}`,(\n",
    "    SELECT *\n",
    "    FROM `{BQ_PROJECT}.{BQ_DATASET}.{BQ_TABLE}`\n",
    "    WHERE splits = 'TRAIN')\n",
    "  )\n",
    "\"\"\"\n",
    "bq.query(query = query).to_dataframe()"
   ]
  },
  {
   "cell_type": "code",
   "execution_count": 32,
   "id": "b26c799e",
   "metadata": {},
   "outputs": [
    {
     "data": {
      "text/html": [
       "<div>\n",
       "<style scoped>\n",
       "    .dataframe tbody tr th:only-of-type {\n",
       "        vertical-align: middle;\n",
       "    }\n",
       "\n",
       "    .dataframe tbody tr th {\n",
       "        vertical-align: top;\n",
       "    }\n",
       "\n",
       "    .dataframe thead th {\n",
       "        text-align: right;\n",
       "    }\n",
       "</style>\n",
       "<table border=\"1\" class=\"dataframe\">\n",
       "  <thead>\n",
       "    <tr style=\"text-align: right;\">\n",
       "      <th></th>\n",
       "      <th>expected_label</th>\n",
       "      <th>_0</th>\n",
       "      <th>_1</th>\n",
       "    </tr>\n",
       "  </thead>\n",
       "  <tbody>\n",
       "    <tr>\n",
       "      <th>0</th>\n",
       "      <td>0</td>\n",
       "      <td>27716</td>\n",
       "      <td>519</td>\n",
       "    </tr>\n",
       "    <tr>\n",
       "      <th>1</th>\n",
       "      <td>1</td>\n",
       "      <td>2</td>\n",
       "      <td>55</td>\n",
       "    </tr>\n",
       "  </tbody>\n",
       "</table>\n",
       "</div>"
      ],
      "text/plain": [
       "   expected_label     _0   _1\n",
       "0               0  27716  519\n",
       "1               1      2   55"
      ]
     },
     "execution_count": 32,
     "metadata": {},
     "output_type": "execute_result"
    }
   ],
   "source": [
    "query = f\"\"\"\n",
    "SELECT *\n",
    "FROM ML.CONFUSION_MATRIX (MODEL `{BQ_PROJECT}.{BQ_DATASET}.{BQ_MODEL}`,(\n",
    "    SELECT *\n",
    "    FROM `{BQ_PROJECT}.{BQ_DATASET}.{BQ_TABLE}`\n",
    "    WHERE splits = 'VALIDATE')\n",
    "  )\n",
    "\"\"\"\n",
    "bq.query(query = query).to_dataframe()"
   ]
  },
  {
   "cell_type": "code",
   "execution_count": 33,
   "id": "c1251bc5",
   "metadata": {},
   "outputs": [
    {
     "data": {
      "text/html": [
       "<div>\n",
       "<style scoped>\n",
       "    .dataframe tbody tr th:only-of-type {\n",
       "        vertical-align: middle;\n",
       "    }\n",
       "\n",
       "    .dataframe tbody tr th {\n",
       "        vertical-align: top;\n",
       "    }\n",
       "\n",
       "    .dataframe thead th {\n",
       "        text-align: right;\n",
       "    }\n",
       "</style>\n",
       "<table border=\"1\" class=\"dataframe\">\n",
       "  <thead>\n",
       "    <tr style=\"text-align: right;\">\n",
       "      <th></th>\n",
       "      <th>expected_label</th>\n",
       "      <th>_0</th>\n",
       "      <th>_1</th>\n",
       "    </tr>\n",
       "  </thead>\n",
       "  <tbody>\n",
       "    <tr>\n",
       "      <th>0</th>\n",
       "      <td>0</td>\n",
       "      <td>27904</td>\n",
       "      <td>519</td>\n",
       "    </tr>\n",
       "    <tr>\n",
       "      <th>1</th>\n",
       "      <td>1</td>\n",
       "      <td>5</td>\n",
       "      <td>40</td>\n",
       "    </tr>\n",
       "  </tbody>\n",
       "</table>\n",
       "</div>"
      ],
      "text/plain": [
       "   expected_label     _0   _1\n",
       "0               0  27904  519\n",
       "1               1      5   40"
      ]
     },
     "execution_count": 33,
     "metadata": {},
     "output_type": "execute_result"
    }
   ],
   "source": [
    "query = f\"\"\"\n",
    "SELECT *\n",
    "FROM ML.CONFUSION_MATRIX (MODEL `{BQ_PROJECT}.{BQ_DATASET}.{BQ_MODEL}`,(\n",
    "    SELECT *\n",
    "    FROM `{BQ_PROJECT}.{BQ_DATASET}.{BQ_TABLE}`\n",
    "    WHERE splits = 'TEST')\n",
    "  )\n",
    "\"\"\"\n",
    "bq.query(query = query).to_dataframe()"
   ]
  },
  {
   "cell_type": "markdown",
   "id": "4c0727f7-dd27-4f83-9ffe-1f7018f8402a",
   "metadata": {},
   "source": [
    "### ROC Curve\n",
    "\n",
    "Retrieve the ROC Curve for each split using [ML.ROC_CURVE](https://cloud.google.com/bigquery-ml/docs/reference/standard-sql/bigqueryml-syntax-roc):"
   ]
  },
  {
   "cell_type": "code",
   "execution_count": 34,
   "id": "fedf624f-6749-4648-9b0f-64fc3f9edfb8",
   "metadata": {},
   "outputs": [
    {
     "data": {
      "text/html": [
       "<div>\n",
       "<style scoped>\n",
       "    .dataframe tbody tr th:only-of-type {\n",
       "        vertical-align: middle;\n",
       "    }\n",
       "\n",
       "    .dataframe tbody tr th {\n",
       "        vertical-align: top;\n",
       "    }\n",
       "\n",
       "    .dataframe thead th {\n",
       "        text-align: right;\n",
       "    }\n",
       "</style>\n",
       "<table border=\"1\" class=\"dataframe\">\n",
       "  <thead>\n",
       "    <tr style=\"text-align: right;\">\n",
       "      <th></th>\n",
       "      <th>threshold</th>\n",
       "      <th>recall</th>\n",
       "      <th>false_positive_rate</th>\n",
       "      <th>true_positives</th>\n",
       "      <th>false_positives</th>\n",
       "      <th>true_negatives</th>\n",
       "      <th>false_negatives</th>\n",
       "    </tr>\n",
       "  </thead>\n",
       "  <tbody>\n",
       "    <tr>\n",
       "      <th>0</th>\n",
       "      <td>1.000000</td>\n",
       "      <td>0.028205</td>\n",
       "      <td>0.000004</td>\n",
       "      <td>11</td>\n",
       "      <td>1</td>\n",
       "      <td>227656</td>\n",
       "      <td>379</td>\n",
       "    </tr>\n",
       "    <tr>\n",
       "      <th>1</th>\n",
       "      <td>0.719289</td>\n",
       "      <td>0.874359</td>\n",
       "      <td>0.008623</td>\n",
       "      <td>341</td>\n",
       "      <td>1963</td>\n",
       "      <td>225694</td>\n",
       "      <td>49</td>\n",
       "    </tr>\n",
       "    <tr>\n",
       "      <th>2</th>\n",
       "      <td>0.497822</td>\n",
       "      <td>0.902564</td>\n",
       "      <td>0.018374</td>\n",
       "      <td>352</td>\n",
       "      <td>4183</td>\n",
       "      <td>223474</td>\n",
       "      <td>38</td>\n",
       "    </tr>\n",
       "    <tr>\n",
       "      <th>3</th>\n",
       "      <td>0.411581</td>\n",
       "      <td>0.912821</td>\n",
       "      <td>0.028613</td>\n",
       "      <td>356</td>\n",
       "      <td>6514</td>\n",
       "      <td>221143</td>\n",
       "      <td>34</td>\n",
       "    </tr>\n",
       "    <tr>\n",
       "      <th>4</th>\n",
       "      <td>0.355625</td>\n",
       "      <td>0.923077</td>\n",
       "      <td>0.038369</td>\n",
       "      <td>360</td>\n",
       "      <td>8735</td>\n",
       "      <td>218922</td>\n",
       "      <td>30</td>\n",
       "    </tr>\n",
       "  </tbody>\n",
       "</table>\n",
       "</div>"
      ],
      "text/plain": [
       "   threshold    recall  false_positive_rate  true_positives  false_positives  \\\n",
       "0   1.000000  0.028205             0.000004              11                1   \n",
       "1   0.719289  0.874359             0.008623             341             1963   \n",
       "2   0.497822  0.902564             0.018374             352             4183   \n",
       "3   0.411581  0.912821             0.028613             356             6514   \n",
       "4   0.355625  0.923077             0.038369             360             8735   \n",
       "\n",
       "   true_negatives  false_negatives  \n",
       "0          227656              379  \n",
       "1          225694               49  \n",
       "2          223474               38  \n",
       "3          221143               34  \n",
       "4          218922               30  "
      ]
     },
     "execution_count": 34,
     "metadata": {},
     "output_type": "execute_result"
    }
   ],
   "source": [
    "query = f\"\"\"\n",
    "SELECT *\n",
    "FROM ML.ROC_CURVE (MODEL `{BQ_PROJECT}.{BQ_DATASET}.{BQ_MODEL}`,(\n",
    "    SELECT *\n",
    "    FROM `{BQ_PROJECT}.{BQ_DATASET}.{BQ_TABLE}`\n",
    "    WHERE splits = 'TRAIN')\n",
    "  )\n",
    "ORDER BY false_positive_rate\n",
    "\"\"\"\n",
    "train_roc = bq.query(query = query).to_dataframe()\n",
    "train_roc.head()"
   ]
  },
  {
   "cell_type": "code",
   "execution_count": 35,
   "id": "dbdba57b-c3c7-4f99-b658-026608f57037",
   "metadata": {},
   "outputs": [
    {
     "data": {
      "text/html": [
       "<div>\n",
       "<style scoped>\n",
       "    .dataframe tbody tr th:only-of-type {\n",
       "        vertical-align: middle;\n",
       "    }\n",
       "\n",
       "    .dataframe tbody tr th {\n",
       "        vertical-align: top;\n",
       "    }\n",
       "\n",
       "    .dataframe thead th {\n",
       "        text-align: right;\n",
       "    }\n",
       "</style>\n",
       "<table border=\"1\" class=\"dataframe\">\n",
       "  <thead>\n",
       "    <tr style=\"text-align: right;\">\n",
       "      <th></th>\n",
       "      <th>threshold</th>\n",
       "      <th>recall</th>\n",
       "      <th>false_positive_rate</th>\n",
       "      <th>true_positives</th>\n",
       "      <th>false_positives</th>\n",
       "      <th>true_negatives</th>\n",
       "      <th>false_negatives</th>\n",
       "    </tr>\n",
       "  </thead>\n",
       "  <tbody>\n",
       "    <tr>\n",
       "      <th>0</th>\n",
       "      <td>1.000000</td>\n",
       "      <td>0.017544</td>\n",
       "      <td>0.000000</td>\n",
       "      <td>1</td>\n",
       "      <td>0</td>\n",
       "      <td>28235</td>\n",
       "      <td>56</td>\n",
       "    </tr>\n",
       "    <tr>\n",
       "      <th>1</th>\n",
       "      <td>0.755920</td>\n",
       "      <td>0.947368</td>\n",
       "      <td>0.008004</td>\n",
       "      <td>54</td>\n",
       "      <td>226</td>\n",
       "      <td>28009</td>\n",
       "      <td>3</td>\n",
       "    </tr>\n",
       "    <tr>\n",
       "      <th>2</th>\n",
       "      <td>0.503102</td>\n",
       "      <td>0.964912</td>\n",
       "      <td>0.018098</td>\n",
       "      <td>55</td>\n",
       "      <td>511</td>\n",
       "      <td>27724</td>\n",
       "      <td>2</td>\n",
       "    </tr>\n",
       "    <tr>\n",
       "      <th>3</th>\n",
       "      <td>0.414525</td>\n",
       "      <td>0.964912</td>\n",
       "      <td>0.027909</td>\n",
       "      <td>55</td>\n",
       "      <td>788</td>\n",
       "      <td>27447</td>\n",
       "      <td>2</td>\n",
       "    </tr>\n",
       "    <tr>\n",
       "      <th>4</th>\n",
       "      <td>0.355144</td>\n",
       "      <td>0.964912</td>\n",
       "      <td>0.038321</td>\n",
       "      <td>55</td>\n",
       "      <td>1082</td>\n",
       "      <td>27153</td>\n",
       "      <td>2</td>\n",
       "    </tr>\n",
       "  </tbody>\n",
       "</table>\n",
       "</div>"
      ],
      "text/plain": [
       "   threshold    recall  false_positive_rate  true_positives  false_positives  \\\n",
       "0   1.000000  0.017544             0.000000               1                0   \n",
       "1   0.755920  0.947368             0.008004              54              226   \n",
       "2   0.503102  0.964912             0.018098              55              511   \n",
       "3   0.414525  0.964912             0.027909              55              788   \n",
       "4   0.355144  0.964912             0.038321              55             1082   \n",
       "\n",
       "   true_negatives  false_negatives  \n",
       "0           28235               56  \n",
       "1           28009                3  \n",
       "2           27724                2  \n",
       "3           27447                2  \n",
       "4           27153                2  "
      ]
     },
     "execution_count": 35,
     "metadata": {},
     "output_type": "execute_result"
    }
   ],
   "source": [
    "query = f\"\"\"\n",
    "SELECT *\n",
    "FROM ML.ROC_CURVE (MODEL `{BQ_PROJECT}.{BQ_DATASET}.{BQ_MODEL}`,(\n",
    "    SELECT *\n",
    "    FROM `{BQ_PROJECT}.{BQ_DATASET}.{BQ_TABLE}`\n",
    "    WHERE splits = 'VALIDATE')\n",
    "  )\n",
    "ORDER BY false_positive_rate\n",
    "\"\"\"\n",
    "val_roc = bq.query(query = query).to_dataframe()\n",
    "val_roc.head()"
   ]
  },
  {
   "cell_type": "code",
   "execution_count": 36,
   "id": "c8127f09-ce81-4f6d-8e81-e7c569eb39db",
   "metadata": {},
   "outputs": [
    {
     "data": {
      "text/html": [
       "<div>\n",
       "<style scoped>\n",
       "    .dataframe tbody tr th:only-of-type {\n",
       "        vertical-align: middle;\n",
       "    }\n",
       "\n",
       "    .dataframe tbody tr th {\n",
       "        vertical-align: top;\n",
       "    }\n",
       "\n",
       "    .dataframe thead th {\n",
       "        text-align: right;\n",
       "    }\n",
       "</style>\n",
       "<table border=\"1\" class=\"dataframe\">\n",
       "  <thead>\n",
       "    <tr style=\"text-align: right;\">\n",
       "      <th></th>\n",
       "      <th>threshold</th>\n",
       "      <th>recall</th>\n",
       "      <th>false_positive_rate</th>\n",
       "      <th>true_positives</th>\n",
       "      <th>false_positives</th>\n",
       "      <th>true_negatives</th>\n",
       "      <th>false_negatives</th>\n",
       "    </tr>\n",
       "  </thead>\n",
       "  <tbody>\n",
       "    <tr>\n",
       "      <th>0</th>\n",
       "      <td>1.000000</td>\n",
       "      <td>0.022222</td>\n",
       "      <td>0.000000</td>\n",
       "      <td>1</td>\n",
       "      <td>0</td>\n",
       "      <td>28423</td>\n",
       "      <td>44</td>\n",
       "    </tr>\n",
       "    <tr>\n",
       "      <th>1</th>\n",
       "      <td>0.719123</td>\n",
       "      <td>0.866667</td>\n",
       "      <td>0.008444</td>\n",
       "      <td>39</td>\n",
       "      <td>240</td>\n",
       "      <td>28183</td>\n",
       "      <td>6</td>\n",
       "    </tr>\n",
       "    <tr>\n",
       "      <th>2</th>\n",
       "      <td>0.495301</td>\n",
       "      <td>0.888889</td>\n",
       "      <td>0.018647</td>\n",
       "      <td>40</td>\n",
       "      <td>530</td>\n",
       "      <td>27893</td>\n",
       "      <td>5</td>\n",
       "    </tr>\n",
       "    <tr>\n",
       "      <th>3</th>\n",
       "      <td>0.412688</td>\n",
       "      <td>0.911111</td>\n",
       "      <td>0.028533</td>\n",
       "      <td>41</td>\n",
       "      <td>811</td>\n",
       "      <td>27612</td>\n",
       "      <td>4</td>\n",
       "    </tr>\n",
       "    <tr>\n",
       "      <th>4</th>\n",
       "      <td>0.359121</td>\n",
       "      <td>0.911111</td>\n",
       "      <td>0.038490</td>\n",
       "      <td>41</td>\n",
       "      <td>1094</td>\n",
       "      <td>27329</td>\n",
       "      <td>4</td>\n",
       "    </tr>\n",
       "  </tbody>\n",
       "</table>\n",
       "</div>"
      ],
      "text/plain": [
       "   threshold    recall  false_positive_rate  true_positives  false_positives  \\\n",
       "0   1.000000  0.022222             0.000000               1                0   \n",
       "1   0.719123  0.866667             0.008444              39              240   \n",
       "2   0.495301  0.888889             0.018647              40              530   \n",
       "3   0.412688  0.911111             0.028533              41              811   \n",
       "4   0.359121  0.911111             0.038490              41             1094   \n",
       "\n",
       "   true_negatives  false_negatives  \n",
       "0           28423               44  \n",
       "1           28183                6  \n",
       "2           27893                5  \n",
       "3           27612                4  \n",
       "4           27329                4  "
      ]
     },
     "execution_count": 36,
     "metadata": {},
     "output_type": "execute_result"
    }
   ],
   "source": [
    "query = f\"\"\"\n",
    "SELECT *\n",
    "FROM ML.ROC_CURVE (MODEL `{BQ_PROJECT}.{BQ_DATASET}.{BQ_MODEL}`,(\n",
    "    SELECT *\n",
    "    FROM `{BQ_PROJECT}.{BQ_DATASET}.{BQ_TABLE}`\n",
    "    WHERE splits = 'TEST')\n",
    "  )\n",
    "ORDER BY false_positive_rate\n",
    "\"\"\"\n",
    "test_roc = bq.query(query = query).to_dataframe()\n",
    "test_roc.head()"
   ]
  },
  {
   "cell_type": "code",
   "execution_count": 37,
   "id": "473cb999-eae9-425b-ade6-ec8c183baa6c",
   "metadata": {},
   "outputs": [
    {
     "data": {
      "image/png": "[encoded data removed]",
      "text/plain": [
       "<Figure size 1500x500 with 1 Axes>"
      ]
     },
     "metadata": {},
     "output_type": "display_data"
    }
   ],
   "source": [
    "plt.figure(figsize=(15,5))\n",
    "plt.plot(train_roc['false_positive_rate'], train_roc['recall'], label='TRAIN')\n",
    "plt.plot(val_roc['false_positive_rate'], val_roc['recall'], label='VALIDATE')\n",
    "plt.plot(test_roc['false_positive_rate'], test_roc['recall'], label='TEST')\n",
    "plt.xlabel('False Positive Rate')\n",
    "plt.ylabel('True Positive Rate\\nRecall')\n",
    "plt.title('ROC Curves')\n",
    "plt.legend()\n",
    "plt.show()"
   ]
  },
  {
   "cell_type": "markdown",
   "id": "567d51f8",
   "metadata": {},
   "source": [
    "---\n",
    "## Predictions With BigQuery ML (BQML)"
   ]
  },
  {
   "cell_type": "markdown",
   "id": "0d0065d0",
   "metadata": {},
   "source": [
    "Create a pandas dataframe with retrieved predictions for the test data in the table using [ML.PREDICT](https://cloud.google.com/bigquery-ml/docs/reference/standard-sql/bigqueryml-syntax-predict):"
   ]
  },
  {
   "cell_type": "code",
   "execution_count": 38,
   "id": "11007445",
   "metadata": {},
   "outputs": [],
   "source": [
    "query = f\"\"\"\n",
    "SELECT *\n",
    "FROM ML.PREDICT (MODEL `{BQ_PROJECT}.{BQ_DATASET}.{BQ_MODEL}`,(\n",
    "    SELECT *\n",
    "    FROM `{BQ_PROJECT}.{BQ_DATASET}.{BQ_TABLE}`\n",
    "    WHERE splits = 'TEST')\n",
    "  )\n",
    "\"\"\"\n",
    "pred = bq.query(query = query).to_dataframe()"
   ]
  },
  {
   "cell_type": "markdown",
   "id": "39907308",
   "metadata": {},
   "source": [
    "Review columns from the predictions - note that the query added columns with prefix `predicted_`"
   ]
  },
  {
   "cell_type": "code",
   "execution_count": 39,
   "id": "78c44b1f",
   "metadata": {},
   "outputs": [
    {
     "data": {
      "text/plain": [
       "Index(['predicted_Class', 'predicted_Class_probs', 'Time', 'V1', 'V2', 'V3',\n",
       "       'V4', 'V5', 'V6', 'V7', 'V8', 'V9', 'V10', 'V11', 'V12', 'V13', 'V14',\n",
       "       'V15', 'V16', 'V17', 'V18', 'V19', 'V20', 'V21', 'V22', 'V23', 'V24',\n",
       "       'V25', 'V26', 'V27', 'V28', 'Amount', 'Class', 'transaction_id',\n",
       "       'splits'],\n",
       "      dtype='object')"
      ]
     },
     "execution_count": 39,
     "metadata": {},
     "output_type": "execute_result"
    }
   ],
   "source": [
    "pred.columns"
   ]
  },
  {
   "cell_type": "markdown",
   "id": "4b072761",
   "metadata": {},
   "source": [
    "Print the first few rows for the columns related to the actual and predicted values:"
   ]
  },
  {
   "cell_type": "code",
   "execution_count": 40,
   "id": "c66df846",
   "metadata": {},
   "outputs": [
    {
     "data": {
      "text/html": [
       "<div>\n",
       "<style scoped>\n",
       "    .dataframe tbody tr th:only-of-type {\n",
       "        vertical-align: middle;\n",
       "    }\n",
       "\n",
       "    .dataframe tbody tr th {\n",
       "        vertical-align: top;\n",
       "    }\n",
       "\n",
       "    .dataframe thead th {\n",
       "        text-align: right;\n",
       "    }\n",
       "</style>\n",
       "<table border=\"1\" class=\"dataframe\">\n",
       "  <thead>\n",
       "    <tr style=\"text-align: right;\">\n",
       "      <th></th>\n",
       "      <th>Class</th>\n",
       "      <th>predicted_Class</th>\n",
       "      <th>predicted_Class_probs</th>\n",
       "      <th>splits</th>\n",
       "    </tr>\n",
       "  </thead>\n",
       "  <tbody>\n",
       "    <tr>\n",
       "      <th>0</th>\n",
       "      <td>0</td>\n",
       "      <td>0</td>\n",
       "      <td>[{'label': 1, 'prob': 0.01771644802024108}, {'...</td>\n",
       "      <td>TEST</td>\n",
       "    </tr>\n",
       "    <tr>\n",
       "      <th>1</th>\n",
       "      <td>0</td>\n",
       "      <td>0</td>\n",
       "      <td>[{'label': 1, 'prob': 0.06768691443186707}, {'...</td>\n",
       "      <td>TEST</td>\n",
       "    </tr>\n",
       "    <tr>\n",
       "      <th>2</th>\n",
       "      <td>0</td>\n",
       "      <td>0</td>\n",
       "      <td>[{'label': 1, 'prob': 0.2517095946441859}, {'l...</td>\n",
       "      <td>TEST</td>\n",
       "    </tr>\n",
       "    <tr>\n",
       "      <th>3</th>\n",
       "      <td>0</td>\n",
       "      <td>0</td>\n",
       "      <td>[{'label': 1, 'prob': 0.027287823697052294}, {...</td>\n",
       "      <td>TEST</td>\n",
       "    </tr>\n",
       "    <tr>\n",
       "      <th>4</th>\n",
       "      <td>0</td>\n",
       "      <td>0</td>\n",
       "      <td>[{'label': 1, 'prob': 0.397623089391459}, {'la...</td>\n",
       "      <td>TEST</td>\n",
       "    </tr>\n",
       "  </tbody>\n",
       "</table>\n",
       "</div>"
      ],
      "text/plain": [
       "   Class  predicted_Class                              predicted_Class_probs  \\\n",
       "0      0                0  [{'label': 1, 'prob': 0.01771644802024108}, {'...   \n",
       "1      0                0  [{'label': 1, 'prob': 0.06768691443186707}, {'...   \n",
       "2      0                0  [{'label': 1, 'prob': 0.2517095946441859}, {'l...   \n",
       "3      0                0  [{'label': 1, 'prob': 0.027287823697052294}, {...   \n",
       "4      0                0  [{'label': 1, 'prob': 0.397623089391459}, {'la...   \n",
       "\n",
       "  splits  \n",
       "0   TEST  \n",
       "1   TEST  \n",
       "2   TEST  \n",
       "3   TEST  \n",
       "4   TEST  "
      ]
     },
     "execution_count": 40,
     "metadata": {},
     "output_type": "execute_result"
    }
   ],
   "source": [
    "pred[[VAR_TARGET, f'predicted_{VAR_TARGET}', f'predicted_{VAR_TARGET}_probs', 'splits']].head()"
   ]
  },
  {
   "cell_type": "markdown",
   "id": "abcf9a35",
   "metadata": {},
   "source": [
    "Notice the nested dictionary for predicted probabilities.  In BigQuery this is a Record type structure with nested fields for `label` and `prob`.  This is returned to the pandas dataframe as a nested dictionary.\n",
    "\n",
    "The following code sorts the dictionary for the first record by `prob`:"
   ]
  },
  {
   "cell_type": "code",
   "execution_count": 41,
   "id": "b213c1f7",
   "metadata": {},
   "outputs": [
    {
     "data": {
      "text/plain": [
       "[[{'label': 0, 'prob': 0.9822835519797589},\n",
       "  {'label': 1, 'prob': 0.01771644802024108}]]"
      ]
     },
     "execution_count": 41,
     "metadata": {},
     "output_type": "execute_result"
    }
   ],
   "source": [
    "exec('temp = pred.predicted_'+VAR_TARGET+'_probs[0]')\n",
    "[sorted(x, key = lambda x: x['label']) for x in [temp]]"
   ]
  },
  {
   "cell_type": "markdown",
   "id": "c34160fc-acde-457d-b1d7-b461aea9b77a",
   "metadata": {},
   "source": [
    "---\n",
    "## Custom Eval Metrics\n",
    "Retrieve the predictions to a local dataframe and use [scikit-learn](https://scikit-learn.org/stable/index.html) metrics [fuctions](https://scikit-learn.org/stable/modules/model_evaluation.html) to do model evaluation."
   ]
  },
  {
   "cell_type": "code",
   "execution_count": 42,
   "id": "f5597c51-0624-4655-a1d8-84e39c163a15",
   "metadata": {},
   "outputs": [
    {
     "data": {
      "text/plain": [
       "array([[27904,   519],\n",
       "       [    5,    40]])"
      ]
     },
     "execution_count": 42,
     "metadata": {},
     "output_type": "execute_result"
    }
   ],
   "source": [
    "metrics.confusion_matrix(list(pred[f'{VAR_TARGET}']), list(pred[f'predicted_{VAR_TARGET}']))"
   ]
  },
  {
   "cell_type": "code",
   "execution_count": 43,
   "id": "fc2de447-e779-4b86-8a20-d7a724767255",
   "metadata": {},
   "outputs": [
    {
     "data": {
      "text/plain": [
       "<sklearn.metrics._plot.confusion_matrix.ConfusionMatrixDisplay at 0x7f5883d7a2f0>"
      ]
     },
     "execution_count": 43,
     "metadata": {},
     "output_type": "execute_result"
    },
    {
     "data": {
      "image/png": "[encoded data removed]",
      "text/plain": [
       "<Figure size 640x480 with 2 Axes>"
      ]
     },
     "metadata": {},
     "output_type": "display_data"
    }
   ],
   "source": [
    "disp = metrics.ConfusionMatrixDisplay(\n",
    "    confusion_matrix = metrics.confusion_matrix(list(pred[f'{VAR_TARGET}']), list(pred[f'predicted_{VAR_TARGET}']))\n",
    ")\n",
    "disp.plot()"
   ]
  },
  {
   "cell_type": "code",
   "execution_count": 44,
   "id": "f12fc9e8-621e-4aa8-a0c2-fdcafce4a78c",
   "metadata": {},
   "outputs": [
    {
     "data": {
      "text/plain": [
       "0.9815933679921315"
      ]
     },
     "execution_count": 44,
     "metadata": {},
     "output_type": "execute_result"
    }
   ],
   "source": [
    "metrics.accuracy_score(list(pred[f'{VAR_TARGET}']), list(pred[f'predicted_{VAR_TARGET}']))"
   ]
  },
  {
   "cell_type": "code",
   "execution_count": 45,
   "id": "01edc1f5-bb23-4dab-833c-c1489d4ad355",
   "metadata": {},
   "outputs": [
    {
     "name": "stdout",
     "output_type": "stream",
     "text": [
      "              precision    recall  f1-score   support\n",
      "\n",
      "           0       1.00      0.98      0.99     28423\n",
      "           1       0.07      0.89      0.13        45\n",
      "\n",
      "    accuracy                           0.98     28468\n",
      "   macro avg       0.54      0.94      0.56     28468\n",
      "weighted avg       1.00      0.98      0.99     28468\n",
      "\n"
     ]
    }
   ],
   "source": [
    "print(metrics.classification_report(list(pred[f'{VAR_TARGET}']), list(pred[f'predicted_{VAR_TARGET}'])))"
   ]
  },
  {
   "cell_type": "markdown",
   "id": "e3d40959-4812-4094-a2f9-5452d7273c89",
   "metadata": {},
   "source": [
    "---\n",
    "## Explanations\n",
    "[Built-in](https://cloud.google.com/bigquery-ml/docs/reference/standard-sql/bigqueryml-syntax-xai-overview) capabilities to understand how features contributed to predictions both individually (local) and overall (global)."
   ]
  },
  {
   "cell_type": "markdown",
   "id": "6e7ce029-5baf-4019-b680-29f8e6c5f989",
   "metadata": {},
   "source": [
    "### Local Explainability\n",
    "Retrieve feature attribution values to interpret each features contribution to a prediction relative to the baseline prediction using [ML.EXPLAIN_PREDICT](https://cloud.google.com/bigquery-ml/docs/reference/standard-sql/bigqueryml-syntax-explain-predict)."
   ]
  },
  {
   "cell_type": "code",
   "execution_count": 46,
   "id": "219fd574-6971-4e8a-8805-fdd2d3514a69",
   "metadata": {},
   "outputs": [],
   "source": [
    "query = f\"\"\"\n",
    "SELECT *\n",
    "FROM ML.EXPLAIN_PREDICT (MODEL `{BQ_PROJECT}.{BQ_DATASET}.{BQ_MODEL}`,(\n",
    "    SELECT *\n",
    "    FROM `{BQ_PROJECT}.{BQ_DATASET}.{BQ_TABLE}`\n",
    "    WHERE splits = 'TEST'), STRUCT(10 as top_k_features)\n",
    "  )\n",
    "\"\"\"\n",
    "explain = bq.query(query = query).to_dataframe()"
   ]
  },
  {
   "cell_type": "code",
   "execution_count": 47,
   "id": "6b9e6324-b1c5-477d-95c8-c3338738fec0",
   "metadata": {},
   "outputs": [
    {
     "data": {
      "text/html": [
       "<div>\n",
       "<style scoped>\n",
       "    .dataframe tbody tr th:only-of-type {\n",
       "        vertical-align: middle;\n",
       "    }\n",
       "\n",
       "    .dataframe tbody tr th {\n",
       "        vertical-align: top;\n",
       "    }\n",
       "\n",
       "    .dataframe thead th {\n",
       "        text-align: right;\n",
       "    }\n",
       "</style>\n",
       "<table border=\"1\" class=\"dataframe\">\n",
       "  <thead>\n",
       "    <tr style=\"text-align: right;\">\n",
       "      <th></th>\n",
       "      <th>predicted_Class</th>\n",
       "      <th>probability</th>\n",
       "      <th>top_feature_attributions</th>\n",
       "      <th>baseline_prediction_value</th>\n",
       "      <th>prediction_value</th>\n",
       "      <th>approximation_error</th>\n",
       "      <th>Time</th>\n",
       "      <th>V1</th>\n",
       "      <th>V2</th>\n",
       "      <th>V3</th>\n",
       "      <th>...</th>\n",
       "      <th>V23</th>\n",
       "      <th>V24</th>\n",
       "      <th>V25</th>\n",
       "      <th>V26</th>\n",
       "      <th>V27</th>\n",
       "      <th>V28</th>\n",
       "      <th>Amount</th>\n",
       "      <th>Class</th>\n",
       "      <th>transaction_id</th>\n",
       "      <th>splits</th>\n",
       "    </tr>\n",
       "  </thead>\n",
       "  <tbody>\n",
       "    <tr>\n",
       "      <th>0</th>\n",
       "      <td>0</td>\n",
       "      <td>0.982284</td>\n",
       "      <td>[{'feature': 'V4', 'attribution': -0.812634942...</td>\n",
       "      <td>-2.683264</td>\n",
       "      <td>-4.015387</td>\n",
       "      <td>0.0</td>\n",
       "      <td>76558</td>\n",
       "      <td>-0.465150</td>\n",
       "      <td>0.818433</td>\n",
       "      <td>1.326391</td>\n",
       "      <td>...</td>\n",
       "      <td>-0.290143</td>\n",
       "      <td>-0.387924</td>\n",
       "      <td>0.413861</td>\n",
       "      <td>0.813386</td>\n",
       "      <td>-0.130873</td>\n",
       "      <td>-0.047641</td>\n",
       "      <td>0.0</td>\n",
       "      <td>0</td>\n",
       "      <td>c14b4a94-6794-467b-880c-522dd45de66e</td>\n",
       "      <td>TEST</td>\n",
       "    </tr>\n",
       "    <tr>\n",
       "      <th>1</th>\n",
       "      <td>0</td>\n",
       "      <td>0.932313</td>\n",
       "      <td>[{'feature': 'V4', 'attribution': 2.5146411447...</td>\n",
       "      <td>-2.683264</td>\n",
       "      <td>-2.622776</td>\n",
       "      <td>0.0</td>\n",
       "      <td>161428</td>\n",
       "      <td>-2.663819</td>\n",
       "      <td>2.806353</td>\n",
       "      <td>-0.005975</td>\n",
       "      <td>...</td>\n",
       "      <td>0.134870</td>\n",
       "      <td>0.255306</td>\n",
       "      <td>-0.448284</td>\n",
       "      <td>0.378887</td>\n",
       "      <td>-1.058233</td>\n",
       "      <td>-0.248913</td>\n",
       "      <td>0.0</td>\n",
       "      <td>0</td>\n",
       "      <td>5be0e4ce-cb9b-4962-aaa0-122c95976ee2</td>\n",
       "      <td>TEST</td>\n",
       "    </tr>\n",
       "    <tr>\n",
       "      <th>2</th>\n",
       "      <td>0</td>\n",
       "      <td>0.748290</td>\n",
       "      <td>[{'feature': 'V4', 'attribution': 1.5896402914...</td>\n",
       "      <td>-2.683264</td>\n",
       "      <td>-1.089515</td>\n",
       "      <td>0.0</td>\n",
       "      <td>54207</td>\n",
       "      <td>1.199721</td>\n",
       "      <td>0.330359</td>\n",
       "      <td>0.658892</td>\n",
       "      <td>...</td>\n",
       "      <td>-0.125600</td>\n",
       "      <td>-0.128544</td>\n",
       "      <td>0.659757</td>\n",
       "      <td>0.112569</td>\n",
       "      <td>0.002388</td>\n",
       "      <td>0.012351</td>\n",
       "      <td>0.0</td>\n",
       "      <td>0</td>\n",
       "      <td>325d0d34-b2b2-4c30-9bdb-8270f60e0a9b</td>\n",
       "      <td>TEST</td>\n",
       "    </tr>\n",
       "    <tr>\n",
       "      <th>3</th>\n",
       "      <td>0</td>\n",
       "      <td>0.972712</td>\n",
       "      <td>[{'feature': 'V4', 'attribution': 1.5074199587...</td>\n",
       "      <td>-2.683264</td>\n",
       "      <td>-3.573648</td>\n",
       "      <td>0.0</td>\n",
       "      <td>159888</td>\n",
       "      <td>-3.146402</td>\n",
       "      <td>2.543688</td>\n",
       "      <td>-0.328957</td>\n",
       "      <td>...</td>\n",
       "      <td>0.085183</td>\n",
       "      <td>0.212830</td>\n",
       "      <td>-0.312526</td>\n",
       "      <td>-0.248380</td>\n",
       "      <td>-2.731440</td>\n",
       "      <td>-0.754864</td>\n",
       "      <td>0.0</td>\n",
       "      <td>0</td>\n",
       "      <td>085879f7-8db9-48a2-b7c1-0ba5659d5206</td>\n",
       "      <td>TEST</td>\n",
       "    </tr>\n",
       "    <tr>\n",
       "      <th>4</th>\n",
       "      <td>0</td>\n",
       "      <td>0.602377</td>\n",
       "      <td>[{'feature': 'V4', 'attribution': 2.4498408302...</td>\n",
       "      <td>-2.683264</td>\n",
       "      <td>-0.415379</td>\n",
       "      <td>0.0</td>\n",
       "      <td>129606</td>\n",
       "      <td>1.881873</td>\n",
       "      <td>0.216226</td>\n",
       "      <td>-0.175786</td>\n",
       "      <td>...</td>\n",
       "      <td>0.105719</td>\n",
       "      <td>-0.046391</td>\n",
       "      <td>0.039283</td>\n",
       "      <td>0.142767</td>\n",
       "      <td>-0.009026</td>\n",
       "      <td>-0.050938</td>\n",
       "      <td>0.0</td>\n",
       "      <td>0</td>\n",
       "      <td>e516b6cc-655b-4555-921e-20fa6aff6f67</td>\n",
       "      <td>TEST</td>\n",
       "    </tr>\n",
       "  </tbody>\n",
       "</table>\n",
       "<p>5 rows × 39 columns</p>\n",
       "</div>"
      ],
      "text/plain": [
       "   predicted_Class  probability  \\\n",
       "0                0     0.982284   \n",
       "1                0     0.932313   \n",
       "2                0     0.748290   \n",
       "3                0     0.972712   \n",
       "4                0     0.602377   \n",
       "\n",
       "                            top_feature_attributions  \\\n",
       "0  [{'feature': 'V4', 'attribution': -0.812634942...   \n",
       "1  [{'feature': 'V4', 'attribution': 2.5146411447...   \n",
       "2  [{'feature': 'V4', 'attribution': 1.5896402914...   \n",
       "3  [{'feature': 'V4', 'attribution': 1.5074199587...   \n",
       "4  [{'feature': 'V4', 'attribution': 2.4498408302...   \n",
       "\n",
       "   baseline_prediction_value  prediction_value  approximation_error    Time  \\\n",
       "0                  -2.683264         -4.015387                  0.0   76558   \n",
       "1                  -2.683264         -2.622776                  0.0  161428   \n",
       "2                  -2.683264         -1.089515                  0.0   54207   \n",
       "3                  -2.683264         -3.573648                  0.0  159888   \n",
       "4                  -2.683264         -0.415379                  0.0  129606   \n",
       "\n",
       "         V1        V2        V3  ...       V23       V24       V25       V26  \\\n",
       "0 -0.465150  0.818433  1.326391  ... -0.290143 -0.387924  0.413861  0.813386   \n",
       "1 -2.663819  2.806353 -0.005975  ...  0.134870  0.255306 -0.448284  0.378887   \n",
       "2  1.199721  0.330359  0.658892  ... -0.125600 -0.128544  0.659757  0.112569   \n",
       "3 -3.146402  2.543688 -0.328957  ...  0.085183  0.212830 -0.312526 -0.248380   \n",
       "4  1.881873  0.216226 -0.175786  ...  0.105719 -0.046391  0.039283  0.142767   \n",
       "\n",
       "        V27       V28  Amount  Class                        transaction_id  \\\n",
       "0 -0.130873 -0.047641     0.0      0  c14b4a94-6794-467b-880c-522dd45de66e   \n",
       "1 -1.058233 -0.248913     0.0      0  5be0e4ce-cb9b-4962-aaa0-122c95976ee2   \n",
       "2  0.002388  0.012351     0.0      0  325d0d34-b2b2-4c30-9bdb-8270f60e0a9b   \n",
       "3 -2.731440 -0.754864     0.0      0  085879f7-8db9-48a2-b7c1-0ba5659d5206   \n",
       "4 -0.009026 -0.050938     0.0      0  e516b6cc-655b-4555-921e-20fa6aff6f67   \n",
       "\n",
       "   splits  \n",
       "0    TEST  \n",
       "1    TEST  \n",
       "2    TEST  \n",
       "3    TEST  \n",
       "4    TEST  \n",
       "\n",
       "[5 rows x 39 columns]"
      ]
     },
     "execution_count": 47,
     "metadata": {},
     "output_type": "execute_result"
    }
   ],
   "source": [
    "explain.head()"
   ]
  },
  {
   "cell_type": "markdown",
   "id": "50496e64-0841-4a63-833e-34ae6102c50a",
   "metadata": {},
   "source": [
    "Create a plot of feature attributions for a single prediction:"
   ]
  },
  {
   "cell_type": "code",
   "execution_count": 48,
   "id": "d9d6f625-5d5b-4017-b7b0-ccb59148ee62",
   "metadata": {},
   "outputs": [],
   "source": [
    "explanation = explain.iloc[0]['top_feature_attributions']"
   ]
  },
  {
   "cell_type": "code",
   "execution_count": 49,
   "id": "3645d9e5-b411-40f2-953a-c45a2c160664",
   "metadata": {},
   "outputs": [
    {
     "data": {
      "image/png": "[encoded data removed]",
      "text/plain": [
       "<Figure size 1500x500 with 1 Axes>"
      ]
     },
     "metadata": {},
     "output_type": "display_data"
    }
   ],
   "source": [
    "features = []\n",
    "scores = []\n",
    "for k in explanation:\n",
    "    features.append(k['feature'])\n",
    "    scores.append(k['attribution'])\n",
    "features = [x for _, x in sorted(zip(scores, features))]\n",
    "scores = sorted(scores)\n",
    "\n",
    "plt.figure(figsize=(15,5))\n",
    "plt.barh(features, scores)\n",
    "plt.title('Feature Attribution for Prediction')\n",
    "plt.show()"
   ]
  },
  {
   "cell_type": "markdown",
   "id": "a1dfafa7-2404-471d-921f-3e239102ea39",
   "metadata": {},
   "source": [
    "### Global Explainability\n",
    "Retrieve the influence of each feature on the model with [ML.GLOBAL_EXPLAIN](https://cloud.google.com/bigquery-ml/docs/reference/standard-sql/bigqueryml-syntax-global-explain).  "
   ]
  },
  {
   "cell_type": "code",
   "execution_count": 50,
   "id": "c8175a73-b86a-403e-8692-66aad5131512",
   "metadata": {},
   "outputs": [],
   "source": [
    "query = f\"\"\"\n",
    "SELECT *\n",
    "FROM ML.GLOBAL_EXPLAIN (MODEL `{BQ_PROJECT}.{BQ_DATASET}.{BQ_MODEL}`)\n",
    "\"\"\"\n",
    "gexplain = bq.query(query = query).to_dataframe()"
   ]
  },
  {
   "cell_type": "code",
   "execution_count": 51,
   "id": "f9cba8b6-2117-4c16-b8e2-c0bd3a3249b1",
   "metadata": {},
   "outputs": [
    {
     "data": {
      "text/html": [
       "<div>\n",
       "<style scoped>\n",
       "    .dataframe tbody tr th:only-of-type {\n",
       "        vertical-align: middle;\n",
       "    }\n",
       "\n",
       "    .dataframe tbody tr th {\n",
       "        vertical-align: top;\n",
       "    }\n",
       "\n",
       "    .dataframe thead th {\n",
       "        text-align: right;\n",
       "    }\n",
       "</style>\n",
       "<table border=\"1\" class=\"dataframe\">\n",
       "  <thead>\n",
       "    <tr style=\"text-align: right;\">\n",
       "      <th></th>\n",
       "      <th>feature</th>\n",
       "      <th>attribution</th>\n",
       "    </tr>\n",
       "  </thead>\n",
       "  <tbody>\n",
       "    <tr>\n",
       "      <th>0</th>\n",
       "      <td>V4</td>\n",
       "      <td>0.653144</td>\n",
       "    </tr>\n",
       "    <tr>\n",
       "      <th>1</th>\n",
       "      <td>V14</td>\n",
       "      <td>0.487301</td>\n",
       "    </tr>\n",
       "    <tr>\n",
       "      <th>2</th>\n",
       "      <td>V12</td>\n",
       "      <td>0.394964</td>\n",
       "    </tr>\n",
       "    <tr>\n",
       "      <th>3</th>\n",
       "      <td>V10</td>\n",
       "      <td>0.213262</td>\n",
       "    </tr>\n",
       "    <tr>\n",
       "      <th>4</th>\n",
       "      <td>V22</td>\n",
       "      <td>0.201468</td>\n",
       "    </tr>\n",
       "  </tbody>\n",
       "</table>\n",
       "</div>"
      ],
      "text/plain": [
       "  feature  attribution\n",
       "0      V4     0.653144\n",
       "1     V14     0.487301\n",
       "2     V12     0.394964\n",
       "3     V10     0.213262\n",
       "4     V22     0.201468"
      ]
     },
     "execution_count": 51,
     "metadata": {},
     "output_type": "execute_result"
    }
   ],
   "source": [
    "gexplain.head()"
   ]
  },
  {
   "cell_type": "code",
   "execution_count": 52,
   "id": "e1529486-9a8d-4587-9ec0-4f5e2d39b3d4",
   "metadata": {},
   "outputs": [
    {
     "data": {
      "image/png": "[encoded data removed]",
      "text/plain": [
       "<Figure size 1500x800 with 1 Axes>"
      ]
     },
     "metadata": {},
     "output_type": "display_data"
    }
   ],
   "source": [
    "plt.figure(figsize=(15,8))\n",
    "plt.barh(gexplain['feature'], gexplain['attribution'])\n",
    "plt.title('Global Influence')\n",
    "plt.xlabel('Attribution')\n",
    "#plt.ylabel('Feature')\n",
    "plt.show()"
   ]
  },
  {
   "cell_type": "markdown",
   "id": "c26329f6-87f9-4ee4-a1c9-24fbdf9b844c",
   "metadata": {},
   "source": [
    "---\n",
    "## Serving With Vertex AI\n",
    "\n",
    "The training options for creating the model include registering the model the Vertex AI Automatically.  This makes deploying the model to a [Vertex AI Endpoint for online serving](https://cloud.google.com/vertex-ai/docs/general/deployment) very easy."
   ]
  },
  {
   "cell_type": "markdown",
   "id": "ffe20dff-a902-4354-972f-ed6eed5a47bf",
   "metadata": {},
   "source": [
    "### Vertex AI Model Registry - Get Model\n",
    "\n",
    "When these modes were trained in BigQuery ML they included options for registration in Vertex AI Model Registry.  This section shows how to retrieve the information from the model using the [Vertex AI Python Client](../Tips/aiplatform_notes.md).\n",
    "\n",
    "References:\n",
    "- [aiplatform.Model()](https://cloud.google.com/python/docs/reference/aiplatform/latest/google.cloud.aiplatform.Model)"
   ]
  },
  {
   "cell_type": "code",
   "execution_count": 53,
   "id": "1ea3cfa4-71b4-456a-b489-0137656f2f86",
   "metadata": {},
   "outputs": [
    {
     "data": {
      "text/plain": [
       "'projects/239661236943/locations/us-central1/models/bqml_bqml_logistic-regression'"
      ]
     },
     "execution_count": 53,
     "metadata": {},
     "output_type": "execute_result"
    }
   ],
   "source": [
    "vertex_model = aiplatform.Model(model_name = f'bqml_{SERIES}_{EXPERIMENT}')\n",
    "vertex_model.resource_name"
   ]
  },
  {
   "cell_type": "code",
   "execution_count": 54,
   "id": "3d34b828-fef6-4301-8b6d-2922bfa1d08c",
   "metadata": {},
   "outputs": [
    {
     "data": {
      "text/plain": [
       "{'annotationSpecs': [{'id': '0', 'displayName': '1'},\n",
       "  {'id': '1', 'displayName': '0'}],\n",
       " 'rows': [[55.0, 2.0], [507.0, 27728.0]]}"
      ]
     },
     "execution_count": 54,
     "metadata": {},
     "output_type": "execute_result"
    }
   ],
   "source": [
    "aiplatform.ModelEvaluation(\n",
    "    evaluation_name = vertex_model.get_model_evaluation().resource_name\n",
    ").to_dict()['metrics']['confusionMatrix']"
   ]
  },
  {
   "cell_type": "code",
   "execution_count": 55,
   "id": "80739fa5-e9c3-4246-bc1a-91a12798f4c7",
   "metadata": {},
   "outputs": [],
   "source": [
    "# note: this is blank since the model is managed by BQML and container is pre-specified\n",
    "vertex_model.uri "
   ]
  },
  {
   "cell_type": "markdown",
   "id": "111b6c2e-74ba-4266-a924-e1d01aa32966",
   "metadata": {},
   "source": [
    "### Vertex AI Endpoint - Create or Retrieve\n",
    "\n",
    "References:\n",
    "- [aiplatform.Endpoint()](https://cloud.google.com/python/docs/reference/aiplatform/latest/google.cloud.aiplatform.Endpoint)"
   ]
  },
  {
   "cell_type": "code",
   "execution_count": 56,
   "id": "c8508e8b-2724-43a8-8d23-2b6a1c19c016",
   "metadata": {},
   "outputs": [
    {
     "name": "stdout",
     "output_type": "stream",
     "text": [
      "Creating Endpoint\n",
      "Create Endpoint backing LRO: projects/239661236943/locations/us-central1/endpoints/7988912948955316224/operations/4683911219269074944\n",
      "Endpoint created. Resource name: projects/239661236943/locations/us-central1/endpoints/7988912948955316224\n",
      "To use this Endpoint in another session:\n",
      "endpoint = aiplatform.Endpoint('projects/239661236943/locations/us-central1/endpoints/7988912948955316224')\n",
      "Endpoint Created: bqml\n"
     ]
    }
   ],
   "source": [
    "if not aiplatform.Endpoint.list(filter = f\"display_name={SERIES}\"):\n",
    "    endpoint = aiplatform.Endpoint.create(\n",
    "        display_name = f\"{SERIES}\",\n",
    "        labels = {'series' : f\"{SERIES}\"}\n",
    "    )\n",
    "    print(f\"Endpoint Created: {endpoint.display_name}\")\n",
    "else:\n",
    "    endpoint = aiplatform.Endpoint.list(filter = f\"display_name={SERIES}\")[0]\n",
    "    print(f\"Endpoint Found: {endpoint.display_name}\")"
   ]
  },
  {
   "cell_type": "code",
   "execution_count": 57,
   "id": "a0509598-69eb-445a-ba83-2c24af46a141",
   "metadata": {},
   "outputs": [
    {
     "data": {
      "text/plain": [
       "'bqml'"
      ]
     },
     "execution_count": 57,
     "metadata": {},
     "output_type": "execute_result"
    }
   ],
   "source": [
    "endpoint.display_name"
   ]
  },
  {
   "cell_type": "code",
   "execution_count": 61,
   "id": "310c5fdc-b403-45fc-baa8-6fb8c5e7e220",
   "metadata": {},
   "outputs": [
    {
     "data": {
      "text/plain": [
       "{}"
      ]
     },
     "execution_count": 61,
     "metadata": {},
     "output_type": "execute_result"
    }
   ],
   "source": [
    "endpoint.traffic_split"
   ]
  },
  {
   "cell_type": "code",
   "execution_count": 62,
   "id": "3de11572-b5e9-4d1b-9668-8490c01e400f",
   "metadata": {},
   "outputs": [
    {
     "data": {
      "text/plain": [
       "[]"
      ]
     },
     "execution_count": 62,
     "metadata": {},
     "output_type": "execute_result"
    }
   ],
   "source": [
    "deployed_models = endpoint.list_models()\n",
    "deployed_models"
   ]
  },
  {
   "cell_type": "markdown",
   "id": "25e67617-fa79-4e74-85e5-f58f0b2384f2",
   "metadata": {},
   "source": [
    "### Deploy Model To Vertex AI Endpoint\n",
    "\n",
    "**NOTE: This can take 15+ minutes to complete.**\n",
    "\n",
    "Reference:\n",
    "- [aiplatform.Endpoint.deploy()](https://cloud.google.com/python/docs/reference/aiplatform/latest/google.cloud.aiplatform.Endpoint#google_cloud_aiplatform_Endpoint_deploy)"
   ]
  },
  {
   "cell_type": "code",
   "execution_count": 63,
   "id": "d749ec48-d977-4bc0-9ca8-eb707dd8df14",
   "metadata": {},
   "outputs": [
    {
     "name": "stdout",
     "output_type": "stream",
     "text": [
      "Deploying Model projects/239661236943/locations/us-central1/models/bqml_bqml_logistic-regression to Endpoint : projects/239661236943/locations/us-central1/endpoints/7988912948955316224\n",
      "Deploy Endpoint model backing LRO: projects/239661236943/locations/us-central1/endpoints/7988912948955316224/operations/1645107370700832768\n",
      "Endpoint model deployed. Resource name: projects/239661236943/locations/us-central1/endpoints/7988912948955316224\n"
     ]
    }
   ],
   "source": [
    "endpoint.deploy(\n",
    "    model = vertex_model,\n",
    "    deployed_model_display_name = vertex_model.display_name,\n",
    "    traffic_percentage = 100,\n",
    "    machine_type = 'n1-standard-2',\n",
    "    min_replica_count = 1,\n",
    "    max_replica_count = 1\n",
    ")"
   ]
  },
  {
   "cell_type": "markdown",
   "id": "78227561-eb64-4800-8b3e-c679e6b445e0",
   "metadata": {},
   "source": [
    "---\n",
    "## Predictions With Vertex AI Endpoint"
   ]
  },
  {
   "cell_type": "markdown",
   "id": "7fe31c44-a4c6-4988-a24c-ee744438572f",
   "metadata": {},
   "source": [
    "### Retrieve Records For Prediction"
   ]
  },
  {
   "cell_type": "code",
   "execution_count": 89,
   "id": "8f14e7e9-60bf-425a-97a6-e38636a3ac5d",
   "metadata": {},
   "outputs": [],
   "source": [
    "n = 10\n",
    "pred = bq.query(\n",
    "    query = f\"\"\"\n",
    "        SELECT * EXCEPT({VAR_TARGET}, {VAR_OMIT}, splits)\n",
    "        FROM {BQ_PROJECT}.{BQ_DATASET}.{BQ_TABLE}\n",
    "        WHERE splits='TEST'\n",
    "        LIMIT {n}\n",
    "        \"\"\"\n",
    ").to_dataframe()"
   ]
  },
  {
   "cell_type": "markdown",
   "id": "cffc3ca9-2d74-4dac-a133-544cd5638680",
   "metadata": {},
   "source": [
    "Shape as instances: dictionaries of key:value pairs for only features used in model"
   ]
  },
  {
   "cell_type": "code",
   "execution_count": 90,
   "id": "c30fc1dc-e0d9-498a-adb4-33de987a47ac",
   "metadata": {},
   "outputs": [],
   "source": [
    "newobs = pred.to_dict(orient = 'records')"
   ]
  },
  {
   "cell_type": "code",
   "execution_count": 91,
   "id": "fa845eb3-7f5d-40fd-999c-ea87bce527b7",
   "metadata": {},
   "outputs": [
    {
     "data": {
      "text/plain": [
       "{'Time': 76558,\n",
       " 'V1': -0.4651502457401,\n",
       " 'V2': 0.8184333410066371,\n",
       " 'V3': 1.32639138005421,\n",
       " 'V4': -1.34520097945899,\n",
       " 'V5': 0.584114602142683,\n",
       " 'V6': -0.683283568598094,\n",
       " 'V7': 0.8560224069325509,\n",
       " 'V8': -0.17826517058350796,\n",
       " 'V9': -0.537311322971362,\n",
       " 'V10': -0.9631806924953091,\n",
       " 'V11': -0.895453700125653,\n",
       " 'V12': 0.449282865521539,\n",
       " 'V13': 1.54880921738484,\n",
       " 'V14': -0.24186601385748896,\n",
       " 'V15': 0.37375305783561796,\n",
       " 'V16': 0.5747296510932199,\n",
       " 'V17': -0.880060466188634,\n",
       " 'V18': -0.498862257527863,\n",
       " 'V19': -0.0806021151076021,\n",
       " 'V20': 0.04927507007025,\n",
       " 'V21': -0.23550599216180002,\n",
       " 'V22': -0.719604821296463,\n",
       " 'V23': -0.290142610363049,\n",
       " 'V24': -0.38792388871900796,\n",
       " 'V25': 0.41386118833209,\n",
       " 'V26': 0.8133863823373348,\n",
       " 'V27': -0.130872651979088,\n",
       " 'V28': -0.0476414298012019,\n",
       " 'Amount': 0.0}"
      ]
     },
     "execution_count": 91,
     "metadata": {},
     "output_type": "execute_result"
    }
   ],
   "source": [
    "newobs[0]"
   ]
  },
  {
   "cell_type": "markdown",
   "id": "854fea6a-e1ea-4669-b337-ccd090348ff4",
   "metadata": {},
   "source": [
    "### Get Predictions: Python Client"
   ]
  },
  {
   "cell_type": "code",
   "execution_count": 92,
   "id": "020d6feb-567e-413d-b39e-38d1c39333f7",
   "metadata": {},
   "outputs": [
    {
     "data": {
      "text/plain": [
       "Prediction(predictions=[{'predicted_Class': ['0'], 'Class_values': ['1', '0'], 'Class_probs': [0.01771644809646814, 0.9822835519035319]}], deployed_model_id='6225058803491012608', model_version_id='1', model_resource_name='projects/239661236943/locations/us-central1/models/bqml_bqml_logistic-regression', explanations=None)"
      ]
     },
     "execution_count": 92,
     "metadata": {},
     "output_type": "execute_result"
    }
   ],
   "source": [
    "prediction = endpoint.predict(instances = newobs[0:1])\n",
    "prediction"
   ]
  },
  {
   "cell_type": "code",
   "execution_count": 93,
   "id": "0d3966e5-f45c-4bd6-88a5-108318075c4b",
   "metadata": {},
   "outputs": [
    {
     "data": {
      "text/plain": [
       "{'predicted_Class': ['0'],\n",
       " 'Class_values': ['1', '0'],\n",
       " 'Class_probs': [0.01771644809646814, 0.9822835519035319]}"
      ]
     },
     "execution_count": 93,
     "metadata": {},
     "output_type": "execute_result"
    }
   ],
   "source": [
    "prediction.predictions[0]"
   ]
  },
  {
   "cell_type": "code",
   "execution_count": 94,
   "id": "fc8e8b4e-36b2-47b0-8010-37f704cff7b1",
   "metadata": {},
   "outputs": [
    {
     "data": {
      "text/plain": [
       "0"
      ]
     },
     "execution_count": 94,
     "metadata": {},
     "output_type": "execute_result"
    }
   ],
   "source": [
    "np.argmax(prediction.predictions[0])"
   ]
  },
  {
   "cell_type": "markdown",
   "id": "a7931fd6-8b40-406c-9462-883f2489ab81",
   "metadata": {},
   "source": [
    "### Get Predictions: REST\n",
    "Reference:\n",
    "- [POST https://{REGION}-aiplatform.googleapis.com/v1/{endpoint}:predict](https://cloud.google.com/python/docs/reference/aiplatform/latest/google.cloud.aiplatform_v1.services.prediction_service.PredictionServiceClient#google_cloud_aiplatform_v1_services_prediction_service_PredictionServiceClient_predict)"
   ]
  },
  {
   "cell_type": "markdown",
   "id": "2fac942f-5b93-4032-b6af-3b25b69b6c20",
   "metadata": {},
   "source": [
    "Prepare request:"
   ]
  },
  {
   "cell_type": "code",
   "execution_count": 95,
   "id": "6a66d90a-9a02-422a-b182-9006fc3e51bc",
   "metadata": {},
   "outputs": [],
   "source": [
    "with open(f'{DIR}/request.json','w') as file:\n",
    "    file.write(json.dumps({\"instances\": newobs[0:1]}))"
   ]
  },
  {
   "cell_type": "markdown",
   "id": "e7d17b0e-b03b-4a6a-8579-9c90a5696a42",
   "metadata": {},
   "source": [
    "Prediction:"
   ]
  },
  {
   "cell_type": "code",
   "execution_count": 96,
   "id": "b05edb4c-a97c-4d7a-b668-5f9598fb6b30",
   "metadata": {},
   "outputs": [
    {
     "data": {
      "text/plain": [
       "['  % Total    % Received % Xferd  Average Speed   Time    Time     Time  Current',\n",
       " '                                 Dload  Upload   Total   Spent    Left  Speed',\n",
       " '',\n",
       " '  0     0    0     0    0     0      0      0 --:--:-- --:--:-- --:--:--     0',\n",
       " '100  1246    0   453  100   793   1903   3332 --:--:-- --:--:-- --:--:--  5257',\n",
       " '{',\n",
       " '  \"predictions\": [',\n",
       " '    {',\n",
       " '      \"predicted_Class\": [',\n",
       " '        \"0\"',\n",
       " '      ],',\n",
       " '      \"Class_probs\": [',\n",
       " '        0.017716448096468142,',\n",
       " '        0.98228355190353189',\n",
       " '      ],',\n",
       " '      \"Class_values\": [',\n",
       " '        \"1\",',\n",
       " '        \"0\"',\n",
       " '      ]',\n",
       " '    }',\n",
       " '  ],',\n",
       " '  \"deployedModelId\": \"6225058803491012608\",',\n",
       " '  \"model\": \"projects/239661236943/locations/us-central1/models/bqml_bqml_logistic-regression\",',\n",
       " '  \"modelDisplayName\": \"bqml_bqml_logistic-regression\",',\n",
       " '  \"modelVersionId\": \"1\"',\n",
       " '}']"
      ]
     },
     "execution_count": 96,
     "metadata": {},
     "output_type": "execute_result"
    }
   ],
   "source": [
    "prediction = !curl -X POST \\\n",
    "-H \"Authorization: Bearer \"$(gcloud auth application-default print-access-token) \\\n",
    "-H \"Content-Type: application/json; charset=utf-8\" \\\n",
    "-d @{DIR}/request.json \\\n",
    "https://{REGION}-aiplatform.googleapis.com/v1/{endpoint.resource_name}:predict\n",
    "\n",
    "prediction"
   ]
  },
  {
   "cell_type": "markdown",
   "id": "463f9f13-615d-406a-9fe0-5c10313fdc53",
   "metadata": {},
   "source": [
    "Format raw prediction response using JSON:"
   ]
  },
  {
   "cell_type": "markdown",
   "id": "5f65a64b-a7ae-4382-a97b-e559f74ca790",
   "metadata": {},
   "source": [
    "### Get Predictions: gcloud (CLI)\n",
    "Reference:\n",
    "- [gcloud ai endpoints predict](https://cloud.google.com/sdk/gcloud/reference/ai/endpoints/predict)"
   ]
  },
  {
   "cell_type": "markdown",
   "id": "54716fd6-8185-4a9e-9a90-fc8f2a2c5a39",
   "metadata": {},
   "source": [
    "Prepare request:"
   ]
  },
  {
   "cell_type": "code",
   "execution_count": 97,
   "id": "1b72c8d2-ca52-45eb-b89b-723e21a4fb64",
   "metadata": {},
   "outputs": [],
   "source": [
    "with open(f'{DIR}/request.json','w') as file:\n",
    "    file.write(json.dumps({\"instances\": newobs[0:1]}))"
   ]
  },
  {
   "cell_type": "markdown",
   "id": "692f1b38-c7b3-4415-98cb-6204fb9e62ae",
   "metadata": {},
   "source": [
    "Prediction:"
   ]
  },
  {
   "cell_type": "code",
   "execution_count": 98,
   "id": "9d83a53d-a94a-47b0-b93c-2f53b21c0ff1",
   "metadata": {},
   "outputs": [
    {
     "data": {
      "text/plain": [
       "['Using endpoint [https://us-central1-prediction-aiplatform.googleapis.com/]',\n",
       " \"[{'Class_probs': [0.01771644809646814, 0.9822835519035319], 'Class_values': ['1', '0'], 'predicted_Class': ['0']}]\"]"
      ]
     },
     "execution_count": 98,
     "metadata": {},
     "output_type": "execute_result"
    }
   ],
   "source": [
    "prediction = !gcloud beta ai endpoints predict {endpoint.name.rsplit('/',1)[-1]} --region={REGION} --json-request={DIR}/request.json\n",
    "prediction"
   ]
  },
  {
   "cell_type": "markdown",
   "id": "920ad164-98d4-4d81-8ccc-b54af6ef567e",
   "metadata": {},
   "source": [
    "---\n",
    "## Export Model\n",
    "\n",
    "The model created in BigQuery ML can be exported to their native model types save files.  This process saves the model artifacts in GCS where they can be use anywhere they are needed.  For instance, they could be imported into the Vertex AI Model Registry for use in online and batch serving - however, this process is automated with the training options use above."
   ]
  },
  {
   "cell_type": "markdown",
   "id": "03d5b4a5-4696-41c5-a6c8-920bab32d41c",
   "metadata": {},
   "source": [
    "### Export the BigQuery Model\n",
    "\n",
    "\n",
    "The models trained in BQML can be exported from BigQuery to GCS:\n",
    "\n",
    "Reference:\n",
    "- [Exporting Models](https://cloud.google.com/bigquery-ml/docs/exporting-models)"
   ]
  },
  {
   "cell_type": "code",
   "execution_count": 99,
   "id": "b1101869-7067-496c-a913-6da79e536c62",
   "metadata": {},
   "outputs": [
    {
     "data": {
      "text/plain": [
       "<google.cloud.bigquery.table._EmptyRowIterator at 0x7f57fdfa9c60>"
      ]
     },
     "execution_count": 99,
     "metadata": {},
     "output_type": "execute_result"
    }
   ],
   "source": [
    "query = f\"\"\"\n",
    "EXPORT MODEL `{BQ_PROJECT}.{BQ_DATASET}.{BQ_MODEL}`\n",
    "    OPTIONS (URI = 'gs://{BUCKET}/{SERIES}/{EXPERIMENT}/models/{TIMESTAMP}/model')\n",
    "\"\"\"\n",
    "export = bq.query(query = query)\n",
    "export.result()"
   ]
  },
  {
   "cell_type": "code",
   "execution_count": 100,
   "id": "8f763ae4-565a-452f-921f-d0795c229315",
   "metadata": {},
   "outputs": [
    {
     "data": {
      "text/plain": [
       "22.478"
      ]
     },
     "execution_count": 100,
     "metadata": {},
     "output_type": "execute_result"
    }
   ],
   "source": [
    "(export.ended - export.started).total_seconds()"
   ]
  },
  {
   "cell_type": "code",
   "execution_count": 101,
   "id": "4a6f4d6d-c07a-4083-ae9c-6c1b79227ce9",
   "metadata": {},
   "outputs": [
    {
     "data": {
      "text/plain": [
       "['gs://learned-pottery-399802/bqml/logistic-regression/models/20231019060415/model/',\n",
       " 'gs://learned-pottery-399802/bqml/logistic-regression/models/20231019060415/model/explanation_metadata.json',\n",
       " 'gs://learned-pottery-399802/bqml/logistic-regression/models/20231019060415/model/fingerprint.pb',\n",
       " 'gs://learned-pottery-399802/bqml/logistic-regression/models/20231019060415/model/saved_model.pb',\n",
       " 'gs://learned-pottery-399802/bqml/logistic-regression/models/20231019060415/model/variables/']"
      ]
     },
     "execution_count": 101,
     "metadata": {},
     "output_type": "execute_result"
    }
   ],
   "source": [
    "listing = !gsutil ls gs://{BUCKET}/{SERIES}/{EXPERIMENT}/models/{TIMESTAMP}/model\n",
    "listing"
   ]
  },
  {
   "cell_type": "code",
   "execution_count": 102,
   "id": "8c523ecb-b0da-4590-9a60-4da94da1051e",
   "metadata": {},
   "outputs": [
    {
     "name": "stdout",
     "output_type": "stream",
     "text": [
      "View the export in the console:\n",
      "https://console.cloud.google.com/storage/browser/learned-pottery-399802/bqml/logistic-regression/models/20231019060415/model?project=learned-pottery-399802\n"
     ]
    }
   ],
   "source": [
    "print(f\"View the export in the console:\\nhttps://console.cloud.google.com/storage/browser/{BUCKET}/{SERIES}/{EXPERIMENT}/models/{TIMESTAMP}/model?project={PROJECT_ID}\")"
   ]
  },
  {
   "cell_type": "markdown",
   "id": "778eb0f5-0be5-4439-952d-83d7281ac24d",
   "metadata": {},
   "source": [
    "### Detect The Model Types Framework"
   ]
  },
  {
   "cell_type": "code",
   "execution_count": 103,
   "id": "8db83a4c-2ea0-486d-aee3-ba39331bbad1",
   "metadata": {},
   "outputs": [
    {
     "name": "stdout",
     "output_type": "stream",
     "text": [
      "framework = TensorFlow\n"
     ]
    }
   ],
   "source": [
    "filetype = {'pb': 'TensorFlow', 'bst': 'XGBoost'}\n",
    "\n",
    "filetypes = [filetype[f.split('.')[-1]] for f in listing if f.split('.')[-1] in ['pb','bst']]\n",
    "if len(list(set(filetypes))) == 1:\n",
    "    framework = filetypes[0]\n",
    "    print(f'framework = {framework}')\n",
    "else:\n",
    "    raise TypeError(f\"Model Type Undeteremined!! Review the contents of of 'listing = {listing}'.\")"
   ]
  },
  {
   "cell_type": "code",
   "execution_count": 104,
   "id": "cf917760-84c4-4d36-a01f-8c9767653ec0",
   "metadata": {},
   "outputs": [
    {
     "data": {
      "text/plain": [
       "['TensorFlow']"
      ]
     },
     "execution_count": 104,
     "metadata": {},
     "output_type": "execute_result"
    }
   ],
   "source": [
    "list(set(filetypes))"
   ]
  },
  {
   "cell_type": "markdown",
   "id": "123de839",
   "metadata": {},
   "source": [
    "---\n",
    "## Remove Resources\n",
    "\n",
    "The following cells have commented out statements that can be used to remove resources created by this notebook.  Other notebooks in the repository will reusue the same endpoint so it may be desired to not remove the endpoint if you plan to run additional notebooks.  Otherwise, please removed the endpoint to prevent ongoing cost from hosting the models on Vertex AI Endpoints.\n",
    "\n",
    "Similarly, if you want to remove the model from BQML to prevent the minimal storage cost it will automatically be removed from Vertex AI Model Registry as well."
   ]
  },
  {
   "cell_type": "code",
   "execution_count": 107,
   "id": "c384a8ed-f513-46b3-9ff4-f4773a61d33e",
   "metadata": {},
   "outputs": [
    {
     "name": "stdout",
     "output_type": "stream",
     "text": [
      "Undeploying Endpoint model: projects/239661236943/locations/us-central1/endpoints/7988912948955316224\n",
      "Undeploy Endpoint model backing LRO: projects/239661236943/locations/us-central1/endpoints/7988912948955316224/operations/5123012182937698304\n",
      "Endpoint model undeployed. Resource name: projects/239661236943/locations/us-central1/endpoints/7988912948955316224\n",
      "Deleting Endpoint : projects/239661236943/locations/us-central1/endpoints/7988912948955316224\n",
      "Delete Endpoint  backing LRO: projects/239661236943/locations/us-central1/operations/1574175676569747456\n",
      "Endpoint deleted. . Resource name: projects/239661236943/locations/us-central1/endpoints/7988912948955316224\n"
     ]
    }
   ],
   "source": [
    "# delete endpoint, use `force` incase models are deployed or undeploy them first\n",
    "endpoint.delete(force = True)"
   ]
  },
  {
   "cell_type": "code",
   "execution_count": 109,
   "id": "4574595b-3b47-42b8-8edb-73639205e0e2",
   "metadata": {},
   "outputs": [
    {
     "ename": "NotFound",
     "evalue": "404 DELETE https://bigquery.googleapis.com/bigquery/v2/projects/learned-pottery-399802/datasets/fraud/models/bqml_logistic-regression_20231019060415?prettyPrint=false: Not found: Model learned-pottery-399802:fraud.bqml_logistic-regression_20231019060415",
     "output_type": "error",
     "traceback": [
      "\u001b[0;31m---------------------------------------------------------------------------\u001b[0m",
      "\u001b[0;31mNotFound\u001b[0m                                  Traceback (most recent call last)",
      "Cell \u001b[0;32mIn[109], line 4\u001b[0m\n\u001b[1;32m      2\u001b[0m \u001b[38;5;28;01mimport\u001b[39;00m \u001b[38;5;21;01mtime\u001b[39;00m\n\u001b[1;32m      3\u001b[0m time\u001b[38;5;241m.\u001b[39msleep(\u001b[38;5;241m60\u001b[39m)\n\u001b[0;32m----> 4\u001b[0m \u001b[43mbq\u001b[49m\u001b[38;5;241;43m.\u001b[39;49m\u001b[43mdelete_model\u001b[49m\u001b[43m(\u001b[49m\u001b[43mmodel\u001b[49m\u001b[43m)\u001b[49m\n",
      "File \u001b[0;32m/pyenv/lib/python3.10/site-packages/google/cloud/bigquery/client.py:1681\u001b[0m, in \u001b[0;36mClient.delete_model\u001b[0;34m(self, model, retry, timeout, not_found_ok)\u001b[0m\n\u001b[1;32m   1679\u001b[0m \u001b[38;5;28;01mtry\u001b[39;00m:\n\u001b[1;32m   1680\u001b[0m     span_attributes \u001b[38;5;241m=\u001b[39m {\u001b[38;5;124m\"\u001b[39m\u001b[38;5;124mpath\u001b[39m\u001b[38;5;124m\"\u001b[39m: path}\n\u001b[0;32m-> 1681\u001b[0m     \u001b[38;5;28;43mself\u001b[39;49m\u001b[38;5;241;43m.\u001b[39;49m\u001b[43m_call_api\u001b[49m\u001b[43m(\u001b[49m\n\u001b[1;32m   1682\u001b[0m \u001b[43m        \u001b[49m\u001b[43mretry\u001b[49m\u001b[43m,\u001b[49m\n\u001b[1;32m   1683\u001b[0m \u001b[43m        \u001b[49m\u001b[43mspan_name\u001b[49m\u001b[38;5;241;43m=\u001b[39;49m\u001b[38;5;124;43m\"\u001b[39;49m\u001b[38;5;124;43mBigQuery.deleteModel\u001b[39;49m\u001b[38;5;124;43m\"\u001b[39;49m\u001b[43m,\u001b[49m\n\u001b[1;32m   1684\u001b[0m \u001b[43m        \u001b[49m\u001b[43mspan_attributes\u001b[49m\u001b[38;5;241;43m=\u001b[39;49m\u001b[43mspan_attributes\u001b[49m\u001b[43m,\u001b[49m\n\u001b[1;32m   1685\u001b[0m \u001b[43m        \u001b[49m\u001b[43mmethod\u001b[49m\u001b[38;5;241;43m=\u001b[39;49m\u001b[38;5;124;43m\"\u001b[39;49m\u001b[38;5;124;43mDELETE\u001b[39;49m\u001b[38;5;124;43m\"\u001b[39;49m\u001b[43m,\u001b[49m\n\u001b[1;32m   1686\u001b[0m \u001b[43m        \u001b[49m\u001b[43mpath\u001b[49m\u001b[38;5;241;43m=\u001b[39;49m\u001b[43mpath\u001b[49m\u001b[43m,\u001b[49m\n\u001b[1;32m   1687\u001b[0m \u001b[43m        \u001b[49m\u001b[43mtimeout\u001b[49m\u001b[38;5;241;43m=\u001b[39;49m\u001b[43mtimeout\u001b[49m\u001b[43m,\u001b[49m\n\u001b[1;32m   1688\u001b[0m \u001b[43m    \u001b[49m\u001b[43m)\u001b[49m\n\u001b[1;32m   1689\u001b[0m \u001b[38;5;28;01mexcept\u001b[39;00m core_exceptions\u001b[38;5;241m.\u001b[39mNotFound:\n\u001b[1;32m   1690\u001b[0m     \u001b[38;5;28;01mif\u001b[39;00m \u001b[38;5;129;01mnot\u001b[39;00m not_found_ok:\n",
      "File \u001b[0;32m/pyenv/lib/python3.10/site-packages/google/cloud/bigquery/client.py:816\u001b[0m, in \u001b[0;36mClient._call_api\u001b[0;34m(self, retry, span_name, span_attributes, job_ref, headers, **kwargs)\u001b[0m\n\u001b[1;32m    812\u001b[0m \u001b[38;5;28;01mif\u001b[39;00m span_name \u001b[38;5;129;01mis\u001b[39;00m \u001b[38;5;129;01mnot\u001b[39;00m \u001b[38;5;28;01mNone\u001b[39;00m:\n\u001b[1;32m    813\u001b[0m     \u001b[38;5;28;01mwith\u001b[39;00m create_span(\n\u001b[1;32m    814\u001b[0m         name\u001b[38;5;241m=\u001b[39mspan_name, attributes\u001b[38;5;241m=\u001b[39mspan_attributes, client\u001b[38;5;241m=\u001b[39m\u001b[38;5;28mself\u001b[39m, job_ref\u001b[38;5;241m=\u001b[39mjob_ref\n\u001b[1;32m    815\u001b[0m     ):\n\u001b[0;32m--> 816\u001b[0m         \u001b[38;5;28;01mreturn\u001b[39;00m \u001b[43mcall\u001b[49m\u001b[43m(\u001b[49m\u001b[43m)\u001b[49m\n\u001b[1;32m    818\u001b[0m \u001b[38;5;28;01mreturn\u001b[39;00m call()\n",
      "File \u001b[0;32m/pyenv/lib/python3.10/site-packages/google/api_core/retry.py:366\u001b[0m, in \u001b[0;36mRetry.__call__.<locals>.retry_wrapped_func\u001b[0;34m(*args, **kwargs)\u001b[0m\n\u001b[1;32m    362\u001b[0m target \u001b[38;5;241m=\u001b[39m functools\u001b[38;5;241m.\u001b[39mpartial(func, \u001b[38;5;241m*\u001b[39margs, \u001b[38;5;241m*\u001b[39m\u001b[38;5;241m*\u001b[39mkwargs)\n\u001b[1;32m    363\u001b[0m sleep_generator \u001b[38;5;241m=\u001b[39m exponential_sleep_generator(\n\u001b[1;32m    364\u001b[0m     \u001b[38;5;28mself\u001b[39m\u001b[38;5;241m.\u001b[39m_initial, \u001b[38;5;28mself\u001b[39m\u001b[38;5;241m.\u001b[39m_maximum, multiplier\u001b[38;5;241m=\u001b[39m\u001b[38;5;28mself\u001b[39m\u001b[38;5;241m.\u001b[39m_multiplier\n\u001b[1;32m    365\u001b[0m )\n\u001b[0;32m--> 366\u001b[0m \u001b[38;5;28;01mreturn\u001b[39;00m \u001b[43mretry_target\u001b[49m\u001b[43m(\u001b[49m\n\u001b[1;32m    367\u001b[0m \u001b[43m    \u001b[49m\u001b[43mtarget\u001b[49m\u001b[43m,\u001b[49m\n\u001b[1;32m    368\u001b[0m \u001b[43m    \u001b[49m\u001b[38;5;28;43mself\u001b[39;49m\u001b[38;5;241;43m.\u001b[39;49m\u001b[43m_predicate\u001b[49m\u001b[43m,\u001b[49m\n\u001b[1;32m    369\u001b[0m \u001b[43m    \u001b[49m\u001b[43msleep_generator\u001b[49m\u001b[43m,\u001b[49m\n\u001b[1;32m    370\u001b[0m \u001b[43m    \u001b[49m\u001b[38;5;28;43mself\u001b[39;49m\u001b[38;5;241;43m.\u001b[39;49m\u001b[43m_timeout\u001b[49m\u001b[43m,\u001b[49m\n\u001b[1;32m    371\u001b[0m \u001b[43m    \u001b[49m\u001b[43mon_error\u001b[49m\u001b[38;5;241;43m=\u001b[39;49m\u001b[43mon_error\u001b[49m\u001b[43m,\u001b[49m\n\u001b[1;32m    372\u001b[0m \u001b[43m\u001b[49m\u001b[43m)\u001b[49m\n",
      "File \u001b[0;32m/pyenv/lib/python3.10/site-packages/google/api_core/retry.py:204\u001b[0m, in \u001b[0;36mretry_target\u001b[0;34m(target, predicate, sleep_generator, timeout, on_error, **kwargs)\u001b[0m\n\u001b[1;32m    202\u001b[0m \u001b[38;5;28;01mfor\u001b[39;00m sleep \u001b[38;5;129;01min\u001b[39;00m sleep_generator:\n\u001b[1;32m    203\u001b[0m     \u001b[38;5;28;01mtry\u001b[39;00m:\n\u001b[0;32m--> 204\u001b[0m         \u001b[38;5;28;01mreturn\u001b[39;00m \u001b[43mtarget\u001b[49m\u001b[43m(\u001b[49m\u001b[43m)\u001b[49m\n\u001b[1;32m    206\u001b[0m     \u001b[38;5;66;03m# pylint: disable=broad-except\u001b[39;00m\n\u001b[1;32m    207\u001b[0m     \u001b[38;5;66;03m# This function explicitly must deal with broad exceptions.\u001b[39;00m\n\u001b[1;32m    208\u001b[0m     \u001b[38;5;28;01mexcept\u001b[39;00m \u001b[38;5;167;01mException\u001b[39;00m \u001b[38;5;28;01mas\u001b[39;00m exc:\n",
      "File \u001b[0;32m/pyenv/lib/python3.10/site-packages/google/cloud/_http/__init__.py:494\u001b[0m, in \u001b[0;36mJSONConnection.api_request\u001b[0;34m(self, method, path, query_params, data, content_type, headers, api_base_url, api_version, expect_json, _target_object, timeout, extra_api_info)\u001b[0m\n\u001b[1;32m    482\u001b[0m response \u001b[38;5;241m=\u001b[39m \u001b[38;5;28mself\u001b[39m\u001b[38;5;241m.\u001b[39m_make_request(\n\u001b[1;32m    483\u001b[0m     method\u001b[38;5;241m=\u001b[39mmethod,\n\u001b[1;32m    484\u001b[0m     url\u001b[38;5;241m=\u001b[39murl,\n\u001b[0;32m   (...)\u001b[0m\n\u001b[1;32m    490\u001b[0m     extra_api_info\u001b[38;5;241m=\u001b[39mextra_api_info,\n\u001b[1;32m    491\u001b[0m )\n\u001b[1;32m    493\u001b[0m \u001b[38;5;28;01mif\u001b[39;00m \u001b[38;5;129;01mnot\u001b[39;00m \u001b[38;5;241m200\u001b[39m \u001b[38;5;241m<\u001b[39m\u001b[38;5;241m=\u001b[39m response\u001b[38;5;241m.\u001b[39mstatus_code \u001b[38;5;241m<\u001b[39m \u001b[38;5;241m300\u001b[39m:\n\u001b[0;32m--> 494\u001b[0m     \u001b[38;5;28;01mraise\u001b[39;00m exceptions\u001b[38;5;241m.\u001b[39mfrom_http_response(response)\n\u001b[1;32m    496\u001b[0m \u001b[38;5;28;01mif\u001b[39;00m expect_json \u001b[38;5;129;01mand\u001b[39;00m response\u001b[38;5;241m.\u001b[39mcontent:\n\u001b[1;32m    497\u001b[0m     \u001b[38;5;28;01mreturn\u001b[39;00m response\u001b[38;5;241m.\u001b[39mjson()\n",
      "\u001b[0;31mNotFound\u001b[0m: 404 DELETE https://bigquery.googleapis.com/bigquery/v2/projects/learned-pottery-399802/datasets/fraud/models/bqml_logistic-regression_20231019060415?prettyPrint=false: Not found: Model learned-pottery-399802:fraud.bqml_logistic-regression_20231019060415"
     ]
    }
   ],
   "source": [
    "# delete models created in BQ with BQML - this also removes them from Vertex AI Model Registry\n",
    "import time\n",
    "time.sleep(60)\n",
    "bq.delete_model(model)"
   ]
  }
 ],
 "metadata": {
  "environment": {
   "kernel": "python3",
   "name": "tf2-gpu.2-11.m104",
   "type": "gcloud",
   "uri": "gcr.io/deeplearning-platform-release/tf2-gpu.2-11:m104"
  },
  "kernelspec": {
   "display_name": "Python 3 (ipykernel)",
   "language": "python",
   "name": "python3"
  },
  "language_info": {
   "codemirror_mode": {
    "name": "ipython",
    "version": 3
   },
   "file_extension": ".py",
   "mimetype": "text/x-python",
   "name": "python",
   "nbconvert_exporter": "python",
   "pygments_lexer": "ipython3",
   "version": "3.10.12"
  }
 },
 "nbformat": 4,
 "nbformat_minor": 5
}
