{
 "cells": [
  {
   "cell_type": "markdown",
   "metadata": {},
   "source": [
    "# Introducing the Keras Sequential API on Vertex AI Platform"
   ]
  },
  {
   "cell_type": "markdown",
   "metadata": {},
   "source": [
    "**Learning objectives**\n",
    "  1. Build a DNN model using the Keras Sequential API\n",
    "  1. Learn how to use feature columns in a Keras model\n",
    "  1. Learn how to train a model with Keras\n",
    "  1. Learn how to save/load, and deploy a Keras model on GCP\n",
    "  1. Learn how to deploy the Model to Vertex AI and make predictions with the Keras model"
   ]
  },
  {
   "cell_type": "markdown",
   "metadata": {},
   "source": [
    "## Introduction"
   ]
  },
  {
   "cell_type": "markdown",
   "metadata": {},
   "source": [
    "The Keras sequential API allows you to create Tensorflow models layer-by-layer. This is useful for building most kinds of machine learning models\n",
    "\n",
    "In this lab, we'll see how to build a simple deep neural network model using the Keras sequential api and feature columns. Once we have trained our model, we will deploy it using Vertex AI and see how to call our model for online prediciton.\n",
    "\n"
   ]
  },
  {
   "cell_type": "code",
   "execution_count": 2,
   "metadata": {},
   "outputs": [
    {
     "name": "stdout",
     "output_type": "stream",
     "text": [
      "Requirement already satisfied: google-cloud-bigquery==2.34.4 in /home/jupyter/.local/lib/python3.10/site-packages (2.34.4)\n",
      "Requirement already satisfied: grpcio<2.0dev,>=1.38.1 in /opt/conda/lib/python3.10/site-packages (from google-cloud-bigquery==2.34.4) (1.58.0)\n",
      "Requirement already satisfied: google-api-core[grpc]!=2.0.*,!=2.1.*,!=2.2.*,!=2.3.0,<3.0.0dev,>=1.31.5 in /opt/conda/lib/python3.10/site-packages (from google-cloud-bigquery==2.34.4) (1.34.0)\n",
      "Requirement already satisfied: proto-plus<2.0.0dev,>=1.15.0 in /opt/conda/lib/python3.10/site-packages (from google-cloud-bigquery==2.34.4) (1.22.3)\n",
      "Requirement already satisfied: google-cloud-core<3.0.0dev,>=1.4.1 in /opt/conda/lib/python3.10/site-packages (from google-cloud-bigquery==2.34.4) (2.3.3)\n",
      "Requirement already satisfied: google-resumable-media<3.0dev,>=0.6.0 in /opt/conda/lib/python3.10/site-packages (from google-cloud-bigquery==2.34.4) (2.6.0)\n",
      "Requirement already satisfied: packaging<22.0dev,>=14.3 in /home/jupyter/.local/lib/python3.10/site-packages (from google-cloud-bigquery==2.34.4) (21.3)\n",
      "Requirement already satisfied: protobuf<4.0.0dev,>=3.12.0 in /home/jupyter/.local/lib/python3.10/site-packages (from google-cloud-bigquery==2.34.4) (3.19.6)\n",
      "Requirement already satisfied: python-dateutil<3.0dev,>=2.7.2 in /opt/conda/lib/python3.10/site-packages (from google-cloud-bigquery==2.34.4) (2.8.2)\n",
      "Requirement already satisfied: requests<3.0.0dev,>=2.18.0 in /opt/conda/lib/python3.10/site-packages (from google-cloud-bigquery==2.34.4) (2.31.0)\n",
      "Requirement already satisfied: googleapis-common-protos<2.0dev,>=1.56.2 in /opt/conda/lib/python3.10/site-packages (from google-api-core[grpc]!=2.0.*,!=2.1.*,!=2.2.*,!=2.3.0,<3.0.0dev,>=1.31.5->google-cloud-bigquery==2.34.4) (1.60.0)\n",
      "Requirement already satisfied: google-auth<3.0dev,>=1.25.0 in /opt/conda/lib/python3.10/site-packages (from google-api-core[grpc]!=2.0.*,!=2.1.*,!=2.2.*,!=2.3.0,<3.0.0dev,>=1.31.5->google-cloud-bigquery==2.34.4) (2.23.0)\n",
      "Requirement already satisfied: grpcio-status<2.0dev,>=1.33.2 in /opt/conda/lib/python3.10/site-packages (from google-api-core[grpc]!=2.0.*,!=2.1.*,!=2.2.*,!=2.3.0,<3.0.0dev,>=1.31.5->google-cloud-bigquery==2.34.4) (1.48.2)\n",
      "Requirement already satisfied: google-crc32c<2.0dev,>=1.0 in /opt/conda/lib/python3.10/site-packages (from google-resumable-media<3.0dev,>=0.6.0->google-cloud-bigquery==2.34.4) (1.5.0)\n",
      "Requirement already satisfied: pyparsing!=3.0.5,>=2.0.2 in /opt/conda/lib/python3.10/site-packages (from packaging<22.0dev,>=14.3->google-cloud-bigquery==2.34.4) (3.1.1)\n",
      "Requirement already satisfied: six>=1.5 in /opt/conda/lib/python3.10/site-packages (from python-dateutil<3.0dev,>=2.7.2->google-cloud-bigquery==2.34.4) (1.16.0)\n",
      "Requirement already satisfied: charset-normalizer<4,>=2 in /opt/conda/lib/python3.10/site-packages (from requests<3.0.0dev,>=2.18.0->google-cloud-bigquery==2.34.4) (3.2.0)\n",
      "Requirement already satisfied: idna<4,>=2.5 in /opt/conda/lib/python3.10/site-packages (from requests<3.0.0dev,>=2.18.0->google-cloud-bigquery==2.34.4) (3.4)\n",
      "Requirement already satisfied: urllib3<3,>=1.21.1 in /opt/conda/lib/python3.10/site-packages (from requests<3.0.0dev,>=2.18.0->google-cloud-bigquery==2.34.4) (1.26.16)\n",
      "Requirement already satisfied: certifi>=2017.4.17 in /opt/conda/lib/python3.10/site-packages (from requests<3.0.0dev,>=2.18.0->google-cloud-bigquery==2.34.4) (2023.7.22)\n",
      "Requirement already satisfied: cachetools<6.0,>=2.0.0 in /opt/conda/lib/python3.10/site-packages (from google-auth<3.0dev,>=1.25.0->google-api-core[grpc]!=2.0.*,!=2.1.*,!=2.2.*,!=2.3.0,<3.0.0dev,>=1.31.5->google-cloud-bigquery==2.34.4) (5.3.1)\n",
      "Requirement already satisfied: pyasn1-modules>=0.2.1 in /opt/conda/lib/python3.10/site-packages (from google-auth<3.0dev,>=1.25.0->google-api-core[grpc]!=2.0.*,!=2.1.*,!=2.2.*,!=2.3.0,<3.0.0dev,>=1.31.5->google-cloud-bigquery==2.34.4) (0.3.0)\n",
      "Requirement already satisfied: rsa<5,>=3.1.4 in /opt/conda/lib/python3.10/site-packages (from google-auth<3.0dev,>=1.25.0->google-api-core[grpc]!=2.0.*,!=2.1.*,!=2.2.*,!=2.3.0,<3.0.0dev,>=1.31.5->google-cloud-bigquery==2.34.4) (4.9)\n",
      "Requirement already satisfied: pyasn1<0.6.0,>=0.4.6 in /opt/conda/lib/python3.10/site-packages (from pyasn1-modules>=0.2.1->google-auth<3.0dev,>=1.25.0->google-api-core[grpc]!=2.0.*,!=2.1.*,!=2.2.*,!=2.3.0,<3.0.0dev,>=1.31.5->google-cloud-bigquery==2.34.4) (0.5.0)\n"
     ]
    }
   ],
   "source": [
    "!pip3 install google-cloud-bigquery==2.34.4 --user"
   ]
  },
  {
   "cell_type": "code",
   "execution_count": 3,
   "metadata": {},
   "outputs": [
    {
     "name": "stdout",
     "output_type": "stream",
     "text": [
      "Collecting google-cloud-aiplatform==1.20.0\n",
      "  Using cached google_cloud_aiplatform-1.20.0-py2.py3-none-any.whl (2.3 MB)\n",
      "Requirement already satisfied: google-api-core[grpc]!=2.0.*,!=2.1.*,!=2.2.*,!=2.3.*,!=2.4.*,!=2.5.*,!=2.6.*,!=2.7.*,<3.0.0dev,>=1.32.0 in /opt/conda/lib/python3.10/site-packages (from google-cloud-aiplatform==1.20.0) (1.34.0)\n",
      "Requirement already satisfied: proto-plus<2.0.0dev,>=1.22.0 in /opt/conda/lib/python3.10/site-packages (from google-cloud-aiplatform==1.20.0) (1.22.3)\n",
      "Requirement already satisfied: protobuf!=3.20.0,!=3.20.1,!=4.21.0,!=4.21.1,!=4.21.2,!=4.21.3,!=4.21.4,!=4.21.5,<5.0.0dev,>=3.19.5 in /home/jupyter/.local/lib/python3.10/site-packages (from google-cloud-aiplatform==1.20.0) (3.19.6)\n",
      "Requirement already satisfied: packaging<22.0.0dev,>=14.3 in /home/jupyter/.local/lib/python3.10/site-packages (from google-cloud-aiplatform==1.20.0) (21.3)\n",
      "Requirement already satisfied: google-cloud-storage<3.0.0dev,>=1.32.0 in /home/jupyter/.local/lib/python3.10/site-packages (from google-cloud-aiplatform==1.20.0) (1.44.0)\n",
      "Requirement already satisfied: google-cloud-bigquery<3.0.0dev,>=1.15.0 in /home/jupyter/.local/lib/python3.10/site-packages (from google-cloud-aiplatform==1.20.0) (2.34.4)\n",
      "Requirement already satisfied: google-cloud-resource-manager<3.0.0dev,>=1.3.3 in /opt/conda/lib/python3.10/site-packages (from google-cloud-aiplatform==1.20.0) (1.10.4)\n",
      "Requirement already satisfied: googleapis-common-protos<2.0dev,>=1.56.2 in /opt/conda/lib/python3.10/site-packages (from google-api-core[grpc]!=2.0.*,!=2.1.*,!=2.2.*,!=2.3.*,!=2.4.*,!=2.5.*,!=2.6.*,!=2.7.*,<3.0.0dev,>=1.32.0->google-cloud-aiplatform==1.20.0) (1.60.0)\n",
      "Requirement already satisfied: google-auth<3.0dev,>=1.25.0 in /opt/conda/lib/python3.10/site-packages (from google-api-core[grpc]!=2.0.*,!=2.1.*,!=2.2.*,!=2.3.*,!=2.4.*,!=2.5.*,!=2.6.*,!=2.7.*,<3.0.0dev,>=1.32.0->google-cloud-aiplatform==1.20.0) (2.23.0)\n",
      "Requirement already satisfied: requests<3.0.0dev,>=2.18.0 in /opt/conda/lib/python3.10/site-packages (from google-api-core[grpc]!=2.0.*,!=2.1.*,!=2.2.*,!=2.3.*,!=2.4.*,!=2.5.*,!=2.6.*,!=2.7.*,<3.0.0dev,>=1.32.0->google-cloud-aiplatform==1.20.0) (2.31.0)\n",
      "Requirement already satisfied: grpcio<2.0dev,>=1.33.2 in /opt/conda/lib/python3.10/site-packages (from google-api-core[grpc]!=2.0.*,!=2.1.*,!=2.2.*,!=2.3.*,!=2.4.*,!=2.5.*,!=2.6.*,!=2.7.*,<3.0.0dev,>=1.32.0->google-cloud-aiplatform==1.20.0) (1.58.0)\n",
      "Requirement already satisfied: grpcio-status<2.0dev,>=1.33.2 in /opt/conda/lib/python3.10/site-packages (from google-api-core[grpc]!=2.0.*,!=2.1.*,!=2.2.*,!=2.3.*,!=2.4.*,!=2.5.*,!=2.6.*,!=2.7.*,<3.0.0dev,>=1.32.0->google-cloud-aiplatform==1.20.0) (1.48.2)\n",
      "Requirement already satisfied: google-cloud-core<3.0.0dev,>=1.4.1 in /opt/conda/lib/python3.10/site-packages (from google-cloud-bigquery<3.0.0dev,>=1.15.0->google-cloud-aiplatform==1.20.0) (2.3.3)\n",
      "Requirement already satisfied: google-resumable-media<3.0dev,>=0.6.0 in /opt/conda/lib/python3.10/site-packages (from google-cloud-bigquery<3.0.0dev,>=1.15.0->google-cloud-aiplatform==1.20.0) (2.6.0)\n",
      "Requirement already satisfied: python-dateutil<3.0dev,>=2.7.2 in /opt/conda/lib/python3.10/site-packages (from google-cloud-bigquery<3.0.0dev,>=1.15.0->google-cloud-aiplatform==1.20.0) (2.8.2)\n",
      "Requirement already satisfied: grpc-google-iam-v1<1.0.0dev,>=0.12.4 in /opt/conda/lib/python3.10/site-packages (from google-cloud-resource-manager<3.0.0dev,>=1.3.3->google-cloud-aiplatform==1.20.0) (0.12.6)\n",
      "Requirement already satisfied: six in /opt/conda/lib/python3.10/site-packages (from google-cloud-storage<3.0.0dev,>=1.32.0->google-cloud-aiplatform==1.20.0) (1.16.0)\n",
      "Requirement already satisfied: pyparsing!=3.0.5,>=2.0.2 in /opt/conda/lib/python3.10/site-packages (from packaging<22.0.0dev,>=14.3->google-cloud-aiplatform==1.20.0) (3.1.1)\n",
      "Requirement already satisfied: cachetools<6.0,>=2.0.0 in /opt/conda/lib/python3.10/site-packages (from google-auth<3.0dev,>=1.25.0->google-api-core[grpc]!=2.0.*,!=2.1.*,!=2.2.*,!=2.3.*,!=2.4.*,!=2.5.*,!=2.6.*,!=2.7.*,<3.0.0dev,>=1.32.0->google-cloud-aiplatform==1.20.0) (5.3.1)\n",
      "Requirement already satisfied: pyasn1-modules>=0.2.1 in /opt/conda/lib/python3.10/site-packages (from google-auth<3.0dev,>=1.25.0->google-api-core[grpc]!=2.0.*,!=2.1.*,!=2.2.*,!=2.3.*,!=2.4.*,!=2.5.*,!=2.6.*,!=2.7.*,<3.0.0dev,>=1.32.0->google-cloud-aiplatform==1.20.0) (0.3.0)\n",
      "Requirement already satisfied: rsa<5,>=3.1.4 in /opt/conda/lib/python3.10/site-packages (from google-auth<3.0dev,>=1.25.0->google-api-core[grpc]!=2.0.*,!=2.1.*,!=2.2.*,!=2.3.*,!=2.4.*,!=2.5.*,!=2.6.*,!=2.7.*,<3.0.0dev,>=1.32.0->google-cloud-aiplatform==1.20.0) (4.9)\n",
      "Requirement already satisfied: urllib3<2.0 in /opt/conda/lib/python3.10/site-packages (from google-auth<3.0dev,>=1.25.0->google-api-core[grpc]!=2.0.*,!=2.1.*,!=2.2.*,!=2.3.*,!=2.4.*,!=2.5.*,!=2.6.*,!=2.7.*,<3.0.0dev,>=1.32.0->google-cloud-aiplatform==1.20.0) (1.26.16)\n",
      "Requirement already satisfied: google-crc32c<2.0dev,>=1.0 in /opt/conda/lib/python3.10/site-packages (from google-resumable-media<3.0dev,>=0.6.0->google-cloud-bigquery<3.0.0dev,>=1.15.0->google-cloud-aiplatform==1.20.0) (1.5.0)\n",
      "Requirement already satisfied: charset-normalizer<4,>=2 in /opt/conda/lib/python3.10/site-packages (from requests<3.0.0dev,>=2.18.0->google-api-core[grpc]!=2.0.*,!=2.1.*,!=2.2.*,!=2.3.*,!=2.4.*,!=2.5.*,!=2.6.*,!=2.7.*,<3.0.0dev,>=1.32.0->google-cloud-aiplatform==1.20.0) (3.2.0)\n",
      "Requirement already satisfied: idna<4,>=2.5 in /opt/conda/lib/python3.10/site-packages (from requests<3.0.0dev,>=2.18.0->google-api-core[grpc]!=2.0.*,!=2.1.*,!=2.2.*,!=2.3.*,!=2.4.*,!=2.5.*,!=2.6.*,!=2.7.*,<3.0.0dev,>=1.32.0->google-cloud-aiplatform==1.20.0) (3.4)\n",
      "Requirement already satisfied: certifi>=2017.4.17 in /opt/conda/lib/python3.10/site-packages (from requests<3.0.0dev,>=2.18.0->google-api-core[grpc]!=2.0.*,!=2.1.*,!=2.2.*,!=2.3.*,!=2.4.*,!=2.5.*,!=2.6.*,!=2.7.*,<3.0.0dev,>=1.32.0->google-cloud-aiplatform==1.20.0) (2023.7.22)\n",
      "Requirement already satisfied: pyasn1<0.6.0,>=0.4.6 in /opt/conda/lib/python3.10/site-packages (from pyasn1-modules>=0.2.1->google-auth<3.0dev,>=1.25.0->google-api-core[grpc]!=2.0.*,!=2.1.*,!=2.2.*,!=2.3.*,!=2.4.*,!=2.5.*,!=2.6.*,!=2.7.*,<3.0.0dev,>=1.32.0->google-cloud-aiplatform==1.20.0) (0.5.0)\n",
      "Installing collected packages: google-cloud-aiplatform\n",
      "  Attempting uninstall: google-cloud-aiplatform\n",
      "    Found existing installation: google-cloud-aiplatform 0.7.1\n",
      "    Uninstalling google-cloud-aiplatform-0.7.1:\n",
      "      Successfully uninstalled google-cloud-aiplatform-0.7.1\n",
      "\u001b[33m  WARNING: The script tb-gcp-uploader is installed in '/home/jupyter/.local/bin' which is not on PATH.\n",
      "  Consider adding this directory to PATH or, if you prefer to suppress this warning, use --no-warn-script-location.\u001b[0m\u001b[33m\n",
      "\u001b[0mSuccessfully installed google-cloud-aiplatform-1.20.0\n"
     ]
    }
   ],
   "source": [
    "!pip install google-cloud-aiplatform==1.20.0 --user"
   ]
  },
  {
   "cell_type": "markdown",
   "metadata": {},
   "source": [
    "**Note:** Please restart the kernel by clicking **Kernel > Restart Kernel**"
   ]
  },
  {
   "cell_type": "markdown",
   "metadata": {},
   "source": [
    "Start by importing the necessary libraries for this lab."
   ]
  },
  {
   "cell_type": "code",
   "execution_count": 4,
   "metadata": {},
   "outputs": [
    {
     "name": "stderr",
     "output_type": "stream",
     "text": [
      "2023-10-16 03:05:57.389848: I tensorflow/core/platform/cpu_feature_guard.cc:193] This TensorFlow binary is optimized with oneAPI Deep Neural Network Library (oneDNN) to use the following CPU instructions in performance-critical operations:  AVX2 FMA\n",
      "To enable them in other operations, rebuild TensorFlow with the appropriate compiler flags.\n",
      "2023-10-16 03:05:58.818255: W tensorflow/compiler/xla/stream_executor/platform/default/dso_loader.cc:64] Could not load dynamic library 'libnvinfer.so.7'; dlerror: libnvinfer.so.7: cannot open shared object file: No such file or directory; LD_LIBRARY_PATH: /usr/local/cuda/lib64:/usr/local/cuda/lib:/usr/local/lib/x86_64-linux-gnu:/usr/local/nvidia/lib:/usr/local/nvidia/lib64:/usr/local/nvidia/lib:/usr/local/nvidia/lib64\n",
      "2023-10-16 03:05:58.818389: W tensorflow/compiler/xla/stream_executor/platform/default/dso_loader.cc:64] Could not load dynamic library 'libnvinfer_plugin.so.7'; dlerror: libnvinfer_plugin.so.7: cannot open shared object file: No such file or directory; LD_LIBRARY_PATH: /usr/local/cuda/lib64:/usr/local/cuda/lib:/usr/local/lib/x86_64-linux-gnu:/usr/local/nvidia/lib:/usr/local/nvidia/lib64:/usr/local/nvidia/lib:/usr/local/nvidia/lib64\n",
      "2023-10-16 03:05:58.818402: W tensorflow/compiler/tf2tensorrt/utils/py_utils.cc:38] TF-TRT Warning: Cannot dlopen some TensorRT libraries. If you would like to use Nvidia GPU with TensorRT, please make sure the missing libraries mentioned above are installed properly.\n"
     ]
    },
    {
     "name": "stdout",
     "output_type": "stream",
     "text": [
      "2.11.0\n"
     ]
    }
   ],
   "source": [
    "import datetime\n",
    "import os\n",
    "import shutil\n",
    "\n",
    "import numpy as np\n",
    "import pandas as pd\n",
    "import tensorflow as tf\n",
    "from google.cloud import aiplatform\n",
    "from matplotlib import pyplot as plt\n",
    "from tensorflow import keras\n",
    "from tensorflow.keras.callbacks import TensorBoard\n",
    "from tensorflow.keras.layers import Dense, DenseFeatures\n",
    "from tensorflow.keras.models import Sequential\n",
    "\n",
    "print(tf.__version__)\n",
    "%matplotlib inline"
   ]
  },
  {
   "cell_type": "markdown",
   "metadata": {},
   "source": [
    "## Load raw data"
   ]
  },
  {
   "cell_type": "markdown",
   "metadata": {},
   "source": [
    "We will use the taxifare dataset, using the CSV files that we created in the first notebook of this sequence. Those files have been saved into `../data`."
   ]
  },
  {
   "cell_type": "code",
   "execution_count": 5,
   "metadata": {},
   "outputs": [
    {
     "name": "stdout",
     "output_type": "stream",
     "text": [
      "-rw-r--r-- 1 jupyter jupyter  123590 Oct 15 11:55 ../data/taxi-test.csv\n",
      "-rw-r--r-- 1 jupyter jupyter 2186310 Oct 15 11:55 ../data/taxi-traffic-test.csv\n",
      "-rw-r--r-- 1 jupyter jupyter 9713118 Oct 15 11:55 ../data/taxi-traffic-train.csv\n",
      "-rw-r--r-- 1 jupyter jupyter 2036826 Oct 15 11:55 ../data/taxi-traffic-valid.csv\n",
      "-rw-r--r-- 1 jupyter jupyter  579055 Oct 15 11:55 ../data/taxi-train.csv\n",
      "-rw-r--r-- 1 jupyter jupyter  123114 Oct 15 11:55 ../data/taxi-valid.csv\n"
     ]
    }
   ],
   "source": [
    "!ls -l ../data/*.csv"
   ]
  },
  {
   "cell_type": "code",
   "execution_count": 6,
   "metadata": {},
   "outputs": [
    {
     "name": "stdout",
     "output_type": "stream",
     "text": [
      "==> ../data/taxi-test.csv <==\n",
      "6.0,2013-03-27 03:35:00 UTC,-73.977672,40.784052,-73.965332,40.801025,2,0\n",
      "19.3,2012-05-10 18:43:16 UTC,-73.954366,40.778924,-74.004094,40.723104,1,1\n",
      "7.5,2014-05-20 23:09:00 UTC,-73.999165,40.738377,-74.003473,40.723862,2,2\n",
      "12.5,2015-02-23 19:51:31 UTC,-73.9652099609375,40.76948165893555,-73.98949432373047,40.739742279052734,1,3\n",
      "10.9,2011-03-19 03:32:00 UTC,-73.99259,40.742957,-73.989908,40.711053,1,4\n",
      "7.0,2012-09-18 12:51:11 UTC,-73.971195,40.751566,-73.975922,40.756361,1,5\n",
      "19.0,2014-05-20 23:09:00 UTC,-73.998392,40.74517,-73.939845,40.74908,1,6\n",
      "8.9,2012-07-18 08:46:08 UTC,-73.997638,40.756541,-73.973303,40.762019,1,7\n",
      "4.5,2010-07-11 20:39:08 UTC,-73.976738,40.751321,-73.986671,40.74883,1,8\n",
      "7.0,2013-12-12 02:16:40 UTC,-73.985024,40.767537,-73.981273,40.779302,1,9\n",
      "\n",
      "==> ../data/taxi-traffic-test.csv <==\n",
      "15.7,6,12,-73.990072,40.758199,-73.974686,40.742004,2089\n",
      "6.1,7,2,-73.95647,40.771226,-73.971845,40.750089,1738\n",
      "4.1,6,18,-73.987871,40.759855,-73.996375,40.763728,2971\n",
      "5.7,2,18,-73.974177,40.761154,-73.980953,40.769357,2320\n",
      "7.4,4,23,-73.924908,40.741879,-73.897524,40.747867,1491\n",
      "20.5,1,15,-73.957528,40.766847,-73.870813,40.774044,1794\n",
      "6.5,6,9,-73.996553,40.725558,-73.992503,40.737248,2341\n",
      "4.1,4,11,-73.98353,40.746821000000004,-73.976831,40.751082000000004,2329\n",
      "10.5,3,18,-73.863998,40.770439,-73.91671099999999,40.773011,2318\n",
      "10.1,6,1,-73.979685,40.727247999999996,-73.952508,40.772492,1455\n",
      "\n",
      "==> ../data/taxi-traffic-train.csv <==\n",
      "6.1,2,0,-73.98689499999999,40.729723,-74.00631,40.739407,1129\n",
      "9.7,7,0,-73.94578299999999,40.777807,-73.97539,40.757712,2876\n",
      "5.3,6,0,-74.00644,40.739349,-73.999379,40.731804,3950\n",
      "7.3,5,0,-73.96611800000001,40.753983000000005,-73.945605,40.782802000000004,1334\n",
      "6.5,7,0,-73.974153,40.762767,-73.989152,40.742727,2623\n",
      "22.9,1,0,-73.977188,40.774063,-73.962647,40.654768,2833\n",
      "22.9,2,0,-74.00188,40.745946999999994,-73.968497,40.639375,2002\n",
      "6.1,3,0,-73.994051,40.751077,-73.977333,40.778875,661\n",
      "5.3,5,0,-73.980898,40.744515,-73.973383,40.753496999999996,1938\n",
      "6.5,7,0,-74.00540600000001,40.708533,-74.005498,40.725617,2781\n",
      "\n",
      "==> ../data/taxi-traffic-valid.csv <==\n",
      "7.7,2,11,-73.97463,40.742118,-73.98544,40.760585999999996,1059\n",
      "30.1,7,1,-73.956921,40.777588,-73.965109,40.673271,2225\n",
      "7.7,6,13,-73.98073199999999,40.742109,-73.96415400000001,40.764891999999996,1994\n",
      "24.67,4,4,-73.953387,40.822733,-73.878697,40.755373,321\n",
      "7.7,2,1,-73.982304,40.723572,-73.972778,40.74928,1115\n",
      "8.1,5,18,-73.98474300000001,40.749171999999994,-74.00232,40.72825,2697\n",
      "6.1,4,1,-73.983588,40.72224,-73.997302,40.720786,868\n",
      "19.07,3,1,-73.94446500000001,40.807284,-73.876339,40.763073999999996,711\n",
      "12.5,4,10,-73.98696899999999,40.722343,-74.01621,40.715067,1990\n",
      "5.7,7,18,-74.007972,40.738759,-73.991973,40.73704,2048\n",
      "\n",
      "==> ../data/taxi-train.csv <==\n",
      "11.3,2011-01-28 20:42:59 UTC,-73.999022,40.739146,-73.990369,40.717866,1,0\n",
      "7.7,2011-06-27 04:28:06 UTC,-73.987443,40.729221,-73.979013,40.758641,1,1\n",
      "10.5,2011-04-03 00:54:53 UTC,-73.982539,40.735725,-73.954797,40.778388,1,2\n",
      "16.2,2009-04-10 04:11:56 UTC,-74.001945,40.740505,-73.91385,40.758559,1,3\n",
      "33.5,2014-02-24 18:22:00 UTC,-73.993372,40.753382,-73.8609,40.732897,2,4\n",
      "6.9,2011-12-10 00:25:23 UTC,-73.996237,40.721848,-73.989416,40.718052,1,5\n",
      "6.1,2012-09-01 14:30:19 UTC,-73.977048,40.758461,-73.984899,40.744693,2,6\n",
      "9.5,2012-11-08 13:28:07 UTC,-73.969402,40.757545,-73.950049,40.776079,1,7\n",
      "9.0,2014-07-15 11:37:25 UTC,-73.979318,40.760949,-73.95767,40.773724,1,8\n",
      "3.3,2009-11-09 18:06:58 UTC,-73.955675,40.779154,-73.961172,40.772368,1,9\n",
      "\n",
      "==> ../data/taxi-valid.csv <==\n",
      "5.3,2012-01-03 19:21:35 UTC,-73.962627,40.763214,-73.973485,40.753353,1,0\n",
      "25.3,2010-09-27 07:30:15 UTC,-73.965799,40.794243,-73.927134,40.852261,3,1\n",
      "27.5,2015-05-19 00:40:02 UTC,-73.86344146728516,40.76899719238281,-73.96058654785156,40.76129913330078,1,2\n",
      "5.7,2010-04-29 12:28:00 UTC,-73.989255,40.738912,-73.97558,40.749172,1,3\n",
      "11.5,2013-06-23 06:08:09 UTC,-73.99731,40.763735,-73.955657,40.768141,1,4\n",
      "18.0,2014-10-14 18:52:03 UTC,-73.997995,40.761638,-74.008985,40.712442,1,5\n",
      "4.9,2010-04-29 12:28:00 UTC,-73.977315,40.766182,-73.970845,40.761462,5,6\n",
      "32.33,2014-02-24 18:22:00 UTC,-73.985358,40.761352,-73.92427,40.699145,1,7\n",
      "17.0,2015-03-26 02:48:58 UTC,-73.93981170654297,40.846473693847656,-73.97361755371094,40.786983489990234,1,8\n",
      "12.5,2013-04-09 09:39:13 UTC,-73.977323,40.753934,-74.00719,40.741472,1,9\n"
     ]
    }
   ],
   "source": [
    "!head ../data/taxi*.csv"
   ]
  },
  {
   "cell_type": "markdown",
   "metadata": {},
   "source": [
    "## Use tf.data to read the CSV files"
   ]
  },
  {
   "cell_type": "code",
   "execution_count": 12,
   "metadata": {},
   "outputs": [],
   "source": [
    "CSV_COLUMNS = [\n",
    "    \"fare_amount\",\n",
    "    \"pickup_datetime\",\n",
    "    \"pickup_longitude\",\n",
    "    \"pickup_latitude\",\n",
    "    \"dropoff_longitude\",\n",
    "    \"dropoff_latitude\",\n",
    "    \"passenger_count\",\n",
    "    \"key\",\n",
    "]\n",
    "LABEL_COLUMN = \"fare_amount\"\n",
    "DEFAULTS = [[0.0], [\"na\"], [0.0], [0.0], [0.0], [0.0], [0.0], [\"na\"]]\n",
    "UNWANTED_COLS = [\"pickup_datetime\", \"key\"]\n",
    "\n",
    "\n",
    "def features_and_labels(row_data):\n",
    "    label = row_data.pop(LABEL_COLUMN)\n",
    "    features = row_data\n",
    "\n",
    "    for unwanted_col in UNWANTED_COLS:\n",
    "        features.pop(unwanted_col)\n",
    "\n",
    "    return features, label\n",
    "\n",
    "\n",
    "def create_dataset(pattern, batch_size=1, mode=\"eval\"):\n",
    "    dataset = tf.data.experimental.make_csv_dataset(\n",
    "        pattern, batch_size, CSV_COLUMNS, DEFAULTS\n",
    "    )\n",
    "\n",
    "    dataset = dataset.map(features_and_labels)\n",
    "\n",
    "    if mode == \"train\":\n",
    "        dataset = dataset.shuffle(buffer_size=1000).repeat()\n",
    "\n",
    "    # take advantage of multi-threading; 1=AUTOTUNE\n",
    "    dataset = dataset.prefetch(1)\n",
    "    return dataset"
   ]
  },
  {
   "cell_type": "markdown",
   "metadata": {},
   "source": [
    "## Build a simple keras DNN model"
   ]
  },
  {
   "cell_type": "markdown",
   "metadata": {},
   "source": [
    "We will use feature columns to connect our raw data to our keras DNN model. Feature columns make it easy to perform common types of feature engineering on your raw data. For example, you can one-hot encode categorical data, create feature crosses, embeddings and more."
   ]
  },
  {
   "cell_type": "code",
   "execution_count": 13,
   "metadata": {},
   "outputs": [],
   "source": [
    "INPUT_COLS = [\n",
    "    \"pickup_longitude\",\n",
    "    \"pickup_latitude\",\n",
    "    \"dropoff_longitude\",\n",
    "    \"dropoff_latitude\",\n",
    "    \"passenger_count\",\n",
    "]\n",
    "\n",
    "# Create input layer of feature columns\n",
    "\n",
    "#1\n",
    "feature_columns = {\n",
    "    colname: tf.feature_column.numeric_column(colname) for colname in INPUT_COLS\n",
    "}"
   ]
  },
  {
   "cell_type": "markdown",
   "metadata": {},
   "source": [
    "Next, we create the DNN model. The Sequential model is a linear stack of layers and when building a model using the Sequential API, you configure each layer of the model in turn. Once all the layers have been added, you compile the model. "
   ]
  },
  {
   "cell_type": "code",
   "execution_count": 14,
   "metadata": {},
   "outputs": [
    {
     "name": "stderr",
     "output_type": "stream",
     "text": [
      "2023-10-16 03:10:21.692325: W tensorflow/compiler/xla/stream_executor/platform/default/dso_loader.cc:64] Could not load dynamic library 'libcuda.so.1'; dlerror: libcuda.so.1: cannot open shared object file: No such file or directory; LD_LIBRARY_PATH: /usr/local/cuda/lib64:/usr/local/cuda/lib:/usr/local/lib/x86_64-linux-gnu:/usr/local/nvidia/lib:/usr/local/nvidia/lib64:/usr/local/nvidia/lib:/usr/local/nvidia/lib64\n",
      "2023-10-16 03:10:21.692392: W tensorflow/compiler/xla/stream_executor/cuda/cuda_driver.cc:265] failed call to cuInit: UNKNOWN ERROR (303)\n",
      "2023-10-16 03:10:21.692430: I tensorflow/compiler/xla/stream_executor/cuda/cuda_diagnostics.cc:156] kernel driver does not appear to be running on this host (7a568c662824): /proc/driver/nvidia/version does not exist\n",
      "2023-10-16 03:10:21.692829: I tensorflow/core/platform/cpu_feature_guard.cc:193] This TensorFlow binary is optimized with oneAPI Deep Neural Network Library (oneDNN) to use the following CPU instructions in performance-critical operations:  AVX2 FMA\n",
      "To enable them in other operations, rebuild TensorFlow with the appropriate compiler flags.\n"
     ]
    }
   ],
   "source": [
    "# Build a keras DNN model using Sequential API\n",
    "\n",
    "#2a\n",
    "model = Sequential(\n",
    "    [\n",
    "        DenseFeatures(feature_columns=feature_columns.values()),\n",
    "        Dense(units=32, activation=\"relu\", name=\"h1\"),\n",
    "        Dense(units=8, activation=\"relu\", name=\"h2\"),\n",
    "        Dense(units=1, activation=\"linear\", name=\"output\"),\n",
    "    ]\n",
    ")"
   ]
  },
  {
   "cell_type": "markdown",
   "metadata": {},
   "source": [
    "Next, to prepare the model for training, you must configure the learning process. This is done using the compile method. The compile method takes three arguments:\n",
    "\n",
    "* An optimizer. This could be the string identifier of an existing optimizer (such as `rmsprop` or `adagrad`)\n",
    "* A loss function. This is the objective that the model will try to minimize.\n",
    "* A list of metrics. For any machine learning problem you will want a set of metrics to evaluate your model."
   ]
  },
  {
   "cell_type": "code",
   "execution_count": 16,
   "metadata": {},
   "outputs": [],
   "source": [
    "#2b\n",
    "# Create a custom evalution metric\n",
    "def rmse(y_true, y_pred):\n",
    "    return tf.sqrt(tf.reduce_mean(tf.square(y_pred - y_true)))\n",
    "\n",
    "\n",
    "# Compile the keras model\n",
    "model.compile(optimizer=\"adam\", loss=\"mse\", metrics=[rmse, \"mse\"])"
   ]
  },
  {
   "cell_type": "markdown",
   "metadata": {},
   "source": [
    "## Train the model"
   ]
  },
  {
   "cell_type": "markdown",
   "metadata": {},
   "source": [
    "To train your model, Keras provides three functions that can be used:\n",
    " 1. `.fit()` for training a model for a fixed number of epochs (iterations on a dataset).\n",
    " 2. `.fit_generator()` for training a model on data yielded batch-by-batch by a generator\n",
    " 3. `.train_on_batch()` runs a single gradient update on a single batch of data. \n",
    " \n",
    "The `.fit()` function works well for small datasets which can fit entirely in memory. However, for large datasets (or if you need to manipulate the training data on the fly via data augmentation, etc) you will need to use `.fit_generator()` instead. The `.train_on_batch()` method is for more fine-grained control over training and accepts only a single batch of data.\n",
    "\n",
    "The taxifare dataset we sampled is small enough to fit in memory, so can we could use `.fit` to train our model. Our `create_dataset` function above generates batches of training examples, so we could also use `.fit_generator`. In fact, when calling `.fit` the method inspects the data, and if it's a generator (as our dataset is) it will invoke automatically `.fit_generator` for training. \n",
    "\n",
    "We start by setting up some parameters for our training job and create the data generators for the training and validation data."
   ]
  },
  {
   "cell_type": "code",
   "execution_count": 17,
   "metadata": {},
   "outputs": [],
   "source": [
    "TRAIN_BATCH_SIZE = 1000\n",
    "NUM_TRAIN_EXAMPLES = 10000 * 5  # training dataset will repeat, wrap around\n",
    "NUM_EVALS = 50  # how many times to evaluate\n",
    "NUM_EVAL_EXAMPLES = 10000  # enough to get a reasonable sample\n",
    "\n",
    "trainds = create_dataset(\n",
    "    pattern=\"../data/taxi-train*\", batch_size=TRAIN_BATCH_SIZE, mode=\"train\"\n",
    ")\n",
    "\n",
    "evalds = create_dataset(\n",
    "    pattern=\"../data/taxi-valid*\", batch_size=1000, mode=\"eval\"\n",
    ").take(NUM_EVAL_EXAMPLES // 1000)"
   ]
  },
  {
   "cell_type": "markdown",
   "metadata": {},
   "source": [
    "There are various arguments you can set when calling the [.fit method](https://www.tensorflow.org/versions/r2.0/api_docs/python/tf/keras/Model#fit). Here `x` specifies the input data which in our case is a `tf.data` dataset returning a tuple of (inputs, targets). The `steps_per_epoch` parameter is used to mark the end of training for a single epoch. Here we are training for NUM_EVALS epochs. Lastly, for the `callback` argument we specify a Tensorboard callback so we can inspect Tensorboard after training. "
   ]
  },
  {
   "cell_type": "code",
   "execution_count": 18,
   "metadata": {},
   "outputs": [
    {
     "name": "stdout",
     "output_type": "stream",
     "text": [
      "Epoch 1/50\n",
      "WARNING:tensorflow:Layers in a Sequential model should only have a single input tensor. Received: inputs=OrderedDict([('pickup_longitude', <tf.Tensor 'IteratorGetNext:4' shape=(1000,) dtype=float32>), ('pickup_latitude', <tf.Tensor 'IteratorGetNext:3' shape=(1000,) dtype=float32>), ('dropoff_longitude', <tf.Tensor 'IteratorGetNext:1' shape=(1000,) dtype=float32>), ('dropoff_latitude', <tf.Tensor 'IteratorGetNext:0' shape=(1000,) dtype=float32>), ('passenger_count', <tf.Tensor 'IteratorGetNext:2' shape=(1000,) dtype=float32>)]). Consider rewriting this model with the Functional API.\n",
      "WARNING:tensorflow:Layers in a Sequential model should only have a single input tensor. Received: inputs=OrderedDict([('pickup_longitude', <tf.Tensor 'IteratorGetNext:4' shape=(1000,) dtype=float32>), ('pickup_latitude', <tf.Tensor 'IteratorGetNext:3' shape=(1000,) dtype=float32>), ('dropoff_longitude', <tf.Tensor 'IteratorGetNext:1' shape=(1000,) dtype=float32>), ('dropoff_latitude', <tf.Tensor 'IteratorGetNext:0' shape=(1000,) dtype=float32>), ('passenger_count', <tf.Tensor 'IteratorGetNext:2' shape=(1000,) dtype=float32>)]). Consider rewriting this model with the Functional API.\n"
     ]
    },
    {
     "name": "stderr",
     "output_type": "stream",
     "text": [
      "2023-10-16 03:19:25.342427: I tensorflow/core/kernels/data/shuffle_dataset_op.cc:392] Filling up shuffle buffer (this may take a while): 520 of 1000\n"
     ]
    },
    {
     "name": "stdout",
     "output_type": "stream",
     "text": [
      "1/1 [==============================] - ETA: 0s - loss: 846.8641 - rmse: 29.1009 - mse: 846.8641WARNING:tensorflow:Layers in a Sequential model should only have a single input tensor. Received: inputs=OrderedDict([('pickup_longitude', <tf.Tensor 'IteratorGetNext:4' shape=(1000,) dtype=float32>), ('pickup_latitude', <tf.Tensor 'IteratorGetNext:3' shape=(1000,) dtype=float32>), ('dropoff_longitude', <tf.Tensor 'IteratorGetNext:1' shape=(1000,) dtype=float32>), ('dropoff_latitude', <tf.Tensor 'IteratorGetNext:0' shape=(1000,) dtype=float32>), ('passenger_count', <tf.Tensor 'IteratorGetNext:2' shape=(1000,) dtype=float32>)]). Consider rewriting this model with the Functional API.\n"
     ]
    },
    {
     "name": "stderr",
     "output_type": "stream",
     "text": [
      "2023-10-16 03:19:34.967840: I tensorflow/core/kernels/data/shuffle_dataset_op.cc:417] Shuffle buffer filled.\n"
     ]
    },
    {
     "name": "stdout",
     "output_type": "stream",
     "text": [
      "1/1 [==============================] - 22s 22s/step - loss: 846.8641 - rmse: 29.1009 - mse: 846.8641 - val_loss: 727.4520 - val_rmse: 26.9711 - val_mse: 727.4520\n",
      "Epoch 2/50\n",
      "1/1 [==============================] - 0s 349ms/step - loss: 729.8451 - rmse: 27.0156 - mse: 729.8451 - val_loss: 632.9343 - val_rmse: 25.1579 - val_mse: 632.9343\n",
      "Epoch 3/50\n",
      "1/1 [==============================] - 0s 285ms/step - loss: 640.3182 - rmse: 25.3045 - mse: 640.3182 - val_loss: 566.0288 - val_rmse: 23.7904 - val_mse: 566.0288\n",
      "Epoch 4/50\n",
      "1/1 [==============================] - 0s 287ms/step - loss: 578.4154 - rmse: 24.0503 - mse: 578.4154 - val_loss: 513.5182 - val_rmse: 22.6605 - val_mse: 513.5182\n",
      "Epoch 5/50\n",
      "1/1 [==============================] - 0s 416ms/step - loss: 518.8553 - rmse: 22.7784 - mse: 518.8553 - val_loss: 464.5432 - val_rmse: 21.5522 - val_mse: 464.5432\n",
      "Epoch 6/50\n",
      "1/1 [==============================] - 0s 355ms/step - loss: 457.4984 - rmse: 21.3892 - mse: 457.4984 - val_loss: 416.4937 - val_rmse: 20.4074 - val_mse: 416.4937\n",
      "Epoch 7/50\n",
      "1/1 [==============================] - 0s 364ms/step - loss: 411.6729 - rmse: 20.2897 - mse: 411.6729 - val_loss: 372.3729 - val_rmse: 19.2957 - val_mse: 372.3729\n",
      "Epoch 8/50\n",
      "1/1 [==============================] - 0s 343ms/step - loss: 364.7330 - rmse: 19.0980 - mse: 364.7330 - val_loss: 332.0299 - val_rmse: 18.2201 - val_mse: 332.0299\n",
      "Epoch 9/50\n",
      "1/1 [==============================] - 0s 339ms/step - loss: 320.0139 - rmse: 17.8889 - mse: 320.0139 - val_loss: 297.1910 - val_rmse: 17.2375 - val_mse: 297.1910\n",
      "Epoch 10/50\n",
      "1/1 [==============================] - 0s 291ms/step - loss: 298.3636 - rmse: 17.2732 - mse: 298.3636 - val_loss: 263.9680 - val_rmse: 16.2439 - val_mse: 263.9680\n",
      "Epoch 11/50\n",
      "1/1 [==============================] - 0s 329ms/step - loss: 246.3670 - rmse: 15.6961 - mse: 246.3670 - val_loss: 233.5237 - val_rmse: 15.2799 - val_mse: 233.5237\n",
      "Epoch 12/50\n",
      "1/1 [==============================] - 0s 301ms/step - loss: 262.9548 - rmse: 16.2159 - mse: 262.9548 - val_loss: 209.5760 - val_rmse: 14.4754 - val_mse: 209.5760\n",
      "Epoch 13/50\n",
      "1/1 [==============================] - 0s 350ms/step - loss: 204.9595 - rmse: 14.3164 - mse: 204.9595 - val_loss: 186.7585 - val_rmse: 13.6603 - val_mse: 186.7585\n",
      "Epoch 14/50\n",
      "1/1 [==============================] - 0s 301ms/step - loss: 190.3834 - rmse: 13.7979 - mse: 190.3834 - val_loss: 168.4464 - val_rmse: 12.9724 - val_mse: 168.4464\n",
      "Epoch 15/50\n",
      "1/1 [==============================] - 0s 308ms/step - loss: 154.0185 - rmse: 12.4104 - mse: 154.0185 - val_loss: 153.2125 - val_rmse: 12.3696 - val_mse: 153.2125\n",
      "Epoch 16/50\n",
      "1/1 [==============================] - 0s 305ms/step - loss: 125.2774 - rmse: 11.1927 - mse: 125.2774 - val_loss: 140.0637 - val_rmse: 11.8201 - val_mse: 140.0637\n",
      "Epoch 17/50\n",
      "1/1 [==============================] - 0s 294ms/step - loss: 115.5509 - rmse: 10.7495 - mse: 115.5509 - val_loss: 129.4276 - val_rmse: 11.3672 - val_mse: 129.4276\n",
      "Epoch 18/50\n",
      "1/1 [==============================] - 0s 321ms/step - loss: 113.5990 - rmse: 10.6583 - mse: 113.5990 - val_loss: 120.6382 - val_rmse: 10.9700 - val_mse: 120.6382\n",
      "Epoch 19/50\n",
      "1/1 [==============================] - 0s 328ms/step - loss: 97.9128 - rmse: 9.8951 - mse: 97.9128 - val_loss: 118.1645 - val_rmse: 10.8516 - val_mse: 118.1645\n",
      "Epoch 20/50\n",
      "1/1 [==============================] - 0s 286ms/step - loss: 109.3248 - rmse: 10.4559 - mse: 109.3248 - val_loss: 114.1065 - val_rmse: 10.6492 - val_mse: 114.1065\n",
      "Epoch 21/50\n",
      "1/1 [==============================] - 0s 290ms/step - loss: 105.8693 - rmse: 10.2893 - mse: 105.8693 - val_loss: 110.7912 - val_rmse: 10.5067 - val_mse: 110.7912\n",
      "Epoch 22/50\n",
      "1/1 [==============================] - 0s 344ms/step - loss: 87.0569 - rmse: 9.3304 - mse: 87.0569 - val_loss: 109.7404 - val_rmse: 10.4682 - val_mse: 109.7404\n",
      "Epoch 23/50\n",
      "1/1 [==============================] - 0s 352ms/step - loss: 107.3329 - rmse: 10.3602 - mse: 107.3329 - val_loss: 110.8644 - val_rmse: 10.5000 - val_mse: 110.8644\n",
      "Epoch 24/50\n",
      "1/1 [==============================] - 0s 314ms/step - loss: 80.7979 - rmse: 8.9888 - mse: 80.7979 - val_loss: 111.2342 - val_rmse: 10.5282 - val_mse: 111.2342\n",
      "Epoch 25/50\n",
      "1/1 [==============================] - 0s 311ms/step - loss: 108.7637 - rmse: 10.4290 - mse: 108.7637 - val_loss: 113.7551 - val_rmse: 10.6447 - val_mse: 113.7551\n",
      "Epoch 26/50\n",
      "1/1 [==============================] - 0s 296ms/step - loss: 94.4258 - rmse: 9.7173 - mse: 94.4258 - val_loss: 115.3578 - val_rmse: 10.7195 - val_mse: 115.3578\n",
      "Epoch 27/50\n",
      "1/1 [==============================] - 0s 304ms/step - loss: 110.5551 - rmse: 10.5145 - mse: 110.5551 - val_loss: 116.1848 - val_rmse: 10.7557 - val_mse: 116.1848\n",
      "Epoch 28/50\n",
      "1/1 [==============================] - 0s 386ms/step - loss: 87.1751 - rmse: 9.3368 - mse: 87.1751 - val_loss: 120.8452 - val_rmse: 10.9680 - val_mse: 120.8452\n",
      "Epoch 29/50\n",
      "1/1 [==============================] - 0s 358ms/step - loss: 110.7522 - rmse: 10.5239 - mse: 110.7522 - val_loss: 123.6455 - val_rmse: 11.1148 - val_mse: 123.6455\n",
      "Epoch 30/50\n",
      "1/1 [==============================] - 0s 372ms/step - loss: 92.6255 - rmse: 9.6242 - mse: 92.6255 - val_loss: 122.3190 - val_rmse: 11.0486 - val_mse: 122.3190\n",
      "Epoch 31/50\n",
      "1/1 [==============================] - 0s 312ms/step - loss: 92.2551 - rmse: 9.6050 - mse: 92.2551 - val_loss: 123.9844 - val_rmse: 11.1101 - val_mse: 123.9844\n",
      "Epoch 32/50\n",
      "1/1 [==============================] - 0s 328ms/step - loss: 119.9231 - rmse: 10.9509 - mse: 119.9231 - val_loss: 126.6611 - val_rmse: 11.2398 - val_mse: 126.6611\n",
      "Epoch 33/50\n",
      "1/1 [==============================] - 0s 287ms/step - loss: 101.2766 - rmse: 10.0636 - mse: 101.2766 - val_loss: 127.3306 - val_rmse: 11.2678 - val_mse: 127.3306\n",
      "Epoch 34/50\n",
      "1/1 [==============================] - 0s 315ms/step - loss: 114.3813 - rmse: 10.6949 - mse: 114.3813 - val_loss: 125.9986 - val_rmse: 11.2172 - val_mse: 125.9986\n",
      "Epoch 35/50\n",
      "1/1 [==============================] - 0s 356ms/step - loss: 110.3100 - rmse: 10.5029 - mse: 110.3100 - val_loss: 125.7515 - val_rmse: 11.2046 - val_mse: 125.7515\n",
      "Epoch 36/50\n",
      "1/1 [==============================] - 0s 283ms/step - loss: 96.8209 - rmse: 9.8398 - mse: 96.8209 - val_loss: 128.9003 - val_rmse: 11.3225 - val_mse: 128.9003\n",
      "Epoch 37/50\n",
      "1/1 [==============================] - 0s 371ms/step - loss: 125.8818 - rmse: 11.2197 - mse: 125.8818 - val_loss: 125.6382 - val_rmse: 11.2004 - val_mse: 125.6382\n",
      "Epoch 38/50\n",
      "1/1 [==============================] - 0s 393ms/step - loss: 133.3816 - rmse: 11.5491 - mse: 133.3816 - val_loss: 124.5772 - val_rmse: 11.1563 - val_mse: 124.5772\n",
      "Epoch 39/50\n",
      "1/1 [==============================] - 1s 688ms/step - loss: 94.5604 - rmse: 9.7242 - mse: 94.5604 - val_loss: 122.2519 - val_rmse: 11.0431 - val_mse: 122.2519\n",
      "Epoch 40/50\n",
      "1/1 [==============================] - 0s 377ms/step - loss: 88.3394 - rmse: 9.3989 - mse: 88.3394 - val_loss: 122.7604 - val_rmse: 11.0703 - val_mse: 122.7604\n",
      "Epoch 41/50\n",
      "1/1 [==============================] - 0s 379ms/step - loss: 106.0078 - rmse: 10.2960 - mse: 106.0078 - val_loss: 121.3143 - val_rmse: 10.9922 - val_mse: 121.3143\n",
      "Epoch 42/50\n",
      "1/1 [==============================] - 0s 347ms/step - loss: 114.1891 - rmse: 10.6859 - mse: 114.1891 - val_loss: 118.4660 - val_rmse: 10.8637 - val_mse: 118.4660\n",
      "Epoch 43/50\n",
      "1/1 [==============================] - 0s 333ms/step - loss: 75.9857 - rmse: 8.7170 - mse: 75.9857 - val_loss: 117.4401 - val_rmse: 10.8329 - val_mse: 117.4401\n",
      "Epoch 44/50\n",
      "1/1 [==============================] - 0s 318ms/step - loss: 144.8563 - rmse: 12.0356 - mse: 144.8563 - val_loss: 115.4132 - val_rmse: 10.7352 - val_mse: 115.4132\n",
      "Epoch 45/50\n",
      "1/1 [==============================] - 0s 304ms/step - loss: 81.9133 - rmse: 9.0506 - mse: 81.9133 - val_loss: 114.7991 - val_rmse: 10.6984 - val_mse: 114.7991\n",
      "Epoch 46/50\n",
      "1/1 [==============================] - 0s 311ms/step - loss: 121.8234 - rmse: 11.0374 - mse: 121.8234 - val_loss: 113.5083 - val_rmse: 10.6321 - val_mse: 113.5083\n",
      "Epoch 47/50\n",
      "1/1 [==============================] - 0s 292ms/step - loss: 74.8396 - rmse: 8.6510 - mse: 74.8396 - val_loss: 113.4455 - val_rmse: 10.6393 - val_mse: 113.4455\n",
      "Epoch 48/50\n",
      "1/1 [==============================] - 0s 326ms/step - loss: 94.5300 - rmse: 9.7227 - mse: 94.5300 - val_loss: 111.1225 - val_rmse: 10.5302 - val_mse: 111.1225\n",
      "Epoch 49/50\n",
      "1/1 [==============================] - 0s 313ms/step - loss: 80.5613 - rmse: 8.9756 - mse: 80.5613 - val_loss: 109.7959 - val_rmse: 10.4652 - val_mse: 109.7959\n",
      "Epoch 50/50\n",
      "1/1 [==============================] - 0s 290ms/step - loss: 73.6707 - rmse: 8.5832 - mse: 73.6707 - val_loss: 112.2675 - val_rmse: 10.5716 - val_mse: 112.2675\n"
     ]
    }
   ],
   "source": [
    "#3\n",
    "steps_per_epoch = NUM_TRAIN_EXAMPLES // (TRAIN_BATCH_SIZE * NUM_EVALS)\n",
    "\n",
    "LOGDIR = \"./taxi_trained\"\n",
    "history = model.fit(\n",
    "    x=trainds,\n",
    "    steps_per_epoch=steps_per_epoch,\n",
    "    epochs=NUM_EVALS,\n",
    "    validation_data=evalds,\n",
    "    callbacks=[TensorBoard(LOGDIR)],\n",
    ")"
   ]
  },
  {
   "cell_type": "markdown",
   "metadata": {},
   "source": [
    "### High-level model evaluation"
   ]
  },
  {
   "cell_type": "markdown",
   "metadata": {},
   "source": [
    "Once we've run data through the model, we can call `.summary()` on the model to get a high-level summary of our network. We can also plot the training and evaluation curves for the metrics we computed above. "
   ]
  },
  {
   "cell_type": "code",
   "execution_count": 24,
   "metadata": {},
   "outputs": [
    {
     "name": "stdout",
     "output_type": "stream",
     "text": [
      "Model: \"sequential\"\n",
      "_________________________________________________________________\n",
      " Layer (type)                Output Shape              Param #   \n",
      "=================================================================\n",
      " dense_features (DenseFeatur  multiple                 0         \n",
      " es)                                                             \n",
      "                                                                 \n",
      " h1 (Dense)                  multiple                  192       \n",
      "                                                                 \n",
      " h2 (Dense)                  multiple                  264       \n",
      "                                                                 \n",
      " output (Dense)              multiple                  9         \n",
      "                                                                 \n",
      "=================================================================\n",
      "Total params: 465\n",
      "Trainable params: 465\n",
      "Non-trainable params: 0\n",
      "_________________________________________________________________\n"
     ]
    }
   ],
   "source": [
    "model.summary()"
   ]
  },
  {
   "cell_type": "markdown",
   "metadata": {},
   "source": [
    "Running `.fit` (or `.fit_generator`) returns a History object which collects all the events recorded during training. We can plot the training and validation curves for the model loss and rmse by accessing these elements of the History object."
   ]
  },
  {
   "cell_type": "code",
   "execution_count": 25,
   "metadata": {},
   "outputs": [
    {
     "data": {
      "text/plain": [
       "<Axes: >"
      ]
     },
     "execution_count": 25,
     "metadata": {},
     "output_type": "execute_result"
    },
    {
     "data": {
      "image/png": "[encoded data removed]",
      "text/plain": [
       "<Figure size 640x480 with 1 Axes>"
      ]
     },
     "metadata": {},
     "output_type": "display_data"
    }
   ],
   "source": [
    "RMSE_COLS = [\"rmse\", \"val_rmse\"]\n",
    "\n",
    "pd.DataFrame(history.history)[RMSE_COLS].plot()"
   ]
  },
  {
   "cell_type": "code",
   "execution_count": 26,
   "metadata": {},
   "outputs": [
    {
     "data": {
      "text/plain": [
       "<Axes: >"
      ]
     },
     "execution_count": 26,
     "metadata": {},
     "output_type": "execute_result"
    },
    {
     "data": {
      "image/png": "[encoded data removed]",
      "text/plain": [
       "<Figure size 640x480 with 1 Axes>"
      ]
     },
     "metadata": {},
     "output_type": "display_data"
    }
   ],
   "source": [
    "LOSS_COLS = [\"loss\", \"val_loss\"]\n",
    "\n",
    "pd.DataFrame(history.history)[LOSS_COLS].plot()"
   ]
  },
  {
   "cell_type": "markdown",
   "metadata": {},
   "source": [
    "# Making predictions with our model"
   ]
  },
  {
   "cell_type": "markdown",
   "metadata": {},
   "source": [
    "To make predictions with our trained model, we can call the [predict method](https://www.tensorflow.org/api_docs/python/tf/keras/Model#predict), passing to it a dictionary of values. The `steps` parameter determines the total number of steps before declaring the prediction round finished. Here since we have just one example, we set `steps=1` (setting `steps=None` would also work). Note, however, that if x is a `tf.data` dataset or a dataset iterator, and steps is set to None, predict will run until the input dataset is exhausted."
   ]
  },
  {
   "cell_type": "code",
   "execution_count": 27,
   "metadata": {},
   "outputs": [
    {
     "name": "stdout",
     "output_type": "stream",
     "text": [
      "1/1 [==============================] - 0s 40ms/step\n"
     ]
    },
    {
     "data": {
      "text/plain": [
       "array([[11.603747]], dtype=float32)"
      ]
     },
     "execution_count": 27,
     "metadata": {},
     "output_type": "execute_result"
    }
   ],
   "source": [
    "model.predict(\n",
    "    x={\n",
    "        \"pickup_longitude\": tf.convert_to_tensor([-73.982683]),\n",
    "        \"pickup_latitude\": tf.convert_to_tensor([40.742104]),\n",
    "        \"dropoff_longitude\": tf.convert_to_tensor([-73.983766]),\n",
    "        \"dropoff_latitude\": tf.convert_to_tensor([40.755174]),\n",
    "        \"passenger_count\": tf.convert_to_tensor([3.0]),\n",
    "    },\n",
    "    steps=1,\n",
    ")"
   ]
  },
  {
   "cell_type": "markdown",
   "metadata": {},
   "source": [
    "# Export and deploy our model"
   ]
  },
  {
   "cell_type": "markdown",
   "metadata": {},
   "source": [
    "Of course, making individual predictions is not realistic, because we can't expect client code to have a model object in memory. For others to use our trained model, we'll have to export our model to a file, and expect client code to instantiate the model from that exported file. \n",
    "\n",
    "We'll export the model to a TensorFlow SavedModel format. Once we have a model in this format, we have lots of ways to \"serve\" the model, from a web application, from JavaScript, from mobile applications, etc."
   ]
  },
  {
   "cell_type": "code",
   "execution_count": 19,
   "metadata": {},
   "outputs": [
    {
     "name": "stdout",
     "output_type": "stream",
     "text": [
      "WARNING:tensorflow:Layers in a Sequential model should only have a single input tensor. Received: inputs=OrderedDict([('pickup_longitude', <tf.Tensor 'pickup_longitude:0' shape=(None,) dtype=float32>), ('pickup_latitude', <tf.Tensor 'pickup_latitude:0' shape=(None,) dtype=float32>), ('dropoff_longitude', <tf.Tensor 'dropoff_longitude:0' shape=(None,) dtype=float32>), ('dropoff_latitude', <tf.Tensor 'dropoff_latitude:0' shape=(None,) dtype=float32>), ('passenger_count', <tf.Tensor 'passenger_count:0' shape=(None,) dtype=float32>)]). Consider rewriting this model with the Functional API.\n",
      "WARNING:tensorflow:Layers in a Sequential model should only have a single input tensor. Received: inputs=OrderedDict([('pickup_longitude', <tf.Tensor 'inputs_4:0' shape=(None,) dtype=float32>), ('pickup_latitude', <tf.Tensor 'inputs_3:0' shape=(None,) dtype=float32>), ('dropoff_longitude', <tf.Tensor 'inputs_1:0' shape=(None,) dtype=float32>), ('dropoff_latitude', <tf.Tensor 'inputs:0' shape=(None,) dtype=float32>), ('passenger_count', <tf.Tensor 'inputs_2:0' shape=(None,) dtype=float32>)]). Consider rewriting this model with the Functional API.\n",
      "WARNING:tensorflow:Layers in a Sequential model should only have a single input tensor. Received: inputs=OrderedDict([('pickup_longitude', <tf.Tensor 'inputs_4:0' shape=(None,) dtype=float32>), ('pickup_latitude', <tf.Tensor 'inputs_3:0' shape=(None,) dtype=float32>), ('dropoff_longitude', <tf.Tensor 'inputs_1:0' shape=(None,) dtype=float32>), ('dropoff_latitude', <tf.Tensor 'inputs:0' shape=(None,) dtype=float32>), ('passenger_count', <tf.Tensor 'inputs_2:0' shape=(None,) dtype=float32>)]). Consider rewriting this model with the Functional API.\n",
      "WARNING:tensorflow:Layers in a Sequential model should only have a single input tensor. Received: inputs=OrderedDict([('pickup_longitude', <tf.Tensor 'pickup_longitude:0' shape=(None,) dtype=float32>), ('pickup_latitude', <tf.Tensor 'pickup_latitude:0' shape=(None,) dtype=float32>), ('dropoff_longitude', <tf.Tensor 'dropoff_longitude:0' shape=(None,) dtype=float32>), ('dropoff_latitude', <tf.Tensor 'dropoff_latitude:0' shape=(None,) dtype=float32>), ('passenger_count', <tf.Tensor 'passenger_count:0' shape=(None,) dtype=float32>)]). Consider rewriting this model with the Functional API.\n",
      "WARNING:tensorflow:Layers in a Sequential model should only have a single input tensor. Received: inputs=OrderedDict([('pickup_longitude', <tf.Tensor 'pickup_longitude:0' shape=(None,) dtype=float32>), ('pickup_latitude', <tf.Tensor 'pickup_latitude:0' shape=(None,) dtype=float32>), ('dropoff_longitude', <tf.Tensor 'dropoff_longitude:0' shape=(None,) dtype=float32>), ('dropoff_latitude', <tf.Tensor 'dropoff_latitude:0' shape=(None,) dtype=float32>), ('passenger_count', <tf.Tensor 'passenger_count:0' shape=(None,) dtype=float32>)]). Consider rewriting this model with the Functional API.\n",
      "WARNING:tensorflow:Layers in a Sequential model should only have a single input tensor. Received: inputs=OrderedDict([('pickup_longitude', <tf.Tensor 'inputs_pickup_longitude:0' shape=(None,) dtype=float32>), ('pickup_latitude', <tf.Tensor 'inputs_pickup_latitude:0' shape=(None,) dtype=float32>), ('dropoff_longitude', <tf.Tensor 'inputs_dropoff_longitude:0' shape=(None,) dtype=float32>), ('dropoff_latitude', <tf.Tensor 'inputs_dropoff_latitude:0' shape=(None,) dtype=float32>), ('passenger_count', <tf.Tensor 'inputs_passenger_count:0' shape=(None,) dtype=float32>)]). Consider rewriting this model with the Functional API.\n",
      "WARNING:tensorflow:Layers in a Sequential model should only have a single input tensor. Received: inputs=OrderedDict([('pickup_longitude', <tf.Tensor 'inputs_pickup_longitude:0' shape=(None,) dtype=float32>), ('pickup_latitude', <tf.Tensor 'inputs_pickup_latitude:0' shape=(None,) dtype=float32>), ('dropoff_longitude', <tf.Tensor 'inputs_dropoff_longitude:0' shape=(None,) dtype=float32>), ('dropoff_latitude', <tf.Tensor 'inputs_dropoff_latitude:0' shape=(None,) dtype=float32>), ('passenger_count', <tf.Tensor 'inputs_passenger_count:0' shape=(None,) dtype=float32>)]). Consider rewriting this model with the Functional API.\n"
     ]
    },
    {
     "name": "stderr",
     "output_type": "stream",
     "text": [
      "WARNING:absl:Found untraced functions such as _update_step_xla while saving (showing 1 of 1). These functions will not be directly callable after loading.\n"
     ]
    },
    {
     "name": "stdout",
     "output_type": "stream",
     "text": [
      "INFO:tensorflow:Assets written to: ./export/savedmodel/20231016032310/assets\n"
     ]
    },
    {
     "name": "stderr",
     "output_type": "stream",
     "text": [
      "INFO:tensorflow:Assets written to: ./export/savedmodel/20231016032310/assets\n"
     ]
    }
   ],
   "source": [
    "OUTPUT_DIR = \"./export/savedmodel\"\n",
    "shutil.rmtree(OUTPUT_DIR, ignore_errors=True)\n",
    "TIMESTAMP = datetime.datetime.now().strftime(\"%Y%m%d%H%M%S\")\n",
    "\n",
    "EXPORT_PATH = os.path.join(OUTPUT_DIR, TIMESTAMP)\n",
    "\n",
    "tf.saved_model.save(model, EXPORT_PATH)  # with default serving function"
   ]
  },
  {
   "cell_type": "markdown",
   "metadata": {},
   "source": [
    "## Deploy our model to Vertex AI"
   ]
  },
  {
   "cell_type": "markdown",
   "metadata": {},
   "source": [
    "Finally, we will deploy our trained model to Vertex AI and see how we can make online predicitons. "
   ]
  },
  {
   "cell_type": "code",
   "execution_count": 21,
   "metadata": {
    "tags": [
     "flake8-noqa-line-1",
     "flake8-noqa-line-8-E501"
    ]
   },
   "outputs": [],
   "source": [
    "PROJECT = !gcloud config list --format 'value(core.project)' 2>/dev/null\n"
   ]
  },
  {
   "cell_type": "code",
   "execution_count": 22,
   "metadata": {},
   "outputs": [
    {
     "name": "stdout",
     "output_type": "stream",
     "text": [
      "['learned-pottery-399802']\n"
     ]
    }
   ],
   "source": [
    "print(PROJECT)"
   ]
  },
  {
   "cell_type": "code",
   "execution_count": 23,
   "metadata": {},
   "outputs": [
    {
     "name": "stdout",
     "output_type": "stream",
     "text": [
      "MODEL_DISPLAYNAME: taxifare-kerase-sequential20231016032310\n"
     ]
    }
   ],
   "source": [
    "PROJECT = PROJECT[0]\n",
    "BUCKET = PROJECT\n",
    "REGION = \"us-central1\"\n",
    "MODEL_DISPLAYNAME = f\"taxifare-kerase-sequential{TIMESTAMP}\"\n",
    "\n",
    "print(f\"MODEL_DISPLAYNAME: {MODEL_DISPLAYNAME}\")\n",
    "\n",
    "# from https://cloud.google.com/vertex-ai/docs/predictions/pre-built-containers\n",
    "SERVING_CONTAINER_IMAGE_URI = (\n",
    "    \"us-docker.pkg.dev/vertex-ai/prediction/tf2-cpu.2-3:latest\"\n",
    ")\n",
    "\n",
    "os.environ[\"BUCKET\"] = BUCKET\n",
    "os.environ[\"REGION\"] = REGION"
   ]
  },
  {
   "cell_type": "code",
   "execution_count": 24,
   "metadata": {
    "tags": [
     "flake8-noqa-cell"
    ]
   },
   "outputs": [
    {
     "name": "stdout",
     "output_type": "stream",
     "text": [
      "Bucket exists, let's not recreate it.\n"
     ]
    }
   ],
   "source": [
    "%%bash\n",
    "# Create GCS bucket if it doesn't exist already...\n",
    "exists=$(gsutil ls -d | grep -w gs://${BUCKET}/)\n",
    "\n",
    "if [ -n \"$exists\" ]; then\n",
    "    echo -e \"Bucket exists, let's not recreate it.\"\n",
    "else\n",
    "    echo \"Creating a new GCS bucket.\"\n",
    "    gsutil mb -l ${REGION} gs://${BUCKET}\n",
    "    echo \"Here are your current buckets:\"\n",
    "    gsutil ls\n",
    "fi"
   ]
  },
  {
   "cell_type": "code",
   "execution_count": 25,
   "metadata": {
    "tags": [
     "flake8-noqa-cell"
    ]
   },
   "outputs": [
    {
     "name": "stdout",
     "output_type": "stream",
     "text": [
      "Copying file://./export/savedmodel/20231016032310/fingerprint.pb [Content-Type=application/octet-stream]...\n",
      "Copying file://./export/savedmodel/20231016032310/saved_model.pb [Content-Type=application/octet-stream]...\n",
      "Copying file://./export/savedmodel/20231016032310/variables/variables.index [Content-Type=application/octet-stream]...\n",
      "Copying file://./export/savedmodel/20231016032310/variables/variables.data-00000-of-00001 [Content-Type=application/octet-stream]...\n",
      "/ [4 files][183.9 KiB/183.9 KiB]                                                \n",
      "Operation completed over 4 objects/183.9 KiB.                                    \n"
     ]
    }
   ],
   "source": [
    "!gsutil cp -R $EXPORT_PATH gs://$BUCKET/$MODEL_DISPLAYNAME"
   ]
  },
  {
   "cell_type": "code",
   "execution_count": 26,
   "metadata": {},
   "outputs": [
    {
     "name": "stdout",
     "output_type": "stream",
     "text": [
      "Creating Model\n"
     ]
    },
    {
     "name": "stderr",
     "output_type": "stream",
     "text": [
      "INFO:google.cloud.aiplatform.models:Creating Model\n"
     ]
    },
    {
     "name": "stdout",
     "output_type": "stream",
     "text": [
      "Create Model backing LRO: projects/239661236943/locations/us-central1/models/4616987863496523776/operations/5556650772839530496\n"
     ]
    },
    {
     "name": "stderr",
     "output_type": "stream",
     "text": [
      "INFO:google.cloud.aiplatform.models:Create Model backing LRO: projects/239661236943/locations/us-central1/models/4616987863496523776/operations/5556650772839530496\n"
     ]
    },
    {
     "name": "stdout",
     "output_type": "stream",
     "text": [
      "Model created. Resource name: projects/239661236943/locations/us-central1/models/4616987863496523776@1\n"
     ]
    },
    {
     "name": "stderr",
     "output_type": "stream",
     "text": [
      "INFO:google.cloud.aiplatform.models:Model created. Resource name: projects/239661236943/locations/us-central1/models/4616987863496523776@1\n"
     ]
    },
    {
     "name": "stdout",
     "output_type": "stream",
     "text": [
      "To use this Model in another session:\n"
     ]
    },
    {
     "name": "stderr",
     "output_type": "stream",
     "text": [
      "INFO:google.cloud.aiplatform.models:To use this Model in another session:\n"
     ]
    },
    {
     "name": "stdout",
     "output_type": "stream",
     "text": [
      "model = aiplatform.Model('projects/239661236943/locations/us-central1/models/4616987863496523776@1')\n"
     ]
    },
    {
     "name": "stderr",
     "output_type": "stream",
     "text": [
      "INFO:google.cloud.aiplatform.models:model = aiplatform.Model('projects/239661236943/locations/us-central1/models/4616987863496523776@1')\n"
     ]
    }
   ],
   "source": [
    "uploaded_model = aiplatform.Model.upload(\n",
    "    display_name=MODEL_DISPLAYNAME,\n",
    "    artifact_uri=f\"gs://{BUCKET}/{MODEL_DISPLAYNAME}\",\n",
    "    serving_container_image_uri=SERVING_CONTAINER_IMAGE_URI,\n",
    ")"
   ]
  },
  {
   "cell_type": "code",
   "execution_count": 34,
   "metadata": {},
   "outputs": [
    {
     "name": "stdout",
     "output_type": "stream",
     "text": [
      "Creating Endpoint\n"
     ]
    },
    {
     "name": "stderr",
     "output_type": "stream",
     "text": [
      "INFO:google.cloud.aiplatform.models:Creating Endpoint\n"
     ]
    },
    {
     "name": "stdout",
     "output_type": "stream",
     "text": [
      "Create Endpoint backing LRO: projects/239661236943/locations/us-central1/endpoints/1687603014078038016/operations/8613926416754409472\n"
     ]
    },
    {
     "name": "stderr",
     "output_type": "stream",
     "text": [
      "INFO:google.cloud.aiplatform.models:Create Endpoint backing LRO: projects/239661236943/locations/us-central1/endpoints/1687603014078038016/operations/8613926416754409472\n"
     ]
    },
    {
     "name": "stdout",
     "output_type": "stream",
     "text": [
      "Endpoint created. Resource name: projects/239661236943/locations/us-central1/endpoints/1687603014078038016\n"
     ]
    },
    {
     "name": "stderr",
     "output_type": "stream",
     "text": [
      "INFO:google.cloud.aiplatform.models:Endpoint created. Resource name: projects/239661236943/locations/us-central1/endpoints/1687603014078038016\n"
     ]
    },
    {
     "name": "stdout",
     "output_type": "stream",
     "text": [
      "To use this Endpoint in another session:\n"
     ]
    },
    {
     "name": "stderr",
     "output_type": "stream",
     "text": [
      "INFO:google.cloud.aiplatform.models:To use this Endpoint in another session:\n"
     ]
    },
    {
     "name": "stdout",
     "output_type": "stream",
     "text": [
      "endpoint = aiplatform.Endpoint('projects/239661236943/locations/us-central1/endpoints/1687603014078038016')\n"
     ]
    },
    {
     "name": "stderr",
     "output_type": "stream",
     "text": [
      "INFO:google.cloud.aiplatform.models:endpoint = aiplatform.Endpoint('projects/239661236943/locations/us-central1/endpoints/1687603014078038016')\n"
     ]
    },
    {
     "name": "stdout",
     "output_type": "stream",
     "text": [
      "Deploying model to Endpoint : projects/239661236943/locations/us-central1/endpoints/1687603014078038016\n"
     ]
    },
    {
     "name": "stderr",
     "output_type": "stream",
     "text": [
      "INFO:google.cloud.aiplatform.models:Deploying model to Endpoint : projects/239661236943/locations/us-central1/endpoints/1687603014078038016\n"
     ]
    },
    {
     "name": "stdout",
     "output_type": "stream",
     "text": [
      "Deploy Endpoint model backing LRO: projects/239661236943/locations/us-central1/endpoints/1687603014078038016/operations/1119936636809904128\n"
     ]
    },
    {
     "name": "stderr",
     "output_type": "stream",
     "text": [
      "INFO:google.cloud.aiplatform.models:Deploy Endpoint model backing LRO: projects/239661236943/locations/us-central1/endpoints/1687603014078038016/operations/1119936636809904128\n"
     ]
    },
    {
     "name": "stdout",
     "output_type": "stream",
     "text": [
      "Endpoint model deployed. Resource name: projects/239661236943/locations/us-central1/endpoints/1687603014078038016\n"
     ]
    },
    {
     "name": "stderr",
     "output_type": "stream",
     "text": [
      "INFO:google.cloud.aiplatform.models:Endpoint model deployed. Resource name: projects/239661236943/locations/us-central1/endpoints/1687603014078038016\n"
     ]
    }
   ],
   "source": [
    "MACHINE_TYPE = \"e2-standard-2\"\n",
    "\n",
    "endpoint = uploaded_model.deploy(\n",
    "    machine_type=MACHINE_TYPE,\n",
    "    accelerator_type=None,\n",
    "    accelerator_count=None,\n",
    ")"
   ]
  },
  {
   "cell_type": "code",
   "execution_count": 37,
   "metadata": {},
   "outputs": [],
   "source": [
    "instance = {\n",
    "    \"pickup_longitude\": -73.982683,\n",
    "    \"pickup_latitude\": 40.742104,\n",
    "    \"dropoff_longitude\": -73.983766,\n",
    "    \"dropoff_latitude\": 40.755174,\n",
    "    \"passenger_count\": 3.0,\n",
    "}"
   ]
  },
  {
   "cell_type": "code",
   "execution_count": 38,
   "metadata": {},
   "outputs": [
    {
     "data": {
      "text/plain": [
       "Prediction(predictions=[[11.6037474]], deployed_model_id='4084582343094829056', model_version_id='1', model_resource_name='projects/239661236943/locations/us-central1/models/7969354836120436736', explanations=None)"
      ]
     },
     "execution_count": 38,
     "metadata": {},
     "output_type": "execute_result"
    }
   ],
   "source": [
    "endpoint.predict([instance])"
   ]
  },
  {
   "cell_type": "markdown",
   "metadata": {},
   "source": [
    "# Cleanup\n",
    "\n",
    "When deploying a model to an endpoint for online prediction, the minimum `min-replica-count` is 1, and it is charged per node hour. So let's delete the endpoint to reduce unnecessary charges. Before we can delete the endpoint, we first undeploy all attached models... "
   ]
  },
  {
   "cell_type": "code",
   "execution_count": 39,
   "metadata": {},
   "outputs": [
    {
     "name": "stdout",
     "output_type": "stream",
     "text": [
      "Undeploying Endpoint model: projects/239661236943/locations/us-central1/endpoints/1687603014078038016\n"
     ]
    },
    {
     "name": "stderr",
     "output_type": "stream",
     "text": [
      "INFO:google.cloud.aiplatform.models:Undeploying Endpoint model: projects/239661236943/locations/us-central1/endpoints/1687603014078038016\n"
     ]
    },
    {
     "name": "stdout",
     "output_type": "stream",
     "text": [
      "Undeploy Endpoint model backing LRO: projects/239661236943/locations/us-central1/endpoints/1687603014078038016/operations/5925277439214223360\n"
     ]
    },
    {
     "name": "stderr",
     "output_type": "stream",
     "text": [
      "INFO:google.cloud.aiplatform.models:Undeploy Endpoint model backing LRO: projects/239661236943/locations/us-central1/endpoints/1687603014078038016/operations/5925277439214223360\n"
     ]
    },
    {
     "name": "stdout",
     "output_type": "stream",
     "text": [
      "Endpoint model undeployed. Resource name: projects/239661236943/locations/us-central1/endpoints/1687603014078038016\n"
     ]
    },
    {
     "name": "stderr",
     "output_type": "stream",
     "text": [
      "INFO:google.cloud.aiplatform.models:Endpoint model undeployed. Resource name: projects/239661236943/locations/us-central1/endpoints/1687603014078038016\n"
     ]
    },
    {
     "data": {
      "text/plain": [
       "<google.cloud.aiplatform.models.Endpoint object at 0x7f6aa449c460> \n",
       "resource name: projects/239661236943/locations/us-central1/endpoints/1687603014078038016"
      ]
     },
     "execution_count": 39,
     "metadata": {},
     "output_type": "execute_result"
    }
   ],
   "source": [
    "endpoint.undeploy_all()"
   ]
  },
  {
   "cell_type": "markdown",
   "metadata": {},
   "source": [
    "...then delete the endpoint."
   ]
  },
  {
   "cell_type": "code",
   "execution_count": 40,
   "metadata": {},
   "outputs": [
    {
     "name": "stdout",
     "output_type": "stream",
     "text": [
      "Deleting Endpoint : projects/239661236943/locations/us-central1/endpoints/1687603014078038016\n"
     ]
    },
    {
     "name": "stderr",
     "output_type": "stream",
     "text": [
      "INFO:google.cloud.aiplatform.base:Deleting Endpoint : projects/239661236943/locations/us-central1/endpoints/1687603014078038016\n"
     ]
    },
    {
     "name": "stdout",
     "output_type": "stream",
     "text": [
      "Delete Endpoint  backing LRO: projects/239661236943/locations/us-central1/operations/2230073944956731392\n"
     ]
    },
    {
     "name": "stderr",
     "output_type": "stream",
     "text": [
      "INFO:google.cloud.aiplatform.base:Delete Endpoint  backing LRO: projects/239661236943/locations/us-central1/operations/2230073944956731392\n"
     ]
    },
    {
     "name": "stdout",
     "output_type": "stream",
     "text": [
      "Endpoint deleted. . Resource name: projects/239661236943/locations/us-central1/endpoints/1687603014078038016\n"
     ]
    },
    {
     "name": "stderr",
     "output_type": "stream",
     "text": [
      "INFO:google.cloud.aiplatform.base:Endpoint deleted. . Resource name: projects/239661236943/locations/us-central1/endpoints/1687603014078038016\n"
     ]
    }
   ],
   "source": [
    "endpoint.delete()"
   ]
  }
 ],
 "metadata": {
  "environment": {
   "kernel": "python3",
   "name": "tf2-cpu.2-11.m112",
   "type": "gcloud",
   "uri": "gcr.io/deeplearning-platform-release/tf2-cpu.2-11:m112"
  },
  "kernelspec": {
   "display_name": "Python (Local)",
   "language": "python",
   "name": "local-base"
  },
  "language_info": {
   "codemirror_mode": {
    "name": "ipython",
    "version": 3
   },
   "file_extension": ".py",
   "mimetype": "text/x-python",
   "name": "python",
   "nbconvert_exporter": "python",
   "pygments_lexer": "ipython3",
   "version": "3.10.12"
  },
  "toc-autonumbering": true,
  "toc-showmarkdowntxt": false
 },
 "nbformat": 4,
 "nbformat_minor": 4
}
