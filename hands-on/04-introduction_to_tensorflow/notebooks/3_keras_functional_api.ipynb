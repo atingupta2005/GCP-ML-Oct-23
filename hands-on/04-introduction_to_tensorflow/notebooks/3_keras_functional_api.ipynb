{
 "cells": [
  {
   "cell_type": "markdown",
   "metadata": {},
   "source": [
    "# Introducing the Keras Functional API\n",
    "\n",
    "## Learning objectives\n",
    "  1. Understand embeddings and how to create them with the preprocessing layer.\n",
    "  2. Understand Deep and Wide models and when to use them.\n",
    "  3. Understand the Keras functional API and how to build a deep and wide model with it.\n",
    "\n",
    "## Introduction\n",
    "\n",
    "In the last notebook, we learned about the Keras Sequential API. The [Keras Functional API](https://www.tensorflow.org/guide/keras#functional_api) provides an alternate way of building models which is more flexible. With the Functional API, we can build models with more complex topologies, multiple input or output layers, shared layers or non-sequential data flows (e.g. residual layers).\n"
   ]
  },
  {
   "cell_type": "code",
   "execution_count": 1,
   "metadata": {},
   "outputs": [
    {
     "name": "stdout",
     "output_type": "stream",
     "text": [
      "Collecting tensorflow-io\n",
      "  Obtaining dependency information for tensorflow-io from https://files.pythonhosted.org/packages/74/e6/e1b9e62dad8eeb509c842d76363ed4a34cd17e2b751610cc993e57b14f2c/tensorflow_io-0.34.0-cp310-cp310-manylinux_2_12_x86_64.manylinux2010_x86_64.whl.metadata\n",
      "  Downloading tensorflow_io-0.34.0-cp310-cp310-manylinux_2_12_x86_64.manylinux2010_x86_64.whl.metadata (14 kB)\n",
      "Requirement already satisfied: tensorflow-io-gcs-filesystem==0.34.0 in /home/jupyter/.local/lib/python3.10/site-packages (from tensorflow-io) (0.34.0)\n",
      "Downloading tensorflow_io-0.34.0-cp310-cp310-manylinux_2_12_x86_64.manylinux2010_x86_64.whl (28.8 MB)\n",
      "\u001b[2K   \u001b[90m━━━━━━━━━━━━━━━━━━━━━━━━━━━━━━━━━━━━━━━━\u001b[0m \u001b[32m28.8/28.8 MB\u001b[0m \u001b[31m44.5 MB/s\u001b[0m eta \u001b[36m0:00:00\u001b[0m:00:01\u001b[0m00:01\u001b[0m\n",
      "\u001b[?25hInstalling collected packages: tensorflow-io\n",
      "Successfully installed tensorflow-io-0.34.0\n"
     ]
    }
   ],
   "source": [
    "#!pip install tensorflow-gpu\n",
    "!pip install tensorflow-io --user"
   ]
  },
  {
   "cell_type": "markdown",
   "metadata": {},
   "source": [
    "**Note:** Restart the kernel by clicking **Kernel > Restart Kernel > Restart**."
   ]
  },
  {
   "cell_type": "markdown",
   "metadata": {},
   "source": [
    "Start by importing the necessary libraries for this lab."
   ]
  },
  {
   "cell_type": "code",
   "execution_count": 1,
   "metadata": {},
   "outputs": [
    {
     "name": "stderr",
     "output_type": "stream",
     "text": [
      "2023-10-16 03:27:22.077374: I tensorflow/core/platform/cpu_feature_guard.cc:193] This TensorFlow binary is optimized with oneAPI Deep Neural Network Library (oneDNN) to use the following CPU instructions in performance-critical operations:  AVX2 FMA\n",
      "To enable them in other operations, rebuild TensorFlow with the appropriate compiler flags.\n",
      "2023-10-16 03:27:23.409231: W tensorflow/compiler/xla/stream_executor/platform/default/dso_loader.cc:64] Could not load dynamic library 'libnvinfer.so.7'; dlerror: libnvinfer.so.7: cannot open shared object file: No such file or directory; LD_LIBRARY_PATH: /usr/local/cuda/lib64:/usr/local/cuda/lib:/usr/local/lib/x86_64-linux-gnu:/usr/local/nvidia/lib:/usr/local/nvidia/lib64:/usr/local/nvidia/lib:/usr/local/nvidia/lib64\n",
      "2023-10-16 03:27:23.409367: W tensorflow/compiler/xla/stream_executor/platform/default/dso_loader.cc:64] Could not load dynamic library 'libnvinfer_plugin.so.7'; dlerror: libnvinfer_plugin.so.7: cannot open shared object file: No such file or directory; LD_LIBRARY_PATH: /usr/local/cuda/lib64:/usr/local/cuda/lib:/usr/local/lib/x86_64-linux-gnu:/usr/local/nvidia/lib:/usr/local/nvidia/lib64:/usr/local/nvidia/lib:/usr/local/nvidia/lib64\n",
      "2023-10-16 03:27:23.409381: W tensorflow/compiler/tf2tensorrt/utils/py_utils.cc:38] TF-TRT Warning: Cannot dlopen some TensorRT libraries. If you would like to use Nvidia GPU with TensorRT, please make sure the missing libraries mentioned above are installed properly.\n"
     ]
    },
    {
     "name": "stdout",
     "output_type": "stream",
     "text": [
      "2.11.0\n"
     ]
    }
   ],
   "source": [
    "import datetime\n",
    "import os\n",
    "import shutil\n",
    "\n",
    "import numpy as np\n",
    "import pandas as pd\n",
    "import tensorflow as tf\n",
    "from matplotlib import pyplot as plt\n",
    "from tensorflow import keras\n",
    "from tensorflow.keras import Model\n",
    "from tensorflow.keras.callbacks import TensorBoard\n",
    "from tensorflow.keras.layers import (\n",
    "    CategoryEncoding,\n",
    "    Concatenate,\n",
    "    Dense,\n",
    "    Discretization,\n",
    "    Embedding,\n",
    "    Flatten,\n",
    "    Input,\n",
    ")\n",
    "from tensorflow.keras.layers.experimental.preprocessing import HashedCrossing\n",
    "\n",
    "print(tf.__version__)"
   ]
  },
  {
   "cell_type": "code",
   "execution_count": 2,
   "metadata": {},
   "outputs": [],
   "source": [
    "%matplotlib inline"
   ]
  },
  {
   "cell_type": "markdown",
   "metadata": {},
   "source": [
    "## Load raw data \n",
    "\n",
    "We will use the taxifare dataset, using the CSV files that we created in the first notebook of this sequence. Those files have been saved into `../data`."
   ]
  },
  {
   "cell_type": "code",
   "execution_count": 3,
   "metadata": {},
   "outputs": [
    {
     "name": "stdout",
     "output_type": "stream",
     "text": [
      "-rw-r--r-- 1 jupyter jupyter  123590 Oct 15 11:55 ../data/taxi-test.csv\n",
      "-rw-r--r-- 1 jupyter jupyter 2186310 Oct 15 11:55 ../data/taxi-traffic-test.csv\n",
      "-rw-r--r-- 1 jupyter jupyter 9713118 Oct 15 11:55 ../data/taxi-traffic-train.csv\n",
      "-rw-r--r-- 1 jupyter jupyter 2036826 Oct 15 11:55 ../data/taxi-traffic-valid.csv\n",
      "-rw-r--r-- 1 jupyter jupyter  579055 Oct 15 11:55 ../data/taxi-train.csv\n",
      "-rw-r--r-- 1 jupyter jupyter  123114 Oct 15 11:55 ../data/taxi-valid.csv\n"
     ]
    }
   ],
   "source": [
    "!ls -l ../data/*.csv"
   ]
  },
  {
   "cell_type": "markdown",
   "metadata": {},
   "source": [
    "## Use tf.data to read the CSV files"
   ]
  },
  {
   "cell_type": "code",
   "execution_count": 5,
   "metadata": {},
   "outputs": [],
   "source": [
    "CSV_COLUMNS = [\n",
    "    \"fare_amount\",\n",
    "    \"pickup_datetime\",\n",
    "    \"pickup_longitude\",\n",
    "    \"pickup_latitude\",\n",
    "    \"dropoff_longitude\",\n",
    "    \"dropoff_latitude\",\n",
    "    \"passenger_count\",\n",
    "    \"key\",\n",
    "]\n",
    "LABEL_COLUMN = \"fare_amount\"\n",
    "DEFAULTS = [[0.0], [\"na\"], [0.0], [0.0], [0.0], [0.0], [0.0], [\"na\"]]\n",
    "UNWANTED_COLS = [\"pickup_datetime\", \"key\"]\n",
    "\n",
    "\n",
    "def features_and_labels(row_data):\n",
    "    label = row_data.pop(LABEL_COLUMN)\n",
    "    features = row_data\n",
    "\n",
    "    for unwanted_col in UNWANTED_COLS:\n",
    "        features.pop(unwanted_col)\n",
    "\n",
    "    return features, label\n",
    "\n",
    "\n",
    "def create_dataset(pattern, batch_size=1, mode=\"eval\"):\n",
    "    dataset = tf.data.experimental.make_csv_dataset(\n",
    "        pattern, batch_size, CSV_COLUMNS, DEFAULTS\n",
    "    )\n",
    "\n",
    "    dataset = dataset.map(features_and_labels)\n",
    "\n",
    "    if mode == \"train\":\n",
    "        dataset = dataset.shuffle(buffer_size=1000).repeat()\n",
    "\n",
    "    # take advantage of multi-threading; 1=AUTOTUNE\n",
    "    dataset = dataset.prefetch(1)\n",
    "    return dataset"
   ]
  },
  {
   "cell_type": "markdown",
   "metadata": {},
   "source": [
    "## Build model in Keras"
   ]
  },
  {
   "cell_type": "code",
   "execution_count": 7,
   "metadata": {},
   "outputs": [],
   "source": [
    "INPUT_COLS = [\n",
    "    \"pickup_longitude\",\n",
    "    \"pickup_latitude\",\n",
    "    \"dropoff_longitude\",\n",
    "    \"dropoff_latitude\",\n",
    "    \"passenger_count\",\n",
    "]\n",
    "\n",
    "inputs = {\n",
    "    colname: Input(name=colname, shape=(1,), dtype=\"float32\")\n",
    "    for colname in INPUT_COLS\n",
    "}"
   ]
  },
  {
   "cell_type": "code",
   "execution_count": 9,
   "metadata": {},
   "outputs": [
    {
     "data": {
      "text/plain": [
       "{'pickup_longitude': <KerasTensor: shape=(None, 1) dtype=float32 (created by layer 'pickup_longitude')>,\n",
       " 'pickup_latitude': <KerasTensor: shape=(None, 1) dtype=float32 (created by layer 'pickup_latitude')>,\n",
       " 'dropoff_longitude': <KerasTensor: shape=(None, 1) dtype=float32 (created by layer 'dropoff_longitude')>,\n",
       " 'dropoff_latitude': <KerasTensor: shape=(None, 1) dtype=float32 (created by layer 'dropoff_latitude')>,\n",
       " 'passenger_count': <KerasTensor: shape=(None, 1) dtype=float32 (created by layer 'passenger_count')>}"
      ]
     },
     "execution_count": 9,
     "metadata": {},
     "output_type": "execute_result"
    }
   ],
   "source": [
    "inputs"
   ]
  },
  {
   "cell_type": "markdown",
   "metadata": {},
   "source": [
    "Then, we can connect each layers one by one"
   ]
  },
  {
   "cell_type": "code",
   "execution_count": 10,
   "metadata": {},
   "outputs": [
    {
     "name": "stderr",
     "output_type": "stream",
     "text": [
      "2023-10-16 03:30:23.849391: W tensorflow/compiler/xla/stream_executor/platform/default/dso_loader.cc:64] Could not load dynamic library 'libcuda.so.1'; dlerror: libcuda.so.1: cannot open shared object file: No such file or directory; LD_LIBRARY_PATH: /usr/local/cuda/lib64:/usr/local/cuda/lib:/usr/local/lib/x86_64-linux-gnu:/usr/local/nvidia/lib:/usr/local/nvidia/lib64:/usr/local/nvidia/lib:/usr/local/nvidia/lib64\n",
      "2023-10-16 03:30:23.849442: W tensorflow/compiler/xla/stream_executor/cuda/cuda_driver.cc:265] failed call to cuInit: UNKNOWN ERROR (303)\n",
      "2023-10-16 03:30:23.849475: I tensorflow/compiler/xla/stream_executor/cuda/cuda_diagnostics.cc:156] kernel driver does not appear to be running on this host (5dc109c77294): /proc/driver/nvidia/version does not exist\n",
      "2023-10-16 03:30:23.849777: I tensorflow/core/platform/cpu_feature_guard.cc:193] This TensorFlow binary is optimized with oneAPI Deep Neural Network Library (oneDNN) to use the following CPU instructions in performance-critical operations:  AVX2 FMA\n",
      "To enable them in other operations, rebuild TensorFlow with the appropriate compiler flags.\n"
     ]
    }
   ],
   "source": [
    "dnn_hidden_units = [32, 8]\n",
    "NBUCKETS = 16\n",
    "\n",
    "latbuckets = np.linspace(start=38.0, stop=42.0, num=NBUCKETS).tolist()\n",
    "lonbuckets = np.linspace(start=-76.0, stop=-72.0, num=NBUCKETS).tolist()\n",
    "\n",
    "# Bucketization with Discretization layer\n",
    "plon = Discretization(lonbuckets, name=\"plon_bkt\")(inputs[\"pickup_longitude\"])\n",
    "plat = Discretization(latbuckets, name=\"plat_bkt\")(inputs[\"pickup_latitude\"])\n",
    "dlon = Discretization(lonbuckets, name=\"dlon_bkt\")(inputs[\"dropoff_longitude\"])\n",
    "dlat = Discretization(latbuckets, name=\"dlat_bkt\")(inputs[\"dropoff_latitude\"])\n",
    "\n",
    "# Feature Cross with HashedCrossing layer\n",
    "p_fc = HashedCrossing(num_bins=NBUCKETS * NBUCKETS, name=\"p_fc\")((plon, plat))\n",
    "d_fc = HashedCrossing(num_bins=NBUCKETS * NBUCKETS, name=\"d_fc\")((dlon, dlat))\n",
    "pd_fc = HashedCrossing(num_bins=NBUCKETS**4, name=\"pd_fc\")((p_fc, d_fc))\n",
    "\n",
    "# Embedding with Embedding layer\n",
    "pd_embed = Embedding(input_dim=NBUCKETS**4, output_dim=10, name=\"pd_embed\")(\n",
    "    pd_fc\n",
    ")\n",
    "\n",
    "# Concatenate and define inputs for deep network\n",
    "deep = Concatenate(name=\"deep_input\")(\n",
    "    [\n",
    "        inputs[\"pickup_longitude\"],\n",
    "        inputs[\"pickup_latitude\"],\n",
    "        inputs[\"dropoff_longitude\"],\n",
    "        inputs[\"dropoff_latitude\"],\n",
    "        Flatten(name=\"flatten_embedding\")(pd_embed),\n",
    "    ]\n",
    ")\n",
    "\n",
    "# Add hidden Dense layers\n",
    "for i, num_nodes in enumerate(dnn_hidden_units, start=1):\n",
    "    deep = Dense(num_nodes, activation=\"relu\", name=f\"hidden_{i}\")(deep)\n",
    "\n",
    "# Onehot Encoding with CategoryEncoding layer\n",
    "p_onehot = CategoryEncoding(num_tokens=NBUCKETS * NBUCKETS, name=\"p_onehot\")(\n",
    "    p_fc\n",
    ")\n",
    "d_onehot = CategoryEncoding(num_tokens=NBUCKETS * NBUCKETS, name=\"d_onehot\")(\n",
    "    d_fc\n",
    ")\n",
    "pd_onehot = CategoryEncoding(num_tokens=NBUCKETS**4, name=\"pd_onehot\")(pd_fc)\n",
    "\n",
    "# Concatenate and define inputs for wide network\n",
    "wide = Concatenate(name=\"wide_input\")([p_onehot, d_onehot, pd_onehot])\n",
    "\n",
    "# Concatenate wide & deep networks\n",
    "concat = Concatenate(name=\"concatenate\")([deep, wide])\n",
    "\n",
    "# Define the final output layer\n",
    "output = Dense(1, activation=None, name=\"output\")(concat)"
   ]
  },
  {
   "cell_type": "markdown",
   "metadata": {},
   "source": [
    "Then, we'll define our custom RMSE evaluation metric"
   ]
  },
  {
   "cell_type": "code",
   "execution_count": 11,
   "metadata": {},
   "outputs": [],
   "source": [
    "def rmse(y_true, y_pred):\n",
    "    return tf.sqrt(tf.reduce_mean(tf.square(y_pred - y_true)))"
   ]
  },
  {
   "cell_type": "markdown",
   "metadata": {},
   "source": [
    "Next, we can define the input and output of the entire model, and compile it.  We can also use `plot_model` to see a diagram of the model we've created."
   ]
  },
  {
   "cell_type": "code",
   "execution_count": 12,
   "metadata": {},
   "outputs": [],
   "source": [
    "model = Model(inputs=list(inputs.values()), outputs=output)\n",
    "model.compile(optimizer=\"adam\", loss=\"mse\", metrics=[rmse])"
   ]
  },
  {
   "cell_type": "code",
   "execution_count": 13,
   "metadata": {},
   "outputs": [
    {
     "name": "stdout",
     "output_type": "stream",
     "text": [
      "You must install pydot (`pip install pydot`) and install graphviz (see instructions at https://graphviz.gitlab.io/download/) for plot_model to work.\n"
     ]
    }
   ],
   "source": [
    "tf.keras.utils.plot_model(model, show_shapes=False, rankdir=\"LR\")"
   ]
  },
  {
   "cell_type": "markdown",
   "metadata": {},
   "source": [
    "Next, we'll set up our training variables, create our datasets for training and validation, and train our model.\n",
    "\n",
    "(We refer you the the blog post [ML Design Pattern #3: Virtual Epochs](https://medium.com/google-cloud/ml-design-pattern-3-virtual-epochs-f842296de730) for further details on why express the training in terms of `NUM_TRAIN_EXAMPLES` and `NUM_EVALS` and why, in this training code, the number of epochs is really equal to the number of evaluations we perform.)"
   ]
  },
  {
   "cell_type": "code",
   "execution_count": 14,
   "metadata": {},
   "outputs": [],
   "source": [
    "BATCH_SIZE = 100\n",
    "NUM_TRAIN_EXAMPLES = 10000 * 5  # training dataset will repeat, wrap around\n",
    "NUM_EVALS = 50  # how many times to evaluate\n",
    "NUM_EVAL_EXAMPLES = 10000  # enough to get a reasonable sample\n",
    "\n",
    "trainds = create_dataset(\n",
    "    pattern=\"../data/taxi-train*\", batch_size=BATCH_SIZE, mode=\"train\"\n",
    ")\n",
    "\n",
    "evalds = create_dataset(\n",
    "    pattern=\"../data/taxi-valid*\", batch_size=BATCH_SIZE, mode=\"eval\"\n",
    ").take(NUM_EVAL_EXAMPLES // 1000)"
   ]
  },
  {
   "cell_type": "code",
   "execution_count": 15,
   "metadata": {},
   "outputs": [
    {
     "name": "stdout",
     "output_type": "stream",
     "text": [
      "Epoch 1/50\n",
      "10/10 [==============================] - 4s 133ms/step - loss: 252.5282 - rmse: 15.6222 - val_loss: 221.0240 - val_rmse: 14.7200\n",
      "Epoch 2/50\n",
      "10/10 [==============================] - 0s 48ms/step - loss: 194.8392 - rmse: 13.8774 - val_loss: 211.8965 - val_rmse: 14.4183\n",
      "Epoch 3/50\n",
      "10/10 [==============================] - 0s 52ms/step - loss: 190.5487 - rmse: 13.7327 - val_loss: 206.5255 - val_rmse: 14.0554\n",
      "Epoch 4/50\n",
      "10/10 [==============================] - 0s 51ms/step - loss: 157.0633 - rmse: 12.4192 - val_loss: 176.3599 - val_rmse: 12.9453\n",
      "Epoch 5/50\n",
      "10/10 [==============================] - 0s 46ms/step - loss: 140.4208 - rmse: 11.6764 - val_loss: 173.2200 - val_rmse: 12.8148\n",
      "Epoch 6/50\n",
      "10/10 [==============================] - 0s 44ms/step - loss: 122.5882 - rmse: 10.9008 - val_loss: 113.0567 - val_rmse: 10.4808\n",
      "Epoch 7/50\n",
      "10/10 [==============================] - 0s 44ms/step - loss: 90.4254 - rmse: 9.3181 - val_loss: 111.9475 - val_rmse: 10.3396\n",
      "Epoch 8/50\n",
      "10/10 [==============================] - 0s 42ms/step - loss: 101.3001 - rmse: 9.9552 - val_loss: 126.8977 - val_rmse: 10.9647\n",
      "Epoch 9/50\n",
      "10/10 [==============================] - 0s 42ms/step - loss: 88.1740 - rmse: 9.3449 - val_loss: 120.2095 - val_rmse: 10.6935\n",
      "Epoch 10/50\n",
      "10/10 [==============================] - 0s 47ms/step - loss: 96.2582 - rmse: 9.6312 - val_loss: 113.4774 - val_rmse: 10.4534\n",
      "Epoch 11/50\n",
      "10/10 [==============================] - 0s 43ms/step - loss: 76.2518 - rmse: 8.6103 - val_loss: 111.1015 - val_rmse: 10.2287\n",
      "Epoch 12/50\n",
      "10/10 [==============================] - 0s 50ms/step - loss: 121.3765 - rmse: 10.4805 - val_loss: 115.6479 - val_rmse: 10.5618\n",
      "Epoch 13/50\n",
      "10/10 [==============================] - 0s 47ms/step - loss: 92.7478 - rmse: 9.3577 - val_loss: 92.2494 - val_rmse: 9.4223\n",
      "Epoch 14/50\n",
      "10/10 [==============================] - 0s 45ms/step - loss: 80.2262 - rmse: 8.8705 - val_loss: 125.2384 - val_rmse: 11.0163\n",
      "Epoch 15/50\n",
      "10/10 [==============================] - 0s 43ms/step - loss: 92.3841 - rmse: 9.4517 - val_loss: 91.9419 - val_rmse: 9.4289\n",
      "Epoch 16/50\n",
      "10/10 [==============================] - 0s 43ms/step - loss: 117.7247 - rmse: 10.6072 - val_loss: 127.4476 - val_rmse: 11.0265\n",
      "Epoch 17/50\n",
      "10/10 [==============================] - 0s 50ms/step - loss: 85.1434 - rmse: 9.1587 - val_loss: 120.3733 - val_rmse: 10.6413\n",
      "Epoch 18/50\n",
      "10/10 [==============================] - 1s 62ms/step - loss: 93.6917 - rmse: 9.6390 - val_loss: 109.5775 - val_rmse: 10.2426\n",
      "Epoch 19/50\n",
      "10/10 [==============================] - 1s 55ms/step - loss: 85.7199 - rmse: 8.9127 - val_loss: 102.4763 - val_rmse: 10.0062\n",
      "Epoch 20/50\n",
      "10/10 [==============================] - 0s 50ms/step - loss: 116.0391 - rmse: 10.2193 - val_loss: 114.4151 - val_rmse: 10.3930\n",
      "Epoch 21/50\n",
      "10/10 [==============================] - 1s 53ms/step - loss: 84.8650 - rmse: 8.9710 - val_loss: 106.3220 - val_rmse: 10.1206\n",
      "Epoch 22/50\n",
      "10/10 [==============================] - 1s 56ms/step - loss: 87.2306 - rmse: 9.2535 - val_loss: 120.4967 - val_rmse: 10.8622\n",
      "Epoch 23/50\n",
      "10/10 [==============================] - 1s 66ms/step - loss: 64.3047 - rmse: 7.9094 - val_loss: 107.8997 - val_rmse: 10.1537\n",
      "Epoch 24/50\n",
      "10/10 [==============================] - 1s 53ms/step - loss: 81.4240 - rmse: 8.9255 - val_loss: 112.8119 - val_rmse: 10.2788\n",
      "Epoch 25/50\n",
      "10/10 [==============================] - 0s 49ms/step - loss: 106.0330 - rmse: 10.2281 - val_loss: 95.1251 - val_rmse: 9.5554\n",
      "Epoch 26/50\n",
      "10/10 [==============================] - 0s 43ms/step - loss: 86.8910 - rmse: 9.2584 - val_loss: 99.6195 - val_rmse: 9.7394\n",
      "Epoch 27/50\n",
      "10/10 [==============================] - 0s 43ms/step - loss: 83.6666 - rmse: 8.9248 - val_loss: 102.1308 - val_rmse: 9.8942\n",
      "Epoch 28/50\n",
      "10/10 [==============================] - 1s 55ms/step - loss: 108.8577 - rmse: 9.9972 - val_loss: 104.8710 - val_rmse: 10.0658\n",
      "Epoch 29/50\n",
      "10/10 [==============================] - 0s 45ms/step - loss: 127.8210 - rmse: 10.4212 - val_loss: 99.9668 - val_rmse: 9.4021\n",
      "Epoch 30/50\n",
      "10/10 [==============================] - 0s 46ms/step - loss: 89.8481 - rmse: 9.3128 - val_loss: 113.6206 - val_rmse: 10.3806\n",
      "Epoch 31/50\n",
      "10/10 [==============================] - 0s 43ms/step - loss: 88.9973 - rmse: 9.3002 - val_loss: 120.9722 - val_rmse: 10.7596\n",
      "Epoch 32/50\n",
      "10/10 [==============================] - 0s 47ms/step - loss: 149.0625 - rmse: 11.4798 - val_loss: 108.5081 - val_rmse: 10.2777\n",
      "Epoch 33/50\n",
      "10/10 [==============================] - 0s 42ms/step - loss: 82.0535 - rmse: 8.8580 - val_loss: 109.8663 - val_rmse: 10.0495\n",
      "Epoch 34/50\n",
      "10/10 [==============================] - 0s 41ms/step - loss: 76.6993 - rmse: 8.6644 - val_loss: 111.6029 - val_rmse: 10.1525\n",
      "Epoch 35/50\n",
      "10/10 [==============================] - 0s 41ms/step - loss: 66.9551 - rmse: 8.1411 - val_loss: 115.5250 - val_rmse: 10.6642\n",
      "Epoch 36/50\n",
      "10/10 [==============================] - 0s 40ms/step - loss: 87.1079 - rmse: 9.1847 - val_loss: 110.6719 - val_rmse: 10.2787\n",
      "Epoch 37/50\n",
      "10/10 [==============================] - 0s 43ms/step - loss: 82.8459 - rmse: 9.0217 - val_loss: 109.1872 - val_rmse: 10.0221\n",
      "Epoch 38/50\n",
      "10/10 [==============================] - 0s 41ms/step - loss: 89.2262 - rmse: 9.3101 - val_loss: 106.3496 - val_rmse: 9.9420\n",
      "Epoch 39/50\n",
      "10/10 [==============================] - 0s 41ms/step - loss: 90.5795 - rmse: 9.3321 - val_loss: 108.3604 - val_rmse: 10.1140\n",
      "Epoch 40/50\n",
      "10/10 [==============================] - 0s 41ms/step - loss: 101.4469 - rmse: 9.5624 - val_loss: 103.1380 - val_rmse: 9.8747\n",
      "Epoch 41/50\n",
      "10/10 [==============================] - 0s 41ms/step - loss: 57.5723 - rmse: 7.5172 - val_loss: 89.5638 - val_rmse: 9.2772\n",
      "Epoch 42/50\n",
      "10/10 [==============================] - 0s 42ms/step - loss: 96.2975 - rmse: 9.6733 - val_loss: 118.9072 - val_rmse: 10.4661\n",
      "Epoch 43/50\n",
      "10/10 [==============================] - 0s 42ms/step - loss: 77.6479 - rmse: 8.6703 - val_loss: 89.5099 - val_rmse: 9.3204\n",
      "Epoch 44/50\n",
      "10/10 [==============================] - 0s 41ms/step - loss: 89.0748 - rmse: 9.2902 - val_loss: 106.2367 - val_rmse: 9.9992\n",
      "Epoch 45/50\n",
      "10/10 [==============================] - 0s 41ms/step - loss: 78.1735 - rmse: 8.7200 - val_loss: 105.4040 - val_rmse: 9.9246\n",
      "Epoch 46/50\n",
      "10/10 [==============================] - 0s 41ms/step - loss: 107.4589 - rmse: 10.0087 - val_loss: 97.5784 - val_rmse: 9.4925\n",
      "Epoch 47/50\n",
      "10/10 [==============================] - 0s 43ms/step - loss: 90.4678 - rmse: 9.2002 - val_loss: 99.8938 - val_rmse: 9.7211\n",
      "Epoch 48/50\n",
      "10/10 [==============================] - 0s 40ms/step - loss: 78.4703 - rmse: 8.7907 - val_loss: 108.4386 - val_rmse: 9.9717\n",
      "Epoch 49/50\n",
      "10/10 [==============================] - 0s 40ms/step - loss: 110.1118 - rmse: 9.8920 - val_loss: 101.8013 - val_rmse: 9.8560\n",
      "Epoch 50/50\n",
      "10/10 [==============================] - 0s 41ms/step - loss: 103.0600 - rmse: 9.4784 - val_loss: 97.9468 - val_rmse: 9.6640\n",
      "CPU times: user 47.8 s, sys: 8.02 s, total: 55.8 s\n",
      "Wall time: 42 s\n"
     ]
    }
   ],
   "source": [
    "%%time\n",
    "steps_per_epoch = NUM_TRAIN_EXAMPLES // (BATCH_SIZE * NUM_EVALS)\n",
    "\n",
    "OUTDIR = \"./taxi_trained\"\n",
    "shutil.rmtree(path=OUTDIR, ignore_errors=True)  # start fresh each time\n",
    "\n",
    "# TODO\n",
    "history = model.fit(\n",
    "    x=trainds,\n",
    "    steps_per_epoch=steps_per_epoch,\n",
    "    epochs=NUM_EVALS,\n",
    "    validation_data=evalds,\n",
    "    callbacks=[TensorBoard(OUTDIR)],\n",
    ")"
   ]
  },
  {
   "cell_type": "markdown",
   "metadata": {},
   "source": [
    "Just as before, we can examine the history to see how the RMSE changes through training on the train set and validation set. "
   ]
  },
  {
   "cell_type": "code",
   "execution_count": 16,
   "metadata": {},
   "outputs": [
    {
     "data": {
      "text/plain": [
       "<Axes: >"
      ]
     },
     "execution_count": 16,
     "metadata": {},
     "output_type": "execute_result"
    },
    {
     "data": {
      "image/png": "[encoded data removed]",
      "text/plain": [
       "<Figure size 640x480 with 1 Axes>"
      ]
     },
     "metadata": {},
     "output_type": "display_data"
    }
   ],
   "source": [
    "RMSE_COLS = [\"rmse\", \"val_rmse\"]\n",
    "\n",
    "pd.DataFrame(history.history)[RMSE_COLS].plot()"
   ]
  },
  {
   "cell_type": "code",
   "execution_count": null,
   "metadata": {},
   "outputs": [],
   "source": []
  }
 ],
 "metadata": {
  "environment": {
   "kernel": "python3",
   "name": "tf2-cpu.2-11.m112",
   "type": "gcloud",
   "uri": "gcr.io/deeplearning-platform-release/tf2-cpu.2-11:m112"
  },
  "kernelspec": {
   "display_name": "Python (Local)",
   "language": "python",
   "name": "local-base"
  },
  "language_info": {
   "codemirror_mode": {
    "name": "ipython",
    "version": 3
   },
   "file_extension": ".py",
   "mimetype": "text/x-python",
   "name": "python",
   "nbconvert_exporter": "python",
   "pygments_lexer": "ipython3",
   "version": "3.10.12"
  }
 },
 "nbformat": 4,
 "nbformat_minor": 4
}
