{
 "cells": [
  {
   "cell_type": "markdown",
   "id": "46a2f98c",
   "metadata": {
    "tags": []
   },
   "source": [
    "# Vertex AI > Notebooks - Models Built in Notebooks with Tensorflow\n",
    "\n",
    "\n",
    "**Prerequisites:**\n",
    "- [01 - BigQuery - Table Data Source](../01%20-%20Data%20Sources/01%20-%20BigQuery%20-%20Table%20Data%20Source.ipynb)\n",
    "\n"
   ]
  },
  {
   "cell_type": "markdown",
   "id": "c8bcf1b2",
   "metadata": {},
   "source": [
    "---\n",
    "## Setup"
   ]
  },
  {
   "cell_type": "markdown",
   "id": "10e366e2",
   "metadata": {},
   "source": [
    "inputs:"
   ]
  },
  {
   "cell_type": "code",
   "execution_count": 1,
   "id": "918de403-af6d-44ff-9f05-a963b392ba7f",
   "metadata": {},
   "outputs": [
    {
     "data": {
      "text/plain": [
       "'fifth-sprite-402605'"
      ]
     },
     "execution_count": 1,
     "metadata": {},
     "output_type": "execute_result"
    }
   ],
   "source": [
    "project = !gcloud config get-value project\n",
    "PROJECT_ID = project[0]\n",
    "PROJECT_ID"
   ]
  },
  {
   "cell_type": "code",
   "execution_count": 2,
   "id": "614de332",
   "metadata": {},
   "outputs": [],
   "source": [
    "REGION = 'us-central1'\n",
    "EXPERIMENT = '05'\n",
    "SERIES = '05'\n",
    "\n",
    "# source data\n",
    "BQ_PROJECT = PROJECT_ID\n",
    "BQ_DATASET = 'fraud'\n",
    "BQ_TABLE = 'fraud_prepped'\n",
    "\n",
    "# Resources\n",
    "DEPLOY_COMPUTE = 'n1-standard-4'\n",
    "DEPLOY_IMAGE='us-docker.pkg.dev/vertex-ai/prediction/tf2-cpu.2-7:latest'\n",
    "\n",
    "# Model Training\n",
    "VAR_TARGET = 'Class'\n",
    "VAR_OMIT = 'transaction_id' # add more variables to the string with space delimiters\n",
    "EPOCHS = 4\n",
    "BATCH_SIZE = 100"
   ]
  },
  {
   "cell_type": "code",
   "execution_count": 3,
   "id": "41be9395-f783-4f2b-8354-8a38740514b0",
   "metadata": {},
   "outputs": [],
   "source": [
    "#!pip install tensorflow==2.10.0 tensorflow-io==0.27.0"
   ]
  },
  {
   "cell_type": "markdown",
   "id": "a92f2936",
   "metadata": {},
   "source": [
    "packages:"
   ]
  },
  {
   "cell_type": "code",
   "execution_count": 4,
   "id": "986e7804",
   "metadata": {},
   "outputs": [
    {
     "name": "stderr",
     "output_type": "stream",
     "text": [
      "2023-10-23 06:17:24.880640: I tensorflow/core/platform/cpu_feature_guard.cc:193] This TensorFlow binary is optimized with oneAPI Deep Neural Network Library (oneDNN) to use the following CPU instructions in performance-critical operations:  AVX2 AVX512F FMA\n",
      "To enable them in other operations, rebuild TensorFlow with the appropriate compiler flags.\n",
      "2023-10-23 06:17:25.036157: W tensorflow/stream_executor/platform/default/dso_loader.cc:64] Could not load dynamic library 'libcudart.so.11.0'; dlerror: libcudart.so.11.0: cannot open shared object file: No such file or directory\n",
      "2023-10-23 06:17:25.036186: I tensorflow/stream_executor/cuda/cudart_stub.cc:29] Ignore above cudart dlerror if you do not have a GPU set up on your machine.\n",
      "2023-10-23 06:17:25.070758: E tensorflow/stream_executor/cuda/cuda_blas.cc:2981] Unable to register cuBLAS factory: Attempting to register factory for plugin cuBLAS when one has already been registered\n",
      "2023-10-23 06:17:25.828377: W tensorflow/stream_executor/platform/default/dso_loader.cc:64] Could not load dynamic library 'libnvinfer.so.7'; dlerror: libnvinfer.so.7: cannot open shared object file: No such file or directory\n",
      "2023-10-23 06:17:25.828493: W tensorflow/stream_executor/platform/default/dso_loader.cc:64] Could not load dynamic library 'libnvinfer_plugin.so.7'; dlerror: libnvinfer_plugin.so.7: cannot open shared object file: No such file or directory\n",
      "2023-10-23 06:17:25.828504: W tensorflow/compiler/tf2tensorrt/utils/py_utils.cc:38] TF-TRT Warning: Cannot dlopen some TensorRT libraries. If you would like to use Nvidia GPU with TensorRT, please make sure the missing libraries mentioned above are installed properly.\n"
     ]
    }
   ],
   "source": [
    "from google.cloud import bigquery\n",
    "\n",
    "from tensorflow.python.framework import dtypes\n",
    "from tensorflow_io.bigquery import BigQueryClient\n",
    "import tensorflow as tf\n",
    "\n",
    "from google.cloud import aiplatform\n",
    "from datetime import datetime\n",
    "import os\n",
    "\n",
    "from google.protobuf import json_format\n",
    "from google.protobuf.struct_pb2 import Value\n",
    "import json\n",
    "import numpy as np\n",
    "import pandas as pd\n",
    "from sklearn import metrics as metrics"
   ]
  },
  {
   "cell_type": "markdown",
   "id": "139d3707",
   "metadata": {},
   "source": [
    "clients:"
   ]
  },
  {
   "cell_type": "code",
   "execution_count": 5,
   "id": "fdbc3411",
   "metadata": {},
   "outputs": [],
   "source": [
    "aiplatform.init(project = PROJECT_ID, location = REGION)\n",
    "bq = bigquery.Client(project = PROJECT_ID)"
   ]
  },
  {
   "cell_type": "markdown",
   "id": "6f4052df",
   "metadata": {},
   "source": [
    "parameters:"
   ]
  },
  {
   "cell_type": "code",
   "execution_count": 6,
   "id": "ddd94e3a",
   "metadata": {},
   "outputs": [],
   "source": [
    "TIMESTAMP = datetime.now().strftime(\"%Y%m%d%H%M%S\")\n",
    "BUCKET = PROJECT_ID\n",
    "URI = f\"gs://{BUCKET}/{SERIES}/{EXPERIMENT}\"\n",
    "DIR = f\"temp/{EXPERIMENT}\""
   ]
  },
  {
   "cell_type": "markdown",
   "id": "de43acbc",
   "metadata": {},
   "source": [
    "environment:"
   ]
  },
  {
   "cell_type": "code",
   "execution_count": 7,
   "id": "a92f3b28",
   "metadata": {},
   "outputs": [],
   "source": [
    "!rm -rf {DIR}\n",
    "!mkdir -p {DIR}"
   ]
  },
  {
   "cell_type": "markdown",
   "id": "4ba31b6b-ff8a-4786-b360-cd936dbf615d",
   "metadata": {},
   "source": [
    "Experiment Tracking:"
   ]
  },
  {
   "cell_type": "code",
   "execution_count": 8,
   "id": "e3f1b204-0579-40f4-9a1f-b7b9c94b7d1f",
   "metadata": {},
   "outputs": [],
   "source": [
    "FRAMEWORK = 'tf'\n",
    "TASK = 'classification'\n",
    "MODEL_TYPE = 'dnn'\n",
    "EXPERIMENT_NAME = f'experiment-{SERIES}-{EXPERIMENT}-{FRAMEWORK}-{TASK}-{MODEL_TYPE}'\n",
    "RUN_NAME = f'run-{TIMESTAMP}'"
   ]
  },
  {
   "cell_type": "markdown",
   "id": "b5f08321-ae93-4d77-be62-7d037546a9b6",
   "metadata": {
    "tags": []
   },
   "source": [
    "---\n",
    "## Get Vertex AI Experiments Tensorboard Instance Name\n",
    "[Vertex AI Experiments](https://cloud.google.com/vertex-ai/docs/experiments/tensorboard-overview) has managed [Tensorboard](https://www.tensorflow.org/tensorboard) instances that you can track Tensorboard Experiments (a training run or hyperparameter tuning sweep).  \n",
    "\n",
    "The training job will show up as an experiment for the Tensorboard instance and have the same name as the training job ID.\n",
    "\n",
    "This code checks to see if a Tensorboard Instance has been created in the project, retrieves it if so, creates it otherwise:"
   ]
  },
  {
   "cell_type": "code",
   "execution_count": 9,
   "id": "0c0cfc16",
   "metadata": {},
   "outputs": [],
   "source": [
    "tb = aiplatform.Tensorboard.list(filter=f\"labels.series={SERIES}\")\n",
    "if tb:\n",
    "    tb = tb[0]\n",
    "else: \n",
    "    tb = aiplatform.Tensorboard.create(display_name = SERIES, labels = {'series' : f'{SERIES}'})"
   ]
  },
  {
   "cell_type": "code",
   "execution_count": 10,
   "id": "e7bdbeab-553f-4715-980e-da14bd9c264a",
   "metadata": {
    "tags": []
   },
   "outputs": [
    {
     "data": {
      "text/plain": [
       "'projects/117917517031/locations/us-central1/tensorboards/775749433861079040'"
      ]
     },
     "execution_count": 10,
     "metadata": {},
     "output_type": "execute_result"
    }
   ],
   "source": [
    "tb.resource_name"
   ]
  },
  {
   "cell_type": "markdown",
   "id": "508436e8-3869-41d4-8163-6931e74746e5",
   "metadata": {},
   "source": [
    "---\n",
    "## Setup Vertex AI Experiments\n",
    "\n",
    "The code in this section initializes the experiment and starts a run that represents this notebook.  Throughout the notebook sections for model training and evaluation information will be logged to the experiment using:\n",
    "- [.log_params](https://cloud.google.com/python/docs/reference/aiplatform/latest/google.cloud.aiplatform#google_cloud_aiplatform_log_params)\n",
    "- [.log_metrics](https://cloud.google.com/python/docs/reference/aiplatform/latest/google.cloud.aiplatform#google_cloud_aiplatform_log_metrics)\n",
    "- [.log_time_series_metrics](https://cloud.google.com/python/docs/reference/aiplatform/latest/google.cloud.aiplatform#google_cloud_aiplatform_log_time_series_metrics)"
   ]
  },
  {
   "cell_type": "markdown",
   "id": "8af8c686-2f32-449a-8b50-e54d227f5618",
   "metadata": {},
   "source": [
    "Initialize the Experiment:"
   ]
  },
  {
   "cell_type": "code",
   "execution_count": 11,
   "id": "77250775-ba29-45dc-8fbc-bd3bac659bea",
   "metadata": {},
   "outputs": [],
   "source": [
    "aiplatform.init(experiment = EXPERIMENT_NAME, experiment_tensorboard = tb.resource_name)"
   ]
  },
  {
   "cell_type": "markdown",
   "id": "0e933951-dc2f-4dc6-9560-e3ec1f73b5b9",
   "metadata": {},
   "source": [
    "Create an experiment run:"
   ]
  },
  {
   "cell_type": "code",
   "execution_count": 12,
   "id": "c2af6981-3dd1-40c2-aac8-96f65e1962ea",
   "metadata": {},
   "outputs": [
    {
     "name": "stdout",
     "output_type": "stream",
     "text": [
      "Associating projects/117917517031/locations/us-central1/metadataStores/default/contexts/experiment-05-05-tf-classification-dnn-run-20231023061728 to Experiment: experiment-05-05-tf-classification-dnn\n",
      "Starting a new run.\n"
     ]
    }
   ],
   "source": [
    "if RUN_NAME in [run.name for run in aiplatform.ExperimentRun.list(experiment = EXPERIMENT_NAME)]:\n",
    "    expRun = aiplatform.ExperimentRun(run_name = RUN_NAME, experiment = EXPERIMENT_NAME)\n",
    "    print('This run already exist with, using previous.')\n",
    "else:\n",
    "    expRun = aiplatform.ExperimentRun.create(run_name = RUN_NAME, experiment = EXPERIMENT_NAME)\n",
    "    print('Starting a new run.')"
   ]
  },
  {
   "cell_type": "markdown",
   "id": "1ad1abf6-aa21-4644-928d-6e44efe59719",
   "metadata": {},
   "source": [
    "Log parameters to the experiment run:"
   ]
  },
  {
   "cell_type": "code",
   "execution_count": 13,
   "id": "89c0e7d4-921a-4f7f-8e91-ac703897b9d2",
   "metadata": {},
   "outputs": [],
   "source": [
    "expRun.log_params({'experiment': EXPERIMENT, 'series': SERIES, 'project_id': PROJECT_ID})"
   ]
  },
  {
   "cell_type": "markdown",
   "id": "eaf48dc3-cdbd-4e34-be4d-33c7563dbd33",
   "metadata": {},
   "source": [
    "---\n",
    "## Training Data\n",
    "In this exercise the data source is a table in Google BigQuery. In this section the connection to BigQuery is done using Tensorflow I/O to read batches of training data in parallel during model training."
   ]
  },
  {
   "cell_type": "code",
   "execution_count": 91,
   "id": "6edde19f",
   "metadata": {},
   "outputs": [
    {
     "data": {
      "text/html": [
       "<div>\n",
       "<style scoped>\n",
       "    .dataframe tbody tr th:only-of-type {\n",
       "        vertical-align: middle;\n",
       "    }\n",
       "\n",
       "    .dataframe tbody tr th {\n",
       "        vertical-align: top;\n",
       "    }\n",
       "\n",
       "    .dataframe thead th {\n",
       "        text-align: right;\n",
       "    }\n",
       "</style>\n",
       "<table border=\"1\" class=\"dataframe\">\n",
       "  <thead>\n",
       "    <tr style=\"text-align: right;\">\n",
       "      <th></th>\n",
       "      <th>table_catalog</th>\n",
       "      <th>table_schema</th>\n",
       "      <th>table_name</th>\n",
       "      <th>column_name</th>\n",
       "      <th>ordinal_position</th>\n",
       "      <th>is_nullable</th>\n",
       "      <th>data_type</th>\n",
       "      <th>is_generated</th>\n",
       "      <th>generation_expression</th>\n",
       "      <th>is_stored</th>\n",
       "      <th>is_hidden</th>\n",
       "      <th>is_updatable</th>\n",
       "      <th>is_system_defined</th>\n",
       "      <th>is_partitioning_column</th>\n",
       "      <th>clustering_ordinal_position</th>\n",
       "      <th>collation_name</th>\n",
       "      <th>column_default</th>\n",
       "      <th>rounding_mode</th>\n",
       "    </tr>\n",
       "  </thead>\n",
       "  <tbody>\n",
       "    <tr>\n",
       "      <th>0</th>\n",
       "      <td>fifth-sprite-402605</td>\n",
       "      <td>fraud</td>\n",
       "      <td>fraud_prepped</td>\n",
       "      <td>Time</td>\n",
       "      <td>1</td>\n",
       "      <td>YES</td>\n",
       "      <td>INT64</td>\n",
       "      <td>NEVER</td>\n",
       "      <td>None</td>\n",
       "      <td>None</td>\n",
       "      <td>NO</td>\n",
       "      <td>None</td>\n",
       "      <td>NO</td>\n",
       "      <td>NO</td>\n",
       "      <td>&lt;NA&gt;</td>\n",
       "      <td>NULL</td>\n",
       "      <td>NULL</td>\n",
       "      <td>None</td>\n",
       "    </tr>\n",
       "    <tr>\n",
       "      <th>1</th>\n",
       "      <td>fifth-sprite-402605</td>\n",
       "      <td>fraud</td>\n",
       "      <td>fraud_prepped</td>\n",
       "      <td>V1</td>\n",
       "      <td>2</td>\n",
       "      <td>YES</td>\n",
       "      <td>FLOAT64</td>\n",
       "      <td>NEVER</td>\n",
       "      <td>None</td>\n",
       "      <td>None</td>\n",
       "      <td>NO</td>\n",
       "      <td>None</td>\n",
       "      <td>NO</td>\n",
       "      <td>NO</td>\n",
       "      <td>&lt;NA&gt;</td>\n",
       "      <td>NULL</td>\n",
       "      <td>NULL</td>\n",
       "      <td>None</td>\n",
       "    </tr>\n",
       "    <tr>\n",
       "      <th>2</th>\n",
       "      <td>fifth-sprite-402605</td>\n",
       "      <td>fraud</td>\n",
       "      <td>fraud_prepped</td>\n",
       "      <td>V2</td>\n",
       "      <td>3</td>\n",
       "      <td>YES</td>\n",
       "      <td>FLOAT64</td>\n",
       "      <td>NEVER</td>\n",
       "      <td>None</td>\n",
       "      <td>None</td>\n",
       "      <td>NO</td>\n",
       "      <td>None</td>\n",
       "      <td>NO</td>\n",
       "      <td>NO</td>\n",
       "      <td>&lt;NA&gt;</td>\n",
       "      <td>NULL</td>\n",
       "      <td>NULL</td>\n",
       "      <td>None</td>\n",
       "    </tr>\n",
       "    <tr>\n",
       "      <th>3</th>\n",
       "      <td>fifth-sprite-402605</td>\n",
       "      <td>fraud</td>\n",
       "      <td>fraud_prepped</td>\n",
       "      <td>V3</td>\n",
       "      <td>4</td>\n",
       "      <td>YES</td>\n",
       "      <td>FLOAT64</td>\n",
       "      <td>NEVER</td>\n",
       "      <td>None</td>\n",
       "      <td>None</td>\n",
       "      <td>NO</td>\n",
       "      <td>None</td>\n",
       "      <td>NO</td>\n",
       "      <td>NO</td>\n",
       "      <td>&lt;NA&gt;</td>\n",
       "      <td>NULL</td>\n",
       "      <td>NULL</td>\n",
       "      <td>None</td>\n",
       "    </tr>\n",
       "    <tr>\n",
       "      <th>4</th>\n",
       "      <td>fifth-sprite-402605</td>\n",
       "      <td>fraud</td>\n",
       "      <td>fraud_prepped</td>\n",
       "      <td>V4</td>\n",
       "      <td>5</td>\n",
       "      <td>YES</td>\n",
       "      <td>FLOAT64</td>\n",
       "      <td>NEVER</td>\n",
       "      <td>None</td>\n",
       "      <td>None</td>\n",
       "      <td>NO</td>\n",
       "      <td>None</td>\n",
       "      <td>NO</td>\n",
       "      <td>NO</td>\n",
       "      <td>&lt;NA&gt;</td>\n",
       "      <td>NULL</td>\n",
       "      <td>NULL</td>\n",
       "      <td>None</td>\n",
       "    </tr>\n",
       "    <tr>\n",
       "      <th>5</th>\n",
       "      <td>fifth-sprite-402605</td>\n",
       "      <td>fraud</td>\n",
       "      <td>fraud_prepped</td>\n",
       "      <td>V5</td>\n",
       "      <td>6</td>\n",
       "      <td>YES</td>\n",
       "      <td>FLOAT64</td>\n",
       "      <td>NEVER</td>\n",
       "      <td>None</td>\n",
       "      <td>None</td>\n",
       "      <td>NO</td>\n",
       "      <td>None</td>\n",
       "      <td>NO</td>\n",
       "      <td>NO</td>\n",
       "      <td>&lt;NA&gt;</td>\n",
       "      <td>NULL</td>\n",
       "      <td>NULL</td>\n",
       "      <td>None</td>\n",
       "    </tr>\n",
       "    <tr>\n",
       "      <th>6</th>\n",
       "      <td>fifth-sprite-402605</td>\n",
       "      <td>fraud</td>\n",
       "      <td>fraud_prepped</td>\n",
       "      <td>V6</td>\n",
       "      <td>7</td>\n",
       "      <td>YES</td>\n",
       "      <td>FLOAT64</td>\n",
       "      <td>NEVER</td>\n",
       "      <td>None</td>\n",
       "      <td>None</td>\n",
       "      <td>NO</td>\n",
       "      <td>None</td>\n",
       "      <td>NO</td>\n",
       "      <td>NO</td>\n",
       "      <td>&lt;NA&gt;</td>\n",
       "      <td>NULL</td>\n",
       "      <td>NULL</td>\n",
       "      <td>None</td>\n",
       "    </tr>\n",
       "    <tr>\n",
       "      <th>7</th>\n",
       "      <td>fifth-sprite-402605</td>\n",
       "      <td>fraud</td>\n",
       "      <td>fraud_prepped</td>\n",
       "      <td>V7</td>\n",
       "      <td>8</td>\n",
       "      <td>YES</td>\n",
       "      <td>FLOAT64</td>\n",
       "      <td>NEVER</td>\n",
       "      <td>None</td>\n",
       "      <td>None</td>\n",
       "      <td>NO</td>\n",
       "      <td>None</td>\n",
       "      <td>NO</td>\n",
       "      <td>NO</td>\n",
       "      <td>&lt;NA&gt;</td>\n",
       "      <td>NULL</td>\n",
       "      <td>NULL</td>\n",
       "      <td>None</td>\n",
       "    </tr>\n",
       "    <tr>\n",
       "      <th>8</th>\n",
       "      <td>fifth-sprite-402605</td>\n",
       "      <td>fraud</td>\n",
       "      <td>fraud_prepped</td>\n",
       "      <td>V8</td>\n",
       "      <td>9</td>\n",
       "      <td>YES</td>\n",
       "      <td>FLOAT64</td>\n",
       "      <td>NEVER</td>\n",
       "      <td>None</td>\n",
       "      <td>None</td>\n",
       "      <td>NO</td>\n",
       "      <td>None</td>\n",
       "      <td>NO</td>\n",
       "      <td>NO</td>\n",
       "      <td>&lt;NA&gt;</td>\n",
       "      <td>NULL</td>\n",
       "      <td>NULL</td>\n",
       "      <td>None</td>\n",
       "    </tr>\n",
       "    <tr>\n",
       "      <th>9</th>\n",
       "      <td>fifth-sprite-402605</td>\n",
       "      <td>fraud</td>\n",
       "      <td>fraud_prepped</td>\n",
       "      <td>V9</td>\n",
       "      <td>10</td>\n",
       "      <td>YES</td>\n",
       "      <td>FLOAT64</td>\n",
       "      <td>NEVER</td>\n",
       "      <td>None</td>\n",
       "      <td>None</td>\n",
       "      <td>NO</td>\n",
       "      <td>None</td>\n",
       "      <td>NO</td>\n",
       "      <td>NO</td>\n",
       "      <td>&lt;NA&gt;</td>\n",
       "      <td>NULL</td>\n",
       "      <td>NULL</td>\n",
       "      <td>None</td>\n",
       "    </tr>\n",
       "    <tr>\n",
       "      <th>10</th>\n",
       "      <td>fifth-sprite-402605</td>\n",
       "      <td>fraud</td>\n",
       "      <td>fraud_prepped</td>\n",
       "      <td>V10</td>\n",
       "      <td>11</td>\n",
       "      <td>YES</td>\n",
       "      <td>FLOAT64</td>\n",
       "      <td>NEVER</td>\n",
       "      <td>None</td>\n",
       "      <td>None</td>\n",
       "      <td>NO</td>\n",
       "      <td>None</td>\n",
       "      <td>NO</td>\n",
       "      <td>NO</td>\n",
       "      <td>&lt;NA&gt;</td>\n",
       "      <td>NULL</td>\n",
       "      <td>NULL</td>\n",
       "      <td>None</td>\n",
       "    </tr>\n",
       "    <tr>\n",
       "      <th>11</th>\n",
       "      <td>fifth-sprite-402605</td>\n",
       "      <td>fraud</td>\n",
       "      <td>fraud_prepped</td>\n",
       "      <td>V11</td>\n",
       "      <td>12</td>\n",
       "      <td>YES</td>\n",
       "      <td>FLOAT64</td>\n",
       "      <td>NEVER</td>\n",
       "      <td>None</td>\n",
       "      <td>None</td>\n",
       "      <td>NO</td>\n",
       "      <td>None</td>\n",
       "      <td>NO</td>\n",
       "      <td>NO</td>\n",
       "      <td>&lt;NA&gt;</td>\n",
       "      <td>NULL</td>\n",
       "      <td>NULL</td>\n",
       "      <td>None</td>\n",
       "    </tr>\n",
       "    <tr>\n",
       "      <th>12</th>\n",
       "      <td>fifth-sprite-402605</td>\n",
       "      <td>fraud</td>\n",
       "      <td>fraud_prepped</td>\n",
       "      <td>V12</td>\n",
       "      <td>13</td>\n",
       "      <td>YES</td>\n",
       "      <td>FLOAT64</td>\n",
       "      <td>NEVER</td>\n",
       "      <td>None</td>\n",
       "      <td>None</td>\n",
       "      <td>NO</td>\n",
       "      <td>None</td>\n",
       "      <td>NO</td>\n",
       "      <td>NO</td>\n",
       "      <td>&lt;NA&gt;</td>\n",
       "      <td>NULL</td>\n",
       "      <td>NULL</td>\n",
       "      <td>None</td>\n",
       "    </tr>\n",
       "    <tr>\n",
       "      <th>13</th>\n",
       "      <td>fifth-sprite-402605</td>\n",
       "      <td>fraud</td>\n",
       "      <td>fraud_prepped</td>\n",
       "      <td>V13</td>\n",
       "      <td>14</td>\n",
       "      <td>YES</td>\n",
       "      <td>FLOAT64</td>\n",
       "      <td>NEVER</td>\n",
       "      <td>None</td>\n",
       "      <td>None</td>\n",
       "      <td>NO</td>\n",
       "      <td>None</td>\n",
       "      <td>NO</td>\n",
       "      <td>NO</td>\n",
       "      <td>&lt;NA&gt;</td>\n",
       "      <td>NULL</td>\n",
       "      <td>NULL</td>\n",
       "      <td>None</td>\n",
       "    </tr>\n",
       "    <tr>\n",
       "      <th>14</th>\n",
       "      <td>fifth-sprite-402605</td>\n",
       "      <td>fraud</td>\n",
       "      <td>fraud_prepped</td>\n",
       "      <td>V14</td>\n",
       "      <td>15</td>\n",
       "      <td>YES</td>\n",
       "      <td>FLOAT64</td>\n",
       "      <td>NEVER</td>\n",
       "      <td>None</td>\n",
       "      <td>None</td>\n",
       "      <td>NO</td>\n",
       "      <td>None</td>\n",
       "      <td>NO</td>\n",
       "      <td>NO</td>\n",
       "      <td>&lt;NA&gt;</td>\n",
       "      <td>NULL</td>\n",
       "      <td>NULL</td>\n",
       "      <td>None</td>\n",
       "    </tr>\n",
       "    <tr>\n",
       "      <th>15</th>\n",
       "      <td>fifth-sprite-402605</td>\n",
       "      <td>fraud</td>\n",
       "      <td>fraud_prepped</td>\n",
       "      <td>V15</td>\n",
       "      <td>16</td>\n",
       "      <td>YES</td>\n",
       "      <td>FLOAT64</td>\n",
       "      <td>NEVER</td>\n",
       "      <td>None</td>\n",
       "      <td>None</td>\n",
       "      <td>NO</td>\n",
       "      <td>None</td>\n",
       "      <td>NO</td>\n",
       "      <td>NO</td>\n",
       "      <td>&lt;NA&gt;</td>\n",
       "      <td>NULL</td>\n",
       "      <td>NULL</td>\n",
       "      <td>None</td>\n",
       "    </tr>\n",
       "    <tr>\n",
       "      <th>16</th>\n",
       "      <td>fifth-sprite-402605</td>\n",
       "      <td>fraud</td>\n",
       "      <td>fraud_prepped</td>\n",
       "      <td>V16</td>\n",
       "      <td>17</td>\n",
       "      <td>YES</td>\n",
       "      <td>FLOAT64</td>\n",
       "      <td>NEVER</td>\n",
       "      <td>None</td>\n",
       "      <td>None</td>\n",
       "      <td>NO</td>\n",
       "      <td>None</td>\n",
       "      <td>NO</td>\n",
       "      <td>NO</td>\n",
       "      <td>&lt;NA&gt;</td>\n",
       "      <td>NULL</td>\n",
       "      <td>NULL</td>\n",
       "      <td>None</td>\n",
       "    </tr>\n",
       "    <tr>\n",
       "      <th>17</th>\n",
       "      <td>fifth-sprite-402605</td>\n",
       "      <td>fraud</td>\n",
       "      <td>fraud_prepped</td>\n",
       "      <td>V17</td>\n",
       "      <td>18</td>\n",
       "      <td>YES</td>\n",
       "      <td>FLOAT64</td>\n",
       "      <td>NEVER</td>\n",
       "      <td>None</td>\n",
       "      <td>None</td>\n",
       "      <td>NO</td>\n",
       "      <td>None</td>\n",
       "      <td>NO</td>\n",
       "      <td>NO</td>\n",
       "      <td>&lt;NA&gt;</td>\n",
       "      <td>NULL</td>\n",
       "      <td>NULL</td>\n",
       "      <td>None</td>\n",
       "    </tr>\n",
       "    <tr>\n",
       "      <th>18</th>\n",
       "      <td>fifth-sprite-402605</td>\n",
       "      <td>fraud</td>\n",
       "      <td>fraud_prepped</td>\n",
       "      <td>V18</td>\n",
       "      <td>19</td>\n",
       "      <td>YES</td>\n",
       "      <td>FLOAT64</td>\n",
       "      <td>NEVER</td>\n",
       "      <td>None</td>\n",
       "      <td>None</td>\n",
       "      <td>NO</td>\n",
       "      <td>None</td>\n",
       "      <td>NO</td>\n",
       "      <td>NO</td>\n",
       "      <td>&lt;NA&gt;</td>\n",
       "      <td>NULL</td>\n",
       "      <td>NULL</td>\n",
       "      <td>None</td>\n",
       "    </tr>\n",
       "    <tr>\n",
       "      <th>19</th>\n",
       "      <td>fifth-sprite-402605</td>\n",
       "      <td>fraud</td>\n",
       "      <td>fraud_prepped</td>\n",
       "      <td>V19</td>\n",
       "      <td>20</td>\n",
       "      <td>YES</td>\n",
       "      <td>FLOAT64</td>\n",
       "      <td>NEVER</td>\n",
       "      <td>None</td>\n",
       "      <td>None</td>\n",
       "      <td>NO</td>\n",
       "      <td>None</td>\n",
       "      <td>NO</td>\n",
       "      <td>NO</td>\n",
       "      <td>&lt;NA&gt;</td>\n",
       "      <td>NULL</td>\n",
       "      <td>NULL</td>\n",
       "      <td>None</td>\n",
       "    </tr>\n",
       "    <tr>\n",
       "      <th>20</th>\n",
       "      <td>fifth-sprite-402605</td>\n",
       "      <td>fraud</td>\n",
       "      <td>fraud_prepped</td>\n",
       "      <td>V20</td>\n",
       "      <td>21</td>\n",
       "      <td>YES</td>\n",
       "      <td>FLOAT64</td>\n",
       "      <td>NEVER</td>\n",
       "      <td>None</td>\n",
       "      <td>None</td>\n",
       "      <td>NO</td>\n",
       "      <td>None</td>\n",
       "      <td>NO</td>\n",
       "      <td>NO</td>\n",
       "      <td>&lt;NA&gt;</td>\n",
       "      <td>NULL</td>\n",
       "      <td>NULL</td>\n",
       "      <td>None</td>\n",
       "    </tr>\n",
       "    <tr>\n",
       "      <th>21</th>\n",
       "      <td>fifth-sprite-402605</td>\n",
       "      <td>fraud</td>\n",
       "      <td>fraud_prepped</td>\n",
       "      <td>V21</td>\n",
       "      <td>22</td>\n",
       "      <td>YES</td>\n",
       "      <td>FLOAT64</td>\n",
       "      <td>NEVER</td>\n",
       "      <td>None</td>\n",
       "      <td>None</td>\n",
       "      <td>NO</td>\n",
       "      <td>None</td>\n",
       "      <td>NO</td>\n",
       "      <td>NO</td>\n",
       "      <td>&lt;NA&gt;</td>\n",
       "      <td>NULL</td>\n",
       "      <td>NULL</td>\n",
       "      <td>None</td>\n",
       "    </tr>\n",
       "    <tr>\n",
       "      <th>22</th>\n",
       "      <td>fifth-sprite-402605</td>\n",
       "      <td>fraud</td>\n",
       "      <td>fraud_prepped</td>\n",
       "      <td>V22</td>\n",
       "      <td>23</td>\n",
       "      <td>YES</td>\n",
       "      <td>FLOAT64</td>\n",
       "      <td>NEVER</td>\n",
       "      <td>None</td>\n",
       "      <td>None</td>\n",
       "      <td>NO</td>\n",
       "      <td>None</td>\n",
       "      <td>NO</td>\n",
       "      <td>NO</td>\n",
       "      <td>&lt;NA&gt;</td>\n",
       "      <td>NULL</td>\n",
       "      <td>NULL</td>\n",
       "      <td>None</td>\n",
       "    </tr>\n",
       "    <tr>\n",
       "      <th>23</th>\n",
       "      <td>fifth-sprite-402605</td>\n",
       "      <td>fraud</td>\n",
       "      <td>fraud_prepped</td>\n",
       "      <td>V23</td>\n",
       "      <td>24</td>\n",
       "      <td>YES</td>\n",
       "      <td>FLOAT64</td>\n",
       "      <td>NEVER</td>\n",
       "      <td>None</td>\n",
       "      <td>None</td>\n",
       "      <td>NO</td>\n",
       "      <td>None</td>\n",
       "      <td>NO</td>\n",
       "      <td>NO</td>\n",
       "      <td>&lt;NA&gt;</td>\n",
       "      <td>NULL</td>\n",
       "      <td>NULL</td>\n",
       "      <td>None</td>\n",
       "    </tr>\n",
       "    <tr>\n",
       "      <th>24</th>\n",
       "      <td>fifth-sprite-402605</td>\n",
       "      <td>fraud</td>\n",
       "      <td>fraud_prepped</td>\n",
       "      <td>V24</td>\n",
       "      <td>25</td>\n",
       "      <td>YES</td>\n",
       "      <td>FLOAT64</td>\n",
       "      <td>NEVER</td>\n",
       "      <td>None</td>\n",
       "      <td>None</td>\n",
       "      <td>NO</td>\n",
       "      <td>None</td>\n",
       "      <td>NO</td>\n",
       "      <td>NO</td>\n",
       "      <td>&lt;NA&gt;</td>\n",
       "      <td>NULL</td>\n",
       "      <td>NULL</td>\n",
       "      <td>None</td>\n",
       "    </tr>\n",
       "    <tr>\n",
       "      <th>25</th>\n",
       "      <td>fifth-sprite-402605</td>\n",
       "      <td>fraud</td>\n",
       "      <td>fraud_prepped</td>\n",
       "      <td>V25</td>\n",
       "      <td>26</td>\n",
       "      <td>YES</td>\n",
       "      <td>FLOAT64</td>\n",
       "      <td>NEVER</td>\n",
       "      <td>None</td>\n",
       "      <td>None</td>\n",
       "      <td>NO</td>\n",
       "      <td>None</td>\n",
       "      <td>NO</td>\n",
       "      <td>NO</td>\n",
       "      <td>&lt;NA&gt;</td>\n",
       "      <td>NULL</td>\n",
       "      <td>NULL</td>\n",
       "      <td>None</td>\n",
       "    </tr>\n",
       "    <tr>\n",
       "      <th>26</th>\n",
       "      <td>fifth-sprite-402605</td>\n",
       "      <td>fraud</td>\n",
       "      <td>fraud_prepped</td>\n",
       "      <td>V26</td>\n",
       "      <td>27</td>\n",
       "      <td>YES</td>\n",
       "      <td>FLOAT64</td>\n",
       "      <td>NEVER</td>\n",
       "      <td>None</td>\n",
       "      <td>None</td>\n",
       "      <td>NO</td>\n",
       "      <td>None</td>\n",
       "      <td>NO</td>\n",
       "      <td>NO</td>\n",
       "      <td>&lt;NA&gt;</td>\n",
       "      <td>NULL</td>\n",
       "      <td>NULL</td>\n",
       "      <td>None</td>\n",
       "    </tr>\n",
       "    <tr>\n",
       "      <th>27</th>\n",
       "      <td>fifth-sprite-402605</td>\n",
       "      <td>fraud</td>\n",
       "      <td>fraud_prepped</td>\n",
       "      <td>V27</td>\n",
       "      <td>28</td>\n",
       "      <td>YES</td>\n",
       "      <td>FLOAT64</td>\n",
       "      <td>NEVER</td>\n",
       "      <td>None</td>\n",
       "      <td>None</td>\n",
       "      <td>NO</td>\n",
       "      <td>None</td>\n",
       "      <td>NO</td>\n",
       "      <td>NO</td>\n",
       "      <td>&lt;NA&gt;</td>\n",
       "      <td>NULL</td>\n",
       "      <td>NULL</td>\n",
       "      <td>None</td>\n",
       "    </tr>\n",
       "    <tr>\n",
       "      <th>28</th>\n",
       "      <td>fifth-sprite-402605</td>\n",
       "      <td>fraud</td>\n",
       "      <td>fraud_prepped</td>\n",
       "      <td>V28</td>\n",
       "      <td>29</td>\n",
       "      <td>YES</td>\n",
       "      <td>FLOAT64</td>\n",
       "      <td>NEVER</td>\n",
       "      <td>None</td>\n",
       "      <td>None</td>\n",
       "      <td>NO</td>\n",
       "      <td>None</td>\n",
       "      <td>NO</td>\n",
       "      <td>NO</td>\n",
       "      <td>&lt;NA&gt;</td>\n",
       "      <td>NULL</td>\n",
       "      <td>NULL</td>\n",
       "      <td>None</td>\n",
       "    </tr>\n",
       "    <tr>\n",
       "      <th>29</th>\n",
       "      <td>fifth-sprite-402605</td>\n",
       "      <td>fraud</td>\n",
       "      <td>fraud_prepped</td>\n",
       "      <td>Amount</td>\n",
       "      <td>30</td>\n",
       "      <td>YES</td>\n",
       "      <td>FLOAT64</td>\n",
       "      <td>NEVER</td>\n",
       "      <td>None</td>\n",
       "      <td>None</td>\n",
       "      <td>NO</td>\n",
       "      <td>None</td>\n",
       "      <td>NO</td>\n",
       "      <td>NO</td>\n",
       "      <td>&lt;NA&gt;</td>\n",
       "      <td>NULL</td>\n",
       "      <td>NULL</td>\n",
       "      <td>None</td>\n",
       "    </tr>\n",
       "    <tr>\n",
       "      <th>30</th>\n",
       "      <td>fifth-sprite-402605</td>\n",
       "      <td>fraud</td>\n",
       "      <td>fraud_prepped</td>\n",
       "      <td>Class</td>\n",
       "      <td>31</td>\n",
       "      <td>YES</td>\n",
       "      <td>INT64</td>\n",
       "      <td>NEVER</td>\n",
       "      <td>None</td>\n",
       "      <td>None</td>\n",
       "      <td>NO</td>\n",
       "      <td>None</td>\n",
       "      <td>NO</td>\n",
       "      <td>NO</td>\n",
       "      <td>&lt;NA&gt;</td>\n",
       "      <td>NULL</td>\n",
       "      <td>NULL</td>\n",
       "      <td>None</td>\n",
       "    </tr>\n",
       "    <tr>\n",
       "      <th>31</th>\n",
       "      <td>fifth-sprite-402605</td>\n",
       "      <td>fraud</td>\n",
       "      <td>fraud_prepped</td>\n",
       "      <td>transaction_id</td>\n",
       "      <td>32</td>\n",
       "      <td>YES</td>\n",
       "      <td>STRING</td>\n",
       "      <td>NEVER</td>\n",
       "      <td>None</td>\n",
       "      <td>None</td>\n",
       "      <td>NO</td>\n",
       "      <td>None</td>\n",
       "      <td>NO</td>\n",
       "      <td>NO</td>\n",
       "      <td>&lt;NA&gt;</td>\n",
       "      <td>NULL</td>\n",
       "      <td>NULL</td>\n",
       "      <td>None</td>\n",
       "    </tr>\n",
       "    <tr>\n",
       "      <th>32</th>\n",
       "      <td>fifth-sprite-402605</td>\n",
       "      <td>fraud</td>\n",
       "      <td>fraud_prepped</td>\n",
       "      <td>splits</td>\n",
       "      <td>33</td>\n",
       "      <td>YES</td>\n",
       "      <td>STRING</td>\n",
       "      <td>NEVER</td>\n",
       "      <td>None</td>\n",
       "      <td>None</td>\n",
       "      <td>NO</td>\n",
       "      <td>None</td>\n",
       "      <td>NO</td>\n",
       "      <td>NO</td>\n",
       "      <td>&lt;NA&gt;</td>\n",
       "      <td>NULL</td>\n",
       "      <td>NULL</td>\n",
       "      <td>None</td>\n",
       "    </tr>\n",
       "  </tbody>\n",
       "</table>\n",
       "</div>"
      ],
      "text/plain": [
       "          table_catalog table_schema     table_name     column_name  \\\n",
       "0   fifth-sprite-402605        fraud  fraud_prepped            Time   \n",
       "1   fifth-sprite-402605        fraud  fraud_prepped              V1   \n",
       "2   fifth-sprite-402605        fraud  fraud_prepped              V2   \n",
       "3   fifth-sprite-402605        fraud  fraud_prepped              V3   \n",
       "4   fifth-sprite-402605        fraud  fraud_prepped              V4   \n",
       "5   fifth-sprite-402605        fraud  fraud_prepped              V5   \n",
       "6   fifth-sprite-402605        fraud  fraud_prepped              V6   \n",
       "7   fifth-sprite-402605        fraud  fraud_prepped              V7   \n",
       "8   fifth-sprite-402605        fraud  fraud_prepped              V8   \n",
       "9   fifth-sprite-402605        fraud  fraud_prepped              V9   \n",
       "10  fifth-sprite-402605        fraud  fraud_prepped             V10   \n",
       "11  fifth-sprite-402605        fraud  fraud_prepped             V11   \n",
       "12  fifth-sprite-402605        fraud  fraud_prepped             V12   \n",
       "13  fifth-sprite-402605        fraud  fraud_prepped             V13   \n",
       "14  fifth-sprite-402605        fraud  fraud_prepped             V14   \n",
       "15  fifth-sprite-402605        fraud  fraud_prepped             V15   \n",
       "16  fifth-sprite-402605        fraud  fraud_prepped             V16   \n",
       "17  fifth-sprite-402605        fraud  fraud_prepped             V17   \n",
       "18  fifth-sprite-402605        fraud  fraud_prepped             V18   \n",
       "19  fifth-sprite-402605        fraud  fraud_prepped             V19   \n",
       "20  fifth-sprite-402605        fraud  fraud_prepped             V20   \n",
       "21  fifth-sprite-402605        fraud  fraud_prepped             V21   \n",
       "22  fifth-sprite-402605        fraud  fraud_prepped             V22   \n",
       "23  fifth-sprite-402605        fraud  fraud_prepped             V23   \n",
       "24  fifth-sprite-402605        fraud  fraud_prepped             V24   \n",
       "25  fifth-sprite-402605        fraud  fraud_prepped             V25   \n",
       "26  fifth-sprite-402605        fraud  fraud_prepped             V26   \n",
       "27  fifth-sprite-402605        fraud  fraud_prepped             V27   \n",
       "28  fifth-sprite-402605        fraud  fraud_prepped             V28   \n",
       "29  fifth-sprite-402605        fraud  fraud_prepped          Amount   \n",
       "30  fifth-sprite-402605        fraud  fraud_prepped           Class   \n",
       "31  fifth-sprite-402605        fraud  fraud_prepped  transaction_id   \n",
       "32  fifth-sprite-402605        fraud  fraud_prepped          splits   \n",
       "\n",
       "    ordinal_position is_nullable data_type is_generated generation_expression  \\\n",
       "0                  1         YES     INT64        NEVER                  None   \n",
       "1                  2         YES   FLOAT64        NEVER                  None   \n",
       "2                  3         YES   FLOAT64        NEVER                  None   \n",
       "3                  4         YES   FLOAT64        NEVER                  None   \n",
       "4                  5         YES   FLOAT64        NEVER                  None   \n",
       "5                  6         YES   FLOAT64        NEVER                  None   \n",
       "6                  7         YES   FLOAT64        NEVER                  None   \n",
       "7                  8         YES   FLOAT64        NEVER                  None   \n",
       "8                  9         YES   FLOAT64        NEVER                  None   \n",
       "9                 10         YES   FLOAT64        NEVER                  None   \n",
       "10                11         YES   FLOAT64        NEVER                  None   \n",
       "11                12         YES   FLOAT64        NEVER                  None   \n",
       "12                13         YES   FLOAT64        NEVER                  None   \n",
       "13                14         YES   FLOAT64        NEVER                  None   \n",
       "14                15         YES   FLOAT64        NEVER                  None   \n",
       "15                16         YES   FLOAT64        NEVER                  None   \n",
       "16                17         YES   FLOAT64        NEVER                  None   \n",
       "17                18         YES   FLOAT64        NEVER                  None   \n",
       "18                19         YES   FLOAT64        NEVER                  None   \n",
       "19                20         YES   FLOAT64        NEVER                  None   \n",
       "20                21         YES   FLOAT64        NEVER                  None   \n",
       "21                22         YES   FLOAT64        NEVER                  None   \n",
       "22                23         YES   FLOAT64        NEVER                  None   \n",
       "23                24         YES   FLOAT64        NEVER                  None   \n",
       "24                25         YES   FLOAT64        NEVER                  None   \n",
       "25                26         YES   FLOAT64        NEVER                  None   \n",
       "26                27         YES   FLOAT64        NEVER                  None   \n",
       "27                28         YES   FLOAT64        NEVER                  None   \n",
       "28                29         YES   FLOAT64        NEVER                  None   \n",
       "29                30         YES   FLOAT64        NEVER                  None   \n",
       "30                31         YES     INT64        NEVER                  None   \n",
       "31                32         YES    STRING        NEVER                  None   \n",
       "32                33         YES    STRING        NEVER                  None   \n",
       "\n",
       "   is_stored is_hidden is_updatable is_system_defined is_partitioning_column  \\\n",
       "0       None        NO         None                NO                     NO   \n",
       "1       None        NO         None                NO                     NO   \n",
       "2       None        NO         None                NO                     NO   \n",
       "3       None        NO         None                NO                     NO   \n",
       "4       None        NO         None                NO                     NO   \n",
       "5       None        NO         None                NO                     NO   \n",
       "6       None        NO         None                NO                     NO   \n",
       "7       None        NO         None                NO                     NO   \n",
       "8       None        NO         None                NO                     NO   \n",
       "9       None        NO         None                NO                     NO   \n",
       "10      None        NO         None                NO                     NO   \n",
       "11      None        NO         None                NO                     NO   \n",
       "12      None        NO         None                NO                     NO   \n",
       "13      None        NO         None                NO                     NO   \n",
       "14      None        NO         None                NO                     NO   \n",
       "15      None        NO         None                NO                     NO   \n",
       "16      None        NO         None                NO                     NO   \n",
       "17      None        NO         None                NO                     NO   \n",
       "18      None        NO         None                NO                     NO   \n",
       "19      None        NO         None                NO                     NO   \n",
       "20      None        NO         None                NO                     NO   \n",
       "21      None        NO         None                NO                     NO   \n",
       "22      None        NO         None                NO                     NO   \n",
       "23      None        NO         None                NO                     NO   \n",
       "24      None        NO         None                NO                     NO   \n",
       "25      None        NO         None                NO                     NO   \n",
       "26      None        NO         None                NO                     NO   \n",
       "27      None        NO         None                NO                     NO   \n",
       "28      None        NO         None                NO                     NO   \n",
       "29      None        NO         None                NO                     NO   \n",
       "30      None        NO         None                NO                     NO   \n",
       "31      None        NO         None                NO                     NO   \n",
       "32      None        NO         None                NO                     NO   \n",
       "\n",
       "    clustering_ordinal_position collation_name column_default rounding_mode  \n",
       "0                          <NA>           NULL           NULL          None  \n",
       "1                          <NA>           NULL           NULL          None  \n",
       "2                          <NA>           NULL           NULL          None  \n",
       "3                          <NA>           NULL           NULL          None  \n",
       "4                          <NA>           NULL           NULL          None  \n",
       "5                          <NA>           NULL           NULL          None  \n",
       "6                          <NA>           NULL           NULL          None  \n",
       "7                          <NA>           NULL           NULL          None  \n",
       "8                          <NA>           NULL           NULL          None  \n",
       "9                          <NA>           NULL           NULL          None  \n",
       "10                         <NA>           NULL           NULL          None  \n",
       "11                         <NA>           NULL           NULL          None  \n",
       "12                         <NA>           NULL           NULL          None  \n",
       "13                         <NA>           NULL           NULL          None  \n",
       "14                         <NA>           NULL           NULL          None  \n",
       "15                         <NA>           NULL           NULL          None  \n",
       "16                         <NA>           NULL           NULL          None  \n",
       "17                         <NA>           NULL           NULL          None  \n",
       "18                         <NA>           NULL           NULL          None  \n",
       "19                         <NA>           NULL           NULL          None  \n",
       "20                         <NA>           NULL           NULL          None  \n",
       "21                         <NA>           NULL           NULL          None  \n",
       "22                         <NA>           NULL           NULL          None  \n",
       "23                         <NA>           NULL           NULL          None  \n",
       "24                         <NA>           NULL           NULL          None  \n",
       "25                         <NA>           NULL           NULL          None  \n",
       "26                         <NA>           NULL           NULL          None  \n",
       "27                         <NA>           NULL           NULL          None  \n",
       "28                         <NA>           NULL           NULL          None  \n",
       "29                         <NA>           NULL           NULL          None  \n",
       "30                         <NA>           NULL           NULL          None  \n",
       "31                         <NA>           NULL           NULL          None  \n",
       "32                         <NA>           NULL           NULL          None  "
      ]
     },
     "execution_count": 91,
     "metadata": {},
     "output_type": "execute_result"
    }
   ],
   "source": [
    "query = f\"SELECT * FROM {BQ_PROJECT}.{BQ_DATASET}.INFORMATION_SCHEMA.COLUMNS WHERE TABLE_NAME = '{BQ_TABLE}'\"\n",
    "schema = bq.query(query).to_dataframe()\n",
    "schema"
   ]
  },
  {
   "cell_type": "markdown",
   "id": "a968eba8",
   "metadata": {},
   "source": [
    "### Number of Classes for the Label Column: VAR_TARGET\n",
    "This is a supervised learning example that classifies examples into the classes found in the label column stored in the variable `VAR_TARGET`."
   ]
  },
  {
   "cell_type": "code",
   "execution_count": 15,
   "id": "45fcc860",
   "metadata": {},
   "outputs": [
    {
     "data": {
      "text/html": [
       "<div>\n",
       "<style scoped>\n",
       "    .dataframe tbody tr th:only-of-type {\n",
       "        vertical-align: middle;\n",
       "    }\n",
       "\n",
       "    .dataframe tbody tr th {\n",
       "        vertical-align: top;\n",
       "    }\n",
       "\n",
       "    .dataframe thead th {\n",
       "        text-align: right;\n",
       "    }\n",
       "</style>\n",
       "<table border=\"1\" class=\"dataframe\">\n",
       "  <thead>\n",
       "    <tr style=\"text-align: right;\">\n",
       "      <th></th>\n",
       "      <th>Class</th>\n",
       "    </tr>\n",
       "  </thead>\n",
       "  <tbody>\n",
       "    <tr>\n",
       "      <th>0</th>\n",
       "      <td>0</td>\n",
       "    </tr>\n",
       "    <tr>\n",
       "      <th>1</th>\n",
       "      <td>1</td>\n",
       "    </tr>\n",
       "  </tbody>\n",
       "</table>\n",
       "</div>"
      ],
      "text/plain": [
       "   Class\n",
       "0      0\n",
       "1      1"
      ]
     },
     "execution_count": 15,
     "metadata": {},
     "output_type": "execute_result"
    }
   ],
   "source": [
    "nclasses = bq.query(query = f'SELECT DISTINCT {VAR_TARGET} FROM {BQ_PROJECT}.{BQ_DATASET}.{BQ_TABLE} WHERE {VAR_TARGET} is not null').to_dataframe()\n",
    "nclasses"
   ]
  },
  {
   "cell_type": "code",
   "execution_count": 16,
   "id": "88143160",
   "metadata": {},
   "outputs": [
    {
     "data": {
      "text/plain": [
       "2"
      ]
     },
     "execution_count": 16,
     "metadata": {},
     "output_type": "execute_result"
    }
   ],
   "source": [
    "nclasses = nclasses.shape[0]\n",
    "nclasses"
   ]
  },
  {
   "cell_type": "code",
   "execution_count": 17,
   "id": "e6f1d194-d59f-41b9-90b3-5f1e15af4233",
   "metadata": {},
   "outputs": [],
   "source": [
    "expRun.log_params({'data_source': f'bq://{BQ_PROJECT}.{BQ_DATASET}.{BQ_TABLE}', 'nclasses': nclasses, 'var_split': 'splits', 'var_target': VAR_TARGET})"
   ]
  },
  {
   "cell_type": "markdown",
   "id": "ce90cf60",
   "metadata": {},
   "source": [
    "### Selected Columns and Data Types\n",
    "\n",
    "Use the the table schema to prepare the TensorFlow model inputs:\n",
    "- Omit unused columns\n",
    "- Create list of `selected_fields` from the training source\n",
    "- Define the data types, `output_types`, using the schema data and remapping to desired precision if needed"
   ]
  },
  {
   "cell_type": "code",
   "execution_count": 18,
   "id": "da81bb93",
   "metadata": {},
   "outputs": [],
   "source": [
    "# Make a list of columns to omit\n",
    "OMIT = VAR_OMIT.split() + ['splits']\n",
    "\n",
    "# use schema to prepare a list of columns to read from BigQuery\n",
    "selected_fields = schema[~schema.column_name.isin(OMIT)].column_name.tolist()\n",
    "\n",
    "# all the columns in this data source are either float64 or int64\n",
    "output_types = [dtypes.float64 if x=='FLOAT64' else dtypes.int64 for x in schema[~schema.column_name.isin(OMIT)].data_type.tolist()]"
   ]
  },
  {
   "cell_type": "markdown",
   "id": "8169327f",
   "metadata": {},
   "source": [
    "---\n",
    "## Read From BigQuery Using TensorFlow I/O "
   ]
  },
  {
   "cell_type": "markdown",
   "id": "60ad3922-4ebe-4fc2-b08a-bc05019f3e57",
   "metadata": {},
   "source": [
    "### Divide the inputs into features and target"
   ]
  },
  {
   "cell_type": "markdown",
   "id": "fa7456f0",
   "metadata": {},
   "source": [
    "Define a function that remaps the input data for TensorFlow into:\n",
    "- features\n",
    "- `target` - one_hot encoded for multi-class classification and also works for binary classification"
   ]
  },
  {
   "cell_type": "code",
   "execution_count": 19,
   "id": "95911ae2",
   "metadata": {},
   "outputs": [],
   "source": [
    "def transTable(row_dict):\n",
    "    target = row_dict.pop(VAR_TARGET)\n",
    "    target = tf.one_hot(tf.cast(target,tf.int64), nclasses)\n",
    "    target = tf.cast(target, tf.float32)\n",
    "    return(row_dict, target)"
   ]
  },
  {
   "cell_type": "markdown",
   "id": "73388e33",
   "metadata": {},
   "source": [
    "### Setup Tensorflow I/O to Read Batches from BigQuery\n",
    "\n",
    "Setup TensorFlow_IO client > session > table + table.map\n",
    "- https://www.tensorflow.org/io/api_docs/python/tfio/bigquery/BigQueryClient"
   ]
  },
  {
   "cell_type": "code",
   "execution_count": 20,
   "id": "39dbdf21",
   "metadata": {},
   "outputs": [],
   "source": [
    "def bq_reader(split):\n",
    "    reader = BigQueryClient()\n",
    "\n",
    "    training = reader.read_session(\n",
    "        parent = f\"projects/{PROJECT_ID}\",\n",
    "        project_id = BQ_PROJECT,\n",
    "        table_id = BQ_TABLE,\n",
    "        dataset_id = BQ_DATASET,\n",
    "        selected_fields = selected_fields,\n",
    "        output_types = output_types,\n",
    "        row_restriction = f\"splits='{split}'\",\n",
    "        requested_streams = 3\n",
    "    )\n",
    "    \n",
    "    return training.parallel_read_rows(sloppy = True, num_parallel_calls = tf.data.experimental.AUTOTUNE)"
   ]
  },
  {
   "cell_type": "code",
   "execution_count": 21,
   "id": "dd76b3b8-6fce-4ac7-9a91-d2d2c9864f11",
   "metadata": {},
   "outputs": [],
   "source": [
    "#bq_reader('TRAIN')#[0]"
   ]
  },
  {
   "cell_type": "code",
   "execution_count": 22,
   "id": "02718964",
   "metadata": {},
   "outputs": [
    {
     "name": "stderr",
     "output_type": "stream",
     "text": [
      "2023-10-23 06:18:09.841988: W tensorflow_io/core/kernels/audio_video_mp3_kernels.cc:271] libmp3lame.so.0 or lame functions are not available\n",
      "2023-10-23 06:18:09.842308: I tensorflow_io/core/kernels/cpu_check.cc:128] Your CPU supports instructions that this TensorFlow IO binary was not compiled to use: AVX2 AVX512F FMA\n",
      "2023-10-23 06:18:09.984142: W tensorflow/stream_executor/platform/default/dso_loader.cc:64] Could not load dynamic library 'libcuda.so.1'; dlerror: libcuda.so.1: cannot open shared object file: No such file or directory\n",
      "2023-10-23 06:18:09.984187: W tensorflow/stream_executor/cuda/cuda_driver.cc:263] failed call to cuInit: UNKNOWN ERROR (303)\n",
      "2023-10-23 06:18:09.984219: I tensorflow/stream_executor/cuda/cuda_diagnostics.cc:156] kernel driver does not appear to be running on this host (vm-gcp-atin): /proc/driver/nvidia/version does not exist\n",
      "2023-10-23 06:18:09.984634: I tensorflow/core/platform/cpu_feature_guard.cc:193] This TensorFlow binary is optimized with oneAPI Deep Neural Network Library (oneDNN) to use the following CPU instructions in performance-critical operations:  AVX2 AVX512F FMA\n",
      "To enable them in other operations, rebuild TensorFlow with the appropriate compiler flags.\n"
     ]
    }
   ],
   "source": [
    "train = bq_reader('TRAIN').prefetch(1).map(transTable).shuffle(BATCH_SIZE*10).batch(BATCH_SIZE)\n",
    "validate = bq_reader('VALIDATE').prefetch(1).map(transTable).batch(BATCH_SIZE)\n",
    "test = bq_reader('TEST').prefetch(1).map(transTable).batch(BATCH_SIZE)"
   ]
  },
  {
   "cell_type": "code",
   "execution_count": 23,
   "id": "1d17a7a5-d83c-4ba3-ae36-0c9d2aacc685",
   "metadata": {},
   "outputs": [],
   "source": [
    "expRun.log_params({'training.batch_size': BATCH_SIZE, 'training.shuffle': 10*BATCH_SIZE, 'training.prefetch': 1})"
   ]
  },
  {
   "cell_type": "markdown",
   "id": "f359ac9a",
   "metadata": {},
   "source": [
    "---\n",
    "## Define the Model: In The Notebook (local runtime)"
   ]
  },
  {
   "cell_type": "code",
   "execution_count": 24,
   "id": "a3d3792d-c1ed-4a1b-9a39-f9d7ab1e00ac",
   "metadata": {},
   "outputs": [],
   "source": [
    "# Logistic Regression\n",
    "\n",
    "# model input definitions\n",
    "feature_columns = {header: tf.feature_column.numeric_column(header) for header in selected_fields if header != VAR_TARGET}\n",
    "feature_layer_inputs = {header: tf.keras.layers.Input(shape = (1,), name = header) for header in selected_fields if header != VAR_TARGET}\n",
    "\n",
    "# feature columns to a Dense Feature Layer\n",
    "feature_layer_outputs = tf.keras.layers.DenseFeatures(feature_columns.values(), name = 'feature_layer')(feature_layer_inputs)\n",
    "\n",
    "# batch normalization of inputs\n",
    "normalized = tf.keras.layers.BatchNormalization(name = 'batch_normalization_layer')(feature_layer_outputs)\n",
    "\n",
    "# logistic - using softmax activation to nclasses\n",
    "logistic = tf.keras.layers.Dense(nclasses, activation = tf.nn.softmax, name = 'logistic')(normalized)\n",
    "\n",
    "# the model\n",
    "model = tf.keras.Model(\n",
    "    inputs = feature_layer_inputs,\n",
    "    outputs = logistic,\n",
    "    name = EXPERIMENT\n",
    ")\n",
    "\n",
    "# compile\n",
    "model.compile(\n",
    "    optimizer = tf.keras.optimizers.SGD(), #SGD or Adam\n",
    "    loss = tf.keras.losses.CategoricalCrossentropy(),\n",
    "    metrics = ['accuracy', tf.keras.metrics.AUC(curve = 'PR', name = 'auprc')]\n",
    ")"
   ]
  },
  {
   "cell_type": "markdown",
   "id": "4063ec71-6bdb-4660-8c36-e9a1ac4c294e",
   "metadata": {},
   "source": [
    "---\n",
    "## Train The Model: In The Notebook (local runtime)"
   ]
  },
  {
   "cell_type": "markdown",
   "id": "5a1e7136",
   "metadata": {},
   "source": [
    "Fit the Model:"
   ]
  },
  {
   "cell_type": "code",
   "execution_count": 25,
   "id": "e68eeeb2",
   "metadata": {},
   "outputs": [
    {
     "name": "stdout",
     "output_type": "stream",
     "text": [
      "Epoch 1/4\n"
     ]
    },
    {
     "name": "stderr",
     "output_type": "stream",
     "text": [
      "2023-10-23 06:18:28.263730: E tensorflow/core/framework/dataset.cc:580] UNIMPLEMENTED: Cannot compute input sources for dataset of type IO>BigQueryDataset, because the dataset does not implement `InputDatasets`.\n",
      "2023-10-23 06:18:28.263782: E tensorflow/core/framework/dataset.cc:584] UNIMPLEMENTED: Cannot merge options for dataset of type IO>BigQueryDataset, because the dataset does not implement `InputDatasets`.\n"
     ]
    },
    {
     "name": "stdout",
     "output_type": "stream",
     "text": [
      "   2267/Unknown - 31s 12ms/step - loss: 0.0785 - accuracy: 0.9822 - auprc: 0.9947"
     ]
    },
    {
     "name": "stderr",
     "output_type": "stream",
     "text": [
      "2023-10-23 06:18:58.798539: E tensorflow/core/framework/dataset.cc:580] UNIMPLEMENTED: Cannot compute input sources for dataset of type IO>BigQueryDataset, because the dataset does not implement `InputDatasets`.\n",
      "2023-10-23 06:18:58.798592: E tensorflow/core/framework/dataset.cc:584] UNIMPLEMENTED: Cannot merge options for dataset of type IO>BigQueryDataset, because the dataset does not implement `InputDatasets`.\n"
     ]
    },
    {
     "name": "stdout",
     "output_type": "stream",
     "text": [
      "2276/2276 [==============================] - 37s 15ms/step - loss: 0.0783 - accuracy: 0.9823 - auprc: 0.9948 - val_loss: 0.0233 - val_accuracy: 0.9974 - val_auprc: 0.9975\n",
      "Epoch 2/4\n"
     ]
    },
    {
     "name": "stderr",
     "output_type": "stream",
     "text": [
      "2023-10-23 06:19:04.485155: E tensorflow/core/framework/dataset.cc:580] UNIMPLEMENTED: Cannot compute input sources for dataset of type IO>BigQueryDataset, because the dataset does not implement `InputDatasets`.\n",
      "2023-10-23 06:19:04.485207: E tensorflow/core/framework/dataset.cc:584] UNIMPLEMENTED: Cannot merge options for dataset of type IO>BigQueryDataset, because the dataset does not implement `InputDatasets`.\n"
     ]
    },
    {
     "name": "stdout",
     "output_type": "stream",
     "text": [
      "2275/2276 [============================>.] - ETA: 0s - loss: 0.0127 - accuracy: 0.9984 - auprc: 0.9993"
     ]
    },
    {
     "name": "stderr",
     "output_type": "stream",
     "text": [
      "2023-10-23 06:19:32.435528: E tensorflow/core/framework/dataset.cc:580] UNIMPLEMENTED: Cannot compute input sources for dataset of type IO>BigQueryDataset, because the dataset does not implement `InputDatasets`.\n",
      "2023-10-23 06:19:32.435578: E tensorflow/core/framework/dataset.cc:584] UNIMPLEMENTED: Cannot merge options for dataset of type IO>BigQueryDataset, because the dataset does not implement `InputDatasets`.\n"
     ]
    },
    {
     "name": "stdout",
     "output_type": "stream",
     "text": [
      "2276/2276 [==============================] - 33s 14ms/step - loss: 0.0127 - accuracy: 0.9984 - auprc: 0.9993 - val_loss: 0.0096 - val_accuracy: 0.9985 - val_auprc: 0.9995\n",
      "Epoch 3/4\n"
     ]
    },
    {
     "name": "stderr",
     "output_type": "stream",
     "text": [
      "2023-10-23 06:19:45.437148: E tensorflow/core/framework/dataset.cc:580] UNIMPLEMENTED: Cannot compute input sources for dataset of type IO>BigQueryDataset, because the dataset does not implement `InputDatasets`.\n",
      "2023-10-23 06:19:45.437200: E tensorflow/core/framework/dataset.cc:584] UNIMPLEMENTED: Cannot merge options for dataset of type IO>BigQueryDataset, because the dataset does not implement `InputDatasets`.\n"
     ]
    },
    {
     "name": "stdout",
     "output_type": "stream",
     "text": [
      "2266/2276 [============================>.] - ETA: 0s - loss: 0.0075 - accuracy: 0.9989 - auprc: 0.9996"
     ]
    },
    {
     "name": "stderr",
     "output_type": "stream",
     "text": [
      "2023-10-23 06:20:14.674152: E tensorflow/core/framework/dataset.cc:580] UNIMPLEMENTED: Cannot compute input sources for dataset of type IO>BigQueryDataset, because the dataset does not implement `InputDatasets`.\n",
      "2023-10-23 06:20:14.674204: E tensorflow/core/framework/dataset.cc:584] UNIMPLEMENTED: Cannot merge options for dataset of type IO>BigQueryDataset, because the dataset does not implement `InputDatasets`.\n"
     ]
    },
    {
     "name": "stdout",
     "output_type": "stream",
     "text": [
      "2276/2276 [==============================] - 35s 15ms/step - loss: 0.0075 - accuracy: 0.9989 - auprc: 0.9996 - val_loss: 0.0081 - val_accuracy: 0.9987 - val_auprc: 0.9994\n",
      "Epoch 4/4\n"
     ]
    },
    {
     "name": "stderr",
     "output_type": "stream",
     "text": [
      "2023-10-23 06:20:26.384973: E tensorflow/core/framework/dataset.cc:580] UNIMPLEMENTED: Cannot compute input sources for dataset of type IO>BigQueryDataset, because the dataset does not implement `InputDatasets`.\n",
      "2023-10-23 06:20:26.385034: E tensorflow/core/framework/dataset.cc:584] UNIMPLEMENTED: Cannot merge options for dataset of type IO>BigQueryDataset, because the dataset does not implement `InputDatasets`.\n"
     ]
    },
    {
     "name": "stdout",
     "output_type": "stream",
     "text": [
      "2269/2276 [============================>.] - ETA: 0s - loss: 0.0061 - accuracy: 0.9990 - auprc: 0.9996"
     ]
    },
    {
     "name": "stderr",
     "output_type": "stream",
     "text": [
      "2023-10-23 06:20:55.529455: E tensorflow/core/framework/dataset.cc:580] UNIMPLEMENTED: Cannot compute input sources for dataset of type IO>BigQueryDataset, because the dataset does not implement `InputDatasets`.\n",
      "2023-10-23 06:20:55.529510: E tensorflow/core/framework/dataset.cc:584] UNIMPLEMENTED: Cannot merge options for dataset of type IO>BigQueryDataset, because the dataset does not implement `InputDatasets`.\n"
     ]
    },
    {
     "name": "stdout",
     "output_type": "stream",
     "text": [
      "2276/2276 [==============================] - 34s 14ms/step - loss: 0.0061 - accuracy: 0.9990 - auprc: 0.9996 - val_loss: 0.0075 - val_accuracy: 0.9989 - val_auprc: 0.9993\n"
     ]
    }
   ],
   "source": [
    "# setup tensorboard logs and train\n",
    "tensorboard_callback = tf.keras.callbacks.TensorBoard(log_dir = os.path.join(DIR, \"logs\", f'{TIMESTAMP}'), histogram_freq=1)\n",
    "history = model.fit(train, epochs = EPOCHS, callbacks = [tensorboard_callback], validation_data = validate)"
   ]
  },
  {
   "cell_type": "code",
   "execution_count": 26,
   "id": "2e069d7f",
   "metadata": {},
   "outputs": [
    {
     "data": {
      "text/plain": [
       "0.0061206878162920475"
      ]
     },
     "execution_count": 26,
     "metadata": {},
     "output_type": "execute_result"
    }
   ],
   "source": [
    "history.history['loss'][-1]"
   ]
  },
  {
   "cell_type": "code",
   "execution_count": 27,
   "id": "5a33acf8-7d0c-4270-b4a3-55a944c9d680",
   "metadata": {},
   "outputs": [
    {
     "data": {
      "text/plain": [
       "{'verbose': 1, 'epochs': 4, 'steps': None}"
      ]
     },
     "execution_count": 27,
     "metadata": {},
     "output_type": "execute_result"
    }
   ],
   "source": [
    "expRun.log_params({'training.epochs': history.params['epochs']})\n",
    "history.params"
   ]
  },
  {
   "cell_type": "markdown",
   "id": "1f5aa14e-ab43-49dc-b8d3-cbfc162d7b8f",
   "metadata": {},
   "source": [
    "Log the time series metrics to the experiments TensorBoard:"
   ]
  },
  {
   "cell_type": "code",
   "execution_count": 28,
   "id": "6615073e-321a-4d9b-ad6b-a8e91fb48d73",
   "metadata": {},
   "outputs": [],
   "source": [
    "for e in range(0, history.params['epochs']):\n",
    "    expRun.log_time_series_metrics(\n",
    "        {\n",
    "            'train_loss': history.history['loss'][e],\n",
    "            'train_accuracy': history.history['accuracy'][e],\n",
    "            'train_auprc': history.history['auprc'][e],\n",
    "            'val_loss': history.history['val_loss'][e],\n",
    "            'val_accuracy': history.history['val_accuracy'][e],\n",
    "            'val_auprc': history.history['val_auprc'][e]\n",
    "        }, step = e\n",
    "    )"
   ]
  },
  {
   "cell_type": "markdown",
   "id": "291b5ded-680b-4537-b2ea-35712ce992b5",
   "metadata": {},
   "source": [
    "---\n",
    "## Evaluate The Model: In The Notebook (local runtime)"
   ]
  },
  {
   "cell_type": "markdown",
   "id": "42fc016d",
   "metadata": {},
   "source": [
    "Evaluate the model with the test data:"
   ]
  },
  {
   "cell_type": "code",
   "execution_count": 29,
   "id": "84fc5083",
   "metadata": {},
   "outputs": [
    {
     "name": "stderr",
     "output_type": "stream",
     "text": [
      "2023-10-23 06:21:24.400464: E tensorflow/core/framework/dataset.cc:580] UNIMPLEMENTED: Cannot compute input sources for dataset of type IO>BigQueryDataset, because the dataset does not implement `InputDatasets`.\n",
      "2023-10-23 06:21:24.400521: E tensorflow/core/framework/dataset.cc:584] UNIMPLEMENTED: Cannot merge options for dataset of type IO>BigQueryDataset, because the dataset does not implement `InputDatasets`.\n"
     ]
    },
    {
     "name": "stdout",
     "output_type": "stream",
     "text": [
      "286/286 [==============================] - 5s 8ms/step - loss: 0.0089 - accuracy: 0.9987 - auprc: 0.9992\n"
     ]
    }
   ],
   "source": [
    "loss, accuracy, auprc = model.evaluate(test)"
   ]
  },
  {
   "cell_type": "code",
   "execution_count": 30,
   "id": "4a655b7e-21e0-4a82-aac4-fa776d584485",
   "metadata": {},
   "outputs": [],
   "source": [
    "expRun.log_metrics({'test_loss': loss, 'test_accuracy': accuracy, 'test_auprc': auprc})"
   ]
  },
  {
   "cell_type": "code",
   "execution_count": 31,
   "id": "61787273",
   "metadata": {},
   "outputs": [
    {
     "name": "stderr",
     "output_type": "stream",
     "text": [
      "2023-10-23 06:21:30.430906: E tensorflow/core/framework/dataset.cc:580] UNIMPLEMENTED: Cannot compute input sources for dataset of type IO>BigQueryDataset, because the dataset does not implement `InputDatasets`.\n",
      "2023-10-23 06:21:30.430961: E tensorflow/core/framework/dataset.cc:584] UNIMPLEMENTED: Cannot merge options for dataset of type IO>BigQueryDataset, because the dataset does not implement `InputDatasets`.\n"
     ]
    },
    {
     "name": "stdout",
     "output_type": "stream",
     "text": [
      "287/287 [==============================] - 4s 9ms/step - loss: 0.0075 - accuracy: 0.9989 - auprc: 0.9993\n"
     ]
    }
   ],
   "source": [
    "loss, accuracy, auprc = model.evaluate(validate)"
   ]
  },
  {
   "cell_type": "code",
   "execution_count": 32,
   "id": "154f982b-8b2e-4aa0-af4d-62cc483cf168",
   "metadata": {},
   "outputs": [],
   "source": [
    "expRun.log_metrics({'val_loss': loss, 'val_accuracy': accuracy, 'val_auprc': auprc})"
   ]
  },
  {
   "cell_type": "code",
   "execution_count": 33,
   "id": "190d870d",
   "metadata": {},
   "outputs": [
    {
     "name": "stderr",
     "output_type": "stream",
     "text": [
      "2023-10-23 06:21:34.689831: E tensorflow/core/framework/dataset.cc:580] UNIMPLEMENTED: Cannot compute input sources for dataset of type IO>BigQueryDataset, because the dataset does not implement `InputDatasets`.\n",
      "2023-10-23 06:21:34.689883: E tensorflow/core/framework/dataset.cc:584] UNIMPLEMENTED: Cannot merge options for dataset of type IO>BigQueryDataset, because the dataset does not implement `InputDatasets`.\n"
     ]
    },
    {
     "name": "stdout",
     "output_type": "stream",
     "text": [
      "2276/2276 [==============================] - 29s 12ms/step - loss: 0.0072 - accuracy: 0.9990 - auprc: 0.9994\n"
     ]
    }
   ],
   "source": [
    "loss, accuracy, auprc = model.evaluate(train)"
   ]
  },
  {
   "cell_type": "code",
   "execution_count": 34,
   "id": "5bce3736-904b-481c-a9b9-3d1dde474ef2",
   "metadata": {},
   "outputs": [],
   "source": [
    "expRun.log_metrics({'train_loss': loss, 'train_accuracy': accuracy, 'train_auprc': auprc})"
   ]
  },
  {
   "cell_type": "markdown",
   "id": "c5ab0b29-608a-4cf4-bf1f-d9ab801d8834",
   "metadata": {},
   "source": [
    "---\n",
    "## Custom Evaluation\n",
    "\n",
    "Using the test data, calculate a series of metrics using [scikit-learn metrics](https://scikit-learn.org/stable/modules/model_evaluation.html).  Using TFIO to read the batches from BigQuery means the first step is getting the predictions and actual values into numpy arrays:"
   ]
  },
  {
   "cell_type": "code",
   "execution_count": 35,
   "id": "1180dd37-ac7c-4d0f-8095-81793aa53009",
   "metadata": {},
   "outputs": [
    {
     "name": "stderr",
     "output_type": "stream",
     "text": [
      "2023-10-23 06:22:04.890041: E tensorflow/core/framework/dataset.cc:580] UNIMPLEMENTED: Cannot compute input sources for dataset of type IO>BigQueryDataset, because the dataset does not implement `InputDatasets`.\n",
      "2023-10-23 06:22:04.890100: E tensorflow/core/framework/dataset.cc:584] UNIMPLEMENTED: Cannot merge options for dataset of type IO>BigQueryDataset, because the dataset does not implement `InputDatasets`.\n"
     ]
    },
    {
     "name": "stdout",
     "output_type": "stream",
     "text": [
      "286/286 [==============================] - 5s 8ms/step\n"
     ]
    },
    {
     "name": "stderr",
     "output_type": "stream",
     "text": [
      "2023-10-23 06:22:10.086580: E tensorflow/core/framework/dataset.cc:580] UNIMPLEMENTED: Cannot compute input sources for dataset of type IO>BigQueryDataset, because the dataset does not implement `InputDatasets`.\n",
      "2023-10-23 06:22:10.086634: E tensorflow/core/framework/dataset.cc:584] UNIMPLEMENTED: Cannot merge options for dataset of type IO>BigQueryDataset, because the dataset does not implement `InputDatasets`.\n"
     ]
    }
   ],
   "source": [
    "predictions = model.predict(test)\n",
    "\n",
    "actuals = np.empty(shape = [0, predictions.shape[1]])\n",
    "for features, target in test.take(-1): # -1 indicates all batches\n",
    "    actuals = np.append(actuals, target.numpy(), axis = 0)\n",
    "\n",
    "predictions_proba = np.max(predictions, axis = 1)\n",
    "predictions = np.argmax(predictions, axis = 1)\n",
    "actuals = np.argmax(actuals, axis = 1)"
   ]
  },
  {
   "cell_type": "code",
   "execution_count": 36,
   "id": "68e489b0-b916-4548-80a0-6715969acee8",
   "metadata": {},
   "outputs": [
    {
     "data": {
      "text/plain": [
       "array([0, 0, 0, 0, 0, 0, 0, 0, 0, 0, 0, 0, 0, 0, 0, 0, 0, 0, 0, 0])"
      ]
     },
     "execution_count": 36,
     "metadata": {},
     "output_type": "execute_result"
    }
   ],
   "source": [
    "actuals[-20:]"
   ]
  },
  {
   "cell_type": "code",
   "execution_count": 37,
   "id": "29cbc551-6b4e-4930-bc8c-4b1fa056f990",
   "metadata": {},
   "outputs": [
    {
     "data": {
      "text/plain": [
       "array([0, 0, 0, 0, 0, 0, 0, 0, 0, 0, 0, 0, 0, 0, 0, 0, 0, 0, 0, 0])"
      ]
     },
     "execution_count": 37,
     "metadata": {},
     "output_type": "execute_result"
    }
   ],
   "source": [
    "predictions[-20:]"
   ]
  },
  {
   "cell_type": "markdown",
   "id": "90393bcd-ce91-41fb-be30-4618f469be36",
   "metadata": {},
   "source": [
    "Calculate metrics:"
   ]
  },
  {
   "cell_type": "code",
   "execution_count": 38,
   "id": "9221ab09-d759-4d21-8620-a5d4486f24e8",
   "metadata": {},
   "outputs": [
    {
     "data": {
      "text/plain": [
       "0.046691939478934984"
      ]
     },
     "execution_count": 38,
     "metadata": {},
     "output_type": "execute_result"
    }
   ],
   "source": [
    "metrics.log_loss(actuals, predictions)"
   ]
  },
  {
   "cell_type": "code",
   "execution_count": 39,
   "id": "bea81c35-23b9-4ff1-8bb9-988381f99260",
   "metadata": {},
   "outputs": [
    {
     "data": {
      "text/plain": [
       "0.998704572508928"
      ]
     },
     "execution_count": 39,
     "metadata": {},
     "output_type": "execute_result"
    }
   ],
   "source": [
    "metrics.accuracy_score(actuals, predictions)"
   ]
  },
  {
   "cell_type": "code",
   "execution_count": 40,
   "id": "4dd05d09-5cc2-4671-b485-c1ea55aa11b1",
   "metadata": {},
   "outputs": [
    {
     "data": {
      "text/plain": [
       "0.42490484075445556"
      ]
     },
     "execution_count": 40,
     "metadata": {},
     "output_type": "execute_result"
    }
   ],
   "source": [
    "metrics.average_precision_score(actuals, predictions)"
   ]
  },
  {
   "cell_type": "markdown",
   "id": "77589af5-adeb-4ad0-a324-7d689936fa3c",
   "metadata": {},
   "source": [
    "---\n",
    "## Evaluate The Training With Tensorboard (On Vertex AI Experiments)\n",
    "\n",
    "Resource: https://cloud.google.com/vertex-ai/docs/experiments/tensorboard-overview"
   ]
  },
  {
   "cell_type": "code",
   "execution_count": 41,
   "id": "57584d53-bd3e-404a-a32e-4bda3dc75cef",
   "metadata": {},
   "outputs": [],
   "source": [
    "#!pip install google-cloud-aiplatform[tensorboard] -U -q"
   ]
  },
  {
   "cell_type": "code",
   "execution_count": 42,
   "id": "7fe61a04-d057-430c-8cab-22ede95e842f",
   "metadata": {},
   "outputs": [
    {
     "name": "stderr",
     "output_type": "stream",
     "text": [
      "Please consider uploading to a new experiment instead of an existing one, as the former allows for better upload performance.\n"
     ]
    },
    {
     "name": "stdout",
     "output_type": "stream",
     "text": [
      "View your Tensorboard at https://us-central1.tensorboard.googleusercontent.com/experiment/projects+117917517031+locations+us-central1+tensorboards+775749433861079040+experiments+experiment-05-05-tf-classification-dnn\n",
      "\u001b[1m[2023-10-23T06:22:22]\u001b[0m Started scanning logdir.\n",
      "\u001b[1m[2023-10-23T06:22:30]\u001b[0m Total uploaded: 36 scalars, 48 tensors (17.2 kB), 1 binary objects (102.2 kB)\n",
      "One time TensorBoard log upload completed...\u001b[0m\n"
     ]
    }
   ],
   "source": [
    "aiplatform.upload_tb_log(\n",
    "    tensorboard_id = tb.name,\n",
    "    tensorboard_experiment_name = EXPERIMENT_NAME,\n",
    "    logdir = f'{DIR}/logs',\n",
    "    experiment_display_name = EXPERIMENT_NAME,\n",
    "    run_name_prefix = RUN_NAME,\n",
    "    description = EXPERIMENT_NAME\n",
    ")"
   ]
  },
  {
   "cell_type": "markdown",
   "id": "2913711d",
   "metadata": {},
   "source": [
    "---\n",
    "## Save The Model"
   ]
  },
  {
   "cell_type": "markdown",
   "id": "cd961d36-64ba-43f3-a1e4-395a546846c6",
   "metadata": {},
   "source": [
    "Create Prediction from a batch of the test data and review first row:"
   ]
  },
  {
   "cell_type": "code",
   "execution_count": 43,
   "id": "039c4884",
   "metadata": {},
   "outputs": [
    {
     "name": "stderr",
     "output_type": "stream",
     "text": [
      "2023-10-23 06:22:38.859220: E tensorflow/core/framework/dataset.cc:580] UNIMPLEMENTED: Cannot compute input sources for dataset of type IO>BigQueryDataset, because the dataset does not implement `InputDatasets`.\n",
      "2023-10-23 06:22:38.859267: E tensorflow/core/framework/dataset.cc:584] UNIMPLEMENTED: Cannot merge options for dataset of type IO>BigQueryDataset, because the dataset does not implement `InputDatasets`.\n"
     ]
    },
    {
     "name": "stdout",
     "output_type": "stream",
     "text": [
      "1/1 [==============================] - 2s 2s/step\n"
     ]
    },
    {
     "data": {
      "text/plain": [
       "array([0.8589983 , 0.14100175], dtype=float32)"
      ]
     },
     "execution_count": 43,
     "metadata": {},
     "output_type": "execute_result"
    }
   ],
   "source": [
    "model.predict(test.take(1))[0]"
   ]
  },
  {
   "cell_type": "markdown",
   "id": "060db155",
   "metadata": {},
   "source": [
    "Save The Model"
   ]
  },
  {
   "cell_type": "code",
   "execution_count": 44,
   "id": "81f63da1",
   "metadata": {},
   "outputs": [
    {
     "name": "stderr",
     "output_type": "stream",
     "text": [
      "WARNING:absl:Function `_wrapped_model` contains input name(s) Amount, Time, V1, V10, V11, V12, V13, V14, V15, V16, V17, V18, V19, V2, V20, V21, V22, V23, V24, V25, V26, V27, V28, V3, V4, V5, V6, V7, V8, V9 with unsupported characters which will be renamed to amount, time, v1, v10, v11, v12, v13, v14, v15, v16, v17, v18, v19, v2, v20, v21, v22, v23, v24, v25, v26, v27, v28, v3, v4, v5, v6, v7, v8, v9 in the SavedModel.\n"
     ]
    },
    {
     "name": "stdout",
     "output_type": "stream",
     "text": [
      "INFO:tensorflow:Assets written to: gs://fifth-sprite-402605/05/05/models/20231023061728/model/assets\n"
     ]
    },
    {
     "name": "stderr",
     "output_type": "stream",
     "text": [
      "INFO:tensorflow:Assets written to: gs://fifth-sprite-402605/05/05/models/20231023061728/model/assets\n"
     ]
    }
   ],
   "source": [
    "model.save(f'{URI}/models/{TIMESTAMP}/model')"
   ]
  },
  {
   "cell_type": "code",
   "execution_count": 45,
   "id": "2c95f61d-8042-4f86-b85f-78fdd926f8c0",
   "metadata": {},
   "outputs": [],
   "source": [
    "expRun.log_params({'model.save': f'{URI}/models/{TIMESTAMP}/model'})"
   ]
  },
  {
   "cell_type": "markdown",
   "id": "892fd452-00a2-4b67-aeb7-f114353623c5",
   "metadata": {},
   "source": [
    "#### TensorFlow Model Load"
   ]
  },
  {
   "cell_type": "code",
   "execution_count": 46,
   "id": "dbc41986-51e0-4358-a8d5-9793dd8f1519",
   "metadata": {},
   "outputs": [],
   "source": [
    "tf_model = tf.saved_model.load(f'{URI}/models/{TIMESTAMP}/model')"
   ]
  },
  {
   "cell_type": "markdown",
   "id": "4dc74a2d-53a3-4bc5-9042-032b9a3d3076",
   "metadata": {},
   "source": [
    "---\n",
    "## Serving"
   ]
  },
  {
   "cell_type": "markdown",
   "id": "10036d46",
   "metadata": {},
   "source": [
    "### Vertex AI Model Registry - Add Model/Version\n",
    "\n",
    "Check to see if this model has been added to the Vertex AI Model Registry previously.  Add the current model as a a new model, or new version on an existing model."
   ]
  },
  {
   "cell_type": "code",
   "execution_count": 47,
   "id": "071c1f72",
   "metadata": {},
   "outputs": [
    {
     "name": "stdout",
     "output_type": "stream",
     "text": [
      "This is a new model, creating in model registry\n",
      "Creating Model\n"
     ]
    },
    {
     "name": "stderr",
     "output_type": "stream",
     "text": [
      "INFO:google.cloud.aiplatform.models:Creating Model\n"
     ]
    },
    {
     "name": "stdout",
     "output_type": "stream",
     "text": [
      "Create Model backing LRO: projects/117917517031/locations/us-central1/models/model_05_05/operations/2439794792838725632\n"
     ]
    },
    {
     "name": "stderr",
     "output_type": "stream",
     "text": [
      "INFO:google.cloud.aiplatform.models:Create Model backing LRO: projects/117917517031/locations/us-central1/models/model_05_05/operations/2439794792838725632\n"
     ]
    },
    {
     "name": "stdout",
     "output_type": "stream",
     "text": [
      "Model created. Resource name: projects/117917517031/locations/us-central1/models/model_05_05@1\n"
     ]
    },
    {
     "name": "stderr",
     "output_type": "stream",
     "text": [
      "INFO:google.cloud.aiplatform.models:Model created. Resource name: projects/117917517031/locations/us-central1/models/model_05_05@1\n"
     ]
    },
    {
     "name": "stdout",
     "output_type": "stream",
     "text": [
      "To use this Model in another session:\n"
     ]
    },
    {
     "name": "stderr",
     "output_type": "stream",
     "text": [
      "INFO:google.cloud.aiplatform.models:To use this Model in another session:\n"
     ]
    },
    {
     "name": "stdout",
     "output_type": "stream",
     "text": [
      "model = aiplatform.Model('projects/117917517031/locations/us-central1/models/model_05_05@1')\n"
     ]
    },
    {
     "name": "stderr",
     "output_type": "stream",
     "text": [
      "INFO:google.cloud.aiplatform.models:model = aiplatform.Model('projects/117917517031/locations/us-central1/models/model_05_05@1')\n"
     ]
    }
   ],
   "source": [
    "modelmatch = aiplatform.Model.list(filter = f'display_name={SERIES}_{EXPERIMENT} AND labels.series={SERIES} AND labels.experiment={EXPERIMENT}')\n",
    "\n",
    "upload_model = True\n",
    "if modelmatch:\n",
    "    print(\"Model Already in Registry:\")\n",
    "    if RUN_NAME in modelmatch[0].version_aliases:\n",
    "        print(\"This version already loaded, no action taken.\")\n",
    "        upload_model = False\n",
    "        model = aiplatform.Model(model_name = modelmatch[0].resource_name)\n",
    "    else:\n",
    "        print('Loading model as new default version.')\n",
    "        parent_model = modelmatch[0].resource_name\n",
    "\n",
    "else:\n",
    "    print('This is a new model, creating in model registry')\n",
    "    parent_model = ''\n",
    "\n",
    "if upload_model:\n",
    "    model = aiplatform.Model.upload(\n",
    "        display_name = f'{SERIES}_{EXPERIMENT}',\n",
    "        model_id = f'model_{SERIES}_{EXPERIMENT}',\n",
    "        parent_model =  parent_model,\n",
    "        serving_container_image_uri = DEPLOY_IMAGE,\n",
    "        artifact_uri = f\"{URI}/models/{TIMESTAMP}/model\",\n",
    "        is_default_version = True,\n",
    "        version_aliases = [RUN_NAME],\n",
    "        version_description = RUN_NAME,\n",
    "        labels = {'series' : f'{SERIES}', 'experiment' : f'{EXPERIMENT}', 'experiment_name' : f'{EXPERIMENT_NAME}', 'run_name' : f'{RUN_NAME}'}        \n",
    "    )"
   ]
  },
  {
   "cell_type": "markdown",
   "id": "3818d8eb-b15e-472f-90ff-b68cda9b4a2b",
   "metadata": {},
   "source": [
    ">**Note** on Version Aliases:\n",
    ">Expectation is a name starting with `a-z` that can include `[a-zA-Z0-9-]`\n",
    ">\n",
    ">**Retrieve a Model Resource**\n",
    ">[aiplatform.Model()](https://cloud.google.com/python/docs/reference/aiplatform/latest/google.cloud.aiplatform.Model)\n",
    ">```Python\n",
    "model = aiplatform.Model(model_name = f'model_{SERIES}_{EXPERIMENT}') # retrieves default version\n",
    "model = aiplatform.Model(model_name = f'model_{SERIES}_{EXPERIMENT}@time-{TIMESTAMP}') # retrieves specific version\n",
    "model = aiplatform.Model(model_name = f'model_{SERIES}_{EXPERIMENT}', version = f'time-{TIMESTAMP}') # retrieves specific version\n",
    "```"
   ]
  },
  {
   "cell_type": "code",
   "execution_count": 48,
   "id": "b8b81f87-8a02-4bea-a105-c72366488f1e",
   "metadata": {},
   "outputs": [
    {
     "name": "stdout",
     "output_type": "stream",
     "text": [
      "Review the model in the Vertex AI Model Registry:\n",
      "https://console.cloud.google.com/vertex-ai/locations/us-central1/models/model_05_05?project=fifth-sprite-402605\n"
     ]
    }
   ],
   "source": [
    "print(f'Review the model in the Vertex AI Model Registry:\\nhttps://console.cloud.google.com/vertex-ai/locations/{REGION}/models/{model.name}?project={PROJECT_ID}')"
   ]
  },
  {
   "cell_type": "markdown",
   "id": "8402f4f5-38e3-4815-b588-86f0d748f9ce",
   "metadata": {},
   "source": [
    "### Vertex AI Experiments - Update and Review"
   ]
  },
  {
   "cell_type": "code",
   "execution_count": 49,
   "id": "5245e40a-ada2-4bfe-bff7-c6b6f4d96a6f",
   "metadata": {},
   "outputs": [],
   "source": [
    "expRun.log_params({\n",
    "    'model.uri': model.uri,\n",
    "    'model.display_name': model.display_name,\n",
    "    'model.name': model.name,\n",
    "    'model.resource_name': model.resource_name,\n",
    "    'model.version_id': model.version_id,\n",
    "    'model.versioned_resource_name': model.versioned_resource_name\n",
    "})"
   ]
  },
  {
   "cell_type": "markdown",
   "id": "d5a78ce9-6860-4566-90fa-146f9df7f23e",
   "metadata": {},
   "source": [
    "Complete the experiment run:"
   ]
  },
  {
   "cell_type": "code",
   "execution_count": 50,
   "id": "f4134d53-cea2-42da-a4d6-b6c71e835b4d",
   "metadata": {},
   "outputs": [],
   "source": [
    "expRun.update_state(state = aiplatform.gapic.Execution.State.COMPLETE)"
   ]
  },
  {
   "cell_type": "markdown",
   "id": "a9674c8d-0784-489c-a82e-353247cec0db",
   "metadata": {},
   "source": [
    "Retrieve the experiment:"
   ]
  },
  {
   "cell_type": "code",
   "execution_count": 51,
   "id": "57b4e1d3-9836-4aac-9286-c0a07d4ccdf1",
   "metadata": {},
   "outputs": [],
   "source": [
    "exp = aiplatform.Experiment(experiment_name = EXPERIMENT_NAME)"
   ]
  },
  {
   "cell_type": "code",
   "execution_count": 52,
   "id": "f7e87042-6247-4177-8150-c2d07275415b",
   "metadata": {},
   "outputs": [
    {
     "data": {
      "text/plain": [
       "'projects/117917517031/locations/us-central1/tensorboards/775749433861079040'"
      ]
     },
     "execution_count": 52,
     "metadata": {},
     "output_type": "execute_result"
    }
   ],
   "source": [
    "exp.backing_tensorboard_resource_name"
   ]
  },
  {
   "cell_type": "code",
   "execution_count": 53,
   "id": "65d603e1-b034-4469-a245-de9ab1334d28",
   "metadata": {},
   "outputs": [
    {
     "data": {
      "text/html": [
       "<div>\n",
       "<style scoped>\n",
       "    .dataframe tbody tr th:only-of-type {\n",
       "        vertical-align: middle;\n",
       "    }\n",
       "\n",
       "    .dataframe tbody tr th {\n",
       "        vertical-align: top;\n",
       "    }\n",
       "\n",
       "    .dataframe thead th {\n",
       "        text-align: right;\n",
       "    }\n",
       "</style>\n",
       "<table border=\"1\" class=\"dataframe\">\n",
       "  <thead>\n",
       "    <tr style=\"text-align: right;\">\n",
       "      <th></th>\n",
       "      <th>experiment_name</th>\n",
       "      <th>run_name</th>\n",
       "      <th>run_type</th>\n",
       "      <th>state</th>\n",
       "      <th>param.model.resource_name</th>\n",
       "      <th>param.model.display_name</th>\n",
       "      <th>param.data_source</th>\n",
       "      <th>param.training.batch_size</th>\n",
       "      <th>param.experiment</th>\n",
       "      <th>param.var_target</th>\n",
       "      <th>...</th>\n",
       "      <th>metric.test_loss</th>\n",
       "      <th>metric.test_accuracy</th>\n",
       "      <th>metric.val_auprc</th>\n",
       "      <th>metric.val_loss</th>\n",
       "      <th>time_series_metric.train_loss</th>\n",
       "      <th>time_series_metric.train_accuracy</th>\n",
       "      <th>time_series_metric.train_auprc</th>\n",
       "      <th>time_series_metric.val_loss</th>\n",
       "      <th>time_series_metric.val_accuracy</th>\n",
       "      <th>time_series_metric.val_auprc</th>\n",
       "    </tr>\n",
       "  </thead>\n",
       "  <tbody>\n",
       "    <tr>\n",
       "      <th>0</th>\n",
       "      <td>experiment-05-05-tf-classification-dnn</td>\n",
       "      <td>run-20231023061728</td>\n",
       "      <td>system.ExperimentRun</td>\n",
       "      <td>COMPLETE</td>\n",
       "      <td>projects/117917517031/locations/us-central1/mo...</td>\n",
       "      <td>05_05</td>\n",
       "      <td>bq://fifth-sprite-402605.fraud.fraud_prepped</td>\n",
       "      <td>100.0</td>\n",
       "      <td>05</td>\n",
       "      <td>Class</td>\n",
       "      <td>...</td>\n",
       "      <td>0.008853</td>\n",
       "      <td>0.998705</td>\n",
       "      <td>0.999317</td>\n",
       "      <td>0.007548</td>\n",
       "      <td>0.006121</td>\n",
       "      <td>0.999025</td>\n",
       "      <td>0.999644</td>\n",
       "      <td>0.007548</td>\n",
       "      <td>0.998883</td>\n",
       "      <td>0.999317</td>\n",
       "    </tr>\n",
       "    <tr>\n",
       "      <th>1</th>\n",
       "      <td>experiment-05-05-tf-classification-dnn</td>\n",
       "      <td>run-20231023054724</td>\n",
       "      <td>system.ExperimentRun</td>\n",
       "      <td>COMPLETE</td>\n",
       "      <td>projects/117917517031/locations/us-central1/mo...</td>\n",
       "      <td>05_05</td>\n",
       "      <td>bq://fifth-sprite-402605.fraud.fraud_prepped</td>\n",
       "      <td>100.0</td>\n",
       "      <td>05</td>\n",
       "      <td>Class</td>\n",
       "      <td>...</td>\n",
       "      <td>0.008102</td>\n",
       "      <td>0.999090</td>\n",
       "      <td>0.999355</td>\n",
       "      <td>0.007813</td>\n",
       "      <td>0.005990</td>\n",
       "      <td>0.999090</td>\n",
       "      <td>0.999574</td>\n",
       "      <td>0.007813</td>\n",
       "      <td>0.999127</td>\n",
       "      <td>0.999355</td>\n",
       "    </tr>\n",
       "  </tbody>\n",
       "</table>\n",
       "<p>2 rows × 37 columns</p>\n",
       "</div>"
      ],
      "text/plain": [
       "                          experiment_name            run_name  \\\n",
       "0  experiment-05-05-tf-classification-dnn  run-20231023061728   \n",
       "1  experiment-05-05-tf-classification-dnn  run-20231023054724   \n",
       "\n",
       "               run_type     state  \\\n",
       "0  system.ExperimentRun  COMPLETE   \n",
       "1  system.ExperimentRun  COMPLETE   \n",
       "\n",
       "                           param.model.resource_name param.model.display_name  \\\n",
       "0  projects/117917517031/locations/us-central1/mo...                    05_05   \n",
       "1  projects/117917517031/locations/us-central1/mo...                    05_05   \n",
       "\n",
       "                              param.data_source  param.training.batch_size  \\\n",
       "0  bq://fifth-sprite-402605.fraud.fraud_prepped                      100.0   \n",
       "1  bq://fifth-sprite-402605.fraud.fraud_prepped                      100.0   \n",
       "\n",
       "  param.experiment param.var_target  ... metric.test_loss  \\\n",
       "0               05            Class  ...         0.008853   \n",
       "1               05            Class  ...         0.008102   \n",
       "\n",
       "  metric.test_accuracy  metric.val_auprc  metric.val_loss  \\\n",
       "0             0.998705          0.999317         0.007548   \n",
       "1             0.999090          0.999355         0.007813   \n",
       "\n",
       "   time_series_metric.train_loss time_series_metric.train_accuracy  \\\n",
       "0                       0.006121                          0.999025   \n",
       "1                       0.005990                          0.999090   \n",
       "\n",
       "   time_series_metric.train_auprc time_series_metric.val_loss  \\\n",
       "0                        0.999644                    0.007548   \n",
       "1                        0.999574                    0.007813   \n",
       "\n",
       "  time_series_metric.val_accuracy time_series_metric.val_auprc  \n",
       "0                        0.998883                     0.999317  \n",
       "1                        0.999127                     0.999355  \n",
       "\n",
       "[2 rows x 37 columns]"
      ]
     },
     "execution_count": 53,
     "metadata": {},
     "output_type": "execute_result"
    }
   ],
   "source": [
    "exp.get_data_frame()"
   ]
  },
  {
   "cell_type": "markdown",
   "id": "04072619-d95f-46ca-82e4-59302f1002f5",
   "metadata": {},
   "source": [
    "Review the Experiments TensorBoard to compare runs:"
   ]
  },
  {
   "cell_type": "code",
   "execution_count": 54,
   "id": "3ce18389-8484-4d5d-a30e-c4841eb52e8f",
   "metadata": {},
   "outputs": [
    {
     "name": "stdout",
     "output_type": "stream",
     "text": [
      "The Experiment TensorBoard Link:\n",
      "https://us-central1.tensorboard.googleusercontent.com/experiment/projects+117917517031+locations+us-central1+tensorboards+775749433861079040+experiments+experiment-05-05-tf-classification-dnn\n"
     ]
    }
   ],
   "source": [
    "print(f\"The Experiment TensorBoard Link:\\nhttps://{REGION}.tensorboard.googleusercontent.com/experiment/{tb.resource_name.replace('/', '+')}+experiments+{exp.name}\")"
   ]
  },
  {
   "cell_type": "code",
   "execution_count": 55,
   "id": "37b9fded-da22-4c24-8d8c-54fefb07e1db",
   "metadata": {},
   "outputs": [
    {
     "data": {
      "text/html": [
       "<div>\n",
       "<style scoped>\n",
       "    .dataframe tbody tr th:only-of-type {\n",
       "        vertical-align: middle;\n",
       "    }\n",
       "\n",
       "    .dataframe tbody tr th {\n",
       "        vertical-align: top;\n",
       "    }\n",
       "\n",
       "    .dataframe thead th {\n",
       "        text-align: right;\n",
       "    }\n",
       "</style>\n",
       "<table border=\"1\" class=\"dataframe\">\n",
       "  <thead>\n",
       "    <tr style=\"text-align: right;\">\n",
       "      <th></th>\n",
       "      <th>step</th>\n",
       "      <th>wall_time</th>\n",
       "      <th>train_loss</th>\n",
       "      <th>train_accuracy</th>\n",
       "      <th>train_auprc</th>\n",
       "      <th>val_loss</th>\n",
       "      <th>val_accuracy</th>\n",
       "      <th>val_auprc</th>\n",
       "    </tr>\n",
       "  </thead>\n",
       "  <tbody>\n",
       "    <tr>\n",
       "      <th>0</th>\n",
       "      <td>1</td>\n",
       "      <td>2023-10-23 06:21:15.933000+00:00</td>\n",
       "      <td>0.012667</td>\n",
       "      <td>0.998445</td>\n",
       "      <td>0.999255</td>\n",
       "      <td>0.009639</td>\n",
       "      <td>0.998534</td>\n",
       "      <td>0.999453</td>\n",
       "    </tr>\n",
       "    <tr>\n",
       "      <th>1</th>\n",
       "      <td>2</td>\n",
       "      <td>2023-10-23 06:21:16.180000+00:00</td>\n",
       "      <td>0.007466</td>\n",
       "      <td>0.998924</td>\n",
       "      <td>0.999635</td>\n",
       "      <td>0.008082</td>\n",
       "      <td>0.998743</td>\n",
       "      <td>0.999375</td>\n",
       "    </tr>\n",
       "    <tr>\n",
       "      <th>2</th>\n",
       "      <td>3</td>\n",
       "      <td>2023-10-23 06:21:16.742000+00:00</td>\n",
       "      <td>0.006121</td>\n",
       "      <td>0.999025</td>\n",
       "      <td>0.999644</td>\n",
       "      <td>0.007548</td>\n",
       "      <td>0.998883</td>\n",
       "      <td>0.999317</td>\n",
       "    </tr>\n",
       "  </tbody>\n",
       "</table>\n",
       "</div>"
      ],
      "text/plain": [
       "   step                        wall_time  train_loss  train_accuracy  \\\n",
       "0     1 2023-10-23 06:21:15.933000+00:00    0.012667        0.998445   \n",
       "1     2 2023-10-23 06:21:16.180000+00:00    0.007466        0.998924   \n",
       "2     3 2023-10-23 06:21:16.742000+00:00    0.006121        0.999025   \n",
       "\n",
       "   train_auprc  val_loss  val_accuracy  val_auprc  \n",
       "0     0.999255  0.009639      0.998534   0.999453  \n",
       "1     0.999635  0.008082      0.998743   0.999375  \n",
       "2     0.999644  0.007548      0.998883   0.999317  "
      ]
     },
     "execution_count": 55,
     "metadata": {},
     "output_type": "execute_result"
    }
   ],
   "source": [
    "expRun.get_time_series_data_frame()"
   ]
  },
  {
   "cell_type": "markdown",
   "id": "ae09564a-2c89-47af-a1ec-380b74993f95",
   "metadata": {},
   "source": [
    "### Review Experiment and Run in Console"
   ]
  },
  {
   "cell_type": "code",
   "execution_count": 56,
   "id": "05486974-79d0-4cb1-8947-3519868a3bd6",
   "metadata": {},
   "outputs": [
    {
     "name": "stdout",
     "output_type": "stream",
     "text": [
      "Review The Experiment in the Console:\n",
      "https://console.cloud.google.com/vertex-ai/locations/us-central1/experiments/experiment-05-05-tf-classification-dnn?project=fifth-sprite-402605\n"
     ]
    }
   ],
   "source": [
    "print(f'Review The Experiment in the Console:\\nhttps://console.cloud.google.com/vertex-ai/locations/{REGION}/experiments/{EXPERIMENT_NAME}?project={PROJECT_ID}')"
   ]
  },
  {
   "cell_type": "code",
   "execution_count": 57,
   "id": "05ca25b9-94bf-4e63-b13e-7fcd11bee9bb",
   "metadata": {},
   "outputs": [
    {
     "name": "stdout",
     "output_type": "stream",
     "text": [
      "Review The Experiment Run in the Console:\n",
      "https://console.cloud.google.com/vertex-ai/locations/us-central1/experiments/experiment-05-05-tf-classification-dnn/runs/experiment-05-05-tf-classification-dnn-run-20231023061728?project=fifth-sprite-402605\n"
     ]
    }
   ],
   "source": [
    "print(f'Review The Experiment Run in the Console:\\nhttps://console.cloud.google.com/vertex-ai/locations/{REGION}/experiments/{EXPERIMENT_NAME}/runs/{EXPERIMENT_NAME}-{RUN_NAME}?project={PROJECT_ID}')"
   ]
  },
  {
   "cell_type": "markdown",
   "id": "76065eab-725c-43eb-b5b0-8f434cb1e5b9",
   "metadata": {},
   "source": [
    "### Compare This Run Using Experiments"
   ]
  },
  {
   "cell_type": "markdown",
   "id": "ec8f20bd-badf-4744-a6ce-84d6e6d10af7",
   "metadata": {
    "tags": []
   },
   "source": [
    "Get a list of all experiments in this project:"
   ]
  },
  {
   "cell_type": "code",
   "execution_count": 58,
   "id": "eed0de63-2a29-4b65-8ebb-63ee52bd58cd",
   "metadata": {},
   "outputs": [],
   "source": [
    "experiments = aiplatform.Experiment.list()"
   ]
  },
  {
   "cell_type": "markdown",
   "id": "d77e6959-adef-4e68-8da5-b96a7cdb8e34",
   "metadata": {},
   "source": [
    "Remove experiments not in the SERIES:"
   ]
  },
  {
   "cell_type": "code",
   "execution_count": 59,
   "id": "7e03bc04-1327-4cff-8704-c47438c5910f",
   "metadata": {},
   "outputs": [],
   "source": [
    "experiments = [e for e in experiments if e.name.split('-')[0:2] == ['experiment', SERIES]]"
   ]
  },
  {
   "cell_type": "markdown",
   "id": "7d3fdb86-60bb-428c-90c8-dcf3a0839bde",
   "metadata": {},
   "source": [
    "Combine the runs from all experiments in SERIES into a single dataframe:"
   ]
  },
  {
   "cell_type": "code",
   "execution_count": 60,
   "id": "0b8c4d41-b572-4777-9169-2de273323c13",
   "metadata": {},
   "outputs": [
    {
     "name": "stdout",
     "output_type": "stream",
     "text": [
      "experiment-05-05-tf-classification-dnn\n"
     ]
    }
   ],
   "source": [
    "results = []\n",
    "for experiment in experiments:\n",
    "        results.append(experiment.get_data_frame())\n",
    "        print(experiment.name)\n",
    "results = pd.concat(results)"
   ]
  },
  {
   "cell_type": "markdown",
   "id": "ba01c508-7067-4a84-b978-c52fc543aa31",
   "metadata": {},
   "source": [
    "Create ranks for models within experiment and across the entire SERIES:"
   ]
  },
  {
   "cell_type": "code",
   "execution_count": 61,
   "id": "91588c7a-5c9e-42e9-885d-ff1d38f88a7b",
   "metadata": {},
   "outputs": [
    {
     "data": {
      "text/html": [
       "<div>\n",
       "<style scoped>\n",
       "    .dataframe tbody tr th:only-of-type {\n",
       "        vertical-align: middle;\n",
       "    }\n",
       "\n",
       "    .dataframe tbody tr th {\n",
       "        vertical-align: top;\n",
       "    }\n",
       "\n",
       "    .dataframe thead th {\n",
       "        text-align: right;\n",
       "    }\n",
       "</style>\n",
       "<table border=\"1\" class=\"dataframe\">\n",
       "  <thead>\n",
       "    <tr style=\"text-align: right;\">\n",
       "      <th></th>\n",
       "      <th>experiment_name</th>\n",
       "      <th>run_name</th>\n",
       "      <th>param.model.display_name</th>\n",
       "      <th>param.model.version_id</th>\n",
       "      <th>metric.test_auprc</th>\n",
       "      <th>series_rank</th>\n",
       "      <th>experiment_rank</th>\n",
       "    </tr>\n",
       "  </thead>\n",
       "  <tbody>\n",
       "    <tr>\n",
       "      <th>1</th>\n",
       "      <td>experiment-05-05-tf-classification-dnn</td>\n",
       "      <td>run-20231023054724</td>\n",
       "      <td>05_05</td>\n",
       "      <td>1</td>\n",
       "      <td>0.999256</td>\n",
       "      <td>1.0</td>\n",
       "      <td>1.0</td>\n",
       "    </tr>\n",
       "    <tr>\n",
       "      <th>0</th>\n",
       "      <td>experiment-05-05-tf-classification-dnn</td>\n",
       "      <td>run-20231023061728</td>\n",
       "      <td>05_05</td>\n",
       "      <td>1</td>\n",
       "      <td>0.999215</td>\n",
       "      <td>2.0</td>\n",
       "      <td>2.0</td>\n",
       "    </tr>\n",
       "  </tbody>\n",
       "</table>\n",
       "</div>"
      ],
      "text/plain": [
       "                          experiment_name            run_name  \\\n",
       "1  experiment-05-05-tf-classification-dnn  run-20231023054724   \n",
       "0  experiment-05-05-tf-classification-dnn  run-20231023061728   \n",
       "\n",
       "  param.model.display_name param.model.version_id  metric.test_auprc  \\\n",
       "1                    05_05                      1           0.999256   \n",
       "0                    05_05                      1           0.999215   \n",
       "\n",
       "   series_rank  experiment_rank  \n",
       "1          1.0              1.0  \n",
       "0          2.0              2.0  "
      ]
     },
     "execution_count": 61,
     "metadata": {},
     "output_type": "execute_result"
    }
   ],
   "source": [
    "def ranker(metric = 'metric.test_auprc'):\n",
    "    ranks = results[['experiment_name', 'run_name', 'param.model.display_name', 'param.model.version_id', metric]].copy().reset_index(drop = True)\n",
    "    ranks['series_rank'] = ranks[metric].rank(method = 'dense', ascending = False)\n",
    "    ranks['experiment_rank'] = ranks.groupby('experiment_name')[metric].rank(method = 'dense', ascending = False)\n",
    "    return ranks.sort_values(by = ['experiment_name', 'run_name'])\n",
    "    \n",
    "ranks = ranker('metric.test_auprc')\n",
    "ranks"
   ]
  },
  {
   "cell_type": "code",
   "execution_count": 62,
   "id": "55d49220-2aef-4238-a8c4-18a83282cfe3",
   "metadata": {},
   "outputs": [
    {
     "data": {
      "text/html": [
       "<div>\n",
       "<style scoped>\n",
       "    .dataframe tbody tr th:only-of-type {\n",
       "        vertical-align: middle;\n",
       "    }\n",
       "\n",
       "    .dataframe tbody tr th {\n",
       "        vertical-align: top;\n",
       "    }\n",
       "\n",
       "    .dataframe thead th {\n",
       "        text-align: right;\n",
       "    }\n",
       "</style>\n",
       "<table border=\"1\" class=\"dataframe\">\n",
       "  <thead>\n",
       "    <tr style=\"text-align: right;\">\n",
       "      <th></th>\n",
       "      <th>experiment_name</th>\n",
       "      <th>run_name</th>\n",
       "      <th>param.model.display_name</th>\n",
       "      <th>param.model.version_id</th>\n",
       "      <th>metric.test_auprc</th>\n",
       "      <th>series_rank</th>\n",
       "      <th>experiment_rank</th>\n",
       "    </tr>\n",
       "  </thead>\n",
       "  <tbody>\n",
       "    <tr>\n",
       "      <th>1</th>\n",
       "      <td>experiment-05-05-tf-classification-dnn</td>\n",
       "      <td>run-20231023054724</td>\n",
       "      <td>05_05</td>\n",
       "      <td>1</td>\n",
       "      <td>0.999256</td>\n",
       "      <td>1.0</td>\n",
       "      <td>1.0</td>\n",
       "    </tr>\n",
       "    <tr>\n",
       "      <th>0</th>\n",
       "      <td>experiment-05-05-tf-classification-dnn</td>\n",
       "      <td>run-20231023061728</td>\n",
       "      <td>05_05</td>\n",
       "      <td>1</td>\n",
       "      <td>0.999215</td>\n",
       "      <td>2.0</td>\n",
       "      <td>2.0</td>\n",
       "    </tr>\n",
       "  </tbody>\n",
       "</table>\n",
       "</div>"
      ],
      "text/plain": [
       "                          experiment_name            run_name  \\\n",
       "1  experiment-05-05-tf-classification-dnn  run-20231023054724   \n",
       "0  experiment-05-05-tf-classification-dnn  run-20231023061728   \n",
       "\n",
       "  param.model.display_name param.model.version_id  metric.test_auprc  \\\n",
       "1                    05_05                      1           0.999256   \n",
       "0                    05_05                      1           0.999215   \n",
       "\n",
       "   series_rank  experiment_rank  \n",
       "1          1.0              1.0  \n",
       "0          2.0              2.0  "
      ]
     },
     "execution_count": 62,
     "metadata": {},
     "output_type": "execute_result"
    }
   ],
   "source": [
    "current_rank = ranks.loc[(ranks['param.model.display_name'] == model.display_name) & (ranks['param.model.version_id'] == model.version_id)]\n",
    "current_rank"
   ]
  },
  {
   "cell_type": "code",
   "execution_count": 63,
   "id": "93f1cd57-54c3-46b6-978a-f8c402c8c0ab",
   "metadata": {},
   "outputs": [
    {
     "name": "stdout",
     "output_type": "stream",
     "text": [
      "The current model is ranked 1.0 within this experiment and 1.0 across this series.\n"
     ]
    }
   ],
   "source": [
    "print(f\"The current model is ranked {current_rank['experiment_rank'].iloc[0]} within this experiment and {current_rank['series_rank'].iloc[0]} across this series.\")"
   ]
  },
  {
   "cell_type": "markdown",
   "id": "dfd12b79",
   "metadata": {},
   "source": [
    "### Vertex AI Prediction - Create/Retrieve The Endpoint For This Series"
   ]
  },
  {
   "cell_type": "code",
   "execution_count": 64,
   "id": "2cc28d98-b525-4385-9b95-489bf574f967",
   "metadata": {},
   "outputs": [
    {
     "name": "stdout",
     "output_type": "stream",
     "text": [
      "Creating Endpoint\n"
     ]
    },
    {
     "name": "stderr",
     "output_type": "stream",
     "text": [
      "INFO:google.cloud.aiplatform.models:Creating Endpoint\n"
     ]
    },
    {
     "name": "stdout",
     "output_type": "stream",
     "text": [
      "Create Endpoint backing LRO: projects/117917517031/locations/us-central1/endpoints/4399262570964320256/operations/1184416396709199872\n"
     ]
    },
    {
     "name": "stderr",
     "output_type": "stream",
     "text": [
      "INFO:google.cloud.aiplatform.models:Create Endpoint backing LRO: projects/117917517031/locations/us-central1/endpoints/4399262570964320256/operations/1184416396709199872\n"
     ]
    },
    {
     "name": "stdout",
     "output_type": "stream",
     "text": [
      "Endpoint created. Resource name: projects/117917517031/locations/us-central1/endpoints/4399262570964320256\n"
     ]
    },
    {
     "name": "stderr",
     "output_type": "stream",
     "text": [
      "INFO:google.cloud.aiplatform.models:Endpoint created. Resource name: projects/117917517031/locations/us-central1/endpoints/4399262570964320256\n"
     ]
    },
    {
     "name": "stdout",
     "output_type": "stream",
     "text": [
      "To use this Endpoint in another session:\n"
     ]
    },
    {
     "name": "stderr",
     "output_type": "stream",
     "text": [
      "INFO:google.cloud.aiplatform.models:To use this Endpoint in another session:\n"
     ]
    },
    {
     "name": "stdout",
     "output_type": "stream",
     "text": [
      "endpoint = aiplatform.Endpoint('projects/117917517031/locations/us-central1/endpoints/4399262570964320256')\n"
     ]
    },
    {
     "name": "stderr",
     "output_type": "stream",
     "text": [
      "INFO:google.cloud.aiplatform.models:endpoint = aiplatform.Endpoint('projects/117917517031/locations/us-central1/endpoints/4399262570964320256')\n"
     ]
    },
    {
     "name": "stdout",
     "output_type": "stream",
     "text": [
      "Endpoint Created: projects/117917517031/locations/us-central1/endpoints/4399262570964320256\n",
      "Review the Endpoint in the Console:\n",
      "https://console.cloud.google.com/vertex-ai/locations/us-central1/endpoints/4399262570964320256?project=fifth-sprite-402605\n"
     ]
    }
   ],
   "source": [
    "endpoints = aiplatform.Endpoint.list(filter = f\"labels.series={SERIES}\")\n",
    "if endpoints:\n",
    "    endpoint = endpoints[0]\n",
    "    print(f\"Endpoint Exists: {endpoints[0].resource_name}\")\n",
    "else:\n",
    "    endpoint = aiplatform.Endpoint.create(\n",
    "        display_name = f\"{SERIES}\",\n",
    "        labels = {'series' : f\"{SERIES}\"}    \n",
    "    )\n",
    "    print(f\"Endpoint Created: {endpoint.resource_name}\")\n",
    "    \n",
    "print(f'Review the Endpoint in the Console:\\nhttps://console.cloud.google.com/vertex-ai/locations/{REGION}/endpoints/{endpoint.name}?project={PROJECT_ID}')"
   ]
  },
  {
   "cell_type": "code",
   "execution_count": 65,
   "id": "0a538bf0",
   "metadata": {},
   "outputs": [
    {
     "data": {
      "text/plain": [
       "'05'"
      ]
     },
     "execution_count": 65,
     "metadata": {},
     "output_type": "execute_result"
    }
   ],
   "source": [
    "endpoint.display_name"
   ]
  },
  {
   "cell_type": "code",
   "execution_count": 66,
   "id": "0a0029bd-9744-4449-91f0-56ef7ca5e535",
   "metadata": {},
   "outputs": [
    {
     "data": {
      "text/plain": [
       "{}"
      ]
     },
     "execution_count": 66,
     "metadata": {},
     "output_type": "execute_result"
    }
   ],
   "source": [
    "endpoint.traffic_split"
   ]
  },
  {
   "cell_type": "code",
   "execution_count": 67,
   "id": "85d06eba-82dc-4d50-8405-800d756e3584",
   "metadata": {},
   "outputs": [],
   "source": [
    "deployed_models = endpoint.list_models()\n",
    "#deployed_models"
   ]
  },
  {
   "cell_type": "markdown",
   "id": "85ed7977-395d-4751-a09c-0c4c09d055e3",
   "metadata": {},
   "source": [
    "#### Should This Model Be Deployed?\n",
    "Is it better than the model already deployed on the endpoint?"
   ]
  },
  {
   "cell_type": "code",
   "execution_count": 68,
   "id": "e5de9408-3148-4acc-b614-50cbcb4690ac",
   "metadata": {},
   "outputs": [
    {
     "name": "stdout",
     "output_type": "stream",
     "text": [
      "No models currently deployed.\n"
     ]
    }
   ],
   "source": [
    "deploy = False\n",
    "if deployed_models:\n",
    "    for deployed_model in deployed_models:\n",
    "        deployed_rank = ranks.loc[(ranks['param.model.display_name'] == deployed_model.display_name) & (ranks['param.model.version_id'] == deployed_model.model_version_id)]['series_rank'].iloc[0]\n",
    "        model_rank = current_rank['series_rank'].iloc[0]\n",
    "        if deployed_model.display_name == model.display_name and deployed_model.model_version_id == model.version_id:\n",
    "            print(f'The current model/version is already deployed.')\n",
    "            break\n",
    "        elif model_rank <= deployed_rank:\n",
    "            deploy = True\n",
    "            print(f'The current model is ranked better ({model_rank}) than a currently deployed model ({deployed_rank}).')\n",
    "            break\n",
    "    if deploy == False: print(f'The current model is ranked worse ({model_rank}) than a currently deployed model ({deployed_rank})')\n",
    "else: \n",
    "    deploy = True\n",
    "    print('No models currently deployed.')"
   ]
  },
  {
   "cell_type": "markdown",
   "id": "25e49dd0",
   "metadata": {},
   "source": [
    "#### Deploy Model To Endpoint"
   ]
  },
  {
   "cell_type": "code",
   "execution_count": 69,
   "id": "e739bc1c",
   "metadata": {},
   "outputs": [
    {
     "name": "stdout",
     "output_type": "stream",
     "text": [
      "Deploying model with 100% of traffic...\n",
      "Deploying Model projects/117917517031/locations/us-central1/models/model_05_05 to Endpoint : projects/117917517031/locations/us-central1/endpoints/4399262570964320256\n"
     ]
    },
    {
     "name": "stderr",
     "output_type": "stream",
     "text": [
      "INFO:google.cloud.aiplatform.models:Deploying Model projects/117917517031/locations/us-central1/models/model_05_05 to Endpoint : projects/117917517031/locations/us-central1/endpoints/4399262570964320256\n"
     ]
    },
    {
     "name": "stdout",
     "output_type": "stream",
     "text": [
      "Deploy Endpoint model backing LRO: projects/117917517031/locations/us-central1/endpoints/4399262570964320256/operations/2060366524232761344\n"
     ]
    },
    {
     "name": "stderr",
     "output_type": "stream",
     "text": [
      "INFO:google.cloud.aiplatform.models:Deploy Endpoint model backing LRO: projects/117917517031/locations/us-central1/endpoints/4399262570964320256/operations/2060366524232761344\n"
     ]
    },
    {
     "name": "stdout",
     "output_type": "stream",
     "text": [
      "Endpoint model deployed. Resource name: projects/117917517031/locations/us-central1/endpoints/4399262570964320256\n"
     ]
    },
    {
     "name": "stderr",
     "output_type": "stream",
     "text": [
      "INFO:google.cloud.aiplatform.models:Endpoint model deployed. Resource name: projects/117917517031/locations/us-central1/endpoints/4399262570964320256\n"
     ]
    }
   ],
   "source": [
    "if deploy:\n",
    "    print(f'Deploying model with 100% of traffic...')\n",
    "    endpoint.deploy(\n",
    "        model = model,\n",
    "        deployed_model_display_name = model.display_name,\n",
    "        traffic_percentage = 100,\n",
    "        machine_type = DEPLOY_COMPUTE,\n",
    "        min_replica_count = 1,\n",
    "        max_replica_count = 1\n",
    "    )\n",
    "else: print(f'Not deploying - current model is worse ({model_rank}) than the currently deployed model ({deployed_rank})')"
   ]
  },
  {
   "cell_type": "markdown",
   "id": "e758bde2-e521-4570-a5c7-44a1bda0eac0",
   "metadata": {},
   "source": [
    "#### Remove Deployed Models without Traffic"
   ]
  },
  {
   "cell_type": "code",
   "execution_count": 92,
   "id": "00aa9466-6d9a-41cf-9bfa-7e8997572583",
   "metadata": {},
   "outputs": [
    {
     "name": "stdout",
     "output_type": "stream",
     "text": [
      "Model 05_05 with version 1 has traffic = 100\n"
     ]
    }
   ],
   "source": [
    "for deployed_model in endpoint.list_models():\n",
    "    if deployed_model.id in endpoint.traffic_split:\n",
    "        print(f\"Model {deployed_model.display_name} with version {deployed_model.model_version_id} has traffic = {endpoint.traffic_split[deployed_model.id]}\")\n",
    "    else:\n",
    "        endpoint.undeploy(deployed_model_id = deployed_model.id)\n",
    "        print(f\"Undeploying {deployed_model.display_name} with version {deployed_model.model_version_id} because it has no traffic.\")"
   ]
  },
  {
   "cell_type": "code",
   "execution_count": 93,
   "id": "bacf24f6-c02e-409a-82b4-13c6e4a17dd1",
   "metadata": {},
   "outputs": [
    {
     "data": {
      "text/plain": [
       "{'1370846908255305728': 100}"
      ]
     },
     "execution_count": 93,
     "metadata": {},
     "output_type": "execute_result"
    }
   ],
   "source": [
    "endpoint.traffic_split"
   ]
  },
  {
   "cell_type": "code",
   "execution_count": 94,
   "id": "7e416491-c909-45d3-8c79-a74dcafaa4f9",
   "metadata": {},
   "outputs": [
    {
     "data": {
      "text/plain": [
       "[id: \"1370846908255305728\"\n",
       " model: \"projects/117917517031/locations/us-central1/models/model_05_05\"\n",
       " display_name: \"05_05\"\n",
       " create_time {\n",
       "   seconds: 1698042230\n",
       "   nanos: 877416000\n",
       " }\n",
       " dedicated_resources {\n",
       "   machine_spec {\n",
       "     machine_type: \"n1-standard-4\"\n",
       "   }\n",
       "   min_replica_count: 1\n",
       "   max_replica_count: 1\n",
       " }\n",
       " model_version_id: \"1\"]"
      ]
     },
     "execution_count": 94,
     "metadata": {},
     "output_type": "execute_result"
    }
   ],
   "source": [
    "endpoint.list_models()"
   ]
  },
  {
   "cell_type": "markdown",
   "id": "a58790ad",
   "metadata": {},
   "source": [
    "---\n",
    "## Online Prediction"
   ]
  },
  {
   "cell_type": "markdown",
   "id": "342a01eb",
   "metadata": {},
   "source": [
    "### Prepare a record for prediction: instance and parameters lists"
   ]
  },
  {
   "cell_type": "code",
   "execution_count": 96,
   "id": "68911df0-5bee-44fb-9bb8-5aa363ae1c9d",
   "metadata": {},
   "outputs": [],
   "source": [
    "n = 10\n",
    "pred = bq.query(\n",
    "    query = f\"\"\"\n",
    "        SELECT * EXCEPT({VAR_TARGET}, {VAR_OMIT}, splits)\n",
    "        FROM {BQ_PROJECT}.{BQ_DATASET}.{BQ_TABLE}\n",
    "        WHERE splits='TEST'\n",
    "        LIMIT {n}\n",
    "        \"\"\"\n",
    ").to_dataframe()"
   ]
  },
  {
   "cell_type": "code",
   "execution_count": 97,
   "id": "e2bae334-4223-4680-a2d0-d350f6a7ef1d",
   "metadata": {},
   "outputs": [
    {
     "data": {
      "text/html": [
       "<div>\n",
       "<style scoped>\n",
       "    .dataframe tbody tr th:only-of-type {\n",
       "        vertical-align: middle;\n",
       "    }\n",
       "\n",
       "    .dataframe tbody tr th {\n",
       "        vertical-align: top;\n",
       "    }\n",
       "\n",
       "    .dataframe thead th {\n",
       "        text-align: right;\n",
       "    }\n",
       "</style>\n",
       "<table border=\"1\" class=\"dataframe\">\n",
       "  <thead>\n",
       "    <tr style=\"text-align: right;\">\n",
       "      <th></th>\n",
       "      <th>Time</th>\n",
       "      <th>V1</th>\n",
       "      <th>V2</th>\n",
       "      <th>V3</th>\n",
       "      <th>V4</th>\n",
       "      <th>V5</th>\n",
       "      <th>V6</th>\n",
       "      <th>V7</th>\n",
       "      <th>V8</th>\n",
       "      <th>V9</th>\n",
       "      <th>...</th>\n",
       "      <th>V20</th>\n",
       "      <th>V21</th>\n",
       "      <th>V22</th>\n",
       "      <th>V23</th>\n",
       "      <th>V24</th>\n",
       "      <th>V25</th>\n",
       "      <th>V26</th>\n",
       "      <th>V27</th>\n",
       "      <th>V28</th>\n",
       "      <th>Amount</th>\n",
       "    </tr>\n",
       "  </thead>\n",
       "  <tbody>\n",
       "    <tr>\n",
       "      <th>0</th>\n",
       "      <td>129834</td>\n",
       "      <td>-0.340232</td>\n",
       "      <td>2.502893</td>\n",
       "      <td>-2.123336</td>\n",
       "      <td>3.274290</td>\n",
       "      <td>2.781238</td>\n",
       "      <td>0.749164</td>\n",
       "      <td>0.999459</td>\n",
       "      <td>0.734927</td>\n",
       "      <td>-2.169208</td>\n",
       "      <td>...</td>\n",
       "      <td>-0.342277</td>\n",
       "      <td>-0.087134</td>\n",
       "      <td>-0.228322</td>\n",
       "      <td>-0.067413</td>\n",
       "      <td>-0.762246</td>\n",
       "      <td>-0.170996</td>\n",
       "      <td>0.019157</td>\n",
       "      <td>-0.040670</td>\n",
       "      <td>0.023008</td>\n",
       "      <td>0.0</td>\n",
       "    </tr>\n",
       "    <tr>\n",
       "      <th>1</th>\n",
       "      <td>113671</td>\n",
       "      <td>1.891091</td>\n",
       "      <td>0.321226</td>\n",
       "      <td>-0.142903</td>\n",
       "      <td>4.058212</td>\n",
       "      <td>-0.048428</td>\n",
       "      <td>0.166566</td>\n",
       "      <td>-0.183301</td>\n",
       "      <td>0.022226</td>\n",
       "      <td>-0.223479</td>\n",
       "      <td>...</td>\n",
       "      <td>-0.338267</td>\n",
       "      <td>0.081503</td>\n",
       "      <td>0.523432</td>\n",
       "      <td>0.084218</td>\n",
       "      <td>0.049362</td>\n",
       "      <td>0.097920</td>\n",
       "      <td>0.132655</td>\n",
       "      <td>-0.003539</td>\n",
       "      <td>-0.047447</td>\n",
       "      <td>0.0</td>\n",
       "    </tr>\n",
       "    <tr>\n",
       "      <th>2</th>\n",
       "      <td>63411</td>\n",
       "      <td>-1.808226</td>\n",
       "      <td>1.390167</td>\n",
       "      <td>0.266081</td>\n",
       "      <td>0.518695</td>\n",
       "      <td>-0.209067</td>\n",
       "      <td>-0.165734</td>\n",
       "      <td>-0.218656</td>\n",
       "      <td>0.765490</td>\n",
       "      <td>-0.752461</td>\n",
       "      <td>...</td>\n",
       "      <td>-0.261474</td>\n",
       "      <td>0.200491</td>\n",
       "      <td>0.538654</td>\n",
       "      <td>-0.296581</td>\n",
       "      <td>0.110225</td>\n",
       "      <td>-0.321470</td>\n",
       "      <td>0.533114</td>\n",
       "      <td>-1.076942</td>\n",
       "      <td>-0.595472</td>\n",
       "      <td>0.0</td>\n",
       "    </tr>\n",
       "    <tr>\n",
       "      <th>3</th>\n",
       "      <td>86534</td>\n",
       "      <td>1.871650</td>\n",
       "      <td>0.320887</td>\n",
       "      <td>0.255972</td>\n",
       "      <td>3.874758</td>\n",
       "      <td>-0.244906</td>\n",
       "      <td>0.285861</td>\n",
       "      <td>-0.474298</td>\n",
       "      <td>0.093078</td>\n",
       "      <td>-0.349966</td>\n",
       "      <td>...</td>\n",
       "      <td>-0.277242</td>\n",
       "      <td>0.213433</td>\n",
       "      <td>0.780687</td>\n",
       "      <td>0.162582</td>\n",
       "      <td>-0.018727</td>\n",
       "      <td>-0.177694</td>\n",
       "      <td>0.075748</td>\n",
       "      <td>0.019777</td>\n",
       "      <td>-0.033742</td>\n",
       "      <td>0.0</td>\n",
       "    </tr>\n",
       "    <tr>\n",
       "      <th>4</th>\n",
       "      <td>154994</td>\n",
       "      <td>1.994830</td>\n",
       "      <td>-0.273504</td>\n",
       "      <td>-0.280883</td>\n",
       "      <td>0.471706</td>\n",
       "      <td>-0.637261</td>\n",
       "      <td>-0.590863</td>\n",
       "      <td>-0.501702</td>\n",
       "      <td>-0.131346</td>\n",
       "      <td>1.207835</td>\n",
       "      <td>...</td>\n",
       "      <td>-0.173661</td>\n",
       "      <td>0.293171</td>\n",
       "      <td>1.169490</td>\n",
       "      <td>0.073709</td>\n",
       "      <td>0.051972</td>\n",
       "      <td>-0.006184</td>\n",
       "      <td>-0.139264</td>\n",
       "      <td>0.049037</td>\n",
       "      <td>-0.038147</td>\n",
       "      <td>0.0</td>\n",
       "    </tr>\n",
       "    <tr>\n",
       "      <th>5</th>\n",
       "      <td>3341</td>\n",
       "      <td>-0.286741</td>\n",
       "      <td>1.176355</td>\n",
       "      <td>2.505873</td>\n",
       "      <td>2.804536</td>\n",
       "      <td>0.038571</td>\n",
       "      <td>1.078103</td>\n",
       "      <td>0.011575</td>\n",
       "      <td>0.202091</td>\n",
       "      <td>-0.962279</td>\n",
       "      <td>...</td>\n",
       "      <td>0.261036</td>\n",
       "      <td>-0.030999</td>\n",
       "      <td>0.194469</td>\n",
       "      <td>-0.277251</td>\n",
       "      <td>-0.399436</td>\n",
       "      <td>-0.137051</td>\n",
       "      <td>0.232843</td>\n",
       "      <td>0.182048</td>\n",
       "      <td>0.129298</td>\n",
       "      <td>0.0</td>\n",
       "    </tr>\n",
       "    <tr>\n",
       "      <th>6</th>\n",
       "      <td>129787</td>\n",
       "      <td>-0.147554</td>\n",
       "      <td>1.176886</td>\n",
       "      <td>1.811677</td>\n",
       "      <td>4.704735</td>\n",
       "      <td>0.183953</td>\n",
       "      <td>0.741640</td>\n",
       "      <td>0.192683</td>\n",
       "      <td>0.222589</td>\n",
       "      <td>-1.279147</td>\n",
       "      <td>...</td>\n",
       "      <td>0.053832</td>\n",
       "      <td>0.146252</td>\n",
       "      <td>0.655139</td>\n",
       "      <td>-0.307063</td>\n",
       "      <td>0.046346</td>\n",
       "      <td>-0.163411</td>\n",
       "      <td>0.595600</td>\n",
       "      <td>0.179576</td>\n",
       "      <td>0.152155</td>\n",
       "      <td>0.0</td>\n",
       "    </tr>\n",
       "    <tr>\n",
       "      <th>7</th>\n",
       "      <td>35377</td>\n",
       "      <td>1.126534</td>\n",
       "      <td>0.289679</td>\n",
       "      <td>1.537310</td>\n",
       "      <td>2.706547</td>\n",
       "      <td>-0.759368</td>\n",
       "      <td>0.161174</td>\n",
       "      <td>-0.529165</td>\n",
       "      <td>0.141162</td>\n",
       "      <td>0.046730</td>\n",
       "      <td>...</td>\n",
       "      <td>-0.136887</td>\n",
       "      <td>-0.081741</td>\n",
       "      <td>-0.059834</td>\n",
       "      <td>0.041017</td>\n",
       "      <td>0.398586</td>\n",
       "      <td>0.312066</td>\n",
       "      <td>-0.045035</td>\n",
       "      <td>0.045694</td>\n",
       "      <td>0.036645</td>\n",
       "      <td>0.0</td>\n",
       "    </tr>\n",
       "    <tr>\n",
       "      <th>8</th>\n",
       "      <td>129175</td>\n",
       "      <td>1.871806</td>\n",
       "      <td>0.310110</td>\n",
       "      <td>-0.245871</td>\n",
       "      <td>3.858575</td>\n",
       "      <td>0.229270</td>\n",
       "      <td>0.695356</td>\n",
       "      <td>-0.248002</td>\n",
       "      <td>0.152463</td>\n",
       "      <td>-0.561724</td>\n",
       "      <td>...</td>\n",
       "      <td>-0.273772</td>\n",
       "      <td>0.119279</td>\n",
       "      <td>0.630070</td>\n",
       "      <td>0.023154</td>\n",
       "      <td>-0.314662</td>\n",
       "      <td>0.134237</td>\n",
       "      <td>0.133328</td>\n",
       "      <td>-0.003424</td>\n",
       "      <td>-0.059522</td>\n",
       "      <td>0.0</td>\n",
       "    </tr>\n",
       "    <tr>\n",
       "      <th>9</th>\n",
       "      <td>110602</td>\n",
       "      <td>-0.069236</td>\n",
       "      <td>1.145350</td>\n",
       "      <td>2.830041</td>\n",
       "      <td>4.849645</td>\n",
       "      <td>-0.037741</td>\n",
       "      <td>1.174016</td>\n",
       "      <td>-0.098474</td>\n",
       "      <td>0.092617</td>\n",
       "      <td>0.416461</td>\n",
       "      <td>...</td>\n",
       "      <td>0.108998</td>\n",
       "      <td>-0.383778</td>\n",
       "      <td>-0.493459</td>\n",
       "      <td>-0.031690</td>\n",
       "      <td>-0.078265</td>\n",
       "      <td>-0.779379</td>\n",
       "      <td>0.089735</td>\n",
       "      <td>0.028273</td>\n",
       "      <td>-0.056205</td>\n",
       "      <td>0.0</td>\n",
       "    </tr>\n",
       "  </tbody>\n",
       "</table>\n",
       "<p>10 rows × 30 columns</p>\n",
       "</div>"
      ],
      "text/plain": [
       "     Time        V1        V2        V3        V4        V5        V6  \\\n",
       "0  129834 -0.340232  2.502893 -2.123336  3.274290  2.781238  0.749164   \n",
       "1  113671  1.891091  0.321226 -0.142903  4.058212 -0.048428  0.166566   \n",
       "2   63411 -1.808226  1.390167  0.266081  0.518695 -0.209067 -0.165734   \n",
       "3   86534  1.871650  0.320887  0.255972  3.874758 -0.244906  0.285861   \n",
       "4  154994  1.994830 -0.273504 -0.280883  0.471706 -0.637261 -0.590863   \n",
       "5    3341 -0.286741  1.176355  2.505873  2.804536  0.038571  1.078103   \n",
       "6  129787 -0.147554  1.176886  1.811677  4.704735  0.183953  0.741640   \n",
       "7   35377  1.126534  0.289679  1.537310  2.706547 -0.759368  0.161174   \n",
       "8  129175  1.871806  0.310110 -0.245871  3.858575  0.229270  0.695356   \n",
       "9  110602 -0.069236  1.145350  2.830041  4.849645 -0.037741  1.174016   \n",
       "\n",
       "         V7        V8        V9  ...       V20       V21       V22       V23  \\\n",
       "0  0.999459  0.734927 -2.169208  ... -0.342277 -0.087134 -0.228322 -0.067413   \n",
       "1 -0.183301  0.022226 -0.223479  ... -0.338267  0.081503  0.523432  0.084218   \n",
       "2 -0.218656  0.765490 -0.752461  ... -0.261474  0.200491  0.538654 -0.296581   \n",
       "3 -0.474298  0.093078 -0.349966  ... -0.277242  0.213433  0.780687  0.162582   \n",
       "4 -0.501702 -0.131346  1.207835  ... -0.173661  0.293171  1.169490  0.073709   \n",
       "5  0.011575  0.202091 -0.962279  ...  0.261036 -0.030999  0.194469 -0.277251   \n",
       "6  0.192683  0.222589 -1.279147  ...  0.053832  0.146252  0.655139 -0.307063   \n",
       "7 -0.529165  0.141162  0.046730  ... -0.136887 -0.081741 -0.059834  0.041017   \n",
       "8 -0.248002  0.152463 -0.561724  ... -0.273772  0.119279  0.630070  0.023154   \n",
       "9 -0.098474  0.092617  0.416461  ...  0.108998 -0.383778 -0.493459 -0.031690   \n",
       "\n",
       "        V24       V25       V26       V27       V28  Amount  \n",
       "0 -0.762246 -0.170996  0.019157 -0.040670  0.023008     0.0  \n",
       "1  0.049362  0.097920  0.132655 -0.003539 -0.047447     0.0  \n",
       "2  0.110225 -0.321470  0.533114 -1.076942 -0.595472     0.0  \n",
       "3 -0.018727 -0.177694  0.075748  0.019777 -0.033742     0.0  \n",
       "4  0.051972 -0.006184 -0.139264  0.049037 -0.038147     0.0  \n",
       "5 -0.399436 -0.137051  0.232843  0.182048  0.129298     0.0  \n",
       "6  0.046346 -0.163411  0.595600  0.179576  0.152155     0.0  \n",
       "7  0.398586  0.312066 -0.045035  0.045694  0.036645     0.0  \n",
       "8 -0.314662  0.134237  0.133328 -0.003424 -0.059522     0.0  \n",
       "9 -0.078265 -0.779379  0.089735  0.028273 -0.056205     0.0  \n",
       "\n",
       "[10 rows x 30 columns]"
      ]
     },
     "execution_count": 97,
     "metadata": {},
     "output_type": "execute_result"
    }
   ],
   "source": [
    "pred"
   ]
  },
  {
   "cell_type": "code",
   "execution_count": 100,
   "id": "5640e67a",
   "metadata": {},
   "outputs": [],
   "source": [
    "newobs = pred.to_dict(orient = 'records')"
   ]
  },
  {
   "cell_type": "code",
   "execution_count": 101,
   "id": "ce631c5e-b200-43c8-9577-b77f957bb63f",
   "metadata": {},
   "outputs": [
    {
     "data": {
      "text/plain": [
       "{'Time': 129834,\n",
       " 'V1': -0.340232044768614,\n",
       " 'V2': 2.50289309622058,\n",
       " 'V3': -2.12333626200597,\n",
       " 'V4': 3.2742903170319404,\n",
       " 'V5': 2.7812380029133497,\n",
       " 'V6': 0.749163902015366,\n",
       " 'V7': 0.999458966494039,\n",
       " 'V8': 0.7349268096797199,\n",
       " 'V9': -2.16920796632578,\n",
       " 'V10': -1.3960327481938501,\n",
       " 'V11': 0.30931402685906395,\n",
       " 'V12': -0.9895730577869419,\n",
       " 'V13': -0.423981971785906,\n",
       " 'V14': -3.90067839426633,\n",
       " 'V15': -0.536574827339307,\n",
       " 'V16': 1.0393406110485301,\n",
       " 'V17': 3.87122368852666,\n",
       " 'V18': -0.0464031154773409,\n",
       " 'V19': -3.28702948675253,\n",
       " 'V20': -0.34227725879396403,\n",
       " 'V21': -0.0871335919587312,\n",
       " 'V22': -0.228321803031733,\n",
       " 'V23': -0.0674131563149037,\n",
       " 'V24': -0.7622463272802878,\n",
       " 'V25': -0.17099567610229902,\n",
       " 'V26': 0.0191567844693617,\n",
       " 'V27': -0.0406701348285203,\n",
       " 'V28': 0.023008467461218998,\n",
       " 'Amount': 0.0}"
      ]
     },
     "execution_count": 101,
     "metadata": {},
     "output_type": "execute_result"
    }
   ],
   "source": [
    "newobs[0]"
   ]
  },
  {
   "cell_type": "markdown",
   "id": "81d5eff9",
   "metadata": {},
   "source": [
    "### Get Predictions: Python Client"
   ]
  },
  {
   "cell_type": "code",
   "execution_count": 109,
   "id": "06cb59fe",
   "metadata": {},
   "outputs": [
    {
     "data": {
      "text/plain": [
       "Prediction(predictions=[[0.858998299, 0.141001746], [0.996834815, 0.0031651922], [0.999823153, 0.000176848305], [0.992733479, 0.00726648793], [0.999197662, 0.000802317169], [0.998782575, 0.00121737667], [0.997467875, 0.00253215898], [0.998116136, 0.00188391213], [0.998504877, 0.00149511418], [0.998216808, 0.00178311253]], deployed_model_id='1370846908255305728', model_version_id='1', model_resource_name='projects/117917517031/locations/us-central1/models/model_05_05', explanations=None)"
      ]
     },
     "execution_count": 109,
     "metadata": {},
     "output_type": "execute_result"
    }
   ],
   "source": [
    "prediction = endpoint.predict(instances = newobs)\n",
    "prediction"
   ]
  },
  {
   "cell_type": "code",
   "execution_count": 110,
   "id": "3b22b4cb",
   "metadata": {},
   "outputs": [
    {
     "data": {
      "text/plain": [
       "[0.858998299, 0.141001746]"
      ]
     },
     "execution_count": 110,
     "metadata": {},
     "output_type": "execute_result"
    }
   ],
   "source": [
    "prediction.predictions[0]"
   ]
  },
  {
   "cell_type": "code",
   "execution_count": 111,
   "id": "b64e3283",
   "metadata": {},
   "outputs": [
    {
     "data": {
      "text/plain": [
       "0"
      ]
     },
     "execution_count": 111,
     "metadata": {},
     "output_type": "execute_result"
    }
   ],
   "source": [
    "np.argmax(prediction.predictions[0])"
   ]
  },
  {
   "cell_type": "markdown",
   "id": "8c2a8676",
   "metadata": {},
   "source": [
    "### Get Predictions: REST"
   ]
  },
  {
   "cell_type": "code",
   "execution_count": 112,
   "id": "5f97f30c",
   "metadata": {},
   "outputs": [],
   "source": [
    "with open(f'{DIR}/request.json','w') as file:\n",
    "    file.write(json.dumps({\"instances\": newobs[0:1]}))"
   ]
  },
  {
   "cell_type": "code",
   "execution_count": 113,
   "id": "362dd5c2",
   "metadata": {},
   "outputs": [
    {
     "name": "stdout",
     "output_type": "stream",
     "text": [
      "{\n",
      "  \"predictions\": [\n",
      "    [\n",
      "      0.858998299,\n",
      "      0.141001746\n",
      "    ]\n",
      "  ],\n",
      "  \"deployedModelId\": \"1370846908255305728\",\n",
      "  \"model\": \"projects/117917517031/locations/us-central1/models/model_05_05\",\n",
      "  \"modelDisplayName\": \"05_05\",\n",
      "  \"modelVersionId\": \"1\"\n",
      "}\n"
     ]
    }
   ],
   "source": [
    "!curl -X POST \\\n",
    "-H \"Authorization: Bearer \"$(gcloud auth application-default print-access-token) \\\n",
    "-H \"Content-Type: application/json; charset=utf-8\" \\\n",
    "-d @{DIR}/request.json \\\n",
    "https://{REGION}-aiplatform.googleapis.com/v1/{endpoint.resource_name}:predict"
   ]
  },
  {
   "cell_type": "markdown",
   "id": "74bd7c47",
   "metadata": {},
   "source": [
    "### Get Predictions: gcloud (CLI)"
   ]
  },
  {
   "cell_type": "code",
   "execution_count": 116,
   "id": "d1e56e39",
   "metadata": {},
   "outputs": [
    {
     "name": "stdout",
     "output_type": "stream",
     "text": [
      "Using endpoint [https://us-central1-prediction-aiplatform.googleapis.com/]\n",
      "[[0.858998299, 0.141001746]]\n"
     ]
    }
   ],
   "source": [
    "!gcloud beta ai endpoints predict {endpoint.name.rsplit('/',1)[-1]} --region={REGION} --json-request={DIR}/request.json"
   ]
  },
  {
   "cell_type": "code",
   "execution_count": null,
   "id": "fe4e2abb-74df-4cd6-9a0c-d05dded1ec6a",
   "metadata": {},
   "outputs": [],
   "source": []
  },
  {
   "cell_type": "code",
   "execution_count": null,
   "id": "3a97a977-19fc-48de-a3ab-11033769e723",
   "metadata": {},
   "outputs": [],
   "source": []
  },
  {
   "cell_type": "code",
   "execution_count": null,
   "id": "dc30f471-eb06-42a0-8c19-76e8cb50b429",
   "metadata": {},
   "outputs": [],
   "source": []
  },
  {
   "cell_type": "markdown",
   "id": "4a485ae6",
   "metadata": {},
   "source": [
    "---\n",
    "## Remove Resources"
   ]
  },
  {
   "cell_type": "code",
   "execution_count": 85,
   "id": "3e647604-c381-4ecd-bba1-ebea7ce39eff",
   "metadata": {},
   "outputs": [],
   "source": [
    "# remove endpoints"
   ]
  },
  {
   "cell_type": "code",
   "execution_count": 86,
   "id": "a94cdf95-2547-4f34-9d53-3e51d61954c1",
   "metadata": {},
   "outputs": [],
   "source": [
    "# remove models"
   ]
  },
  {
   "cell_type": "code",
   "execution_count": 87,
   "id": "0bc87178-04bd-4f7b-aef7-29fb213107d1",
   "metadata": {},
   "outputs": [],
   "source": [
    "# remove experiments"
   ]
  },
  {
   "cell_type": "code",
   "execution_count": 88,
   "id": "77713dcc-d45d-4616-8611-75907ec4753c",
   "metadata": {},
   "outputs": [],
   "source": [
    "# remove training job"
   ]
  },
  {
   "cell_type": "code",
   "execution_count": 89,
   "id": "5e64d513-77fa-4676-9eee-d8787ebc9f56",
   "metadata": {},
   "outputs": [],
   "source": [
    "# remove pipeline runs"
   ]
  },
  {
   "cell_type": "code",
   "execution_count": 90,
   "id": "9b8f6079-523d-470b-8a99-67c26955aab3",
   "metadata": {},
   "outputs": [],
   "source": [
    "# remove GCS files"
   ]
  }
 ],
 "metadata": {
  "environment": {
   "kernel": "python3",
   "name": "tf2-gpu.2-12.m110",
   "type": "gcloud",
   "uri": "gcr.io/deeplearning-platform-release/tf2-gpu.2-12:m110"
  },
  "kernelspec": {
   "display_name": "Python 3 (ipykernel)",
   "language": "python",
   "name": "python3"
  },
  "language_info": {
   "codemirror_mode": {
    "name": "ipython",
    "version": 3
   },
   "file_extension": ".py",
   "mimetype": "text/x-python",
   "name": "python",
   "nbconvert_exporter": "python",
   "pygments_lexer": "ipython3",
   "version": "3.10.12"
  }
 },
 "nbformat": 4,
 "nbformat_minor": 5
}
