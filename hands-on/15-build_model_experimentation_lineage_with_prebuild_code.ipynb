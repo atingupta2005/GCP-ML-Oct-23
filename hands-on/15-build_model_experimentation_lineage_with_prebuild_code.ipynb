{
 "cells": [
  {
   "cell_type": "markdown",
   "metadata": {
    "id": "tvgnzT1CKxrO"
   },
   "source": [
    "# Building a Model Experimentation Lineage with Pre-Built Code\n",
    "\n",
    "## Learning objectives\n",
    "\n",
    "1. Create a Cloud Storage bucket.\n",
    "2. Model experimentation with pre-built data pre-processing code.\n",
    "3. Visualize Experiment Lineage.\n",
    "\n",
    "\n",
    "## Introduction \n",
    "\n",
    "In this notebook, you learn how to integrate preprocessing code in a Vertex AI experiments. Also you will build the experiment lineage lets you record, analyze, debug, and audit metadata and artifacts produced along your ML journey.\n",
    "\n",
    "### Dataset\n",
    "\n",
    "This dataset is the UCI News Aggregator Data Set which contains 422,937 news collected between March 10th, 2014 and August 10th, 2014. Below are example records from the dataset:\n",
    "\n",
    "\n",
    "|ID |TITLE                                                                |URL                                                                                                                        |PUBLISHER        |CATEGORY|STORY                        |HOSTNAME           |TIMESTAMP    |\n",
    "|---|---------------------------------------------------------------------|---------------------------------------------------------------------------------------------------------------------------|-----------------|--------|-----------------------------|-------------------|-------------|\n",
    "|1  |Fed official says weak data caused by weather, should not slow taper |http://www.latimes.com/business/money/la-fi-mo-federal-reserve-plosser-stimulus-economy-20140310,0,1312750.story\\?track=rss|Los Angeles Times|b       |ddUyU0VZz0BRneMioxUPQVP6sIxvM|www.latimes.com    |1394470370698|\n",
    "|2  |Fed's Charles Plosser sees high bar for change in pace of tapering   |http://www.livemint.com/Politics/H2EvwJSK2VE6OF7iK1g3PP/Feds-Charles-Plosser-sees-high-bar-for-change-in-pace-of-ta.html   |Livemint         |b       |ddUyU0VZz0BRneMioxUPQVP6sIxvM|www.livemint.com   |1394470371207|\n",
    "|3  |US open: Stocks fall after Fed official hints at accelerated tapering|http://www.ifamagazine.com/news/us-open-stocks-fall-after-fed-official-hints-at-accelerated-tapering-294436                |IFA Magazine     |b       |ddUyU0VZz0BRneMioxUPQVP6sIxvM|www.ifamagazine.com|1394470371550|\n",
    "|4  |Fed risks falling 'behind the curve', Charles Plosser says           |http://www.ifamagazine.com/news/fed-risks-falling-behind-the-curve-charles-plosser-says-294430                             |IFA Magazine     |b       |ddUyU0VZz0BRneMioxUPQVP6sIxvM|www.ifamagazine.com|1394470371793|\n",
    "|5  |Fed's Plosser: Nasty Weather Has Curbed Job Growth                   |http://www.moneynews.com/Economy/federal-reserve-charles-plosser-weather-job-growth/2014/03/10/id/557011                   |Moneynews        |b       |ddUyU0VZz0BRneMioxUPQVP6sIxvM|www.moneynews.com  |1394470372027|\n",
    "\n",
    "\n",
    "\n",
    "\n",
    "\n",
    "Learn about [Vertex AI\n",
    "pricing](https://cloud.google.com/vertex-ai/pricing) and [Cloud Storage\n",
    "pricing](https://cloud.google.com/storage/pricing), and use the [Pricing\n",
    "Calculator](https://cloud.google.com/products/calculator/)\n",
    "to generate a cost estimate based on your projected usage.\n"
   ]
  },
  {
   "cell_type": "markdown",
   "metadata": {
    "id": "i7EUnXsZhAGF"
   },
   "source": [
    "### Install additional packages\n",
    "\n",
    "Install additional package dependencies not installed in your notebook environment, such as TensorFlow or Vertex AI SDK. Use the latest major GA version of each package."
   ]
  },
  {
   "cell_type": "code",
   "execution_count": 1,
   "metadata": {
    "id": "2b4ef9b72d43"
   },
   "outputs": [],
   "source": [
    "import os\n",
    "\n",
    "! pip3 install joblib fsspec gcsfs scikit-learn -q"
   ]
  },
  {
   "cell_type": "markdown",
   "metadata": {
    "id": "lWEdiXsJg0XY"
   },
   "source": [
    "## Before you begin"
   ]
  },
  {
   "cell_type": "code",
   "execution_count": 2,
   "metadata": {},
   "outputs": [
    {
     "data": {
      "text/plain": [
       "'fifth-sprite-402605'"
      ]
     },
     "execution_count": 2,
     "metadata": {},
     "output_type": "execute_result"
    }
   ],
   "source": [
    "project = !gcloud config get-value project\n",
    "PROJECT_ID = project[0]\n",
    "PROJECT_ID"
   ]
  },
  {
   "cell_type": "code",
   "execution_count": 3,
   "metadata": {},
   "outputs": [],
   "source": [
    "from datetime import datetime\n",
    "\n",
    "TIMESTAMP = datetime.now().strftime(\"%Y%m%d%H%M%S\")"
   ]
  },
  {
   "cell_type": "code",
   "execution_count": 4,
   "metadata": {
    "id": "wJyyYlKGYqaa"
   },
   "outputs": [
    {
     "name": "stdout",
     "output_type": "stream",
     "text": [
      "Updated property [core/project].\n"
     ]
    }
   ],
   "source": [
    "!gcloud config set project $PROJECT_ID"
   ]
  },
  {
   "cell_type": "code",
   "execution_count": 5,
   "metadata": {
    "id": "5c615e53149f"
   },
   "outputs": [],
   "source": [
    "REGION = \"us-central1\""
   ]
  },
  {
   "cell_type": "markdown",
   "metadata": {
    "id": "zgPO1eR3CYjk"
   },
   "source": [
    "### Create a Cloud Storage bucket\n",
    "\n",
    "**The following steps are required, regardless of your notebook environment.**\n",
    "\n",
    "When you initialize the Vertex SDK for Python, you specify a Cloud Storage staging bucket. The staging bucket is where all the data associated with your dataset and model resources are retained across sessions.\n",
    "\n",
    "Set the name of your Cloud Storage bucket below. Bucket names must be globally unique across all Google Cloud projects, including those outside of your organization."
   ]
  },
  {
   "cell_type": "code",
   "execution_count": 6,
   "metadata": {
    "id": "MzGDU7TWdts_"
   },
   "outputs": [],
   "source": [
    "BUCKET_NAME = PROJECT_ID+TIMESTAMP\n",
    "BUCKET_URI = f\"gs://{BUCKET_NAME}\""
   ]
  },
  {
   "cell_type": "code",
   "execution_count": 7,
   "metadata": {
    "id": "NIq7R4HZCfIc"
   },
   "outputs": [
    {
     "name": "stdout",
     "output_type": "stream",
     "text": [
      "Creating gs://fifth-sprite-40260520231026060415/...\n"
     ]
    }
   ],
   "source": [
    "! gsutil mb -l $REGION -p $PROJECT_ID $BUCKET_URI"
   ]
  },
  {
   "cell_type": "markdown",
   "metadata": {
    "id": "ucvCsknMCims"
   },
   "source": [
    "Finally, validate access to your Cloud Storage bucket by examining its contents:"
   ]
  },
  {
   "cell_type": "code",
   "execution_count": 8,
   "metadata": {
    "id": "vhOb7YnwClBb"
   },
   "outputs": [],
   "source": [
    "! gsutil ls -al $BUCKET_URI"
   ]
  },
  {
   "cell_type": "markdown",
   "metadata": {
    "id": "0ljjTziu90rZ"
   },
   "source": [
    "### Set project folder"
   ]
  },
  {
   "cell_type": "code",
   "execution_count": 9,
   "metadata": {
    "id": "AARD6Fsr-DSi"
   },
   "outputs": [],
   "source": [
    "DATA_PATH = \"data\""
   ]
  },
  {
   "cell_type": "code",
   "execution_count": 10,
   "metadata": {
    "id": "oigzvA4m937q"
   },
   "outputs": [],
   "source": [
    "!mkdir -m 777 -p {DATA_PATH}"
   ]
  },
  {
   "cell_type": "markdown",
   "metadata": {
    "id": "UTjfRk2I9CGO"
   },
   "source": [
    "### Get the data"
   ]
  },
  {
   "cell_type": "code",
   "execution_count": 11,
   "metadata": {
    "id": "3V6W2nIo9FtL"
   },
   "outputs": [],
   "source": [
    "DATASET_URL = \"https://archive.ics.uci.edu/ml/machine-learning-databases/00359/NewsAggregatorDataset.zip\""
   ]
  },
  {
   "cell_type": "code",
   "execution_count": 12,
   "metadata": {
    "id": "L4tPQ0lG9HoG"
   },
   "outputs": [
    {
     "name": "stdout",
     "output_type": "stream",
     "text": [
      "--2023-10-26 06:04:21--  https://archive.ics.uci.edu/ml/machine-learning-databases/00359/NewsAggregatorDataset.zip\n",
      "Resolving archive.ics.uci.edu (archive.ics.uci.edu)... 128.195.10.252\n",
      "Connecting to archive.ics.uci.edu (archive.ics.uci.edu)|128.195.10.252|:443... connected.\n",
      "HTTP request sent, awaiting response... 200 OK\n",
      "Length: unspecified\n",
      "Saving to: ‘data/NewsAggregatorDataset.zip’\n",
      "\n",
      "NewsAggregatorDatas     [         <=>        ]  27.87M  14.7MB/s    in 1.9s    \n",
      "\n",
      "2023-10-26 06:04:24 (14.7 MB/s) - ‘data/NewsAggregatorDataset.zip’ saved [29224203]\n",
      "\n",
      "Archive:  data/NewsAggregatorDataset.zip\n",
      "  inflating: data/temp/2pageSessions.csv  \n",
      "   creating: data/temp/__MACOSX/\n",
      "  inflating: data/temp/__MACOSX/._2pageSessions.csv  \n",
      "  inflating: data/temp/newsCorpora.csv  \n",
      "  inflating: data/temp/__MACOSX/._newsCorpora.csv  \n",
      "  inflating: data/temp/readme.txt    \n",
      "  inflating: data/temp/__MACOSX/._readme.txt  \n"
     ]
    }
   ],
   "source": [
    "!wget --no-parent {DATASET_URL} --directory-prefix={DATA_PATH}\n",
    "!mkdir -m 777 -p {DATA_PATH}/temp {DATA_PATH}/raw\n",
    "!unzip {DATA_PATH}/*.zip -d {DATA_PATH}/temp\n",
    "!mv {DATA_PATH}/temp/*.csv {DATA_PATH}/raw && rm -Rf {DATA_PATH}/temp && rm -f {DATA_PATH}/*.zip"
   ]
  },
  {
   "cell_type": "code",
   "execution_count": 13,
   "metadata": {
    "id": "N-chqqLJAOpM"
   },
   "outputs": [
    {
     "name": "stdout",
     "output_type": "stream",
     "text": [
      "Copying file://data/raw/newsCorpora.csv [Content-Type=text/csv]...\n",
      "Copying file://data/raw/2pageSessions.csv [Content-Type=text/csv]...\n",
      "- [2/2 files][100.5 MiB/100.5 MiB] 100% Done                                    \n",
      "Operation completed over 2 objects/100.5 MiB.                                    \n"
     ]
    }
   ],
   "source": [
    "!gsutil -m cp -R {DATA_PATH}/raw $BUCKET_URI/{DATA_PATH}/raw"
   ]
  },
  {
   "cell_type": "markdown",
   "metadata": {
    "id": "XoEqT2Y4DJmf"
   },
   "source": [
    "### Import libraries"
   ]
  },
  {
   "cell_type": "code",
   "execution_count": 14,
   "metadata": {
    "id": "pRUOFELefqf1"
   },
   "outputs": [],
   "source": [
    "# General\n",
    "import logging\n",
    "\n",
    "logger = logging.getLogger(\"logger\")\n",
    "logging.basicConfig(level=logging.INFO)\n",
    "\n",
    "import collections\n",
    "import tempfile\n",
    "import time\n",
    "from json import dumps\n",
    "\n",
    "collections.Iterable = collections.abc.Iterable\n",
    "\n",
    "# Vertex AI\n",
    "from google.cloud import aiplatform as vertex_ai"
   ]
  },
  {
   "cell_type": "markdown",
   "metadata": {
    "id": "oUiMepZvRiaa"
   },
   "source": [
    "### Define constants"
   ]
  },
  {
   "cell_type": "code",
   "execution_count": 15,
   "metadata": {
    "id": "9zDMnU3gRhSn"
   },
   "outputs": [],
   "source": [
    "# Base\n",
    "DATASET_NAME = \"news_corpora\"\n",
    "DATASET_URI = f\"{BUCKET_URI}/{DATA_PATH}/raw/newsCorpora.csv\"\n",
    "\n",
    "# Experiments\n",
    "TASK = \"classification\"\n",
    "MODEL_TYPE = \"naivebayes\"\n",
    "EXPERIMENT_NAME = f\"{TASK}-{MODEL_TYPE}\"\n",
    "EXPERIMENT_RUN_NAME = f\"run-{TIMESTAMP}\"\n",
    "\n",
    "# Preprocessing\n",
    "PREPROCESSED_DATASET_NAME = f\"preprocessed_{DATASET_NAME}\"\n",
    "PREPROCESS_EXECUTION_NAME = \"preprocess\"\n",
    "COLUMN_NAMES = [\n",
    "    \"id\",\n",
    "    \"title\",\n",
    "    \"url\",\n",
    "    \"publisher\",\n",
    "    \"category\",\n",
    "    \"story\",\n",
    "    \"hostname\",\n",
    "    \"timestamp\",\n",
    "]\n",
    "DELIMITER = \"\t\"\n",
    "INDEX_COL = 0\n",
    "PREPROCESSED_DATASET_URI = (\n",
    "    f\"{BUCKET_URI}/{DATA_PATH}/preprocess/{PREPROCESSED_DATASET_NAME}.csv\"\n",
    ")\n",
    "\n",
    "# Training\n",
    "TRAIN_EXECUTION_NAME = \"train\"\n",
    "TARGET = \"category\"\n",
    "FEATURES = \"title\"\n",
    "TEST_SIZE = 0.2\n",
    "SEED = 8\n",
    "TRAINED_MODEL_URI = f\"{BUCKET_URI}/deliverables\"\n",
    "MODEL_NAME = f\"{EXPERIMENT_NAME}-model\""
   ]
  },
  {
   "cell_type": "markdown",
   "metadata": {
    "id": "inR70nh38PeK"
   },
   "source": [
    "### Initialize Vertex AI SDK for Python\n",
    "\n",
    "Initialize the Vertex AI SDK for Python for your project and corresponding bucket."
   ]
  },
  {
   "cell_type": "code",
   "execution_count": 16,
   "metadata": {
    "id": "Nz0nasrh8T3c"
   },
   "outputs": [],
   "source": [
    "vertex_ai.init(\n",
    "    project=PROJECT_ID, experiment=EXPERIMENT_NAME, staging_bucket=BUCKET_URI\n",
    ")"
   ]
  },
  {
   "cell_type": "markdown",
   "metadata": {
    "id": "container:training,prediction,xgboost"
   },
   "source": [
    "### Set pre-built containers\n",
    "\n",
    "Set the pre-built Docker container image for training and prediction."
   ]
  },
  {
   "cell_type": "code",
   "execution_count": 17,
   "metadata": {
    "id": "XujRA5ueox9U"
   },
   "outputs": [],
   "source": [
    "SERVE_IMAGE = vertex_ai.helpers.get_prebuilt_prediction_container_uri(\n",
    "    framework=\"sklearn\", framework_version=\"1.0\", accelerator=\"cpu\"\n",
    ")"
   ]
  },
  {
   "cell_type": "markdown",
   "metadata": {
    "id": "9JSL9CzsZZZT"
   },
   "source": [
    "### Initialize Experiment run"
   ]
  },
  {
   "cell_type": "code",
   "execution_count": 18,
   "metadata": {
    "id": "AmHX6qy6ZVoq"
   },
   "outputs": [
    {
     "name": "stderr",
     "output_type": "stream",
     "text": [
      "INFO:google.cloud.aiplatform.metadata.experiment_resources:Associating projects/117917517031/locations/us-central1/metadataStores/default/contexts/classification-naivebayes-run-20231026060415 to Experiment: classification-naivebayes\n"
     ]
    }
   ],
   "source": [
    "run = vertex_ai.start_run(EXPERIMENT_RUN_NAME)"
   ]
  },
  {
   "cell_type": "markdown",
   "metadata": {
    "id": "tysB_Zy68KIe"
   },
   "source": [
    "## Model experimentation with pre-built data pre-processing code"
   ]
  },
  {
   "cell_type": "markdown",
   "metadata": {
    "id": "vEyXGFqq8cR_"
   },
   "source": [
    "### Data preprocessing\n",
    "\n",
    "In this step, you simulate some preprocessing on raw data to create the training dataset.\n",
    "\n",
    "Indeed it would happen that you have some data preprocessing that others within your team may have written. For that reason, you need a way to integrate the preprocessing code in your experiment runs to standardize and reuse all the complex data wrangling that you are dealing with. \n",
    "\n",
    "Using Vertex AI Experiments, you can track that code as part of the run execution by adding one `with` statement in your experiment context. "
   ]
  },
  {
   "cell_type": "markdown",
   "metadata": {
    "id": "43K9jkygpv9w"
   },
   "source": [
    "#### Create a Dataset Metadata Artifact\n",
    "\n",
    "First you create the Dataset artifact to track the dataset resource in the Vertex AI ML Metadata and create the experiment lineage."
   ]
  },
  {
   "cell_type": "code",
   "execution_count": 19,
   "metadata": {
    "id": "configured-fetish"
   },
   "outputs": [],
   "source": [
    "raw_dataset_artifact = vertex_ai.Artifact.create(\n",
    "    schema_title=\"system.Dataset\", display_name=DATASET_NAME, uri=DATASET_URI\n",
    ")"
   ]
  },
  {
   "cell_type": "markdown",
   "metadata": {
    "id": "ZrtoR-V0GVzy"
   },
   "source": [
    "#### Create a preprocess module\n",
    "\n",
    "Next, you build a simple preprocessing module to convert the text case and remove the punctuation."
   ]
  },
  {
   "cell_type": "code",
   "execution_count": 20,
   "metadata": {
    "id": "DjCc1Us_Gb5Q"
   },
   "outputs": [],
   "source": [
    "\"\"\"\n",
    "Preprocess module\n",
    "\"\"\"\n",
    "\n",
    "import string\n",
    "\n",
    "import pandas as pd\n",
    "\n",
    "\n",
    "def preprocess(df: pd.DataFrame, text_col: str) -> pd.DataFrame:\n",
    "    \"\"\"\n",
    "    Preprocess text\n",
    "    Args:\n",
    "        df: The DataFrame to preprocesss\n",
    "        text_col: The text column name\n",
    "    Returns:\n",
    "        preprocessed_df: The datafrane with text in lowercase and without punctuation\n",
    "    \"\"\"\n",
    "    preprocessed_df = df.copy()\n",
    "    preprocessed_df[text_col] = preprocessed_df[text_col].apply(lambda x: x.lower())\n",
    "    preprocessed_df[text_col] = preprocessed_df[text_col].apply(\n",
    "        lambda x: x.translate(str.maketrans(\"\", \"\", string.punctuation))\n",
    "    )\n",
    "    return preprocessed_df"
   ]
  },
  {
   "cell_type": "markdown",
   "metadata": {
    "id": "vSVFPWU9DFw_"
   },
   "source": [
    "#### Add the `preprocessing` Execution\n",
    "\n",
    "You add the preprocessing step to track its execution in the lineage associated to Vertex AI Experiment. "
   ]
  },
  {
   "cell_type": "code",
   "execution_count": 21,
   "metadata": {
    "id": "NI5e4a44EH4S"
   },
   "outputs": [
    {
     "name": "stderr",
     "output_type": "stream",
     "text": [
      "INFO:root:Start preprocess execution.\n",
      "INFO:root:Log preprocessing params.\n",
      "INFO:root:Preprocessing.\n",
      "INFO:root:Log preprocessing metrics and preprocessed_news_corpora dataset.\n"
     ]
    }
   ],
   "source": [
    "with vertex_ai.start_execution(\n",
    "    schema_title=\"system.ContainerExecution\", display_name=PREPROCESS_EXECUTION_NAME\n",
    ") as exc:\n",
    "    logging.info(f\"Start {PREPROCESS_EXECUTION_NAME} execution.\")\n",
    "    exc.assign_input_artifacts([raw_dataset_artifact])\n",
    "\n",
    "    # Log preprocessing params --------------------------------------------------\n",
    "    logging.info(\"Log preprocessing params.\")\n",
    "    vertex_ai.log_params(\n",
    "        {\n",
    "            \"delimiter\": DELIMITER,\n",
    "            \"features\": dumps(COLUMN_NAMES),\n",
    "            \"index_col\": INDEX_COL,\n",
    "        }\n",
    "    )\n",
    "\n",
    "    # Preprocessing ------------------------------------------------------------\n",
    "    logging.info(\"Preprocessing.\")\n",
    "    raw_df = pd.read_csv(\n",
    "        raw_dataset_artifact.uri,\n",
    "        delimiter=DELIMITER,\n",
    "        names=COLUMN_NAMES,\n",
    "        index_col=INDEX_COL,\n",
    "    )\n",
    "    preprocessed_df = preprocess(raw_df, \"title\")\n",
    "    preprocessed_df.to_csv(PREPROCESSED_DATASET_URI, sep=\",\")\n",
    "\n",
    "    # Log preprocessing metrics and store dataset artifact ---------------------\n",
    "    logging.info(f\"Log preprocessing metrics and {PREPROCESSED_DATASET_NAME} dataset.\")\n",
    "    vertex_ai.log_metrics(\n",
    "        {\n",
    "            \"n_records\": preprocessed_df.shape[0],\n",
    "            \"n_columns\": preprocessed_df.shape[1],\n",
    "        },\n",
    "    )\n",
    "\n",
    "    preprocessed_dataset_metadata = vertex_ai.Artifact.create(\n",
    "        schema_title=\"system.Dataset\",\n",
    "        display_name=PREPROCESSED_DATASET_NAME,\n",
    "        uri=PREPROCESSED_DATASET_URI,\n",
    "    )\n",
    "    exc.assign_output_artifacts([preprocessed_dataset_metadata])"
   ]
  },
  {
   "cell_type": "markdown",
   "metadata": {
    "id": "blqKeaw9cigK"
   },
   "source": [
    "### Model Training\n",
    "\n",
    "In this step, you train a multinomial Naive Bayes pipeline."
   ]
  },
  {
   "cell_type": "markdown",
   "metadata": {
    "id": "9DIhphAwcpl2"
   },
   "source": [
    "#### Create model training module\n",
    "\n",
    "Below the training module."
   ]
  },
  {
   "cell_type": "code",
   "execution_count": 22,
   "metadata": {
    "id": "XAV2Ew1Gc-dk"
   },
   "outputs": [],
   "source": [
    "\"\"\"\n",
    "Train module\n",
    "\"\"\"\n",
    "\n",
    "import joblib\n",
    "import pandas as pd\n",
    "from sklearn.feature_extraction.text import CountVectorizer, TfidfTransformer\n",
    "from sklearn.metrics import accuracy_score, precision_score, recall_score\n",
    "from sklearn.model_selection import train_test_split\n",
    "from sklearn.naive_bayes import MultinomialNB\n",
    "from sklearn.pipeline import Pipeline\n",
    "\n",
    "\n",
    "def get_training_split(\n",
    "    x: pd.DataFrame, y: pd.Series, test_size: float, random_state: int\n",
    ") -> (pd.DataFrame, pd.Series, pd.DataFrame, pd.Series):\n",
    "    \"\"\"\n",
    "    Splits data into training and testing sets\n",
    "    Args:\n",
    "        x: The data to be split\n",
    "        y: The labels to be split\n",
    "        test_size: The proportion of the data to be reserved for testing\n",
    "        random_state: The seed used by the random number generator\n",
    "    Returns:\n",
    "        x_train: The training data\n",
    "        x_test: The testing data\n",
    "        y_train: The training labels\n",
    "        y_test: The testing labels\n",
    "    \"\"\"\n",
    "\n",
    "    x_train, x_val, y_train, y_val = train_test_split(\n",
    "        x, y, test_size=test_size, random_state=random_state\n",
    "    )\n",
    "    return x_train, x_val, y_train, y_val\n",
    "\n",
    "\n",
    "def get_pipeline():\n",
    "    \"\"\"\n",
    "    Get the model\n",
    "    Args:\n",
    "        None\n",
    "    Returns:\n",
    "        model: The model\n",
    "    \"\"\"\n",
    "    model = Pipeline(\n",
    "        [\n",
    "            (\"vect\", CountVectorizer()),\n",
    "            (\"tfidf\", TfidfTransformer()),\n",
    "            (\"clf\", MultinomialNB()),\n",
    "        ]\n",
    "    )\n",
    "    return model\n",
    "\n",
    "\n",
    "def train_pipeline(model: Pipeline, X_train: pd.Series, y_train: pd.Series) -> Pipeline:\n",
    "    \"\"\"\n",
    "    Train the model\n",
    "    Args:\n",
    "        model: The model to train\n",
    "        X_train: The training data\n",
    "        y_train: The training labels\n",
    "    Returns:\n",
    "        model: The trained model\n",
    "    \"\"\"\n",
    "    model.fit(X_train, y_train)\n",
    "    return model\n",
    "\n",
    "\n",
    "def evaluate_model(model: Pipeline, X_test: pd.Series, y_test: pd.Series) -> float:\n",
    "    \"\"\"\n",
    "    Evaluate the model\n",
    "    Args:\n",
    "        model: The model to evaluate\n",
    "        X_test: The testing data\n",
    "        y_test: The testing labels\n",
    "    Returns:\n",
    "        score: The accuracy of the model\n",
    "    \"\"\"\n",
    "    # Evaluate model\n",
    "    y_pred = model.predict(X_test)\n",
    "\n",
    "    # Store evaluation metrics\n",
    "    # Store evaluation metrics\n",
    "    metrics = {\n",
    "        \"accuracy\": round(accuracy_score(y_test, y_pred), 5),\n",
    "        \"precision\": round(precision_score(y_test, y_pred, average=\"weighted\"), 5),\n",
    "        \"recall\": round(recall_score(y_test, y_pred, average=\"weighted\"), 5),\n",
    "    }\n",
    "    return metrics\n",
    "\n",
    "\n",
    "def save_model(model: Pipeline, save_path: str) -> int:\n",
    "    try:\n",
    "        with tempfile.NamedTemporaryFile() as tmp:\n",
    "            joblib.dump(trained_pipeline, filename=tmp.name)\n",
    "            ! gsutil cp {tmp.name} {save_path}/model.joblib\n",
    "    except RuntimeError as error:\n",
    "        print(error)\n",
    "    return 1"
   ]
  },
  {
   "cell_type": "markdown",
   "metadata": {
    "id": "AHqNQ66EntqP"
   },
   "source": [
    "#### Add the `train` Execution\n",
    "\n",
    "Next, you add the training task to the experiment execution to update the experiment lineage."
   ]
  },
  {
   "cell_type": "code",
   "execution_count": 23,
   "metadata": {
    "id": "5-kIK4obcbSr"
   },
   "outputs": [
    {
     "name": "stderr",
     "output_type": "stream",
     "text": [
      "INFO:root:Get training and testing data.\n",
      "INFO:root:Get model pipeline.\n",
      "INFO:root:Log data parameters.\n",
      "INFO:root:Log pipeline parameters.\n",
      "INFO:root:Train model pipeline.\n",
      "INFO:root:Evaluate model.\n",
      "INFO:root:Log training metrics.\n",
      "INFO:root:Generate prediction sample.\n",
      "INFO:root:Upload Model on Vertex AI.\n"
     ]
    },
    {
     "name": "stdout",
     "output_type": "stream",
     "text": [
      "prediction sample: ['m' 'e' 'e' 't' 'e' 'b' 'b' 'e' 'm' 't']\n",
      "Copying file:///tmp/tmpe4tuv50a [Content-Type=application/octet-stream]...\n",
      "| [1 files][  5.9 MiB/  5.9 MiB]                                                \n",
      "Operation completed over 1 objects/5.9 MiB.                                      \n"
     ]
    },
    {
     "name": "stderr",
     "output_type": "stream",
     "text": [
      "INFO:google.cloud.aiplatform.models:Creating Model\n",
      "INFO:google.cloud.aiplatform.models:Create Model backing LRO: projects/117917517031/locations/us-central1/models/6516486559456296960/operations/6413350650783989760\n",
      "INFO:google.cloud.aiplatform.models:Model created. Resource name: projects/117917517031/locations/us-central1/models/6516486559456296960@1\n",
      "INFO:google.cloud.aiplatform.models:To use this Model in another session:\n",
      "INFO:google.cloud.aiplatform.models:model = aiplatform.Model('projects/117917517031/locations/us-central1/models/6516486559456296960@1')\n"
     ]
    }
   ],
   "source": [
    "with vertex_ai.start_execution(\n",
    "    schema_title=\"system.ContainerExecution\", display_name=TRAIN_EXECUTION_NAME\n",
    ") as exc:\n",
    "\n",
    "    exc.assign_input_artifacts([preprocessed_dataset_metadata])\n",
    "\n",
    "    # Get training and testing data\n",
    "    logging.info(\"Get training and testing data.\")\n",
    "    x_train, x_val, y_train, y_val = get_training_split(\n",
    "        preprocessed_df[FEATURES],\n",
    "        preprocessed_df[TARGET],\n",
    "        test_size=TEST_SIZE,\n",
    "        random_state=SEED,\n",
    "    )\n",
    "    # Get model pipeline\n",
    "    logging.info(\"Get model pipeline.\")\n",
    "    pipeline = get_pipeline()\n",
    "\n",
    "    # Log training param -------------------------------------------------------\n",
    "\n",
    "    # Log data parameters\n",
    "    logging.info(\"Log data parameters.\")\n",
    "    vertex_ai.log_params(\n",
    "        {\n",
    "            \"target\": TARGET,\n",
    "            \"features\": FEATURES,\n",
    "            \"test_size\": TEST_SIZE,\n",
    "            \"random_state\": SEED,\n",
    "        }\n",
    "    )\n",
    "\n",
    "    # Log pipeline parameters\n",
    "    logging.info(\"Log pipeline parameters.\")\n",
    "    vertex_ai.log_params(\n",
    "        {\n",
    "            \"pipeline_steps\": dumps(\n",
    "                {step[0]: str(step[1].__class__.__name__) for step in pipeline.steps}\n",
    "            )\n",
    "        }\n",
    "    )\n",
    "\n",
    "    # Training -----------------------------------------------------------------\n",
    "\n",
    "    # Train model pipeline\n",
    "    logging.info(\"Train model pipeline.\")\n",
    "    train_start = time.time()\n",
    "    trained_pipeline = train_pipeline(pipeline, x_train, y_train)\n",
    "    train_end = time.time()\n",
    "\n",
    "    # Evaluate model\n",
    "    logging.info(\"Evaluate model.\")\n",
    "    model_metrics = evaluate_model(trained_pipeline, x_val, y_val)\n",
    "\n",
    "    # Log training metrics and store model artifact ----------------------------\n",
    "\n",
    "    # Log training metrics\n",
    "    logging.info(\"Log training metrics.\")\n",
    "    vertex_ai.log_metrics(model_metrics)\n",
    "\n",
    "    # Generate first ten predictions\n",
    "    logging.info(\"Generate prediction sample.\")\n",
    "    prediction_sample = trained_pipeline.predict(x_val)[:10]\n",
    "    print(\"prediction sample:\", prediction_sample)\n",
    "\n",
    "    # Upload Model on Vertex AI\n",
    "    logging.info(\"Upload Model on Vertex AI.\")\n",
    "    loaded = save_model(trained_pipeline, TRAINED_MODEL_URI)\n",
    "    if loaded:\n",
    "        model = vertex_ai.Model.upload(\n",
    "            serving_container_image_uri=SERVE_IMAGE,\n",
    "            artifact_uri=TRAINED_MODEL_URI,\n",
    "            display_name=MODEL_NAME,\n",
    "        )\n",
    "\n",
    "    exc.assign_output_artifacts([model])"
   ]
  },
  {
   "cell_type": "code",
   "execution_count": 24,
   "metadata": {
    "id": "ee96d6d8c0fa"
   },
   "outputs": [],
   "source": [
    "run.end_run()"
   ]
  },
  {
   "cell_type": "markdown",
   "metadata": {
    "id": "0KQbDqiRBV9x"
   },
   "source": [
    "### Visualize Experiment Lineage\n",
    "\n",
    "Below you will get the link to Vertex AI Metadata UI in the console that will show the experiment lineage."
   ]
  },
  {
   "cell_type": "code",
   "execution_count": 25,
   "metadata": {
    "id": "4L_XvSllBeqC"
   },
   "outputs": [
    {
     "name": "stdout",
     "output_type": "stream",
     "text": [
      "Open the following link: https://console.cloud.google.com/vertex-ai/locations/us-central1/metadata-stores/default/artifacts/1ea0cf94-9c88-4983-b397-c8ba7452929a?project=fifth-sprite-402605\n"
     ]
    }
   ],
   "source": [
    "print(\"Open the following link:\", exc.get_output_artifacts()[0].lineage_console_uri)"
   ]
  },
  {
   "cell_type": "markdown",
   "metadata": {
    "id": "TpV-iwP9qw9c"
   },
   "source": [
    "## Cleaning up\n",
    "\n",
    "To clean up all Google Cloud resources used in this project, you can [delete the Google Cloud\n",
    "project](https://cloud.google.com/resource-manager/docs/creating-managing-projects#shutting_down_projects) you used for the tutorial.\n",
    "\n",
    "Otherwise, you can delete the individual resources you created in this tutorial."
   ]
  },
  {
   "cell_type": "code",
   "execution_count": 26,
   "metadata": {},
   "outputs": [
    {
     "data": {
      "text/plain": [
       "'classification-naivebayes'"
      ]
     },
     "execution_count": 26,
     "metadata": {},
     "output_type": "execute_result"
    }
   ],
   "source": [
    "EXPERIMENT_NAME"
   ]
  },
  {
   "cell_type": "code",
   "execution_count": null,
   "metadata": {},
   "outputs": [],
   "source": [
    "import time\n",
    "time.sleep(600)"
   ]
  },
  {
   "cell_type": "code",
   "execution_count": null,
   "metadata": {
    "id": "uGvJieN5BjPG"
   },
   "outputs": [],
   "source": [
    "# Delete experiment\n",
    "exp = vertex_ai.Experiment(EXPERIMENT_NAME)\n",
    "exp.delete()"
   ]
  },
  {
   "cell_type": "code",
   "execution_count": null,
   "metadata": {
    "id": "gW8Ddbr8xaKp"
   },
   "outputs": [],
   "source": [
    "# Delete model\n",
    "model_list = vertex_ai.Model.list(filter=f'display_name=\"{MODEL_NAME}\"')\n",
    "for model in model_list:\n",
    "    model.delete()\n",
    "\n",
    "# Delete dataset\n",
    "for dataset_name in [DATASET_NAME, PREPROCESSED_DATASET_NAME]:\n",
    "    dataset_list = vertex_ai.TabularDataset.list(\n",
    "        filter=f'display_name=\"{dataset_name}\"'\n",
    "    )\n",
    "    for dataset in dataset_list:\n",
    "        dataset.delete()"
   ]
  },
  {
   "cell_type": "code",
   "execution_count": null,
   "metadata": {
    "id": "sx_vKniMq9ZX"
   },
   "outputs": [],
   "source": [
    "# Delete Cloud Storage objects that were created\n",
    "delete_bucket = True\n",
    "\n",
    "if delete_bucket or os.getenv(\"IS_TESTING\"):\n",
    "    ! gsutil -m rm -r $BUCKET_URI"
   ]
  },
  {
   "cell_type": "code",
   "execution_count": null,
   "metadata": {
    "id": "3f00c455b930"
   },
   "outputs": [],
   "source": [
    "!rm -Rf {DATA_PATH}"
   ]
  }
 ],
 "metadata": {
  "environment": {
   "name": "tf2-cpu.2-5.m76",
   "type": "gcloud",
   "uri": "gcr.io/deeplearning-platform-release/tf2-cpu.2-5:m76"
  },
  "kernelspec": {
   "display_name": "Python 3 (ipykernel)",
   "language": "python",
   "name": "python3"
  },
  "language_info": {
   "codemirror_mode": {
    "name": "ipython",
    "version": 3
   },
   "file_extension": ".py",
   "mimetype": "text/x-python",
   "name": "python",
   "nbconvert_exporter": "python",
   "pygments_lexer": "ipython3",
   "version": "3.10.12"
  }
 },
 "nbformat": 4,
 "nbformat_minor": 4
}
